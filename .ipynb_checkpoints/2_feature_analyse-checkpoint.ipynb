{
 "cells": [
  {
   "cell_type": "markdown",
   "metadata": {},
   "source": [
    "# 特徴量分析用スクリプト\n",
    "featureimportanceとか\n",
    "相関行列とか"
   ]
  },
  {
   "cell_type": "code",
   "execution_count": 47,
   "metadata": {},
   "outputs": [],
   "source": [
    "import numpy as np\n",
    "import gensim\n",
    "import requests\n",
    "from nltk.corpus import wordnet as wn\n",
    "from nltk.corpus import wordnet_ic\n",
    "import pandas as pd\n",
    "from wikipedia2vec import Wikipedia2Vec\n",
    "import pickle\n",
    "import matplotlib.pyplot as plt"
   ]
  },
  {
   "cell_type": "code",
   "execution_count": 48,
   "metadata": {},
   "outputs": [],
   "source": [
    "#dataのインポート+シャッフル\n",
    "data = pd.read_csv(\"./dataset/exp_data.csv\",index_col = 0).sample(frac=1, random_state=3).reset_index(drop=True)"
   ]
  },
  {
   "cell_type": "code",
   "execution_count": 49,
   "metadata": {},
   "outputs": [],
   "source": [
    "#カラム配列定義\n",
    "#特徴量カラム\n",
    "\n",
    "fature_columns =  [\"sim_by_mcg\",\"is_a_by_mcg\",\"lexvec_sim\",\"wiki2vec_sim\",\"wn_hu_average\",\n",
    "                \"wn_pu_average\",\"wn_sim_path\",\"wn_sim_wup\",\n",
    "                \"is_include_word\",\"bert_sim\",\"lexvec_diff\",\"wiki2vec_diff\",\"bert_diff\"]\n",
    "\"\"\"\n",
    "\n",
    "fature_columns =  [\"sim_by_mcg\",\"is_a_by_mcg\",\"wiki2vec_sim\",\"wn_hu_average\",\n",
    "                \"wn_pu_average\",\"wn_sim_path\",\"wn_sim_wup\",\n",
    "                \"is_include_word\",\"bert_sim\",\"lexvec_diff\",\"wiki2vec_diff\",\"bert_diff\"]\n",
    "\"\"\"\n",
    "\n",
    "#通常の特徴量ラベル\n",
    "X_normal_columns = [\"sim_by_mcg\",\"is_a_by_mcg\",\"lexvec_sim\",\"wiki2vec_sim\",\"wn_hu_average\",\n",
    "                \"wn_pu_average\",\"wn_sim_path\",\"wn_sim_wup\",\"is_include_word\",\"bert_sim\"]\n",
    "\"\"\"\n",
    "X_normal_columns = [\"sim_by_mcg\",\"is_a_by_mcg\",\"wiki2vec_sim\",\"wn_hu_average\",\n",
    "                \"wn_pu_average\",\"wn_sim_path\",\"wn_sim_wup\",\"is_include_word\",\"bert_sim\"]\n",
    "\"\"\"\"\n",
    "#ベクトル系特徴量ラベル\n",
    "pca_di={\"lexvec_diff\":1,\"wiki2vec_diff\":1,\"bert_diff\":1}\n",
    "\n",
    "#被験者実験データ\n",
    "ans_columns = [ 'ans_ueda',\n",
    "       'ans_daisuke', 'ans_kazuma', 'ans_sugi']"
   ]
  },
  {
   "cell_type": "code",
   "execution_count": 50,
   "metadata": {},
   "outputs": [
    {
     "name": "stdout",
     "output_type": "stream",
     "text": [
      "['h1' 'k' 'h2' 's1' 's2'],[0 2 1 3 4]\n"
     ]
    },
    {
     "data": {
      "text/html": [
       "<div>\n",
       "<style scoped>\n",
       "    .dataframe tbody tr th:only-of-type {\n",
       "        vertical-align: middle;\n",
       "    }\n",
       "\n",
       "    .dataframe tbody tr th {\n",
       "        vertical-align: top;\n",
       "    }\n",
       "\n",
       "    .dataframe thead th {\n",
       "        text-align: right;\n",
       "    }\n",
       "</style>\n",
       "<table border=\"1\" class=\"dataframe\">\n",
       "  <thead>\n",
       "    <tr style=\"text-align: right;\">\n",
       "      <th></th>\n",
       "      <th>class_a</th>\n",
       "      <th>class_b</th>\n",
       "      <th>relation</th>\n",
       "      <th>ans_yamasaki</th>\n",
       "      <th>ans_ueda</th>\n",
       "      <th>ans_daisuke</th>\n",
       "      <th>ans_hosomi</th>\n",
       "      <th>ans_kazuma</th>\n",
       "      <th>ans_sugi</th>\n",
       "      <th>type</th>\n",
       "      <th>...</th>\n",
       "      <th>wn_sim_res</th>\n",
       "      <th>wn_sim_jcn</th>\n",
       "      <th>wn_sim_lin</th>\n",
       "      <th>has_same_word</th>\n",
       "      <th>is_include_word</th>\n",
       "      <th>bert_sim</th>\n",
       "      <th>lexvec_diff</th>\n",
       "      <th>wiki2vec_diff</th>\n",
       "      <th>bert_diff</th>\n",
       "      <th>relation_label</th>\n",
       "    </tr>\n",
       "  </thead>\n",
       "  <tbody>\n",
       "    <tr>\n",
       "      <th>0</th>\n",
       "      <td>bar_block</td>\n",
       "      <td>block</td>\n",
       "      <td>h1</td>\n",
       "      <td>s1</td>\n",
       "      <td>0</td>\n",
       "      <td>0</td>\n",
       "      <td>h1</td>\n",
       "      <td>1</td>\n",
       "      <td>0</td>\n",
       "      <td>program</td>\n",
       "      <td>...</td>\n",
       "      <td>4.353092</td>\n",
       "      <td>5.000000e+299</td>\n",
       "      <td>0.666013</td>\n",
       "      <td>1.0</td>\n",
       "      <td>0.0</td>\n",
       "      <td>0.987286</td>\n",
       "      <td>[0.023808, -0.0634425, -0.082867995, -0.011244...</td>\n",
       "      <td>[0.06487777, 0.1621111, 0.24762037, -0.0489930...</td>\n",
       "      <td>[-0.18368639, -0.15567335, -0.015512198, -0.07...</td>\n",
       "      <td>0</td>\n",
       "    </tr>\n",
       "    <tr>\n",
       "      <th>1</th>\n",
       "      <td>doctor</td>\n",
       "      <td>person</td>\n",
       "      <td>h1</td>\n",
       "      <td>k</td>\n",
       "      <td>0</td>\n",
       "      <td>0</td>\n",
       "      <td>h1</td>\n",
       "      <td>3</td>\n",
       "      <td>0</td>\n",
       "      <td>sample</td>\n",
       "      <td>...</td>\n",
       "      <td>2.333545</td>\n",
       "      <td>1.748681e-01</td>\n",
       "      <td>0.449377</td>\n",
       "      <td>0.0</td>\n",
       "      <td>0.0</td>\n",
       "      <td>0.961607</td>\n",
       "      <td>[-0.134891, 0.079426005, 0.039936, -0.014531, ...</td>\n",
       "      <td>[0.2795563, 0.19265658, -0.08967748, 0.2729026...</td>\n",
       "      <td>[-0.036303345, 0.026970536, 0.079046816, -0.03...</td>\n",
       "      <td>0</td>\n",
       "    </tr>\n",
       "    <tr>\n",
       "      <th>2</th>\n",
       "      <td>task_system</td>\n",
       "      <td>task</td>\n",
       "      <td>k</td>\n",
       "      <td>h1</td>\n",
       "      <td>3</td>\n",
       "      <td>2</td>\n",
       "      <td>h1</td>\n",
       "      <td>0</td>\n",
       "      <td>4</td>\n",
       "      <td>analyse</td>\n",
       "      <td>...</td>\n",
       "      <td>3.124216</td>\n",
       "      <td>5.000000e+299</td>\n",
       "      <td>0.500000</td>\n",
       "      <td>1.0</td>\n",
       "      <td>0.0</td>\n",
       "      <td>1.000000</td>\n",
       "      <td>[0.017359499, 0.022408992, -0.1071575, -0.0707...</td>\n",
       "      <td>[0.0048446953, 0.19927415, -0.19898042, -0.104...</td>\n",
       "      <td>[0.992626, 0.7901973, -0.76960677, 0.76129097,...</td>\n",
       "      <td>2</td>\n",
       "    </tr>\n",
       "    <tr>\n",
       "      <th>3</th>\n",
       "      <td>user</td>\n",
       "      <td>administrator</td>\n",
       "      <td>h2</td>\n",
       "      <td>k</td>\n",
       "      <td>0</td>\n",
       "      <td>0</td>\n",
       "      <td>s1</td>\n",
       "      <td>1</td>\n",
       "      <td>0</td>\n",
       "      <td>analyse</td>\n",
       "      <td>...</td>\n",
       "      <td>2.333545</td>\n",
       "      <td>9.831757e-02</td>\n",
       "      <td>0.314532</td>\n",
       "      <td>0.0</td>\n",
       "      <td>0.0</td>\n",
       "      <td>0.946332</td>\n",
       "      <td>[-0.13642, -0.085788, 0.13085201, 0.016377002,...</td>\n",
       "      <td>[-0.4439574, -0.30559474, -0.25761124, 0.15385...</td>\n",
       "      <td>[-0.1094939, -0.04155261, -0.2646673, -0.14161...</td>\n",
       "      <td>1</td>\n",
       "    </tr>\n",
       "    <tr>\n",
       "      <th>4</th>\n",
       "      <td>schedule</td>\n",
       "      <td>schedule_flight</td>\n",
       "      <td>k</td>\n",
       "      <td>h2</td>\n",
       "      <td>1</td>\n",
       "      <td>2</td>\n",
       "      <td>NaN</td>\n",
       "      <td>1</td>\n",
       "      <td>1</td>\n",
       "      <td>analyse</td>\n",
       "      <td>...</td>\n",
       "      <td>5.518239</td>\n",
       "      <td>5.000000e+299</td>\n",
       "      <td>0.530687</td>\n",
       "      <td>1.0</td>\n",
       "      <td>1.0</td>\n",
       "      <td>0.999963</td>\n",
       "      <td>[-0.086802, 0.124642, -0.007966995, 0.1174265,...</td>\n",
       "      <td>[0.28168777, -0.14062633, 0.10214912, 0.479167...</td>\n",
       "      <td>[-0.38849694, -0.60766906, 0.6211178, -0.33773...</td>\n",
       "      <td>2</td>\n",
       "    </tr>\n",
       "  </tbody>\n",
       "</table>\n",
       "<p>5 rows × 33 columns</p>\n",
       "</div>"
      ],
      "text/plain": [
       "       class_a          class_b relation ans_yamasaki  ans_ueda  ans_daisuke  \\\n",
       "0    bar_block            block       h1           s1         0            0   \n",
       "1       doctor           person       h1            k         0            0   \n",
       "2  task_system             task        k           h1         3            2   \n",
       "3         user    administrator       h2            k         0            0   \n",
       "4     schedule  schedule_flight        k           h2         1            2   \n",
       "\n",
       "  ans_hosomi  ans_kazuma  ans_sugi     type  ... wn_sim_res     wn_sim_jcn  \\\n",
       "0         h1           1         0  program  ...   4.353092  5.000000e+299   \n",
       "1         h1           3         0   sample  ...   2.333545   1.748681e-01   \n",
       "2         h1           0         4  analyse  ...   3.124216  5.000000e+299   \n",
       "3         s1           1         0  analyse  ...   2.333545   9.831757e-02   \n",
       "4        NaN           1         1  analyse  ...   5.518239  5.000000e+299   \n",
       "\n",
       "   wn_sim_lin  has_same_word  is_include_word  bert_sim  \\\n",
       "0    0.666013            1.0              0.0  0.987286   \n",
       "1    0.449377            0.0              0.0  0.961607   \n",
       "2    0.500000            1.0              0.0  1.000000   \n",
       "3    0.314532            0.0              0.0  0.946332   \n",
       "4    0.530687            1.0              1.0  0.999963   \n",
       "\n",
       "                                         lexvec_diff  \\\n",
       "0  [0.023808, -0.0634425, -0.082867995, -0.011244...   \n",
       "1  [-0.134891, 0.079426005, 0.039936, -0.014531, ...   \n",
       "2  [0.017359499, 0.022408992, -0.1071575, -0.0707...   \n",
       "3  [-0.13642, -0.085788, 0.13085201, 0.016377002,...   \n",
       "4  [-0.086802, 0.124642, -0.007966995, 0.1174265,...   \n",
       "\n",
       "                                       wiki2vec_diff  \\\n",
       "0  [0.06487777, 0.1621111, 0.24762037, -0.0489930...   \n",
       "1  [0.2795563, 0.19265658, -0.08967748, 0.2729026...   \n",
       "2  [0.0048446953, 0.19927415, -0.19898042, -0.104...   \n",
       "3  [-0.4439574, -0.30559474, -0.25761124, 0.15385...   \n",
       "4  [0.28168777, -0.14062633, 0.10214912, 0.479167...   \n",
       "\n",
       "                                           bert_diff  relation_label  \n",
       "0  [-0.18368639, -0.15567335, -0.015512198, -0.07...               0  \n",
       "1  [-0.036303345, 0.026970536, 0.079046816, -0.03...               0  \n",
       "2  [0.992626, 0.7901973, -0.76960677, 0.76129097,...               2  \n",
       "3  [-0.1094939, -0.04155261, -0.2646673, -0.14161...               1  \n",
       "4  [-0.38849694, -0.60766906, 0.6211178, -0.33773...               2  \n",
       "\n",
       "[5 rows x 33 columns]"
      ]
     },
     "execution_count": 50,
     "metadata": {},
     "output_type": "execute_result"
    }
   ],
   "source": [
    "# 欠損値は最頻値補完を行う\n",
    "def fill_na_mean(data):\n",
    "    data.loc[:,\"sim_by_mcg\"] = data.loc[:,\"sim_by_mcg\"].fillna(data.loc[:,\"sim_by_mcg\"].mode()[0])\n",
    "    data.loc[:,\"is_a_by_mcg\"] = data.loc[:,\"is_a_by_mcg\"].fillna(data.loc[:,\"is_a_by_mcg\"].mode()[0])\n",
    "    data.loc[:,\"wiki2vec_sim\"] = data.loc[:,\"wiki2vec_sim\"].fillna(data.loc[:,\"wiki2vec_sim\"].mode()[0])\n",
    "    data.loc[:,\"wiki2vec_diff\"] = data.loc[:,\"wiki2vec_diff\"].fillna(data.loc[:,\"wiki2vec_diff\"].mode()[0])\n",
    "    return data\n",
    "data = fill_na_mean(data)\n",
    "#クラスラベルエンコーディング\n",
    "from sklearn.preprocessing import LabelEncoder\n",
    "def label_encorder(data):\n",
    "    le = LabelEncoder()\n",
    "    encoded = le.fit_transform(data['relation'].values)\n",
    "    for ans_c in ans_columns:\n",
    "        temp_label = le.transform(data[ans_c].values)\n",
    "        data[ans_c] = temp_label\n",
    "    data.loc[:,'relation_label'] = encoded\n",
    "    print(str(data[\"relation\"].unique())+\",\"+str(le.transform(data[\"relation\"].unique())))\n",
    "    return data\n",
    "data = label_encorder(data)\n",
    "data.head()"
   ]
  },
  {
   "cell_type": "code",
   "execution_count": 51,
   "metadata": {},
   "outputs": [],
   "source": [
    "#特徴量の選別 wn_sim_jcnは値がバグっているので使わない(infinityが入っている)\n",
    "X_data = data.loc[:,fature_columns]\n",
    "# yの定義\n",
    "y = data.loc[:,\"relation_label\"].values.astype(\"int32\")"
   ]
  },
  {
   "cell_type": "code",
   "execution_count": 52,
   "metadata": {},
   "outputs": [],
   "source": [
    "#学習用メソッド\n",
    "from sklearn.preprocessing import StandardScaler\n",
    "from sklearn.decomposition import PCA\n",
    "#str_arrをarrに変換\n",
    "def convert_to_arr(vec_str):\n",
    "    vec_arr = None\n",
    "    for s in vec_str:\n",
    "        if vec_arr is None:\n",
    "            vec_arr =np.array(s[1:-1].split(\", \")).astype(\"float32\")\n",
    "        else:\n",
    "            vec_arr = np.block([[vec_arr],[np.array(s[1:-1].split(\", \")).astype(\"float32\")]])\n",
    "    return vec_arr\n",
    "#diffラベルのpca_ssモデル trainとtest arrを返す\n",
    "def ss_pca(train,pca_n):\n",
    "    scaler = StandardScaler()\n",
    "    train=scaler.fit_transform(train)\n",
    "    pca = PCA(n_components = pca_n)\n",
    "    train = pca.fit_transform(train)\n",
    "    return train"
   ]
  },
  {
   "cell_type": "code",
   "execution_count": 56,
   "metadata": {},
   "outputs": [],
   "source": [
    "#通常系の特徴量と、vec系の特徴量に分割し、vecにはpcaを行って最後に結合する\n",
    "X = X_data.loc[:,X_normal_columns].values.astype(\"float64\").astype(\"float64\")\n",
    "for c_name, n in pca_di.items():\n",
    "    vec_arr = convert_to_arr(X_data.loc[:,c_name])\n",
    "    pca_arr = ss_pca(vec_arr,n)\n",
    "    X = np.concatenate([X, pca_arr], 1)\n",
    "    "
   ]
  },
  {
   "cell_type": "code",
   "execution_count": 57,
   "metadata": {},
   "outputs": [
    {
     "data": {
      "text/plain": [
       "(425, 12)"
      ]
     },
     "execution_count": 57,
     "metadata": {},
     "output_type": "execute_result"
    }
   ],
   "source": [
    "X.shape"
   ]
  },
  {
   "cell_type": "code",
   "execution_count": 30,
   "metadata": {},
   "outputs": [
    {
     "data": {
      "text/plain": [
       "XGBClassifier(base_score=0.5, booster='gbtree', colsample_bylevel=1,\n",
       "              colsample_bynode=1, colsample_bytree=1, gamma=0, gpu_id=-1,\n",
       "              importance_type='gain', interaction_constraints='',\n",
       "              learning_rate=0.01, max_delta_step=0, max_depth=25,\n",
       "              min_child_weight=1, missing=nan, monotone_constraints='()',\n",
       "              n_estimators=1500, n_jobs=0, num_parallel_tree=1,\n",
       "              objective='multi:softprob', random_state=0, reg_alpha=0,\n",
       "              reg_lambda=1, scale_pos_weight=None, subsample=1,\n",
       "              tree_method='exact', validate_parameters=1, verbosity=None)"
      ]
     },
     "execution_count": 30,
     "metadata": {},
     "output_type": "execute_result"
    }
   ],
   "source": [
    "#普通に学習を行う\n",
    "#XGBOOST\n",
    "model = xgb.XGBClassifier(n_estimators=1500,max_depth=25,learning_rate=0.01)\n",
    "model.fit(X,y)"
   ]
  },
  {
   "cell_type": "code",
   "execution_count": 31,
   "metadata": {},
   "outputs": [],
   "source": [
    "import matplotlib.pyplot as plt\n",
    "\n",
    "features = X_normal_columns\n",
    "for name, n in pca_di.items():\n",
    "    features.extend([name+str(i) for i in range(n)])\n",
    "    \n",
    "mapper = {'f{0}'.format(i): v for i, v in enumerate(features)}\n",
    "mapped = {mapper[k]: v for k, v in model._Booster.get_fscore().items()}\n",
    "imp_tapple = sorted(mapped.items(),key=lambda x:x[1])\n",
    "\n",
    "\n"
   ]
  },
  {
   "cell_type": "code",
   "execution_count": 40,
   "metadata": {},
   "outputs": [
    {
     "data": {
      "text/plain": [
       "<BarContainer object of 10 artists>"
      ]
     },
     "execution_count": 40,
     "metadata": {},
     "output_type": "execute_result"
    },
    {
     "data": {
      "image/png": "[encoded data removed]",
      "text/plain": [
       "<Figure size 432x288 with 1 Axes>"
      ]
     },
     "metadata": {
      "needs_background": "light"
     },
     "output_type": "display_data"
    }
   ],
   "source": [
    "label = [ t[0] for t in imp_tapple]\n",
    "height = [t[1] for t in imp_tapple]\n",
    "plt.barh(np.arange(0,len(label)), height, tick_label=label, align=\"center\")"
   ]
  },
  {
   "cell_type": "code",
   "execution_count": 24,
   "metadata": {},
   "outputs": [
    {
     "ename": "NameError",
     "evalue": "name 'acc' is not defined",
     "output_type": "error",
     "traceback": [
      "\u001b[0;31m---------------------------------------------------------------------------\u001b[0m",
      "\u001b[0;31mNameError\u001b[0m                                 Traceback (most recent call last)",
      "\u001b[0;32m<ipython-input-24-632f0fe02b94>\u001b[0m in \u001b[0;36m<module>\u001b[0;34m\u001b[0m\n\u001b[1;32m      1\u001b[0m \u001b[0;31m#result\u001b[0m\u001b[0;34m\u001b[0m\u001b[0;34m\u001b[0m\u001b[0;34m\u001b[0m\u001b[0m\n\u001b[0;32m----> 2\u001b[0;31m \u001b[0mprint\u001b[0m\u001b[0;34m(\u001b[0m\u001b[0macc\u001b[0m\u001b[0;34m)\u001b[0m\u001b[0;34m\u001b[0m\u001b[0;34m\u001b[0m\u001b[0m\n\u001b[0m\u001b[1;32m      3\u001b[0m \u001b[0mprint\u001b[0m\u001b[0;34m(\u001b[0m\u001b[0msum\u001b[0m\u001b[0;34m(\u001b[0m\u001b[0macc\u001b[0m\u001b[0;34m)\u001b[0m\u001b[0;34m/\u001b[0m\u001b[0mlen\u001b[0m\u001b[0;34m(\u001b[0m\u001b[0macc\u001b[0m\u001b[0;34m)\u001b[0m\u001b[0;34m)\u001b[0m\u001b[0;34m\u001b[0m\u001b[0;34m\u001b[0m\u001b[0m\n\u001b[1;32m      4\u001b[0m \u001b[0msns\u001b[0m\u001b[0;34m.\u001b[0m\u001b[0mheatmap\u001b[0m\u001b[0;34m(\u001b[0m\u001b[0mcm\u001b[0m\u001b[0;34m,\u001b[0m\u001b[0mannot\u001b[0m\u001b[0;34m=\u001b[0m\u001b[0;32mTrue\u001b[0m\u001b[0;34m,\u001b[0m \u001b[0mcmap\u001b[0m\u001b[0;34m=\u001b[0m\u001b[0;34m'Blues'\u001b[0m\u001b[0;34m)\u001b[0m\u001b[0;34m\u001b[0m\u001b[0;34m\u001b[0m\u001b[0m\n\u001b[1;32m      5\u001b[0m \u001b[0mprint\u001b[0m\u001b[0;34m(\u001b[0m\u001b[0;34m\"汎化\"\u001b[0m\u001b[0;34m+\u001b[0m\u001b[0mstr\u001b[0m\u001b[0;34m(\u001b[0m\u001b[0;34m(\u001b[0m\u001b[0mcm\u001b[0m\u001b[0;34m[\u001b[0m\u001b[0;36m0\u001b[0m\u001b[0;34m,\u001b[0m\u001b[0;36m0\u001b[0m\u001b[0;34m]\u001b[0m\u001b[0;34m+\u001b[0m\u001b[0mcm\u001b[0m\u001b[0;34m[\u001b[0m\u001b[0;36m1\u001b[0m\u001b[0;34m,\u001b[0m\u001b[0;36m1\u001b[0m\u001b[0;34m]\u001b[0m\u001b[0;34m)\u001b[0m\u001b[0;34m/\u001b[0m\u001b[0mnp\u001b[0m\u001b[0;34m.\u001b[0m\u001b[0msum\u001b[0m\u001b[0;34m(\u001b[0m\u001b[0mcm\u001b[0m\u001b[0;34m[\u001b[0m\u001b[0;34m:\u001b[0m\u001b[0;34m,\u001b[0m\u001b[0;36m0\u001b[0m\u001b[0;34m:\u001b[0m\u001b[0;36m2\u001b[0m\u001b[0;34m]\u001b[0m\u001b[0;34m)\u001b[0m\u001b[0;34m)\u001b[0m\u001b[0;34m)\u001b[0m\u001b[0;34m\u001b[0m\u001b[0;34m\u001b[0m\u001b[0m\n",
      "\u001b[0;31mNameError\u001b[0m: name 'acc' is not defined"
     ]
    }
   ],
   "source": [
    "#result\n",
    "print(acc)\n",
    "print(sum(acc)/len(acc))\n",
    "sns.heatmap(cm,annot=True, cmap='Blues')\n",
    "print(\"汎化\"+str((cm[0,0]+cm[1,1])/np.sum(cm[:,0:2])))\n",
    "print(\"関連\"+str((cm[2,2])/np.sum(cm[:,2])))\n",
    "print(\"集約\"+str((cm[3,3]+cm[4,4])/np.sum(cm[:,3:5])))"
   ]
  },
  {
   "cell_type": "code",
   "execution_count": null,
   "metadata": {},
   "outputs": [],
   "source": [
    "import seaborn as sns \n",
    "pg = sns.pairplot(feature_df, hue =\"label\")"
   ]
  },
  {
   "cell_type": "code",
   "execution_count": null,
   "metadata": {},
   "outputs": [],
   "source": [
    "feature_df.info()"
   ]
  },
  {
   "cell_type": "code",
   "execution_count": null,
   "metadata": {},
   "outputs": [],
   "source": [
    "feature_df[\"label\"] = data[\"relation_label\"]"
   ]
  },
  {
   "cell_type": "code",
   "execution_count": null,
   "metadata": {},
   "outputs": [],
   "source": [
    "feature_df.columns"
   ]
  },
  {
   "cell_type": "code",
   "execution_count": null,
   "metadata": {},
   "outputs": [],
   "source": [
    "feature_df = pd.DataFrame(X,\n",
    "                  columns=features).astype(\"float32\")"
   ]
  },
  {
   "cell_type": "code",
   "execution_count": null,
   "metadata": {},
   "outputs": [],
   "source": [
    "\n",
    "import matplotlib.pyplot as plt\n",
    "a = [t[0] for t in imp_tapple]\n",
    "b = [t[1] for t in imp_tapple]\n",
    "plt.barh(a, b)\n",
    "# plt.barh(a, b) # 横棒の棒グラフ\n",
    "plt.show()\n",
    " "
   ]
  },
  {
   "cell_type": "code",
   "execution_count": 13,
   "metadata": {
    "scrolled": true
   },
   "outputs": [
    {
     "ename": "NameError",
     "evalue": "name 'X_normal_columns' is not defined",
     "output_type": "error",
     "traceback": [
      "\u001b[0;31m---------------------------------------------------------------------------\u001b[0m",
      "\u001b[0;31mNameError\u001b[0m                                 Traceback (most recent call last)",
      "\u001b[0;32m<ipython-input-13-a0e7e2c4dba5>\u001b[0m in \u001b[0;36m<module>\u001b[0;34m\u001b[0m\n\u001b[1;32m      1\u001b[0m \u001b[0;32mimport\u001b[0m \u001b[0mmatplotlib\u001b[0m\u001b[0;34m.\u001b[0m\u001b[0mpyplot\u001b[0m \u001b[0;32mas\u001b[0m \u001b[0mplt\u001b[0m\u001b[0;34m\u001b[0m\u001b[0;34m\u001b[0m\u001b[0m\n\u001b[1;32m      2\u001b[0m \u001b[0;34m\u001b[0m\u001b[0m\n\u001b[0;32m----> 3\u001b[0;31m \u001b[0mfeatures\u001b[0m \u001b[0;34m=\u001b[0m \u001b[0mX_normal_columns\u001b[0m\u001b[0;34m\u001b[0m\u001b[0;34m\u001b[0m\u001b[0m\n\u001b[0m\u001b[1;32m      4\u001b[0m \u001b[0;32mfor\u001b[0m \u001b[0mname\u001b[0m\u001b[0;34m,\u001b[0m \u001b[0mn\u001b[0m \u001b[0;32min\u001b[0m \u001b[0mpca_di\u001b[0m\u001b[0;34m.\u001b[0m\u001b[0mitems\u001b[0m\u001b[0;34m(\u001b[0m\u001b[0;34m)\u001b[0m\u001b[0;34m:\u001b[0m\u001b[0;34m\u001b[0m\u001b[0;34m\u001b[0m\u001b[0m\n\u001b[1;32m      5\u001b[0m     \u001b[0mfeatures\u001b[0m\u001b[0;34m.\u001b[0m\u001b[0mextend\u001b[0m\u001b[0;34m(\u001b[0m\u001b[0;34m[\u001b[0m\u001b[0mname\u001b[0m\u001b[0;34m+\u001b[0m\u001b[0mstr\u001b[0m\u001b[0;34m(\u001b[0m\u001b[0mi\u001b[0m\u001b[0;34m)\u001b[0m \u001b[0;32mfor\u001b[0m \u001b[0mi\u001b[0m \u001b[0;32min\u001b[0m \u001b[0mrange\u001b[0m\u001b[0;34m(\u001b[0m\u001b[0mn\u001b[0m\u001b[0;34m)\u001b[0m\u001b[0;34m]\u001b[0m\u001b[0;34m)\u001b[0m\u001b[0;34m\u001b[0m\u001b[0;34m\u001b[0m\u001b[0m\n",
      "\u001b[0;31mNameError\u001b[0m: name 'X_normal_columns' is not defined"
     ]
    }
   ],
   "source": [
    "import matplotlib.pyplot as plt\n",
    "\n",
    "features = X_normal_columns\n",
    "for name, n in pca_di.items():\n",
    "    features.extend([name+str(i) for i in range(n)])\n",
    "    \n",
    "mapper = {'f{0}'.format(i): v for i, v in enumerate(features)}\n",
    "mapped = {mapper[k]: v for k, v in model._Booster.get_fscore().items()}\n",
    "imp_tapple = sorted(mapped.items(),key=lambda x:x[1])\n",
    "\n"
   ]
  },
  {
   "cell_type": "code",
   "execution_count": null,
   "metadata": {},
   "outputs": [],
   "source": [
    "#str_arrをarrに変換\n",
    "\n",
    "def convert_to_arr(vec_str):\n",
    "    vec_arr = None\n",
    "    for s in vec_str:\n",
    "        if vec_arr is None:\n",
    "            vec_arr =np.array(s[1:-1].split(\", \")).astype(\"float32\")\n",
    "        else:\n",
    "            vec_arr = np.block([[vec_arr],[np.array(s[1:-1].split(\", \")).astype(\"float32\")]])\n",
    "    return vec_arr\n",
    "#diffラベルのpca_ssモデル trainとtest arrを返す\n",
    "def ss_pca(train,pca_n):\n",
    "    scaler = StandardScaler()\n",
    "    train=scaler.fit_transform(train)\n",
    "    pca = PCA(n_components = pca_n)\n",
    "    train = pca.fit_transform(train)\n",
    "    return train"
   ]
  },
  {
   "cell_type": "code",
   "execution_count": 17,
   "metadata": {},
   "outputs": [
    {
     "ename": "NameError",
     "evalue": "name 'convert_to_arr' is not defined",
     "output_type": "error",
     "traceback": [
      "\u001b[0;31m---------------------------------------------------------------------------\u001b[0m",
      "\u001b[0;31mNameError\u001b[0m                                 Traceback (most recent call last)",
      "\u001b[0;32m<ipython-input-17-5d6d9d44c4f4>\u001b[0m in \u001b[0;36m<module>\u001b[0;34m\u001b[0m\n\u001b[1;32m     13\u001b[0m \u001b[0;31m#ベクトル系カラムをpcaする\u001b[0m\u001b[0;34m\u001b[0m\u001b[0;34m\u001b[0m\u001b[0;34m\u001b[0m\u001b[0m\n\u001b[1;32m     14\u001b[0m \u001b[0;32mfor\u001b[0m \u001b[0mname\u001b[0m\u001b[0;34m,\u001b[0m \u001b[0mn\u001b[0m \u001b[0;32min\u001b[0m \u001b[0mpca_di\u001b[0m\u001b[0;34m.\u001b[0m\u001b[0mitems\u001b[0m\u001b[0;34m(\u001b[0m\u001b[0;34m)\u001b[0m\u001b[0;34m:\u001b[0m\u001b[0;34m\u001b[0m\u001b[0;34m\u001b[0m\u001b[0m\n\u001b[0;32m---> 15\u001b[0;31m     \u001b[0mX_vec\u001b[0m \u001b[0;34m=\u001b[0m \u001b[0mconvert_to_arr\u001b[0m\u001b[0;34m(\u001b[0m\u001b[0mX_data\u001b[0m\u001b[0;34m.\u001b[0m\u001b[0mloc\u001b[0m\u001b[0;34m[\u001b[0m\u001b[0;34m:\u001b[0m\u001b[0;34m,\u001b[0m\u001b[0mname\u001b[0m\u001b[0;34m]\u001b[0m\u001b[0;34m.\u001b[0m\u001b[0mvalues\u001b[0m\u001b[0;34m)\u001b[0m\u001b[0;34m\u001b[0m\u001b[0;34m\u001b[0m\u001b[0m\n\u001b[0m\u001b[1;32m     16\u001b[0m     \u001b[0mscaler\u001b[0m \u001b[0;34m=\u001b[0m \u001b[0mStandardScaler\u001b[0m\u001b[0;34m(\u001b[0m\u001b[0;34m)\u001b[0m\u001b[0;34m\u001b[0m\u001b[0;34m\u001b[0m\u001b[0m\n\u001b[1;32m     17\u001b[0m     \u001b[0mX_ss\u001b[0m\u001b[0;34m=\u001b[0m\u001b[0mscaler\u001b[0m\u001b[0;34m.\u001b[0m\u001b[0mfit_transform\u001b[0m\u001b[0;34m(\u001b[0m\u001b[0mX_vec\u001b[0m\u001b[0;34m)\u001b[0m\u001b[0;34m\u001b[0m\u001b[0;34m\u001b[0m\u001b[0m\n",
      "\u001b[0;31mNameError\u001b[0m: name 'convert_to_arr' is not defined"
     ]
    }
   ],
   "source": [
    "#pca成分の生成\n",
    "from sklearn.model_selection import StratifiedKFold,LeaveOneOut,KFold\n",
    "from copy import deepcopy\n",
    "import xgboost as xgb\n",
    "from sklearn.metrics import confusion_matrix\n",
    "from sklearn.metrics import accuracy_score\n",
    "from sklearn.discriminant_analysis import LinearDiscriminantAnalysis as LDA\n",
    "\n",
    "\n",
    "\n",
    "X = data.loc[:,X_normal_columns].values.astype(\"float64\").astype(\"float64\")#diff系以外をarrayに入れる\n",
    "\n",
    "#ベクトル系カラムをpcaする\n",
    "for name, n in pca_di.items():\n",
    "    X_vec = convert_to_arr(X_data.loc[:,name].values)\n",
    "    scaler = StandardScaler()\n",
    "    X_ss=scaler.fit_transform(X_vec)\n",
    "    pca = PCA(n_components = n)\n",
    "    X_pca = pca.fit_transform(X_ss)\n",
    "    X = np.concatenate([X,X_pca],1)\n",
    "\n",
    "\n",
    "#XGBOOST\n",
    "model = xgb.XGBClassifier(n_estimators=1000,max_depth=13,learning_rate=0.1)\n",
    "model.fit(X,y)\n"
   ]
  },
  {
   "cell_type": "code",
   "execution_count": null,
   "metadata": {},
   "outputs": [],
   "source": []
  }
 ],
 "metadata": {
  "kernelspec": {
   "display_name": "Python 3",
   "language": "python",
   "name": "python3"
  },
  "language_info": {
   "codemirror_mode": {
    "name": "ipython",
    "version": 3
   },
   "file_extension": ".py",
   "mimetype": "text/x-python",
   "name": "python",
   "nbconvert_exporter": "python",
   "pygments_lexer": "ipython3",
   "version": "3.8.5"
  }
 },
 "nbformat": 4,
 "nbformat_minor": 4
}
