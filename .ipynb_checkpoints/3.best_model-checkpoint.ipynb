{
 "cells": [
  {
   "cell_type": "code",
   "execution_count": 1,
   "metadata": {},
   "outputs": [],
   "source": [
    "#一番いいモデル"
   ]
  },
  {
   "cell_type": "code",
   "execution_count": 2,
   "metadata": {},
   "outputs": [],
   "source": [
    "import numpy as np\n",
    "import gensim\n",
    "import requests\n",
    "from nltk.corpus import wordnet as wn\n",
    "from nltk.corpus import wordnet_ic\n",
    "import pandas as pd\n",
    "from wikipedia2vec import Wikipedia2Vec\n",
    "import pickle\n",
    "import matplotlib.pyplot as plt\n",
    "import pandas as pd\n",
    "from sklearn.model_selection import train_test_split"
   ]
  },
  {
   "cell_type": "code",
   "execution_count": 3,
   "metadata": {},
   "outputs": [
    {
     "name": "stdout",
     "output_type": "stream",
     "text": [
      "(425, 33)\n",
      "Index(['Unnamed: 0.1', 'class_a', 'class_b', 'relation', 'ans_yamasaki',\n",
      "       'ans_ueda', 'ans_daisuke', 'ans_hosomi', 'ans_kazuma', 'ans_sugi',\n",
      "       'type', 'title', 'source', 'sim_by_mcg', 'is_a_by_mcg', 'lexvec_sim',\n",
      "       'wiki2vec_sim', 'wn_hu_average', 'wn_pu_average', 'wn_hu_best',\n",
      "       'wn_pu_best', 'wn_sim_path', 'wn_sim_lch', 'wn_sim_wup', 'wn_sim_res',\n",
      "       'wn_sim_jcn', 'wn_sim_lin', 'has_same_word', 'is_include_word',\n",
      "       'bert_sim', 'lexvec_diff', 'wiki2vec_diff', 'bert_diff'],\n",
      "      dtype='object')\n"
     ]
    }
   ],
   "source": [
    "#dataのインポート+シャッフル\n",
    "data = pd.read_csv(\"./1_pretraind_data.csv\",index_col = 0).sample(frac=1, random_state=1).reset_index(drop=True)\n",
    "print(data.shape)\n",
    "print(data.columns)"
   ]
  },
  {
   "cell_type": "code",
   "execution_count": 4,
   "metadata": {},
   "outputs": [],
   "source": [
    "#カラム配列定義\n",
    "#特徴量カラム\n",
    "feature_columns =  [\"sim_by_mcg\",\"is_a_by_mcg\",\"lexvec_sim\",\"wiki2vec_sim\",\"wn_hu_average\",\n",
    "                \"wn_pu_average\",\"wn_sim_path\",\"wn_sim_wup\",\n",
    "                \"is_include_word\",\"bert_sim\",\"lexvec_diff\",\"wiki2vec_diff\",\"bert_diff\"]\n",
    "\n",
    "\n",
    "#通常の特徴量ラベル\n",
    "X_normal_columns = [\"sim_by_mcg\",\"is_a_by_mcg\",\"lexvec_sim\",\"wiki2vec_sim\",\"wn_hu_average\",\n",
    "                \"wn_pu_average\",\"wn_sim_path\",\"wn_sim_wup\",\"is_include_word\",\"bert_sim\"]\n",
    "\n",
    "#ベクトル系特徴量ラベル\n",
    "pca_di={\"lexvec_diff\":30,\"wiki2vec_diff\":30,\"bert_diff\":3}\n",
    "\n",
    "#被験者実験データ\n",
    "ans_columns = [ 'ans_ueda',\n",
    "       'ans_daisuke', 'ans_kazuma', 'ans_sugi','ans_yamasaki','ans_hosomi']"
   ]
  },
  {
   "cell_type": "code",
   "execution_count": 5,
   "metadata": {},
   "outputs": [
    {
     "name": "stdout",
     "output_type": "stream",
     "text": [
      "<class 'pandas.core.frame.DataFrame'>\n",
      "RangeIndex: 425 entries, 0 to 424\n",
      "Data columns (total 33 columns):\n",
      " #   Column           Non-Null Count  Dtype  \n",
      "---  ------           --------------  -----  \n",
      " 0   Unnamed: 0.1     425 non-null    int64  \n",
      " 1   class_a          425 non-null    object \n",
      " 2   class_b          425 non-null    object \n",
      " 3   relation         425 non-null    object \n",
      " 4   ans_yamasaki     425 non-null    object \n",
      " 5   ans_ueda         425 non-null    object \n",
      " 6   ans_daisuke      425 non-null    object \n",
      " 7   ans_hosomi       425 non-null    object \n",
      " 8   ans_kazuma       425 non-null    object \n",
      " 9   ans_sugi         425 non-null    object \n",
      " 10  type             425 non-null    object \n",
      " 11  title            425 non-null    object \n",
      " 12  source           425 non-null    object \n",
      " 13  sim_by_mcg       418 non-null    float64\n",
      " 14  is_a_by_mcg      423 non-null    float64\n",
      " 15  lexvec_sim       425 non-null    float64\n",
      " 16  wiki2vec_sim     419 non-null    float64\n",
      " 17  wn_hu_average    425 non-null    float64\n",
      " 18  wn_pu_average    425 non-null    float64\n",
      " 19  wn_hu_best       425 non-null    float64\n",
      " 20  wn_pu_best       425 non-null    float64\n",
      " 21  wn_sim_path      425 non-null    float64\n",
      " 22  wn_sim_lch       425 non-null    float64\n",
      " 23  wn_sim_wup       425 non-null    float64\n",
      " 24  wn_sim_res       425 non-null    float64\n",
      " 25  wn_sim_jcn       425 non-null    float64\n",
      " 26  wn_sim_lin       425 non-null    float64\n",
      " 27  has_same_word    425 non-null    float64\n",
      " 28  is_include_word  425 non-null    float64\n",
      " 29  bert_sim         425 non-null    float64\n",
      " 30  lexvec_diff      425 non-null    object \n",
      " 31  wiki2vec_diff    419 non-null    object \n",
      " 32  bert_diff        425 non-null    object \n",
      "dtypes: float64(17), int64(1), object(15)\n",
      "memory usage: 109.7+ KB\n"
     ]
    }
   ],
   "source": [
    "data.info()"
   ]
  },
  {
   "cell_type": "code",
   "execution_count": 6,
   "metadata": {},
   "outputs": [
    {
     "name": "stdout",
     "output_type": "stream",
     "text": [
      "['s1' 'h2' 'h1' 's2' 'k'],[3 1 0 4 2]\n"
     ]
    }
   ],
   "source": [
    "\n",
    "# 欠損値は最頻値補完を行う\n",
    "def fill_na_mean(data):\n",
    "    data.loc[:,\"sim_by_mcg\"] = data.loc[:,\"sim_by_mcg\"].fillna(data.loc[:,\"sim_by_mcg\"].mode()[0])\n",
    "    data.loc[:,\"is_a_by_mcg\"] = data.loc[:,\"is_a_by_mcg\"].fillna(data.loc[:,\"is_a_by_mcg\"].mode()[0])\n",
    "    data.loc[:,\"wiki2vec_sim\"] = data.loc[:,\"wiki2vec_sim\"].fillna(data.loc[:,\"wiki2vec_sim\"].mode()[0])\n",
    "    data.loc[:,\"wiki2vec_diff\"] = data.loc[:,\"wiki2vec_diff\"].fillna(data.loc[:,\"wiki2vec_diff\"].mode()[0])\n",
    "    return data\n",
    "data = fill_na_mean(data)\n",
    "#クラスラベルエンコーディング\n",
    "from sklearn.preprocessing import LabelEncoder\n",
    "def label_encorder(data):\n",
    "    le = LabelEncoder()\n",
    "    encoded = le.fit_transform(data['relation'].values)\n",
    "    for ans_c in ans_columns:\n",
    "        temp_label = le.transform(data[ans_c].values)\n",
    "        data[ans_c] = temp_label\n",
    "    data.loc[:,'relation_label'] = encoded\n",
    "    print(str(data[\"relation\"].unique())+\",\"+str(le.transform(data[\"relation\"].unique())))\n",
    "    return data\n",
    "data = label_encorder(data)"
   ]
  },
  {
   "cell_type": "code",
   "execution_count": 7,
   "metadata": {
    "scrolled": true
   },
   "outputs": [],
   "source": [
    "#特徴量の選別 wn_sim_jcnは値がバグっているので使わない(infinityが入っている)\n",
    "X_data = data.loc[:,feature_columns]\n",
    "# yの定義\n",
    "y = data.loc[:,\"relation_label\"].values.astype(\"int32\")"
   ]
  },
  {
   "cell_type": "code",
   "execution_count": 8,
   "metadata": {},
   "outputs": [],
   "source": [
    "\n",
    "from sklearn.preprocessing import StandardScaler\n",
    "from sklearn.decomposition import PCA\n",
    "\n",
    "#diffラベルのpca_ssモデル trainとtest arrを返す\n",
    "def ss_pca(train,pca_n):\n",
    "    scaler = StandardScaler()\n",
    "    train=scaler.fit_transform(train)\n",
    "    pca = PCA(n_components = pca_n)\n",
    "    train = pca.fit_transform(train)\n",
    "    return train\n",
    "#str_arrをarrに変換\n",
    "def convert_to_arr(vec_str):\n",
    "    vec_arr = None\n",
    "    for s in vec_str:\n",
    "        if vec_arr is None:\n",
    "            vec_arr =np.array(s[1:-1].split(\", \")).astype(\"float32\")\n",
    "        else:\n",
    "            vec_arr = np.block([[vec_arr],[np.array(s[1:-1].split(\", \")).astype(\"float32\")]])\n",
    "    return vec_arr"
   ]
  },
  {
   "cell_type": "code",
   "execution_count": 9,
   "metadata": {},
   "outputs": [
    {
     "name": "stderr",
     "output_type": "stream",
     "text": [
      "/Users/akihito/.pyenv/versions/3.8.5/lib/python3.8/site-packages/sklearn/model_selection/_split.py:293: FutureWarning: Setting a random_state has no effect since shuffle is False. This will raise an error in 0.24. You should leave random_state to its default (None), or set shuffle=True.\n",
      "  warnings.warn(\n",
      "/Users/akihito/.pyenv/versions/3.8.5/lib/python3.8/site-packages/sklearn/model_selection/_split.py:670: UserWarning: The least populated class in y has only 82 members, which is less than n_splits=90.\n",
      "  warnings.warn((\"The least populated class in y has only %d\"\n"
     ]
    },
    {
     "name": "stdout",
     "output_type": "stream",
     "text": [
      "1epoc\n",
      "2epoc\n",
      "3epoc\n",
      "4epoc\n",
      "5epoc\n",
      "6epoc\n",
      "7epoc\n",
      "8epoc\n",
      "9epoc\n",
      "10epoc\n",
      "11epoc\n",
      "12epoc\n",
      "13epoc\n",
      "14epoc\n",
      "15epoc\n",
      "16epoc\n",
      "17epoc\n",
      "18epoc\n",
      "19epoc\n",
      "20epoc\n",
      "21epoc\n",
      "22epoc\n",
      "23epoc\n",
      "24epoc\n",
      "25epoc\n",
      "26epoc\n",
      "27epoc\n",
      "28epoc\n",
      "29epoc\n",
      "30epoc\n",
      "31epoc\n",
      "32epoc\n",
      "33epoc\n",
      "34epoc\n",
      "35epoc\n",
      "36epoc\n",
      "37epoc\n",
      "38epoc\n",
      "39epoc\n",
      "40epoc\n",
      "41epoc\n",
      "42epoc\n",
      "43epoc\n",
      "44epoc\n",
      "45epoc\n",
      "46epoc\n",
      "47epoc\n",
      "48epoc\n",
      "49epoc\n",
      "50epoc\n",
      "51epoc\n",
      "52epoc\n",
      "53epoc\n",
      "54epoc\n",
      "55epoc\n",
      "56epoc\n",
      "57epoc\n",
      "58epoc\n",
      "59epoc\n",
      "60epoc\n",
      "61epoc\n",
      "62epoc\n",
      "63epoc\n",
      "64epoc\n",
      "65epoc\n",
      "66epoc\n",
      "67epoc\n",
      "68epoc\n",
      "69epoc\n",
      "70epoc\n",
      "71epoc\n",
      "72epoc\n",
      "73epoc\n",
      "74epoc\n",
      "75epoc\n",
      "76epoc\n",
      "77epoc\n",
      "78epoc\n",
      "79epoc\n",
      "80epoc\n",
      "81epoc\n",
      "82epoc\n",
      "83epoc\n",
      "84epoc\n",
      "85epoc\n",
      "86epoc\n",
      "87epoc\n",
      "88epoc\n",
      "89epoc\n",
      "90epoc\n"
     ]
    }
   ],
   "source": [
    "\n",
    "\n",
    "#pca成分の生成\n",
    "from sklearn.model_selection import StratifiedKFold,LeaveOneOut,KFold\n",
    "from copy import deepcopy\n",
    "import xgboost as xgb\n",
    "from sklearn.metrics import confusion_matrix\n",
    "from sklearn.metrics import accuracy_score\n",
    "from sklearn.discriminant_analysis import LinearDiscriminantAnalysis as LDA\n",
    "\n",
    "\n",
    "skf = StratifiedKFold(n_splits=90,random_state = 0)#80\n",
    "#cm = None #混合配列\n",
    "acc = list()#acc配列\n",
    "\n",
    "y_test_arr = None#testの記録\n",
    "y_pred_arr = None#predの記録\n",
    "\n",
    "\n",
    "trans_df =None #検証用に並び替えられたDF\n",
    "\n",
    "count = 1\n",
    "\n",
    "for train_idx, test_idx in skf.split(X_data,y):\n",
    "    print(str(count)+\"epoc\")\n",
    "    count += 1\n",
    "    \n",
    "    #diff系以外をarrayに入れる \n",
    "    X = X_data.loc[:,X_normal_columns].values.astype(\"float64\").astype(\"float64\")\n",
    "    \n",
    "    \n",
    "    # ベクトル系カラムをpcaする\n",
    "    for column, n in pca_di.items():\n",
    "        vec_arr = convert_to_arr(X_data.loc[:,column])\n",
    "        pca_arr = ss_pca(vec_arr,n)\n",
    "        X = np.concatenate([X, pca_arr], 1)\n",
    "        \n",
    "    \n",
    "    #分割\n",
    "    X_train = X[train_idx,:]\n",
    "    X_test = X[test_idx,:]\n",
    "    y_train = y[train_idx]\n",
    "    y_test = y[test_idx]\n",
    "    #print(X_train.shape)\n",
    "    \n",
    "    \n",
    "    #testindexから同時にdfの並び替えも行う。\n",
    "    temp_df = data.iloc[test_idx,:]\n",
    "    if trans_df is None:\n",
    "        trans_df = temp_df\n",
    "    else:\n",
    "        trans_df = pd.concat([trans_df,temp_df])\n",
    "    \n",
    "    #XGBOOST\n",
    "    model = xgb.XGBClassifier(n_estimators=300,max_depth=17,learning_rate=0.25)\n",
    "    model.fit(X_train,y_train)\n",
    "    y_pred = model.predict(X_test)\n",
    "    \n",
    "    #結果の保存\n",
    "    #print(accuracy_score(y_test, y_pred))\n",
    "    #acc.append(accuracy_score(y_test, y_pred))\n",
    "    #cm_temp = confusion_matrix(y_pred, y_test)\n",
    "    if y_test_arr is None:\n",
    "        #cm = cm_temp\n",
    "        y_test_arr  = y_test\n",
    "        y_pred_arr = y_pred\n",
    "    else:\n",
    "        #cm = cm + cm_temp\n",
    "        y_test_arr= np.append(y_test_arr,y_test)\n",
    "        y_pred_arr= np.append(y_pred_arr,y_pred)\n",
    "        \n",
    "\n"
   ]
  },
  {
   "cell_type": "code",
   "execution_count": 10,
   "metadata": {},
   "outputs": [
    {
     "name": "stdout",
     "output_type": "stream",
     "text": [
      "0.6494117647058824\n",
      "              precision    recall  f1-score   support\n",
      "\n",
      "           0       0.74      0.82      0.78        83\n",
      "           1       0.75      0.81      0.78        83\n",
      "           2       0.49      0.51      0.50        95\n",
      "           3       0.61      0.57      0.59        82\n",
      "           4       0.66      0.56      0.61        82\n",
      "\n",
      "    accuracy                           0.65       425\n",
      "   macro avg       0.65      0.65      0.65       425\n",
      "weighted avg       0.65      0.65      0.65       425\n",
      "\n"
     ]
    },
    {
     "data": {
      "text/plain": [
       "<AxesSubplot:>"
      ]
     },
     "execution_count": 10,
     "metadata": {},
     "output_type": "execute_result"
    },
    {
     "data": {
      "image/png": "[encoded data removed]",
      "text/plain": [
       "<Figure size 432x288 with 2 Axes>"
      ]
     },
     "metadata": {
      "needs_background": "light"
     },
     "output_type": "display_data"
    }
   ],
   "source": [
    "import seaborn as sns\n",
    "from sklearn.metrics import recall_score\n",
    "from sklearn.metrics import precision_score\n",
    "from sklearn.metrics import classification_report\n",
    "print(accuracy_score(y_test_arr, y_pred_arr))\n",
    "print(classification_report(y_test_arr,y_pred_arr))\n",
    "cm = confusion_matrix(y_test_arr, y_pred_arr)\n",
    "sns.heatmap(cm,annot=True, cmap='Blues')"
   ]
  },
  {
   "cell_type": "markdown",
   "metadata": {},
   "source": [
    "# ansの考察"
   ]
  },
  {
   "cell_type": "code",
   "execution_count": 12,
   "metadata": {},
   "outputs": [
    {
     "data": {
      "text/plain": [
       "<AxesSubplot:>"
      ]
     },
     "execution_count": 12,
     "metadata": {},
     "output_type": "execute_result"
    },
    {
     "data": {
      "image/png": "[encoded data removed]",
      "text/plain": [
       "<Figure size 432x288 with 2 Axes>"
      ]
     },
     "metadata": {
      "needs_background": "light"
     },
     "output_type": "display_data"
    }
   ],
   "source": [
    "#confusion matrix\n",
    "from sklearn.metrics import confusion_matrix\n",
    "sum_cm = None\n",
    "for c in ans_columns:\n",
    "    ans_arr = trans_df.loc[:,c].values\n",
    "    cm = confusion_matrix(y_test_arr, ans_arr )\n",
    "    if sum_cm is None:\n",
    "        sum_cm = cm\n",
    "    else:\n",
    "        sum_cm += cm\n",
    "sns.heatmap(sum_cm/6,annot=True, cmap='Blues')"
   ]
  },
  {
   "cell_type": "code",
   "execution_count": 18,
   "metadata": {},
   "outputs": [
    {
     "name": "stdout",
     "output_type": "stream",
     "text": [
      "ans_ueda\n",
      "ans_daisuke\n",
      "ans_kazuma\n",
      "ans_sugi\n",
      "ans_yamasaki\n",
      "ans_hosomi\n",
      "[0.6941176470588235, 0.7294117647058823, 0.48, 0.76, 0.4000000000000001, 0.4000000000000001]\n"
     ]
    }
   ],
   "source": [
    "#f1配列\n",
    "from sklearn.metrics import f1_score\n",
    "f1_list = list()\n",
    "for c in ans_columns:\n",
    "    print(c)\n",
    "    ans_arr = trans_df.loc[:,c].values\n",
    "    f1_list.append(f1_score(y_test_arr, ans_arr, average=\"micro\")) \n",
    "print(f1_list)"
   ]
  },
  {
   "cell_type": "code",
   "execution_count": 21,
   "metadata": {},
   "outputs": [
    {
     "data": {
      "text/plain": [
       "0.5772549019607842"
      ]
     },
     "execution_count": 21,
     "metadata": {},
     "output_type": "execute_result"
    }
   ],
   "source": [
    "np.mean(f1_list)"
   ]
  },
  {
   "cell_type": "code",
   "execution_count": 19,
   "metadata": {},
   "outputs": [
    {
     "name": "stdout",
     "output_type": "stream",
     "text": [
      "              precision    recall  f1-score   support\n",
      "\n",
      "           0       0.93      0.75      0.83        83\n",
      "           1       0.94      0.75      0.83        83\n",
      "           2       0.46      0.62      0.53        95\n",
      "           3       0.66      0.68      0.67        82\n",
      "           4       0.72      0.68      0.70        82\n",
      "\n",
      "    accuracy                           0.69       425\n",
      "   macro avg       0.74      0.70      0.71       425\n",
      "weighted avg       0.73      0.69      0.71       425\n",
      "\n"
     ]
    }
   ],
   "source": [
    "print(classification_report(y_test_arr,trans_df[\"ans_ueda\"]))"
   ]
  },
  {
   "cell_type": "code",
   "execution_count": null,
   "metadata": {},
   "outputs": [],
   "source": [
    "print(classification_report(y_test_arr,trans_df[\"ans_sugi\"]))"
   ]
  },
  {
   "cell_type": "code",
   "execution_count": null,
   "metadata": {},
   "outputs": [],
   "source": [
    "print(classification_report(y_test_arr,trans_df[\"ans_kazuma\"]))"
   ]
  },
  {
   "cell_type": "code",
   "execution_count": null,
   "metadata": {},
   "outputs": [],
   "source": [
    "print(classification_report(y_test_arr,trans_df[\"ans_daisuke\"]))"
   ]
  },
  {
   "cell_type": "code",
   "execution_count": null,
   "metadata": {},
   "outputs": [],
   "source": [
    "print(classification_report(y_test_arr,trans_df[\"ans_hosomi\"]))"
   ]
  },
  {
   "cell_type": "code",
   "execution_count": null,
   "metadata": {},
   "outputs": [],
   "source": [
    "print(classification_report(y_test_arr,trans_df[\"ans_yamasaki\"]))"
   ]
  },
  {
   "cell_type": "code",
   "execution_count": null,
   "metadata": {},
   "outputs": [],
   "source": []
  }
 ],
 "metadata": {
  "kernelspec": {
   "display_name": "Python 3",
   "language": "python",
   "name": "python3"
  },
  "language_info": {
   "codemirror_mode": {
    "name": "ipython",
    "version": 3
   },
   "file_extension": ".py",
   "mimetype": "text/x-python",
   "name": "python",
   "nbconvert_exporter": "python",
   "pygments_lexer": "ipython3",
   "version": "3.8.5"
  }
 },
 "nbformat": 4,
 "nbformat_minor": 4
}
