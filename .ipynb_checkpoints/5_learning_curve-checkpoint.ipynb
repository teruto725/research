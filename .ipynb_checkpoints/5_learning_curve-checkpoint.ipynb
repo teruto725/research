{
 "cells": [
  {
   "cell_type": "markdown",
   "metadata": {},
   "source": [
    "# learning curve 出す"
   ]
  },
  {
   "cell_type": "code",
   "execution_count": 9,
   "metadata": {},
   "outputs": [],
   "source": [
    "import numpy as np\n",
    "import gensim\n",
    "import requests\n",
    "import pandas as pd\n",
    "import pickle\n",
    "import matplotlib.pyplot as plt\n",
    "import pandas as pd\n",
    "from sklearn.model_selection import train_test_split"
   ]
  },
  {
   "cell_type": "code",
   "execution_count": 12,
   "metadata": {},
   "outputs": [],
   "source": [
    "#dataのインポート+シャッフル\n",
    "data = pd.read_csv(\"./1_preprocessed_data.csv\",index_col = 0).sample(frac=1, random_state=1).reset_index(drop=True)\n"
   ]
  },
  {
   "cell_type": "code",
   "execution_count": 13,
   "metadata": {},
   "outputs": [],
   "source": [
    "#カラム配列定義\n",
    "#特徴量カラム\n",
    "feature_columns =  [\"sim_by_mcg\",\"is_a_by_mcg\",\"lexvec_sim\",\"wiki2vec_sim\",\"wn_hu_average\",\n",
    "                \"wn_pu_average\",\"wn_sim_path\",\"wn_sim_wup\",\n",
    "                \"is_include_word\",\"bert_sim\",\"lexvec_diff\",\"wiki2vec_diff\",\"bert_diff\"]\n",
    "\n",
    "\n",
    "#通常の特徴量ラベル\n",
    "X_normal_columns = [\"sim_by_mcg\",\"is_a_by_mcg\",\"lexvec_sim\",\"wiki2vec_sim\",\"wn_hu_average\",\n",
    "                \"wn_pu_average\",\"wn_sim_path\",\"wn_sim_wup\",\"is_include_word\",\"bert_sim\"]\n",
    "\n",
    "#ベクトル系特徴量ラベル\n",
    "pca_di={\"lexvec_diff\":30,\"wiki2vec_diff\":30,\"bert_diff\":3}\n",
    "\n",
    "#被験者実験データ\n",
    "ans_columns = [ 'ans_ueda',\n",
    "       'ans_daisuke', 'ans_kazuma', 'ans_sugi','ans_yamasaki','ans_hosomi']"
   ]
  },
  {
   "cell_type": "code",
   "execution_count": 14,
   "metadata": {},
   "outputs": [
    {
     "name": "stdout",
     "output_type": "stream",
     "text": [
      "['s1' 'h2' 'h1' 's2' 'k'],[3 1 0 4 2]\n"
     ]
    }
   ],
   "source": [
    "\n",
    "# 欠損値は最頻値補完を行う\n",
    "def fill_na_mean(data):\n",
    "    data.loc[:,\"sim_by_mcg\"] = data.loc[:,\"sim_by_mcg\"].fillna(data.loc[:,\"sim_by_mcg\"].mode()[0])\n",
    "    data.loc[:,\"is_a_by_mcg\"] = data.loc[:,\"is_a_by_mcg\"].fillna(data.loc[:,\"is_a_by_mcg\"].mode()[0])\n",
    "    data.loc[:,\"wiki2vec_sim\"] = data.loc[:,\"wiki2vec_sim\"].fillna(data.loc[:,\"wiki2vec_sim\"].mode()[0])\n",
    "    data.loc[:,\"wiki2vec_diff\"] = data.loc[:,\"wiki2vec_diff\"].fillna(data.loc[:,\"wiki2vec_diff\"].mode()[0])\n",
    "    return data\n",
    "data = fill_na_mean(data)\n",
    "#クラスラベルエンコーディング\n",
    "from sklearn.preprocessing import LabelEncoder\n",
    "def label_encorder(data):\n",
    "    le = LabelEncoder()\n",
    "    encoded = le.fit_transform(data['relation'].values)\n",
    "    for ans_c in ans_columns:\n",
    "        temp_label = le.transform(data[ans_c].values)\n",
    "        data[ans_c] = temp_label\n",
    "    data.loc[:,'relation_label'] = encoded\n",
    "    print(str(data[\"relation\"].unique())+\",\"+str(le.transform(data[\"relation\"].unique())))\n",
    "    return data\n",
    "data = label_encorder(data)"
   ]
  },
  {
   "cell_type": "code",
   "execution_count": 15,
   "metadata": {},
   "outputs": [],
   "source": [
    "#特徴量の選別 wn_sim_jcnは値がバグっているので使わない(infinityが入っている)\n",
    "X_data = data.loc[:,feature_columns]\n",
    "# yの定義\n",
    "y = data.loc[:,\"relation_label\"].values.astype(\"int32\")"
   ]
  },
  {
   "cell_type": "code",
   "execution_count": 16,
   "metadata": {},
   "outputs": [],
   "source": [
    "\n",
    "from sklearn.preprocessing import StandardScaler\n",
    "from sklearn.decomposition import PCA\n",
    "#通常の特徴量ラベル\n",
    "X_normal_columns = [\"sim_by_mcg\",\"is_a_by_mcg\",\"lexvec_sim\",\"wiki2vec_sim\",\"wn_hu_average\",\n",
    "                \"wn_pu_average\",\"wn_sim_path\",\"wn_sim_wup\",\"is_include_word\",\"bert_sim\"]\n",
    "\n",
    "#diffラベルのpca_ssモデル trainとtest arrを返す\n",
    "def ss_pca(train,pca_n):\n",
    "    scaler = StandardScaler()\n",
    "    train=scaler.fit_transform(train)\n",
    "    pca = PCA(n_components = pca_n)\n",
    "    train = pca.fit_transform(train)\n",
    "    return train\n",
    "#str_arrをarrに変換\n",
    "def convert_to_arr(vec_str):\n",
    "    vec_arr = None\n",
    "    for s in vec_str:\n",
    "        if vec_arr is None:\n",
    "            vec_arr =np.array(s[1:-1].split(\", \")).astype(\"float32\")\n",
    "        else:\n",
    "            vec_arr = np.block([[vec_arr],[np.array(s[1:-1].split(\", \")).astype(\"float32\")]])\n",
    "    return vec_arr"
   ]
  },
  {
   "cell_type": "code",
   "execution_count": 18,
   "metadata": {},
   "outputs": [],
   "source": [
    "\n",
    "\n",
    "#pca成分の生成\n",
    "from sklearn.model_selection import StratifiedKFold,LeaveOneOut,KFold\n",
    "from copy import deepcopy\n",
    "import xgboost as xgb\n",
    "from sklearn.metrics import confusion_matrix\n",
    "from sklearn.metrics import accuracy_score\n",
    "from sklearn.discriminant_analysis import LinearDiscriminantAnalysis as LDA\n",
    "def learning(X_data,y):\n",
    "    \n",
    "    skf = StratifiedKFold(n_splits=5,random_state = 0)\n",
    "    cm = None #混合配列\n",
    "    v_acc = list()\n",
    "    for train_idx, test_idx in skf.split(X_data,y):\n",
    "        #print(\"new epoc\")\n",
    "\n",
    "        #diff系以外をarrayに入れる \n",
    "        X = X_data.loc[:,X_normal_columns].values.astype(\"float64\").astype(\"float64\")\n",
    "\n",
    "\n",
    "        # ベクトル系カラムをpcaする\n",
    "        for column, n in pca_di.items():\n",
    "            vec_arr = convert_to_arr(X_data.loc[:,column])\n",
    "            pca_arr = ss_pca(vec_arr,n)\n",
    "            X = np.concatenate([X, pca_arr], 1)\n",
    "\n",
    "\n",
    "        #分割\n",
    "        X_train = X[train_idx,:]\n",
    "        X_test = X[test_idx,:]\n",
    "        y_train = y[train_idx]\n",
    "        y_test = y[test_idx]\n",
    "        #print(X_train.shape)\n",
    "\n",
    "        #LDA\n",
    "        \"\"\"\n",
    "        lda = PCA()\n",
    "        X_train = lda.fit_transform(X_train, y_train)\n",
    "        X_test = lda.transform(X_test)\n",
    "        \"\"\"\n",
    "        #XGBOOST\n",
    "        #model = xgb.XGBClassifier(n_estimators=1500,max_depth=25,learning_rate=0.01)\n",
    "        model = xgb.XGBClassifier(n_estimators=100,max_depth=10,learning_rate=0.01)\n",
    "        model.fit(X_train,y_train)\n",
    "        \n",
    "        #トレーニングスコアの算出\n",
    "        #y_pred = model.predict(X_train)\n",
    "        #t_acc.append(accuracy_score(y_pred, y_train))\n",
    "        \n",
    "        \n",
    "        #検証スコアの算出\n",
    "        y_pred = model.predict(X_test)\n",
    "        #print(accuracy_score(y_test, y_pred))\n",
    "        v_acc.append(accuracy_score(y_test, y_pred))\n",
    "        \n",
    "        cm_temp = confusion_matrix(y_pred, y_test)\n",
    "        if cm is None:\n",
    "            cm = cm_temp\n",
    "            continue\n",
    "        cm = cm + cm_temp\n",
    "        \n",
    "    #result\n",
    "    import seaborn as sns\n",
    "    #print(v_acc)\n",
    "    return v_acc"
   ]
  },
  {
   "cell_type": "code",
   "execution_count": null,
   "metadata": {},
   "outputs": [
    {
     "name": "stderr",
     "output_type": "stream",
     "text": [
      "/Users/akihito/.pyenv/versions/3.8.5/lib/python3.8/site-packages/sklearn/model_selection/_split.py:293: FutureWarning: Setting a random_state has no effect since shuffle is False. This will raise an error in 0.24. You should leave random_state to its default (None), or set shuffle=True.\n",
      "  warnings.warn(\n"
     ]
    },
    {
     "name": "stdout",
     "output_type": "stream",
     "text": [
      "new epoc\n",
      "new epoc\n",
      "new epoc\n",
      "new epoc\n",
      "new epoc\n",
      "[0.475, 0.575, 0.5, 0.475, 0.575]\n",
      "new epoc\n"
     ]
    },
    {
     "name": "stderr",
     "output_type": "stream",
     "text": [
      "/Users/akihito/.pyenv/versions/3.8.5/lib/python3.8/site-packages/sklearn/model_selection/_split.py:293: FutureWarning: Setting a random_state has no effect since shuffle is False. This will raise an error in 0.24. You should leave random_state to its default (None), or set shuffle=True.\n",
      "  warnings.warn(\n"
     ]
    },
    {
     "name": "stdout",
     "output_type": "stream",
     "text": [
      "new epoc\n",
      "new epoc\n",
      "new epoc\n",
      "new epoc\n",
      "[0.5121951219512195, 0.575, 0.5, 0.475, 0.45]\n",
      "new epoc\n"
     ]
    },
    {
     "name": "stderr",
     "output_type": "stream",
     "text": [
      "/Users/akihito/.pyenv/versions/3.8.5/lib/python3.8/site-packages/sklearn/model_selection/_split.py:293: FutureWarning: Setting a random_state has no effect since shuffle is False. This will raise an error in 0.24. You should leave random_state to its default (None), or set shuffle=True.\n",
      "  warnings.warn(\n"
     ]
    },
    {
     "name": "stdout",
     "output_type": "stream",
     "text": [
      "new epoc\n",
      "new epoc\n",
      "new epoc\n",
      "new epoc\n",
      "[0.5609756097560976, 0.5365853658536586, 0.475, 0.35, 0.475]\n",
      "new epoc\n"
     ]
    },
    {
     "name": "stderr",
     "output_type": "stream",
     "text": [
      "/Users/akihito/.pyenv/versions/3.8.5/lib/python3.8/site-packages/sklearn/model_selection/_split.py:293: FutureWarning: Setting a random_state has no effect since shuffle is False. This will raise an error in 0.24. You should leave random_state to its default (None), or set shuffle=True.\n",
      "  warnings.warn(\n"
     ]
    },
    {
     "name": "stdout",
     "output_type": "stream",
     "text": [
      "new epoc\n",
      "new epoc\n",
      "new epoc\n",
      "new epoc\n",
      "[0.5121951219512195, 0.5365853658536586, 0.5365853658536586, 0.475, 0.4]\n",
      "new epoc\n"
     ]
    },
    {
     "name": "stderr",
     "output_type": "stream",
     "text": [
      "/Users/akihito/.pyenv/versions/3.8.5/lib/python3.8/site-packages/sklearn/model_selection/_split.py:293: FutureWarning: Setting a random_state has no effect since shuffle is False. This will raise an error in 0.24. You should leave random_state to its default (None), or set shuffle=True.\n",
      "  warnings.warn(\n"
     ]
    },
    {
     "name": "stdout",
     "output_type": "stream",
     "text": [
      "new epoc\n",
      "new epoc\n",
      "new epoc\n",
      "new epoc\n",
      "[0.4878048780487805, 0.5365853658536586, 0.4146341463414634, 0.3902439024390244, 0.45]\n",
      "new epoc\n"
     ]
    },
    {
     "name": "stderr",
     "output_type": "stream",
     "text": [
      "/Users/akihito/.pyenv/versions/3.8.5/lib/python3.8/site-packages/sklearn/model_selection/_split.py:293: FutureWarning: Setting a random_state has no effect since shuffle is False. This will raise an error in 0.24. You should leave random_state to its default (None), or set shuffle=True.\n",
      "  warnings.warn(\n"
     ]
    },
    {
     "name": "stdout",
     "output_type": "stream",
     "text": [
      "new epoc\n",
      "new epoc\n",
      "new epoc\n",
      "new epoc\n",
      "[0.5365853658536586, 0.5365853658536586, 0.43902439024390244, 0.5121951219512195, 0.5121951219512195]\n",
      "new epoc\n"
     ]
    },
    {
     "name": "stderr",
     "output_type": "stream",
     "text": [
      "/Users/akihito/.pyenv/versions/3.8.5/lib/python3.8/site-packages/sklearn/model_selection/_split.py:293: FutureWarning: Setting a random_state has no effect since shuffle is False. This will raise an error in 0.24. You should leave random_state to its default (None), or set shuffle=True.\n",
      "  warnings.warn(\n"
     ]
    },
    {
     "name": "stdout",
     "output_type": "stream",
     "text": [
      "new epoc\n",
      "new epoc\n",
      "new epoc\n",
      "new epoc\n",
      "[0.5238095238095238, 0.6097560975609756, 0.3902439024390244, 0.6097560975609756, 0.43902439024390244]\n",
      "new epoc\n"
     ]
    },
    {
     "name": "stderr",
     "output_type": "stream",
     "text": [
      "/Users/akihito/.pyenv/versions/3.8.5/lib/python3.8/site-packages/sklearn/model_selection/_split.py:293: FutureWarning: Setting a random_state has no effect since shuffle is False. This will raise an error in 0.24. You should leave random_state to its default (None), or set shuffle=True.\n",
      "  warnings.warn(\n"
     ]
    },
    {
     "name": "stdout",
     "output_type": "stream",
     "text": [
      "new epoc\n",
      "new epoc\n",
      "new epoc\n",
      "new epoc\n",
      "[0.5, 0.5, 0.4634146341463415, 0.5853658536585366, 0.5609756097560976]\n",
      "new epoc\n"
     ]
    },
    {
     "name": "stderr",
     "output_type": "stream",
     "text": [
      "/Users/akihito/.pyenv/versions/3.8.5/lib/python3.8/site-packages/sklearn/model_selection/_split.py:293: FutureWarning: Setting a random_state has no effect since shuffle is False. This will raise an error in 0.24. You should leave random_state to its default (None), or set shuffle=True.\n",
      "  warnings.warn(\n"
     ]
    },
    {
     "name": "stdout",
     "output_type": "stream",
     "text": [
      "new epoc\n",
      "new epoc\n",
      "new epoc\n",
      "new epoc\n",
      "[0.47619047619047616, 0.5476190476190477, 0.42857142857142855, 0.5609756097560976, 0.4634146341463415]\n",
      "new epoc\n"
     ]
    },
    {
     "name": "stderr",
     "output_type": "stream",
     "text": [
      "/Users/akihito/.pyenv/versions/3.8.5/lib/python3.8/site-packages/sklearn/model_selection/_split.py:293: FutureWarning: Setting a random_state has no effect since shuffle is False. This will raise an error in 0.24. You should leave random_state to its default (None), or set shuffle=True.\n",
      "  warnings.warn(\n"
     ]
    },
    {
     "name": "stdout",
     "output_type": "stream",
     "text": [
      "new epoc\n",
      "new epoc\n",
      "new epoc\n",
      "new epoc\n",
      "[0.4523809523809524, 0.5238095238095238, 0.5238095238095238, 0.40476190476190477, 0.4878048780487805]\n",
      "new epoc\n"
     ]
    },
    {
     "name": "stderr",
     "output_type": "stream",
     "text": [
      "/Users/akihito/.pyenv/versions/3.8.5/lib/python3.8/site-packages/sklearn/model_selection/_split.py:293: FutureWarning: Setting a random_state has no effect since shuffle is False. This will raise an error in 0.24. You should leave random_state to its default (None), or set shuffle=True.\n",
      "  warnings.warn(\n"
     ]
    },
    {
     "name": "stdout",
     "output_type": "stream",
     "text": [
      "new epoc\n",
      "new epoc\n",
      "new epoc\n",
      "new epoc\n",
      "[0.40476190476190477, 0.4523809523809524, 0.3333333333333333, 0.4523809523809524, 0.4523809523809524]\n",
      "new epoc\n"
     ]
    },
    {
     "name": "stderr",
     "output_type": "stream",
     "text": [
      "/Users/akihito/.pyenv/versions/3.8.5/lib/python3.8/site-packages/sklearn/model_selection/_split.py:293: FutureWarning: Setting a random_state has no effect since shuffle is False. This will raise an error in 0.24. You should leave random_state to its default (None), or set shuffle=True.\n",
      "  warnings.warn(\n"
     ]
    },
    {
     "name": "stdout",
     "output_type": "stream",
     "text": [
      "new epoc\n",
      "new epoc\n",
      "new epoc\n",
      "new epoc\n",
      "[0.4186046511627907, 0.5476190476190477, 0.47619047619047616, 0.40476190476190477, 0.4523809523809524]\n",
      "new epoc\n"
     ]
    },
    {
     "name": "stderr",
     "output_type": "stream",
     "text": [
      "/Users/akihito/.pyenv/versions/3.8.5/lib/python3.8/site-packages/sklearn/model_selection/_split.py:293: FutureWarning: Setting a random_state has no effect since shuffle is False. This will raise an error in 0.24. You should leave random_state to its default (None), or set shuffle=True.\n",
      "  warnings.warn(\n"
     ]
    },
    {
     "name": "stdout",
     "output_type": "stream",
     "text": [
      "new epoc\n",
      "new epoc\n",
      "new epoc\n",
      "new epoc\n",
      "[0.4883720930232558, 0.5348837209302325, 0.47619047619047616, 0.47619047619047616, 0.5476190476190477]\n",
      "new epoc\n"
     ]
    },
    {
     "name": "stderr",
     "output_type": "stream",
     "text": [
      "/Users/akihito/.pyenv/versions/3.8.5/lib/python3.8/site-packages/sklearn/model_selection/_split.py:293: FutureWarning: Setting a random_state has no effect since shuffle is False. This will raise an error in 0.24. You should leave random_state to its default (None), or set shuffle=True.\n",
      "  warnings.warn(\n"
     ]
    },
    {
     "name": "stdout",
     "output_type": "stream",
     "text": [
      "new epoc\n",
      "new epoc\n",
      "new epoc\n",
      "new epoc\n",
      "[0.4186046511627907, 0.4883720930232558, 0.5813953488372093, 0.47619047619047616, 0.5238095238095238]\n",
      "new epoc\n"
     ]
    },
    {
     "name": "stderr",
     "output_type": "stream",
     "text": [
      "/Users/akihito/.pyenv/versions/3.8.5/lib/python3.8/site-packages/sklearn/model_selection/_split.py:293: FutureWarning: Setting a random_state has no effect since shuffle is False. This will raise an error in 0.24. You should leave random_state to its default (None), or set shuffle=True.\n",
      "  warnings.warn(\n"
     ]
    },
    {
     "name": "stdout",
     "output_type": "stream",
     "text": [
      "new epoc\n",
      "new epoc\n",
      "new epoc\n",
      "new epoc\n",
      "[0.4418604651162791, 0.5116279069767442, 0.37209302325581395, 0.4186046511627907, 0.35714285714285715]\n",
      "new epoc\n"
     ]
    },
    {
     "name": "stderr",
     "output_type": "stream",
     "text": [
      "/Users/akihito/.pyenv/versions/3.8.5/lib/python3.8/site-packages/sklearn/model_selection/_split.py:293: FutureWarning: Setting a random_state has no effect since shuffle is False. This will raise an error in 0.24. You should leave random_state to its default (None), or set shuffle=True.\n",
      "  warnings.warn(\n"
     ]
    },
    {
     "name": "stdout",
     "output_type": "stream",
     "text": [
      "new epoc\n",
      "new epoc\n",
      "new epoc\n",
      "new epoc\n",
      "[0.5116279069767442, 0.4418604651162791, 0.4883720930232558, 0.37209302325581395, 0.5348837209302325]\n",
      "new epoc\n"
     ]
    },
    {
     "name": "stderr",
     "output_type": "stream",
     "text": [
      "/Users/akihito/.pyenv/versions/3.8.5/lib/python3.8/site-packages/sklearn/model_selection/_split.py:293: FutureWarning: Setting a random_state has no effect since shuffle is False. This will raise an error in 0.24. You should leave random_state to its default (None), or set shuffle=True.\n",
      "  warnings.warn(\n"
     ]
    },
    {
     "name": "stdout",
     "output_type": "stream",
     "text": [
      "new epoc\n",
      "new epoc\n",
      "new epoc\n",
      "new epoc\n",
      "[0.6363636363636364, 0.5348837209302325, 0.5581395348837209, 0.4186046511627907, 0.5348837209302325]\n",
      "new epoc\n"
     ]
    },
    {
     "name": "stderr",
     "output_type": "stream",
     "text": [
      "/Users/akihito/.pyenv/versions/3.8.5/lib/python3.8/site-packages/sklearn/model_selection/_split.py:293: FutureWarning: Setting a random_state has no effect since shuffle is False. This will raise an error in 0.24. You should leave random_state to its default (None), or set shuffle=True.\n",
      "  warnings.warn(\n"
     ]
    },
    {
     "name": "stdout",
     "output_type": "stream",
     "text": [
      "new epoc\n",
      "new epoc\n",
      "new epoc\n",
      "new epoc\n",
      "[0.5227272727272727, 0.4772727272727273, 0.4186046511627907, 0.4186046511627907, 0.4883720930232558]\n",
      "new epoc\n"
     ]
    },
    {
     "name": "stderr",
     "output_type": "stream",
     "text": [
      "/Users/akihito/.pyenv/versions/3.8.5/lib/python3.8/site-packages/sklearn/model_selection/_split.py:293: FutureWarning: Setting a random_state has no effect since shuffle is False. This will raise an error in 0.24. You should leave random_state to its default (None), or set shuffle=True.\n",
      "  warnings.warn(\n"
     ]
    },
    {
     "name": "stdout",
     "output_type": "stream",
     "text": [
      "new epoc\n",
      "new epoc\n",
      "new epoc\n",
      "new epoc\n",
      "[0.5, 0.5, 0.4772727272727273, 0.32558139534883723, 0.5813953488372093]\n",
      "new epoc\n"
     ]
    },
    {
     "name": "stderr",
     "output_type": "stream",
     "text": [
      "/Users/akihito/.pyenv/versions/3.8.5/lib/python3.8/site-packages/sklearn/model_selection/_split.py:293: FutureWarning: Setting a random_state has no effect since shuffle is False. This will raise an error in 0.24. You should leave random_state to its default (None), or set shuffle=True.\n",
      "  warnings.warn(\n"
     ]
    },
    {
     "name": "stdout",
     "output_type": "stream",
     "text": [
      "new epoc\n",
      "new epoc\n",
      "new epoc\n",
      "new epoc\n",
      "[0.5681818181818182, 0.5227272727272727, 0.5227272727272727, 0.45454545454545453, 0.5116279069767442]\n",
      "new epoc\n"
     ]
    },
    {
     "name": "stderr",
     "output_type": "stream",
     "text": [
      "/Users/akihito/.pyenv/versions/3.8.5/lib/python3.8/site-packages/sklearn/model_selection/_split.py:293: FutureWarning: Setting a random_state has no effect since shuffle is False. This will raise an error in 0.24. You should leave random_state to its default (None), or set shuffle=True.\n",
      "  warnings.warn(\n"
     ]
    },
    {
     "name": "stdout",
     "output_type": "stream",
     "text": [
      "new epoc\n",
      "new epoc\n",
      "new epoc\n",
      "new epoc\n",
      "[0.5909090909090909, 0.4318181818181818, 0.6136363636363636, 0.4090909090909091, 0.5454545454545454]\n",
      "new epoc\n"
     ]
    },
    {
     "name": "stderr",
     "output_type": "stream",
     "text": [
      "/Users/akihito/.pyenv/versions/3.8.5/lib/python3.8/site-packages/sklearn/model_selection/_split.py:293: FutureWarning: Setting a random_state has no effect since shuffle is False. This will raise an error in 0.24. You should leave random_state to its default (None), or set shuffle=True.\n",
      "  warnings.warn(\n"
     ]
    },
    {
     "name": "stdout",
     "output_type": "stream",
     "text": [
      "new epoc\n",
      "new epoc\n",
      "new epoc\n",
      "new epoc\n",
      "[0.5333333333333333, 0.3409090909090909, 0.5, 0.5454545454545454, 0.5681818181818182]\n",
      "new epoc\n"
     ]
    },
    {
     "name": "stderr",
     "output_type": "stream",
     "text": [
      "/Users/akihito/.pyenv/versions/3.8.5/lib/python3.8/site-packages/sklearn/model_selection/_split.py:293: FutureWarning: Setting a random_state has no effect since shuffle is False. This will raise an error in 0.24. You should leave random_state to its default (None), or set shuffle=True.\n",
      "  warnings.warn(\n"
     ]
    },
    {
     "name": "stdout",
     "output_type": "stream",
     "text": [
      "new epoc\n",
      "new epoc\n",
      "new epoc\n",
      "new epoc\n",
      "[0.4888888888888889, 0.5111111111111111, 0.4772727272727273, 0.4090909090909091, 0.5909090909090909]\n",
      "new epoc\n"
     ]
    },
    {
     "name": "stderr",
     "output_type": "stream",
     "text": [
      "/Users/akihito/.pyenv/versions/3.8.5/lib/python3.8/site-packages/sklearn/model_selection/_split.py:293: FutureWarning: Setting a random_state has no effect since shuffle is False. This will raise an error in 0.24. You should leave random_state to its default (None), or set shuffle=True.\n",
      "  warnings.warn(\n"
     ]
    },
    {
     "name": "stdout",
     "output_type": "stream",
     "text": [
      "new epoc\n",
      "new epoc\n",
      "new epoc\n",
      "new epoc\n",
      "[0.4444444444444444, 0.5111111111111111, 0.4666666666666667, 0.5227272727272727, 0.5454545454545454]\n",
      "new epoc\n"
     ]
    },
    {
     "name": "stderr",
     "output_type": "stream",
     "text": [
      "/Users/akihito/.pyenv/versions/3.8.5/lib/python3.8/site-packages/sklearn/model_selection/_split.py:293: FutureWarning: Setting a random_state has no effect since shuffle is False. This will raise an error in 0.24. You should leave random_state to its default (None), or set shuffle=True.\n",
      "  warnings.warn(\n"
     ]
    },
    {
     "name": "stdout",
     "output_type": "stream",
     "text": [
      "new epoc\n",
      "new epoc\n",
      "new epoc\n",
      "new epoc\n",
      "[0.6222222222222222, 0.4222222222222222, 0.4666666666666667, 0.4222222222222222, 0.4772727272727273]\n",
      "new epoc\n"
     ]
    },
    {
     "name": "stderr",
     "output_type": "stream",
     "text": [
      "/Users/akihito/.pyenv/versions/3.8.5/lib/python3.8/site-packages/sklearn/model_selection/_split.py:293: FutureWarning: Setting a random_state has no effect since shuffle is False. This will raise an error in 0.24. You should leave random_state to its default (None), or set shuffle=True.\n",
      "  warnings.warn(\n"
     ]
    },
    {
     "name": "stdout",
     "output_type": "stream",
     "text": [
      "new epoc\n",
      "new epoc\n",
      "new epoc\n",
      "new epoc\n",
      "[0.6, 0.37777777777777777, 0.5111111111111111, 0.4222222222222222, 0.4444444444444444]\n",
      "new epoc\n"
     ]
    },
    {
     "name": "stderr",
     "output_type": "stream",
     "text": [
      "/Users/akihito/.pyenv/versions/3.8.5/lib/python3.8/site-packages/sklearn/model_selection/_split.py:293: FutureWarning: Setting a random_state has no effect since shuffle is False. This will raise an error in 0.24. You should leave random_state to its default (None), or set shuffle=True.\n",
      "  warnings.warn(\n"
     ]
    },
    {
     "name": "stdout",
     "output_type": "stream",
     "text": [
      "new epoc\n",
      "new epoc\n",
      "new epoc\n",
      "new epoc\n",
      "[0.4782608695652174, 0.4, 0.5333333333333333, 0.4, 0.4888888888888889]\n",
      "new epoc\n"
     ]
    },
    {
     "name": "stderr",
     "output_type": "stream",
     "text": [
      "/Users/akihito/.pyenv/versions/3.8.5/lib/python3.8/site-packages/sklearn/model_selection/_split.py:293: FutureWarning: Setting a random_state has no effect since shuffle is False. This will raise an error in 0.24. You should leave random_state to its default (None), or set shuffle=True.\n",
      "  warnings.warn(\n"
     ]
    },
    {
     "name": "stdout",
     "output_type": "stream",
     "text": [
      "new epoc\n",
      "new epoc\n",
      "new epoc\n",
      "new epoc\n",
      "[0.5652173913043478, 0.5217391304347826, 0.5111111111111111, 0.5777777777777777, 0.5111111111111111]\n",
      "new epoc\n"
     ]
    },
    {
     "name": "stderr",
     "output_type": "stream",
     "text": [
      "/Users/akihito/.pyenv/versions/3.8.5/lib/python3.8/site-packages/sklearn/model_selection/_split.py:293: FutureWarning: Setting a random_state has no effect since shuffle is False. This will raise an error in 0.24. You should leave random_state to its default (None), or set shuffle=True.\n",
      "  warnings.warn(\n"
     ]
    },
    {
     "name": "stdout",
     "output_type": "stream",
     "text": [
      "new epoc\n",
      "new epoc\n",
      "new epoc\n",
      "new epoc\n",
      "[0.5434782608695652, 0.5434782608695652, 0.5652173913043478, 0.5777777777777777, 0.5555555555555556]\n",
      "new epoc\n"
     ]
    },
    {
     "name": "stderr",
     "output_type": "stream",
     "text": [
      "/Users/akihito/.pyenv/versions/3.8.5/lib/python3.8/site-packages/sklearn/model_selection/_split.py:293: FutureWarning: Setting a random_state has no effect since shuffle is False. This will raise an error in 0.24. You should leave random_state to its default (None), or set shuffle=True.\n",
      "  warnings.warn(\n"
     ]
    },
    {
     "name": "stdout",
     "output_type": "stream",
     "text": [
      "new epoc\n",
      "new epoc\n",
      "new epoc\n",
      "new epoc\n",
      "[0.5652173913043478, 0.5652173913043478, 0.5869565217391305, 0.4782608695652174, 0.5333333333333333]\n",
      "new epoc\n"
     ]
    },
    {
     "name": "stderr",
     "output_type": "stream",
     "text": [
      "/Users/akihito/.pyenv/versions/3.8.5/lib/python3.8/site-packages/sklearn/model_selection/_split.py:293: FutureWarning: Setting a random_state has no effect since shuffle is False. This will raise an error in 0.24. You should leave random_state to its default (None), or set shuffle=True.\n",
      "  warnings.warn(\n"
     ]
    },
    {
     "name": "stdout",
     "output_type": "stream",
     "text": [
      "new epoc\n",
      "new epoc\n",
      "new epoc\n",
      "new epoc\n",
      "[0.6304347826086957, 0.5434782608695652, 0.5434782608695652, 0.5, 0.43478260869565216]\n",
      "new epoc\n"
     ]
    },
    {
     "name": "stderr",
     "output_type": "stream",
     "text": [
      "/Users/akihito/.pyenv/versions/3.8.5/lib/python3.8/site-packages/sklearn/model_selection/_split.py:293: FutureWarning: Setting a random_state has no effect since shuffle is False. This will raise an error in 0.24. You should leave random_state to its default (None), or set shuffle=True.\n",
      "  warnings.warn(\n"
     ]
    },
    {
     "name": "stdout",
     "output_type": "stream",
     "text": [
      "new epoc\n",
      "new epoc\n",
      "new epoc\n",
      "new epoc\n",
      "[0.6382978723404256, 0.5434782608695652, 0.5217391304347826, 0.5, 0.45652173913043476]\n",
      "new epoc\n"
     ]
    },
    {
     "name": "stderr",
     "output_type": "stream",
     "text": [
      "/Users/akihito/.pyenv/versions/3.8.5/lib/python3.8/site-packages/sklearn/model_selection/_split.py:293: FutureWarning: Setting a random_state has no effect since shuffle is False. This will raise an error in 0.24. You should leave random_state to its default (None), or set shuffle=True.\n",
      "  warnings.warn(\n"
     ]
    },
    {
     "name": "stdout",
     "output_type": "stream",
     "text": [
      "new epoc\n",
      "new epoc\n",
      "new epoc\n",
      "new epoc\n",
      "[0.6382978723404256, 0.5106382978723404, 0.5434782608695652, 0.5217391304347826, 0.41304347826086957]\n",
      "new epoc\n"
     ]
    },
    {
     "name": "stderr",
     "output_type": "stream",
     "text": [
      "/Users/akihito/.pyenv/versions/3.8.5/lib/python3.8/site-packages/sklearn/model_selection/_split.py:293: FutureWarning: Setting a random_state has no effect since shuffle is False. This will raise an error in 0.24. You should leave random_state to its default (None), or set shuffle=True.\n",
      "  warnings.warn(\n"
     ]
    },
    {
     "name": "stdout",
     "output_type": "stream",
     "text": [
      "new epoc\n",
      "new epoc\n",
      "new epoc\n",
      "new epoc\n",
      "[0.5957446808510638, 0.5531914893617021, 0.5319148936170213, 0.5217391304347826, 0.45652173913043476]\n",
      "new epoc\n"
     ]
    },
    {
     "name": "stderr",
     "output_type": "stream",
     "text": [
      "/Users/akihito/.pyenv/versions/3.8.5/lib/python3.8/site-packages/sklearn/model_selection/_split.py:293: FutureWarning: Setting a random_state has no effect since shuffle is False. This will raise an error in 0.24. You should leave random_state to its default (None), or set shuffle=True.\n",
      "  warnings.warn(\n"
     ]
    },
    {
     "name": "stdout",
     "output_type": "stream",
     "text": [
      "new epoc\n",
      "new epoc\n",
      "new epoc\n",
      "new epoc\n",
      "[0.574468085106383, 0.5531914893617021, 0.44680851063829785, 0.574468085106383, 0.41304347826086957]\n",
      "new epoc\n"
     ]
    },
    {
     "name": "stderr",
     "output_type": "stream",
     "text": [
      "/Users/akihito/.pyenv/versions/3.8.5/lib/python3.8/site-packages/sklearn/model_selection/_split.py:293: FutureWarning: Setting a random_state has no effect since shuffle is False. This will raise an error in 0.24. You should leave random_state to its default (None), or set shuffle=True.\n",
      "  warnings.warn(\n"
     ]
    },
    {
     "name": "stdout",
     "output_type": "stream",
     "text": [
      "new epoc\n",
      "new epoc\n",
      "new epoc\n",
      "new epoc\n",
      "[0.5957446808510638, 0.5531914893617021, 0.5957446808510638, 0.574468085106383, 0.425531914893617]\n",
      "new epoc\n"
     ]
    },
    {
     "name": "stderr",
     "output_type": "stream",
     "text": [
      "/Users/akihito/.pyenv/versions/3.8.5/lib/python3.8/site-packages/sklearn/model_selection/_split.py:293: FutureWarning: Setting a random_state has no effect since shuffle is False. This will raise an error in 0.24. You should leave random_state to its default (None), or set shuffle=True.\n",
      "  warnings.warn(\n"
     ]
    },
    {
     "name": "stdout",
     "output_type": "stream",
     "text": [
      "new epoc\n",
      "new epoc\n",
      "new epoc\n",
      "new epoc\n",
      "[0.625, 0.6595744680851063, 0.5957446808510638, 0.5957446808510638, 0.5106382978723404]\n",
      "new epoc\n"
     ]
    },
    {
     "name": "stderr",
     "output_type": "stream",
     "text": [
      "/Users/akihito/.pyenv/versions/3.8.5/lib/python3.8/site-packages/sklearn/model_selection/_split.py:293: FutureWarning: Setting a random_state has no effect since shuffle is False. This will raise an error in 0.24. You should leave random_state to its default (None), or set shuffle=True.\n",
      "  warnings.warn(\n"
     ]
    },
    {
     "name": "stdout",
     "output_type": "stream",
     "text": [
      "new epoc\n",
      "new epoc\n",
      "new epoc\n",
      "new epoc\n",
      "[0.6458333333333334, 0.625, 0.48936170212765956, 0.5319148936170213, 0.5106382978723404]\n",
      "new epoc\n"
     ]
    },
    {
     "name": "stderr",
     "output_type": "stream",
     "text": [
      "/Users/akihito/.pyenv/versions/3.8.5/lib/python3.8/site-packages/sklearn/model_selection/_split.py:293: FutureWarning: Setting a random_state has no effect since shuffle is False. This will raise an error in 0.24. You should leave random_state to its default (None), or set shuffle=True.\n",
      "  warnings.warn(\n"
     ]
    },
    {
     "name": "stdout",
     "output_type": "stream",
     "text": [
      "new epoc\n",
      "new epoc\n",
      "new epoc\n",
      "new epoc\n",
      "[0.5208333333333334, 0.625, 0.5416666666666666, 0.5319148936170213, 0.44680851063829785]\n",
      "new epoc\n"
     ]
    },
    {
     "name": "stderr",
     "output_type": "stream",
     "text": [
      "/Users/akihito/.pyenv/versions/3.8.5/lib/python3.8/site-packages/sklearn/model_selection/_split.py:293: FutureWarning: Setting a random_state has no effect since shuffle is False. This will raise an error in 0.24. You should leave random_state to its default (None), or set shuffle=True.\n",
      "  warnings.warn(\n"
     ]
    },
    {
     "name": "stdout",
     "output_type": "stream",
     "text": [
      "new epoc\n",
      "new epoc\n",
      "new epoc\n",
      "new epoc\n",
      "[0.7083333333333334, 0.6458333333333334, 0.5625, 0.5, 0.5319148936170213]\n",
      "new epoc\n"
     ]
    },
    {
     "name": "stderr",
     "output_type": "stream",
     "text": [
      "/Users/akihito/.pyenv/versions/3.8.5/lib/python3.8/site-packages/sklearn/model_selection/_split.py:293: FutureWarning: Setting a random_state has no effect since shuffle is False. This will raise an error in 0.24. You should leave random_state to its default (None), or set shuffle=True.\n",
      "  warnings.warn(\n"
     ]
    },
    {
     "name": "stdout",
     "output_type": "stream",
     "text": [
      "new epoc\n",
      "new epoc\n",
      "new epoc\n",
      "new epoc\n",
      "[0.5833333333333334, 0.5833333333333334, 0.625, 0.5833333333333334, 0.4583333333333333]\n",
      "new epoc\n"
     ]
    },
    {
     "name": "stderr",
     "output_type": "stream",
     "text": [
      "/Users/akihito/.pyenv/versions/3.8.5/lib/python3.8/site-packages/sklearn/model_selection/_split.py:293: FutureWarning: Setting a random_state has no effect since shuffle is False. This will raise an error in 0.24. You should leave random_state to its default (None), or set shuffle=True.\n",
      "  warnings.warn(\n"
     ]
    },
    {
     "name": "stdout",
     "output_type": "stream",
     "text": [
      "new epoc\n",
      "new epoc\n",
      "new epoc\n",
      "new epoc\n",
      "[0.673469387755102, 0.625, 0.5416666666666666, 0.5, 0.5833333333333334]\n",
      "new epoc\n"
     ]
    },
    {
     "name": "stderr",
     "output_type": "stream",
     "text": [
      "/Users/akihito/.pyenv/versions/3.8.5/lib/python3.8/site-packages/sklearn/model_selection/_split.py:293: FutureWarning: Setting a random_state has no effect since shuffle is False. This will raise an error in 0.24. You should leave random_state to its default (None), or set shuffle=True.\n",
      "  warnings.warn(\n"
     ]
    },
    {
     "name": "stdout",
     "output_type": "stream",
     "text": [
      "new epoc\n",
      "new epoc\n",
      "new epoc\n",
      "new epoc\n",
      "[0.6938775510204082, 0.5510204081632653, 0.5416666666666666, 0.4791666666666667, 0.5416666666666666]\n",
      "new epoc\n"
     ]
    },
    {
     "name": "stderr",
     "output_type": "stream",
     "text": [
      "/Users/akihito/.pyenv/versions/3.8.5/lib/python3.8/site-packages/sklearn/model_selection/_split.py:293: FutureWarning: Setting a random_state has no effect since shuffle is False. This will raise an error in 0.24. You should leave random_state to its default (None), or set shuffle=True.\n",
      "  warnings.warn(\n"
     ]
    },
    {
     "name": "stdout",
     "output_type": "stream",
     "text": [
      "new epoc\n",
      "new epoc\n",
      "new epoc\n",
      "new epoc\n",
      "[0.6122448979591837, 0.6326530612244898, 0.40816326530612246, 0.5, 0.5625]\n",
      "new epoc\n"
     ]
    },
    {
     "name": "stderr",
     "output_type": "stream",
     "text": [
      "/Users/akihito/.pyenv/versions/3.8.5/lib/python3.8/site-packages/sklearn/model_selection/_split.py:293: FutureWarning: Setting a random_state has no effect since shuffle is False. This will raise an error in 0.24. You should leave random_state to its default (None), or set shuffle=True.\n",
      "  warnings.warn(\n"
     ]
    },
    {
     "name": "stdout",
     "output_type": "stream",
     "text": [
      "new epoc\n",
      "new epoc\n",
      "new epoc\n",
      "new epoc\n",
      "[0.6122448979591837, 0.5714285714285714, 0.4489795918367347, 0.4897959183673469, 0.5416666666666666]\n",
      "new epoc\n"
     ]
    },
    {
     "name": "stderr",
     "output_type": "stream",
     "text": [
      "/Users/akihito/.pyenv/versions/3.8.5/lib/python3.8/site-packages/sklearn/model_selection/_split.py:293: FutureWarning: Setting a random_state has no effect since shuffle is False. This will raise an error in 0.24. You should leave random_state to its default (None), or set shuffle=True.\n",
      "  warnings.warn(\n"
     ]
    },
    {
     "name": "stdout",
     "output_type": "stream",
     "text": [
      "new epoc\n",
      "new epoc\n",
      "new epoc\n",
      "new epoc\n",
      "[0.5918367346938775, 0.6122448979591837, 0.5102040816326531, 0.3877551020408163, 0.5306122448979592]\n",
      "new epoc\n"
     ]
    },
    {
     "name": "stderr",
     "output_type": "stream",
     "text": [
      "/Users/akihito/.pyenv/versions/3.8.5/lib/python3.8/site-packages/sklearn/model_selection/_split.py:293: FutureWarning: Setting a random_state has no effect since shuffle is False. This will raise an error in 0.24. You should leave random_state to its default (None), or set shuffle=True.\n",
      "  warnings.warn(\n"
     ]
    },
    {
     "name": "stdout",
     "output_type": "stream",
     "text": [
      "new epoc\n",
      "new epoc\n",
      "new epoc\n",
      "new epoc\n",
      "[0.58, 0.5714285714285714, 0.5510204081632653, 0.4897959183673469, 0.4897959183673469]\n",
      "new epoc\n"
     ]
    },
    {
     "name": "stderr",
     "output_type": "stream",
     "text": [
      "/Users/akihito/.pyenv/versions/3.8.5/lib/python3.8/site-packages/sklearn/model_selection/_split.py:293: FutureWarning: Setting a random_state has no effect since shuffle is False. This will raise an error in 0.24. You should leave random_state to its default (None), or set shuffle=True.\n",
      "  warnings.warn(\n"
     ]
    },
    {
     "name": "stdout",
     "output_type": "stream",
     "text": [
      "new epoc\n",
      "new epoc\n",
      "new epoc\n",
      "new epoc\n",
      "[0.54, 0.56, 0.5918367346938775, 0.3673469387755102, 0.5918367346938775]\n",
      "new epoc\n"
     ]
    },
    {
     "name": "stderr",
     "output_type": "stream",
     "text": [
      "/Users/akihito/.pyenv/versions/3.8.5/lib/python3.8/site-packages/sklearn/model_selection/_split.py:293: FutureWarning: Setting a random_state has no effect since shuffle is False. This will raise an error in 0.24. You should leave random_state to its default (None), or set shuffle=True.\n",
      "  warnings.warn(\n"
     ]
    },
    {
     "name": "stdout",
     "output_type": "stream",
     "text": [
      "new epoc\n",
      "new epoc\n",
      "new epoc\n",
      "new epoc\n",
      "[0.64, 0.58, 0.54, 0.42857142857142855, 0.6530612244897959]\n",
      "new epoc\n"
     ]
    },
    {
     "name": "stderr",
     "output_type": "stream",
     "text": [
      "/Users/akihito/.pyenv/versions/3.8.5/lib/python3.8/site-packages/sklearn/model_selection/_split.py:293: FutureWarning: Setting a random_state has no effect since shuffle is False. This will raise an error in 0.24. You should leave random_state to its default (None), or set shuffle=True.\n",
      "  warnings.warn(\n"
     ]
    },
    {
     "name": "stdout",
     "output_type": "stream",
     "text": [
      "new epoc\n",
      "new epoc\n",
      "new epoc\n",
      "new epoc\n",
      "[0.48, 0.62, 0.52, 0.44, 0.5510204081632653]\n",
      "new epoc\n"
     ]
    },
    {
     "name": "stderr",
     "output_type": "stream",
     "text": [
      "/Users/akihito/.pyenv/versions/3.8.5/lib/python3.8/site-packages/sklearn/model_selection/_split.py:293: FutureWarning: Setting a random_state has no effect since shuffle is False. This will raise an error in 0.24. You should leave random_state to its default (None), or set shuffle=True.\n",
      "  warnings.warn(\n"
     ]
    },
    {
     "name": "stdout",
     "output_type": "stream",
     "text": [
      "new epoc\n",
      "new epoc\n",
      "new epoc\n",
      "new epoc\n",
      "[0.56, 0.54, 0.6, 0.44, 0.48]\n",
      "new epoc\n"
     ]
    },
    {
     "name": "stderr",
     "output_type": "stream",
     "text": [
      "/Users/akihito/.pyenv/versions/3.8.5/lib/python3.8/site-packages/sklearn/model_selection/_split.py:293: FutureWarning: Setting a random_state has no effect since shuffle is False. This will raise an error in 0.24. You should leave random_state to its default (None), or set shuffle=True.\n",
      "  warnings.warn(\n"
     ]
    },
    {
     "name": "stdout",
     "output_type": "stream",
     "text": [
      "new epoc\n",
      "new epoc\n",
      "new epoc\n",
      "new epoc\n",
      "[0.5490196078431373, 0.58, 0.58, 0.38, 0.56]\n",
      "new epoc\n"
     ]
    },
    {
     "name": "stderr",
     "output_type": "stream",
     "text": [
      "/Users/akihito/.pyenv/versions/3.8.5/lib/python3.8/site-packages/sklearn/model_selection/_split.py:293: FutureWarning: Setting a random_state has no effect since shuffle is False. This will raise an error in 0.24. You should leave random_state to its default (None), or set shuffle=True.\n",
      "  warnings.warn(\n"
     ]
    },
    {
     "name": "stdout",
     "output_type": "stream",
     "text": [
      "new epoc\n",
      "new epoc\n",
      "new epoc\n",
      "new epoc\n",
      "[0.49019607843137253, 0.6078431372549019, 0.52, 0.44, 0.48]\n",
      "new epoc\n"
     ]
    },
    {
     "name": "stderr",
     "output_type": "stream",
     "text": [
      "/Users/akihito/.pyenv/versions/3.8.5/lib/python3.8/site-packages/sklearn/model_selection/_split.py:293: FutureWarning: Setting a random_state has no effect since shuffle is False. This will raise an error in 0.24. You should leave random_state to its default (None), or set shuffle=True.\n",
      "  warnings.warn(\n"
     ]
    },
    {
     "name": "stdout",
     "output_type": "stream",
     "text": [
      "new epoc\n",
      "new epoc\n",
      "new epoc\n",
      "new epoc\n",
      "[0.6274509803921569, 0.6274509803921569, 0.47058823529411764, 0.46, 0.44]\n",
      "new epoc\n"
     ]
    },
    {
     "name": "stderr",
     "output_type": "stream",
     "text": [
      "/Users/akihito/.pyenv/versions/3.8.5/lib/python3.8/site-packages/sklearn/model_selection/_split.py:293: FutureWarning: Setting a random_state has no effect since shuffle is False. This will raise an error in 0.24. You should leave random_state to its default (None), or set shuffle=True.\n",
      "  warnings.warn(\n"
     ]
    },
    {
     "name": "stdout",
     "output_type": "stream",
     "text": [
      "new epoc\n",
      "new epoc\n",
      "new epoc\n",
      "new epoc\n",
      "[0.5882352941176471, 0.5882352941176471, 0.49019607843137253, 0.47058823529411764, 0.42]\n",
      "new epoc\n"
     ]
    },
    {
     "name": "stderr",
     "output_type": "stream",
     "text": [
      "/Users/akihito/.pyenv/versions/3.8.5/lib/python3.8/site-packages/sklearn/model_selection/_split.py:293: FutureWarning: Setting a random_state has no effect since shuffle is False. This will raise an error in 0.24. You should leave random_state to its default (None), or set shuffle=True.\n",
      "  warnings.warn(\n"
     ]
    },
    {
     "name": "stdout",
     "output_type": "stream",
     "text": [
      "new epoc\n",
      "new epoc\n",
      "new epoc\n",
      "new epoc\n",
      "[0.5686274509803921, 0.5882352941176471, 0.5294117647058824, 0.5294117647058824, 0.47058823529411764]\n",
      "new epoc\n"
     ]
    },
    {
     "name": "stderr",
     "output_type": "stream",
     "text": [
      "/Users/akihito/.pyenv/versions/3.8.5/lib/python3.8/site-packages/sklearn/model_selection/_split.py:293: FutureWarning: Setting a random_state has no effect since shuffle is False. This will raise an error in 0.24. You should leave random_state to its default (None), or set shuffle=True.\n",
      "  warnings.warn(\n"
     ]
    },
    {
     "name": "stdout",
     "output_type": "stream",
     "text": [
      "new epoc\n",
      "new epoc\n",
      "new epoc\n",
      "new epoc\n",
      "[0.6153846153846154, 0.5686274509803921, 0.47058823529411764, 0.5686274509803921, 0.49019607843137253]\n",
      "new epoc\n"
     ]
    },
    {
     "name": "stderr",
     "output_type": "stream",
     "text": [
      "/Users/akihito/.pyenv/versions/3.8.5/lib/python3.8/site-packages/sklearn/model_selection/_split.py:293: FutureWarning: Setting a random_state has no effect since shuffle is False. This will raise an error in 0.24. You should leave random_state to its default (None), or set shuffle=True.\n",
      "  warnings.warn(\n"
     ]
    },
    {
     "name": "stdout",
     "output_type": "stream",
     "text": [
      "new epoc\n",
      "new epoc\n",
      "new epoc\n",
      "new epoc\n",
      "[0.6346153846153846, 0.5961538461538461, 0.47058823529411764, 0.5098039215686274, 0.5098039215686274]\n",
      "new epoc\n"
     ]
    },
    {
     "name": "stderr",
     "output_type": "stream",
     "text": [
      "/Users/akihito/.pyenv/versions/3.8.5/lib/python3.8/site-packages/sklearn/model_selection/_split.py:293: FutureWarning: Setting a random_state has no effect since shuffle is False. This will raise an error in 0.24. You should leave random_state to its default (None), or set shuffle=True.\n",
      "  warnings.warn(\n"
     ]
    },
    {
     "name": "stdout",
     "output_type": "stream",
     "text": [
      "new epoc\n",
      "new epoc\n",
      "new epoc\n",
      "new epoc\n",
      "[0.6923076923076923, 0.5961538461538461, 0.5, 0.49019607843137253, 0.5294117647058824]\n",
      "new epoc\n"
     ]
    },
    {
     "name": "stderr",
     "output_type": "stream",
     "text": [
      "/Users/akihito/.pyenv/versions/3.8.5/lib/python3.8/site-packages/sklearn/model_selection/_split.py:293: FutureWarning: Setting a random_state has no effect since shuffle is False. This will raise an error in 0.24. You should leave random_state to its default (None), or set shuffle=True.\n",
      "  warnings.warn(\n"
     ]
    },
    {
     "name": "stdout",
     "output_type": "stream",
     "text": [
      "new epoc\n",
      "new epoc\n",
      "new epoc\n",
      "new epoc\n",
      "[0.6730769230769231, 0.5384615384615384, 0.5, 0.5192307692307693, 0.5490196078431373]\n",
      "new epoc\n"
     ]
    },
    {
     "name": "stderr",
     "output_type": "stream",
     "text": [
      "/Users/akihito/.pyenv/versions/3.8.5/lib/python3.8/site-packages/sklearn/model_selection/_split.py:293: FutureWarning: Setting a random_state has no effect since shuffle is False. This will raise an error in 0.24. You should leave random_state to its default (None), or set shuffle=True.\n",
      "  warnings.warn(\n"
     ]
    },
    {
     "name": "stdout",
     "output_type": "stream",
     "text": [
      "new epoc\n",
      "new epoc\n",
      "new epoc\n"
     ]
    }
   ],
   "source": [
    "\n",
    "\n",
    "v_acc_li = list()\n",
    "for i in range(200,420,1):\n",
    "    print(i)\n",
    "    v_acc = learning(X_data[0:i],y[0:i])\n",
    "    v_acc_li.append(v_acc)\n",
    "    print(np.mean(v_acc))"
   ]
  },
  {
   "cell_type": "code",
   "execution_count": 20,
   "metadata": {},
   "outputs": [
    {
     "data": {
      "text/plain": [
       "(14, 5)"
      ]
     },
     "execution_count": 20,
     "metadata": {},
     "output_type": "execute_result"
    }
   ],
   "source": [
    "np.shape(v_acc_li)"
   ]
  },
  {
   "cell_type": "code",
   "execution_count": 21,
   "metadata": {},
   "outputs": [],
   "source": [
    "v_li = list()\n",
    "for i in range(np.shape(v_acc_li)[0]):\n",
    "    v_li.append(np.average(v_acc_li[i]))"
   ]
  },
  {
   "cell_type": "code",
   "execution_count": 22,
   "metadata": {},
   "outputs": [
    {
     "data": {
      "image/png": "[encoded data removed]",
      "text/plain": [
       "<Figure size 432x288 with 1 Axes>"
      ]
     },
     "metadata": {
      "needs_background": "light"
     },
     "output_type": "display_data"
    }
   ],
   "source": [
    "#学習曲線\n",
    "def oresen(v_arr):\n",
    "    x = np.array(range(200,480,20))\n",
    "    plt.plot(x,v_arr,label=\"validation acc\")\n",
    "    plt.xlabel(\"Number of Data\", fontsize=10) # x軸ラベル\n",
    "    plt.ylabel(\"Accuracy\", fontsize=10) # y軸ラベル\n",
    "    plt.show\n",
    "oresen(v_li)"
   ]
  },
  {
   "cell_type": "code",
   "execution_count": 12,
   "metadata": {},
   "outputs": [
    {
     "data": {
      "text/html": [
       "<div>\n",
       "<style scoped>\n",
       "    .dataframe tbody tr th:only-of-type {\n",
       "        vertical-align: middle;\n",
       "    }\n",
       "\n",
       "    .dataframe tbody tr th {\n",
       "        vertical-align: top;\n",
       "    }\n",
       "\n",
       "    .dataframe thead th {\n",
       "        text-align: right;\n",
       "    }\n",
       "</style>\n",
       "<table border=\"1\" class=\"dataframe\">\n",
       "  <thead>\n",
       "    <tr style=\"text-align: right;\">\n",
       "      <th></th>\n",
       "      <th>class_a</th>\n",
       "      <th>class_b</th>\n",
       "      <th>relation</th>\n",
       "      <th>type</th>\n",
       "      <th>title</th>\n",
       "      <th>source</th>\n",
       "      <th>sim_by_mcg</th>\n",
       "      <th>is_a_by_mcg</th>\n",
       "      <th>lexvec_sim</th>\n",
       "      <th>wiki2vec_sim</th>\n",
       "      <th>...</th>\n",
       "      <th>wn_sim_res</th>\n",
       "      <th>wn_sim_jcn</th>\n",
       "      <th>wn_sim_lin</th>\n",
       "      <th>has_same_word</th>\n",
       "      <th>is_include_word</th>\n",
       "      <th>bert_sim</th>\n",
       "      <th>lexvec_diff</th>\n",
       "      <th>wiki2vec_diff</th>\n",
       "      <th>bert_diff</th>\n",
       "      <th>relation_label</th>\n",
       "    </tr>\n",
       "  </thead>\n",
       "  <tbody>\n",
       "    <tr>\n",
       "      <th>0</th>\n",
       "      <td>database</td>\n",
       "      <td>account_data</td>\n",
       "      <td>s2</td>\n",
       "      <td>analyse</td>\n",
       "      <td>hotel_system_2</td>\n",
       "      <td>me</td>\n",
       "      <td>3.534273</td>\n",
       "      <td>0.000000</td>\n",
       "      <td>0.405864</td>\n",
       "      <td>0.346269</td>\n",
       "      <td>...</td>\n",
       "      <td>0.596229</td>\n",
       "      <td>6.662405e-02</td>\n",
       "      <td>0.073590</td>\n",
       "      <td>0.0</td>\n",
       "      <td>0.0</td>\n",
       "      <td>0.975332</td>\n",
       "      <td>[-0.036442, -0.018730499, -0.1123145, 0.012019...</td>\n",
       "      <td>[-0.18761757, -0.17080823, 0.24713495, -0.0983...</td>\n",
       "      <td>[0.13206336, 0.08027546, -0.01357232, 0.097821...</td>\n",
       "      <td>4</td>\n",
       "    </tr>\n",
       "    <tr>\n",
       "      <th>1</th>\n",
       "      <td>person</td>\n",
       "      <td>engineer</td>\n",
       "      <td>h2</td>\n",
       "      <td>sample</td>\n",
       "      <td>person_sample</td>\n",
       "      <td>uml_essence</td>\n",
       "      <td>0.512964</td>\n",
       "      <td>0.000000</td>\n",
       "      <td>0.157687</td>\n",
       "      <td>0.175974</td>\n",
       "      <td>...</td>\n",
       "      <td>2.333545</td>\n",
       "      <td>1.482017e-01</td>\n",
       "      <td>0.408868</td>\n",
       "      <td>0.0</td>\n",
       "      <td>0.0</td>\n",
       "      <td>0.950714</td>\n",
       "      <td>[-0.033822004, 0.224855, 0.131755, 0.120946, 0...</td>\n",
       "      <td>[0.21936254, -0.4605171, -0.23989259, -0.05583...</td>\n",
       "      <td>[0.17486125, -0.12277912, 0.016683146, 0.00407...</td>\n",
       "      <td>1</td>\n",
       "    </tr>\n",
       "    <tr>\n",
       "      <th>2</th>\n",
       "      <td>room</td>\n",
       "      <td>hotel</td>\n",
       "      <td>s1</td>\n",
       "      <td>analyse</td>\n",
       "      <td>hotel_system_1</td>\n",
       "      <td>me</td>\n",
       "      <td>7.378811</td>\n",
       "      <td>0.000000</td>\n",
       "      <td>0.417745</td>\n",
       "      <td>0.509585</td>\n",
       "      <td>...</td>\n",
       "      <td>3.979366</td>\n",
       "      <td>1.717812e-01</td>\n",
       "      <td>0.577553</td>\n",
       "      <td>0.0</td>\n",
       "      <td>0.0</td>\n",
       "      <td>0.960316</td>\n",
       "      <td>[0.053974997, -0.032351002, -0.045882, -0.0481...</td>\n",
       "      <td>[0.037616193, -0.10273511, 0.34396562, -0.0807...</td>\n",
       "      <td>[-0.027719725, -0.08040908, -0.08696404, -0.12...</td>\n",
       "      <td>3</td>\n",
       "    </tr>\n",
       "    <tr>\n",
       "      <th>3</th>\n",
       "      <td>faculty</td>\n",
       "      <td>user</td>\n",
       "      <td>h1</td>\n",
       "      <td>analyse</td>\n",
       "      <td>LibraryManagement</td>\n",
       "      <td>creately</td>\n",
       "      <td>11.385117</td>\n",
       "      <td>1.369863</td>\n",
       "      <td>0.154328</td>\n",
       "      <td>0.219077</td>\n",
       "      <td>...</td>\n",
       "      <td>0.000000</td>\n",
       "      <td>5.974787e-02</td>\n",
       "      <td>0.000000</td>\n",
       "      <td>0.0</td>\n",
       "      <td>0.0</td>\n",
       "      <td>0.928322</td>\n",
       "      <td>[0.139304, -0.053229, 0.060622998, 0.20652899,...</td>\n",
       "      <td>[0.23291591, -0.18394254, 0.1913892, 0.2211001...</td>\n",
       "      <td>[0.062448516, 0.054628707, 0.18125094, 0.18381...</td>\n",
       "      <td>0</td>\n",
       "    </tr>\n",
       "    <tr>\n",
       "      <th>4</th>\n",
       "      <td>shopping_interface</td>\n",
       "      <td>shopping_basket</td>\n",
       "      <td>k</td>\n",
       "      <td>analyse</td>\n",
       "      <td>shopping_system_1</td>\n",
       "      <td>me</td>\n",
       "      <td>6.990688</td>\n",
       "      <td>0.000000</td>\n",
       "      <td>0.311641</td>\n",
       "      <td>0.375615</td>\n",
       "      <td>...</td>\n",
       "      <td>2.721860</td>\n",
       "      <td>2.500000e+299</td>\n",
       "      <td>0.263146</td>\n",
       "      <td>1.0</td>\n",
       "      <td>0.0</td>\n",
       "      <td>0.999606</td>\n",
       "      <td>[0.032425, 0.098516494, -0.004016001, -0.02850...</td>\n",
       "      <td>[0.048278242, 0.048625052, 0.15299311, -0.0851...</td>\n",
       "      <td>[0.10029155, 0.1657108, -0.094794154, 0.032674...</td>\n",
       "      <td>2</td>\n",
       "    </tr>\n",
       "    <tr>\n",
       "      <th>...</th>\n",
       "      <td>...</td>\n",
       "      <td>...</td>\n",
       "      <td>...</td>\n",
       "      <td>...</td>\n",
       "      <td>...</td>\n",
       "      <td>...</td>\n",
       "      <td>...</td>\n",
       "      <td>...</td>\n",
       "      <td>...</td>\n",
       "      <td>...</td>\n",
       "      <td>...</td>\n",
       "      <td>...</td>\n",
       "      <td>...</td>\n",
       "      <td>...</td>\n",
       "      <td>...</td>\n",
       "      <td>...</td>\n",
       "      <td>...</td>\n",
       "      <td>...</td>\n",
       "      <td>...</td>\n",
       "      <td>...</td>\n",
       "      <td>...</td>\n",
       "    </tr>\n",
       "    <tr>\n",
       "      <th>442</th>\n",
       "      <td>handle</td>\n",
       "      <td>bike</td>\n",
       "      <td>s1</td>\n",
       "      <td>sample</td>\n",
       "      <td>my_sample</td>\n",
       "      <td>my_samplebook</td>\n",
       "      <td>1.148567</td>\n",
       "      <td>0.000000</td>\n",
       "      <td>0.119371</td>\n",
       "      <td>0.220769</td>\n",
       "      <td>...</td>\n",
       "      <td>1.290026</td>\n",
       "      <td>6.910597e-02</td>\n",
       "      <td>0.151318</td>\n",
       "      <td>0.0</td>\n",
       "      <td>0.0</td>\n",
       "      <td>0.950408</td>\n",
       "      <td>[-0.117424004, -0.055494003, -0.094823994, 0.0...</td>\n",
       "      <td>[0.2453539, 0.36670452, 0.3836474, 0.12040296,...</td>\n",
       "      <td>[0.09088758, 0.19013377, 0.006556943, -0.18327...</td>\n",
       "      <td>3</td>\n",
       "    </tr>\n",
       "    <tr>\n",
       "      <th>443</th>\n",
       "      <td>product</td>\n",
       "      <td>cart</td>\n",
       "      <td>s1</td>\n",
       "      <td>analyse</td>\n",
       "      <td>SGC</td>\n",
       "      <td>creately</td>\n",
       "      <td>1.694795</td>\n",
       "      <td>0.000000</td>\n",
       "      <td>0.219243</td>\n",
       "      <td>0.166445</td>\n",
       "      <td>...</td>\n",
       "      <td>2.305849</td>\n",
       "      <td>8.203741e-02</td>\n",
       "      <td>0.274485</td>\n",
       "      <td>0.0</td>\n",
       "      <td>0.0</td>\n",
       "      <td>0.915146</td>\n",
       "      <td>[0.121877, 0.098452, -0.118272, -0.171242, -0....</td>\n",
       "      <td>[-0.009305939, -0.110634476, 0.39814562, 0.032...</td>\n",
       "      <td>[0.43876037, 0.09942454, 0.108824804, 0.090954...</td>\n",
       "      <td>3</td>\n",
       "    </tr>\n",
       "    <tr>\n",
       "      <th>444</th>\n",
       "      <td>school</td>\n",
       "      <td>teacher</td>\n",
       "      <td>s2</td>\n",
       "      <td>sample</td>\n",
       "      <td>web</td>\n",
       "      <td>web</td>\n",
       "      <td>1.364386</td>\n",
       "      <td>0.000000</td>\n",
       "      <td>0.575455</td>\n",
       "      <td>0.562681</td>\n",
       "      <td>...</td>\n",
       "      <td>0.000000</td>\n",
       "      <td>6.150305e-02</td>\n",
       "      <td>0.000000</td>\n",
       "      <td>0.0</td>\n",
       "      <td>0.0</td>\n",
       "      <td>0.984469</td>\n",
       "      <td>[0.009508, -0.016981997, 0.0015270002, -0.0198...</td>\n",
       "      <td>[-0.03143651, 0.19860527, -0.58186024, -0.1225...</td>\n",
       "      <td>[0.02113305, 0.040494874, 0.061956123, 0.13061...</td>\n",
       "      <td>4</td>\n",
       "    </tr>\n",
       "    <tr>\n",
       "      <th>445</th>\n",
       "      <td>payment</td>\n",
       "      <td>order</td>\n",
       "      <td>k</td>\n",
       "      <td>analyse</td>\n",
       "      <td>monika</td>\n",
       "      <td>creately</td>\n",
       "      <td>10.558469</td>\n",
       "      <td>0.000000</td>\n",
       "      <td>0.298259</td>\n",
       "      <td>0.223843</td>\n",
       "      <td>...</td>\n",
       "      <td>0.596229</td>\n",
       "      <td>6.920586e-02</td>\n",
       "      <td>0.076234</td>\n",
       "      <td>0.0</td>\n",
       "      <td>0.0</td>\n",
       "      <td>0.971519</td>\n",
       "      <td>[-0.040382, -0.084792, 0.007971998, -0.074694,...</td>\n",
       "      <td>[0.046864808, -0.053633504, -0.17013626, -0.03...</td>\n",
       "      <td>[4.0111203, 5.091501, -3.080672, 3.6644988, 6....</td>\n",
       "      <td>2</td>\n",
       "    </tr>\n",
       "    <tr>\n",
       "      <th>446</th>\n",
       "      <td>book</td>\n",
       "      <td>user</td>\n",
       "      <td>k</td>\n",
       "      <td>analyse</td>\n",
       "      <td>LibraryManagement</td>\n",
       "      <td>creately</td>\n",
       "      <td>6.788755</td>\n",
       "      <td>0.000000</td>\n",
       "      <td>0.057559</td>\n",
       "      <td>0.229853</td>\n",
       "      <td>...</td>\n",
       "      <td>1.531834</td>\n",
       "      <td>8.510716e-02</td>\n",
       "      <td>0.206815</td>\n",
       "      <td>0.0</td>\n",
       "      <td>0.0</td>\n",
       "      <td>0.950350</td>\n",
       "      <td>[0.17993501, -0.102454, -0.017502002, 0.041026...</td>\n",
       "      <td>[0.5486378, 0.0798739, -0.011283338, 0.6685087...</td>\n",
       "      <td>[-0.20011649, -0.19759545, 0.1622397, 0.097432...</td>\n",
       "      <td>2</td>\n",
       "    </tr>\n",
       "  </tbody>\n",
       "</table>\n",
       "<p>447 rows × 27 columns</p>\n",
       "</div>"
      ],
      "text/plain": [
       "                class_a          class_b relation     type              title  \\\n",
       "0              database     account_data       s2  analyse     hotel_system_2   \n",
       "1                person         engineer       h2   sample      person_sample   \n",
       "2                  room            hotel       s1  analyse     hotel_system_1   \n",
       "3               faculty             user       h1  analyse  LibraryManagement   \n",
       "4    shopping_interface  shopping_basket        k  analyse  shopping_system_1   \n",
       "..                  ...              ...      ...      ...                ...   \n",
       "442              handle             bike       s1   sample          my_sample   \n",
       "443             product             cart       s1  analyse                SGC   \n",
       "444              school          teacher       s2   sample                web   \n",
       "445             payment            order        k  analyse             monika   \n",
       "446                book             user        k  analyse  LibraryManagement   \n",
       "\n",
       "            source  sim_by_mcg  is_a_by_mcg  lexvec_sim  wiki2vec_sim  ...  \\\n",
       "0               me    3.534273     0.000000    0.405864      0.346269  ...   \n",
       "1      uml_essence    0.512964     0.000000    0.157687      0.175974  ...   \n",
       "2               me    7.378811     0.000000    0.417745      0.509585  ...   \n",
       "3         creately   11.385117     1.369863    0.154328      0.219077  ...   \n",
       "4               me    6.990688     0.000000    0.311641      0.375615  ...   \n",
       "..             ...         ...          ...         ...           ...  ...   \n",
       "442  my_samplebook    1.148567     0.000000    0.119371      0.220769  ...   \n",
       "443       creately    1.694795     0.000000    0.219243      0.166445  ...   \n",
       "444            web    1.364386     0.000000    0.575455      0.562681  ...   \n",
       "445       creately   10.558469     0.000000    0.298259      0.223843  ...   \n",
       "446       creately    6.788755     0.000000    0.057559      0.229853  ...   \n",
       "\n",
       "     wn_sim_res     wn_sim_jcn  wn_sim_lin  has_same_word  is_include_word  \\\n",
       "0      0.596229   6.662405e-02    0.073590            0.0              0.0   \n",
       "1      2.333545   1.482017e-01    0.408868            0.0              0.0   \n",
       "2      3.979366   1.717812e-01    0.577553            0.0              0.0   \n",
       "3      0.000000   5.974787e-02    0.000000            0.0              0.0   \n",
       "4      2.721860  2.500000e+299    0.263146            1.0              0.0   \n",
       "..          ...            ...         ...            ...              ...   \n",
       "442    1.290026   6.910597e-02    0.151318            0.0              0.0   \n",
       "443    2.305849   8.203741e-02    0.274485            0.0              0.0   \n",
       "444    0.000000   6.150305e-02    0.000000            0.0              0.0   \n",
       "445    0.596229   6.920586e-02    0.076234            0.0              0.0   \n",
       "446    1.531834   8.510716e-02    0.206815            0.0              0.0   \n",
       "\n",
       "     bert_sim                                        lexvec_diff  \\\n",
       "0    0.975332  [-0.036442, -0.018730499, -0.1123145, 0.012019...   \n",
       "1    0.950714  [-0.033822004, 0.224855, 0.131755, 0.120946, 0...   \n",
       "2    0.960316  [0.053974997, -0.032351002, -0.045882, -0.0481...   \n",
       "3    0.928322  [0.139304, -0.053229, 0.060622998, 0.20652899,...   \n",
       "4    0.999606  [0.032425, 0.098516494, -0.004016001, -0.02850...   \n",
       "..        ...                                                ...   \n",
       "442  0.950408  [-0.117424004, -0.055494003, -0.094823994, 0.0...   \n",
       "443  0.915146  [0.121877, 0.098452, -0.118272, -0.171242, -0....   \n",
       "444  0.984469  [0.009508, -0.016981997, 0.0015270002, -0.0198...   \n",
       "445  0.971519  [-0.040382, -0.084792, 0.007971998, -0.074694,...   \n",
       "446  0.950350  [0.17993501, -0.102454, -0.017502002, 0.041026...   \n",
       "\n",
       "                                         wiki2vec_diff  \\\n",
       "0    [-0.18761757, -0.17080823, 0.24713495, -0.0983...   \n",
       "1    [0.21936254, -0.4605171, -0.23989259, -0.05583...   \n",
       "2    [0.037616193, -0.10273511, 0.34396562, -0.0807...   \n",
       "3    [0.23291591, -0.18394254, 0.1913892, 0.2211001...   \n",
       "4    [0.048278242, 0.048625052, 0.15299311, -0.0851...   \n",
       "..                                                 ...   \n",
       "442  [0.2453539, 0.36670452, 0.3836474, 0.12040296,...   \n",
       "443  [-0.009305939, -0.110634476, 0.39814562, 0.032...   \n",
       "444  [-0.03143651, 0.19860527, -0.58186024, -0.1225...   \n",
       "445  [0.046864808, -0.053633504, -0.17013626, -0.03...   \n",
       "446  [0.5486378, 0.0798739, -0.011283338, 0.6685087...   \n",
       "\n",
       "                                             bert_diff  relation_label  \n",
       "0    [0.13206336, 0.08027546, -0.01357232, 0.097821...               4  \n",
       "1    [0.17486125, -0.12277912, 0.016683146, 0.00407...               1  \n",
       "2    [-0.027719725, -0.08040908, -0.08696404, -0.12...               3  \n",
       "3    [0.062448516, 0.054628707, 0.18125094, 0.18381...               0  \n",
       "4    [0.10029155, 0.1657108, -0.094794154, 0.032674...               2  \n",
       "..                                                 ...             ...  \n",
       "442  [0.09088758, 0.19013377, 0.006556943, -0.18327...               3  \n",
       "443  [0.43876037, 0.09942454, 0.108824804, 0.090954...               3  \n",
       "444  [0.02113305, 0.040494874, 0.061956123, 0.13061...               4  \n",
       "445  [4.0111203, 5.091501, -3.080672, 3.6644988, 6....               2  \n",
       "446  [-0.20011649, -0.19759545, 0.1622397, 0.097432...               2  \n",
       "\n",
       "[447 rows x 27 columns]"
      ]
     },
     "execution_count": 12,
     "metadata": {},
     "output_type": "execute_result"
    }
   ],
   "source": [
    "data"
   ]
  },
  {
   "cell_type": "code",
   "execution_count": null,
   "metadata": {},
   "outputs": [],
   "source": [
    "label = [\"whole\",\"hanka1\", \"hanka2\", \"kanren\", \"syuyaku1\", \"syuyaku2\"]\n",
    "left=[1,2,3,4,5,6]\n",
    "right=[0.68,0.81,0.83,0.61,0.67,0.53]\n",
    "plt.ylabel(\"y axis\")\n",
    "plt.bar(left, height, tick_label=label, align=\"center\")"
   ]
  },
  {
   "cell_type": "code",
   "execution_count": null,
   "metadata": {},
   "outputs": [],
   "source": []
  }
 ],
 "metadata": {
  "kernelspec": {
   "display_name": "Python 3",
   "language": "python",
   "name": "python3"
  },
  "language_info": {
   "codemirror_mode": {
    "name": "ipython",
    "version": 3
   },
   "file_extension": ".py",
   "mimetype": "text/x-python",
   "name": "python",
   "nbconvert_exporter": "python",
   "pygments_lexer": "ipython3",
   "version": "3.8.5"
  }
 },
 "nbformat": 4,
 "nbformat_minor": 4
}
