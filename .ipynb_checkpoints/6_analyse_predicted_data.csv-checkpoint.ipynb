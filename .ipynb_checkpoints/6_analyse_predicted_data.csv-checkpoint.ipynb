{
 "cells": [
  {
   "cell_type": "code",
   "execution_count": 11,
   "metadata": {},
   "outputs": [],
   "source": [
    "import numpy as np\n",
    "import pandas as pd\n",
    "import matplotlib.pyplot as plt"
   ]
  },
  {
   "cell_type": "code",
   "execution_count": 12,
   "metadata": {},
   "outputs": [],
   "source": [
    "data = pd.read_csv(\"3_predicted_data.csv\")"
   ]
  },
  {
   "cell_type": "code",
   "execution_count": 13,
   "metadata": {},
   "outputs": [
    {
     "name": "stdout",
     "output_type": "stream",
     "text": [
      "<class 'pandas.core.frame.DataFrame'>\n",
      "RangeIndex: 425 entries, 0 to 424\n",
      "Data columns (total 36 columns):\n",
      " #   Column           Non-Null Count  Dtype  \n",
      "---  ------           --------------  -----  \n",
      " 0   Unnamed: 0.1     425 non-null    int64  \n",
      " 1   class_a          425 non-null    object \n",
      " 2   class_b          425 non-null    object \n",
      " 3   relation         425 non-null    object \n",
      " 4   ans_yamasaki     425 non-null    int64  \n",
      " 5   ans_ueda         425 non-null    int64  \n",
      " 6   ans_daisuke      425 non-null    int64  \n",
      " 7   ans_hosomi       425 non-null    int64  \n",
      " 8   ans_kazuma       425 non-null    int64  \n",
      " 9   ans_sugi         425 non-null    int64  \n",
      " 10  type             425 non-null    object \n",
      " 11  title            425 non-null    object \n",
      " 12  source           425 non-null    object \n",
      " 13  sim_by_mcg       425 non-null    float64\n",
      " 14  is_a_by_mcg      425 non-null    float64\n",
      " 15  lexvec_sim       425 non-null    float64\n",
      " 16  wiki2vec_sim     425 non-null    float64\n",
      " 17  wn_hu_average    425 non-null    float64\n",
      " 18  wn_pu_average    425 non-null    float64\n",
      " 19  wn_hu_best       425 non-null    float64\n",
      " 20  wn_pu_best       425 non-null    float64\n",
      " 21  wn_sim_path      425 non-null    float64\n",
      " 22  wn_sim_lch       425 non-null    float64\n",
      " 23  wn_sim_wup       425 non-null    float64\n",
      " 24  wn_sim_res       425 non-null    float64\n",
      " 25  wn_sim_jcn       425 non-null    float64\n",
      " 26  wn_sim_lin       425 non-null    float64\n",
      " 27  has_same_word    425 non-null    float64\n",
      " 28  is_include_word  425 non-null    float64\n",
      " 29  bert_sim         425 non-null    float64\n",
      " 30  lexvec_diff      425 non-null    object \n",
      " 31  wiki2vec_diff    425 non-null    object \n",
      " 32  bert_diff        425 non-null    object \n",
      " 33  relation_label   425 non-null    int64  \n",
      " 34  perd_label       425 non-null    int64  \n",
      " 35  pred_label       425 non-null    int64  \n",
      "dtypes: float64(17), int64(10), object(9)\n",
      "memory usage: 119.7+ KB\n"
     ]
    }
   ],
   "source": [
    "data.info()"
   ]
  },
  {
   "cell_type": "code",
   "execution_count": 14,
   "metadata": {},
   "outputs": [],
   "source": [
    "data[\"is_correct\"] = data.apply(lambda x : x[\"pred_label\"] == x[\"relation_label\"], axis=1)"
   ]
  },
  {
   "cell_type": "code",
   "execution_count": 15,
   "metadata": {},
   "outputs": [
    {
     "data": {
      "text/plain": [
       "276"
      ]
     },
     "execution_count": 15,
     "metadata": {},
     "output_type": "execute_result"
    }
   ],
   "source": [
    "sum(data[\"is_correct\"]==True)"
   ]
  },
  {
   "cell_type": "code",
   "execution_count": null,
   "metadata": {},
   "outputs": [],
   "source": []
  },
  {
   "cell_type": "code",
   "execution_count": 24,
   "metadata": {},
   "outputs": [
    {
     "data": {
      "image/png": "[encoded data removed]",
      "text/plain": [
       "<Figure size 432x288 with 1 Axes>"
      ]
     },
     "metadata": {
      "needs_background": "light"
     },
     "output_type": "display_data"
    }
   ],
   "source": [
    "def plot_type_distribution(data):\n",
    "    type_labels = data[\"type\"].unique()\n",
    "    correct_data = data[data[\"is_correct\"]==True]\n",
    "    incorrect_data = data[data[\"is_correct\"]==False]\n",
    "    correct = list()\n",
    "    whole = list()\n",
    "    for label in type_labels:\n",
    "        correct.append(sum(correct_data[\"type\"]==label))\n",
    "        whole.append(sum(data[\"type\"]==label))\n",
    "    whole_bar = plt.bar(type_labels,whole,color=\"tomato\")\n",
    "    correct_bar = plt.bar(type_labels, correct, color=\"royalblue\")\n",
    "    plt.legend((whole_bar[0], correct_bar[0]), ( \"incorrect_data\",\"correct_data\"))\n",
    "plot_type_distribution(data)"
   ]
  },
  {
   "cell_type": "code",
   "execution_count": 8,
   "metadata": {},
   "outputs": [
    {
     "data": {
      "image/png": "[encoded data removed]",
      "text/plain": [
       "<Figure size 432x288 with 1 Axes>"
      ]
     },
     "metadata": {
      "needs_background": "light"
     },
     "output_type": "display_data"
    }
   ],
   "source": [
    "def plot_type_distribution(data):\n",
    "    type_labels = data[\"source\"].unique()\n",
    "    correct_data = data[data[\"is_correct\"]==True]\n",
    "    incorrect_data = data[data[\"is_correct\"]==False]\n",
    "    correct = list()\n",
    "    incorrect = list()\n",
    "    for label in type_labels:\n",
    "        correct.append(sum(correct_data[\"source\"]==label))\n",
    "        incorrect.append(sum(incorrect_data[\"source\"]==label))\n",
    "    p1 = plt.bar(type_labels, correct, color=\"tomato\")\n",
    "    p2 = plt.bar(type_labels, incorrect, color=\"royalblue\")\n",
    "    plt.xticks(rotation=90)\n",
    "    plt.legend((p1[0], p2[0]), (\"correct_data\", \"incorrect_data\"))\n",
    "plot_type_distribution(data)"
   ]
  },
  {
   "cell_type": "code",
   "execution_count": 10,
   "metadata": {},
   "outputs": [
    {
     "data": {
      "image/png": "[encoded data removed]",
      "text/plain": [
       "<Figure size 432x288 with 1 Axes>"
      ]
     },
     "metadata": {
      "needs_background": "light"
     },
     "output_type": "display_data"
    }
   ],
   "source": [
    "def plot_type_distribution2(data):\n",
    "    type_labels = data[\"type\"].unique()\n",
    "    data[\"ans_correct\"] = data.apply(lambda x : x[\"ans_sugi\"] == x[\"relation_label\"], axis=1)\n",
    "    correct_data = data[data[\"ans_correct\"]==True]\n",
    "    incorrect_data = data[data[\"ans_correct\"]==False]\n",
    "    correct = list()\n",
    "    incorrect = list()\n",
    "    for label in type_labels:\n",
    "        correct.append(sum(correct_data[\"type\"]==label))\n",
    "        incorrect.append(sum(incorrect_data[\"type\"]==label))\n",
    "    p1 = plt.bar(type_labels, correct, color=\"royalblue\")\n",
    "    p2 = plt.bar(type_labels, incorrect, color=\"tomato\")\n",
    "    plt.legend((p1[0], p2[0]), (\"correct_data\", \"incorrect_data\"))\n",
    "plot_type_distribution2(data)\n"
   ]
  },
  {
   "cell_type": "code",
   "execution_count": null,
   "metadata": {},
   "outputs": [],
   "source": []
  }
 ],
 "metadata": {
  "kernelspec": {
   "display_name": "Python 3",
   "language": "python",
   "name": "python3"
  },
  "language_info": {
   "codemirror_mode": {
    "name": "ipython",
    "version": 3
   },
   "file_extension": ".py",
   "mimetype": "text/x-python",
   "name": "python",
   "nbconvert_exporter": "python",
   "pygments_lexer": "ipython3",
   "version": "3.8.5"
  }
 },
 "nbformat": 4,
 "nbformat_minor": 4
}
