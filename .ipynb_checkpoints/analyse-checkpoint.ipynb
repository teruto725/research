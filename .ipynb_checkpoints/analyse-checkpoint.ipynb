{
 "cells": [
  {
   "cell_type": "code",
   "execution_count": 17,
   "metadata": {},
   "outputs": [],
   "source": [
    "import numpy as np\n",
    "import pandas as pd\n",
    "import matplotlib.pyplot as plt\n",
    "import gensim\n"
   ]
  },
  {
   "cell_type": "code",
   "execution_count": 4,
   "metadata": {},
   "outputs": [],
   "source": [
    "data = pd.read_csv(\"dataset_relation_inc.csv\")"
   ]
  },
  {
   "cell_type": "code",
   "execution_count": 5,
   "metadata": {},
   "outputs": [],
   "source": [
    "data = data.loc[:,[\"class_a\",\"class_b\",\"relation\"]]"
   ]
  },
  {
   "cell_type": "code",
   "execution_count": 6,
   "metadata": {},
   "outputs": [
    {
     "data": {
      "text/html": [
       "<div>\n",
       "<style scoped>\n",
       "    .dataframe tbody tr th:only-of-type {\n",
       "        vertical-align: middle;\n",
       "    }\n",
       "\n",
       "    .dataframe tbody tr th {\n",
       "        vertical-align: top;\n",
       "    }\n",
       "\n",
       "    .dataframe thead th {\n",
       "        text-align: right;\n",
       "    }\n",
       "</style>\n",
       "<table border=\"1\" class=\"dataframe\">\n",
       "  <thead>\n",
       "    <tr style=\"text-align: right;\">\n",
       "      <th></th>\n",
       "      <th>class_a</th>\n",
       "      <th>class_b</th>\n",
       "      <th>relation</th>\n",
       "    </tr>\n",
       "  </thead>\n",
       "  <tbody>\n",
       "    <tr>\n",
       "      <th>0</th>\n",
       "      <td>merchant</td>\n",
       "      <td>commodity</td>\n",
       "      <td>s2</td>\n",
       "    </tr>\n",
       "    <tr>\n",
       "      <th>1</th>\n",
       "      <td>customer</td>\n",
       "      <td>merchant</td>\n",
       "      <td>k</td>\n",
       "    </tr>\n",
       "    <tr>\n",
       "      <th>2</th>\n",
       "      <td>commodity</td>\n",
       "      <td>merchant</td>\n",
       "      <td>s1</td>\n",
       "    </tr>\n",
       "    <tr>\n",
       "      <th>3</th>\n",
       "      <td>merchant</td>\n",
       "      <td>administrator</td>\n",
       "      <td>k</td>\n",
       "    </tr>\n",
       "    <tr>\n",
       "      <th>4</th>\n",
       "      <td>customer</td>\n",
       "      <td>administrator</td>\n",
       "      <td>k</td>\n",
       "    </tr>\n",
       "    <tr>\n",
       "      <th>...</th>\n",
       "      <td>...</td>\n",
       "      <td>...</td>\n",
       "      <td>...</td>\n",
       "    </tr>\n",
       "    <tr>\n",
       "      <th>857</th>\n",
       "      <td>bar_block</td>\n",
       "      <td>L_shape_block</td>\n",
       "      <td>n</td>\n",
       "    </tr>\n",
       "    <tr>\n",
       "      <th>858</th>\n",
       "      <td>L_shape_block</td>\n",
       "      <td>board</td>\n",
       "      <td>n</td>\n",
       "    </tr>\n",
       "    <tr>\n",
       "      <th>859</th>\n",
       "      <td>L_shape_block</td>\n",
       "      <td>Z_shape_block</td>\n",
       "      <td>n</td>\n",
       "    </tr>\n",
       "    <tr>\n",
       "      <th>860</th>\n",
       "      <td>Z_shape_block</td>\n",
       "      <td>board</td>\n",
       "      <td>n</td>\n",
       "    </tr>\n",
       "    <tr>\n",
       "      <th>861</th>\n",
       "      <td>airplane</td>\n",
       "      <td>car</td>\n",
       "      <td>n</td>\n",
       "    </tr>\n",
       "  </tbody>\n",
       "</table>\n",
       "<p>862 rows × 3 columns</p>\n",
       "</div>"
      ],
      "text/plain": [
       "           class_a        class_b relation\n",
       "0         merchant      commodity       s2\n",
       "1         customer       merchant        k\n",
       "2        commodity       merchant       s1\n",
       "3         merchant  administrator        k\n",
       "4         customer  administrator        k\n",
       "..             ...            ...      ...\n",
       "857      bar_block  L_shape_block        n\n",
       "858  L_shape_block          board        n\n",
       "859  L_shape_block  Z_shape_block        n\n",
       "860  Z_shape_block          board        n\n",
       "861       airplane            car        n\n",
       "\n",
       "[862 rows x 3 columns]"
      ]
     },
     "execution_count": 6,
     "metadata": {},
     "output_type": "execute_result"
    }
   ],
   "source": [
    "data"
   ]
  },
  {
   "cell_type": "code",
   "execution_count": 7,
   "metadata": {},
   "outputs": [
    {
     "data": {
      "text/plain": [
       "n     503\n",
       "k      87\n",
       "h2     74\n",
       "h1     74\n",
       "s1     62\n",
       "s2     62\n",
       "Name: relation, dtype: int64"
      ]
     },
     "execution_count": 7,
     "metadata": {},
     "output_type": "execute_result"
    }
   ],
   "source": [
    "data.loc[:,\"relation\"].value_counts()"
   ]
  },
  {
   "cell_type": "code",
   "execution_count": 8,
   "metadata": {},
   "outputs": [
    {
     "data": {
      "text/plain": [
       "113"
      ]
     },
     "execution_count": 8,
     "metadata": {},
     "output_type": "execute_result"
    }
   ],
   "source": [
    "sum(data.loc[:,'class_a'].str.contains('_'))"
   ]
  },
  {
   "cell_type": "code",
   "execution_count": 9,
   "metadata": {},
   "outputs": [
    {
     "data": {
      "text/plain": [
       "121"
      ]
     },
     "execution_count": 9,
     "metadata": {},
     "output_type": "execute_result"
    }
   ],
   "source": [
    "sum(data.loc[:,'class_b'].str.contains('_'))"
   ]
  },
  {
   "cell_type": "code",
   "execution_count": 10,
   "metadata": {},
   "outputs": [],
   "source": [
    "class Class():\n",
    "    def __init__(name):\n",
    "        self.name = name\n",
    "        "
   ]
  },
  {
   "cell_type": "code",
   "execution_count": 11,
   "metadata": {},
   "outputs": [],
   "source": [
    "#Microsoft Concept Graph\n",
    "import requests\n",
    "\n",
    "def get_dict_from_ms_api(word):\n",
    "    endpoint = \"https://concept.research.microsoft.com/api/Concept/ScoreByProb?instance=\"+word+\"&topK=30\"\n",
    "    result = requests.get(endpoint,verify=False).json()\n",
    "    return result\n",
    "\n",
    "\n",
    "def feature_is_a_by_ms(word_a,word_b):\n",
    "    di_a = get_dict_from_ms_api(word_a)\n",
    "    if word_b in di_a.keys():\n",
    "        return di_a[word_b]*100\n",
    "    else:\n",
    "        return 0\n",
    "\n",
    "def feature_sim_by_ms(word_a,word_b):\n",
    "    di_a = get_dict_from_ms_api(word_a)\n",
    "    di_b = get_dict_from_ms_api(word_b)\n",
    "    eva = 0\n",
    "    for key, value in di_a.items():\n",
    "        if key in di_b.keys():\n",
    "            print(key)\n",
    "            eva += 10 * (value + di_b[key])\n",
    "    return eva\n",
    "    \n",
    "        "
   ]
  },
  {
   "cell_type": "code",
   "execution_count": 14,
   "metadata": {},
   "outputs": [
    {
     "ename": "NameError",
     "evalue": "name 'requests' is not defined",
     "output_type": "error",
     "traceback": [
      "\u001b[0;31m---------------------------------------------------------------------------\u001b[0m",
      "\u001b[0;31mNameError\u001b[0m                                 Traceback (most recent call last)",
      "\u001b[0;32m<ipython-input-14-2397e70e5909>\u001b[0m in \u001b[0;36m<module>\u001b[0;34m\u001b[0m\n\u001b[0;32m----> 1\u001b[0;31m \u001b[0meva\u001b[0m \u001b[0;34m=\u001b[0m \u001b[0mfeature_sim_by_ms\u001b[0m\u001b[0;34m(\u001b[0m\u001b[0;34m\"customer\"\u001b[0m\u001b[0;34m,\u001b[0m\u001b[0;34m\"user\"\u001b[0m\u001b[0;34m)\u001b[0m\u001b[0;34m\u001b[0m\u001b[0;34m\u001b[0m\u001b[0m\n\u001b[0m\u001b[1;32m      2\u001b[0m \u001b[0mprint\u001b[0m\u001b[0;34m(\u001b[0m\u001b[0meva\u001b[0m\u001b[0;34m)\u001b[0m\u001b[0;34m\u001b[0m\u001b[0;34m\u001b[0m\u001b[0m\n",
      "\u001b[0;32m<ipython-input-11-4430c85385b8>\u001b[0m in \u001b[0;36mfeature_sim_by_ms\u001b[0;34m(word_a, word_b)\u001b[0m\n\u001b[1;32m     15\u001b[0m \u001b[0;34m\u001b[0m\u001b[0m\n\u001b[1;32m     16\u001b[0m \u001b[0;32mdef\u001b[0m \u001b[0mfeature_sim_by_ms\u001b[0m\u001b[0;34m(\u001b[0m\u001b[0mword_a\u001b[0m\u001b[0;34m,\u001b[0m\u001b[0mword_b\u001b[0m\u001b[0;34m)\u001b[0m\u001b[0;34m:\u001b[0m\u001b[0;34m\u001b[0m\u001b[0;34m\u001b[0m\u001b[0m\n\u001b[0;32m---> 17\u001b[0;31m     \u001b[0mdi_a\u001b[0m \u001b[0;34m=\u001b[0m \u001b[0mget_dict_from_ms_api\u001b[0m\u001b[0;34m(\u001b[0m\u001b[0mword_a\u001b[0m\u001b[0;34m)\u001b[0m\u001b[0;34m\u001b[0m\u001b[0;34m\u001b[0m\u001b[0m\n\u001b[0m\u001b[1;32m     18\u001b[0m     \u001b[0mdi_b\u001b[0m \u001b[0;34m=\u001b[0m \u001b[0mget_dict_from_ms_api\u001b[0m\u001b[0;34m(\u001b[0m\u001b[0mword_b\u001b[0m\u001b[0;34m)\u001b[0m\u001b[0;34m\u001b[0m\u001b[0;34m\u001b[0m\u001b[0m\n\u001b[1;32m     19\u001b[0m     \u001b[0meva\u001b[0m \u001b[0;34m=\u001b[0m \u001b[0;36m0\u001b[0m\u001b[0;34m\u001b[0m\u001b[0;34m\u001b[0m\u001b[0m\n",
      "\u001b[0;32m<ipython-input-11-4430c85385b8>\u001b[0m in \u001b[0;36mget_dict_from_ms_api\u001b[0;34m(word)\u001b[0m\n\u001b[1;32m      3\u001b[0m \u001b[0;32mdef\u001b[0m \u001b[0mget_dict_from_ms_api\u001b[0m\u001b[0;34m(\u001b[0m\u001b[0mword\u001b[0m\u001b[0;34m)\u001b[0m\u001b[0;34m:\u001b[0m\u001b[0;34m\u001b[0m\u001b[0;34m\u001b[0m\u001b[0m\n\u001b[1;32m      4\u001b[0m     \u001b[0mendpoint\u001b[0m \u001b[0;34m=\u001b[0m \u001b[0;34m\"https://concept.research.microsoft.com/api/Concept/ScoreByProb?instance=\"\u001b[0m\u001b[0;34m+\u001b[0m\u001b[0mword\u001b[0m\u001b[0;34m+\u001b[0m\u001b[0;34m\"&topK=30\"\u001b[0m\u001b[0;34m\u001b[0m\u001b[0;34m\u001b[0m\u001b[0m\n\u001b[0;32m----> 5\u001b[0;31m     \u001b[0mresult\u001b[0m \u001b[0;34m=\u001b[0m \u001b[0mrequests\u001b[0m\u001b[0;34m.\u001b[0m\u001b[0mget\u001b[0m\u001b[0;34m(\u001b[0m\u001b[0mendpoint\u001b[0m\u001b[0;34m,\u001b[0m\u001b[0mverify\u001b[0m\u001b[0;34m=\u001b[0m\u001b[0;32mFalse\u001b[0m\u001b[0;34m)\u001b[0m\u001b[0;34m.\u001b[0m\u001b[0mjson\u001b[0m\u001b[0;34m(\u001b[0m\u001b[0;34m)\u001b[0m\u001b[0;34m\u001b[0m\u001b[0;34m\u001b[0m\u001b[0m\n\u001b[0m\u001b[1;32m      6\u001b[0m     \u001b[0;32mreturn\u001b[0m \u001b[0mresult\u001b[0m\u001b[0;34m\u001b[0m\u001b[0;34m\u001b[0m\u001b[0m\n\u001b[1;32m      7\u001b[0m \u001b[0;34m\u001b[0m\u001b[0m\n",
      "\u001b[0;31mNameError\u001b[0m: name 'requests' is not defined"
     ]
    }
   ],
   "source": [
    "eva = feature_sim_by_ms(\"customer\",\"user\")\n",
    "print(eva)\n"
   ]
  },
  {
   "cell_type": "code",
   "execution_count": 15,
   "metadata": {},
   "outputs": [],
   "source": [
    "#lexvec のインポート\n",
    "import gensim\n",
    "import pprint\n",
    "\n",
    "PATH = './data/lexvec.commoncrawl.ngramsubwords.300d.W.pos.vectors'\n",
    "# DeprecationWarning: Deprecated. Use gensim.models.KeyedVectors.load_word2vec_format instead.\n",
    "#word_model = gensim.models.Word2Vec.load_word2vec_format(file, binary=False)\n",
    "w2v = gensim.models.KeyedVectors.load_word2vec_format(PATH)"
   ]
  },
  {
   "cell_type": "code",
   "execution_count": 16,
   "metadata": {},
   "outputs": [
    {
     "name": "stdout",
     "output_type": "stream",
     "text": [
      "1.0000001\n",
      "0.41526318\n"
     ]
    }
   ],
   "source": [
    "pprint.pprint(w2v.similarity('similarity', 'similarity')) # 1.0\n",
    "pprint.pprint(w2v.similarity('similarity', 'difference')) # 0.4674517"
   ]
  },
  {
   "cell_type": "code",
   "execution_count": 3,
   "metadata": {},
   "outputs": [],
   "source": [
    "\n",
    "from nltk.corpus import wordnet as wn\n",
    "from nltk.corpus import wordnet_ic"
   ]
  },
  {
   "cell_type": "code",
   "execution_count": 7,
   "metadata": {},
   "outputs": [],
   "source": [
    "brown_ic = wordnet_ic.ic('ic-brown.dat')"
   ]
  },
  {
   "cell_type": "code",
   "execution_count": 9,
   "metadata": {},
   "outputs": [
    {
     "name": "stderr",
     "output_type": "stream",
     "text": [
      "[nltk_data] Downloading package wordnet to /Users/akihito/nltk_data...\n",
      "[nltk_data]   Unzipping corpora/wordnet.zip.\n"
     ]
    },
    {
     "data": {
      "text/plain": [
       "True"
      ]
     },
     "execution_count": 9,
     "metadata": {},
     "output_type": "execute_result"
    }
   ],
   "source": [
    "import nltk\n",
    "nltk.download('wordnet')"
   ]
  },
  {
   "cell_type": "code",
   "execution_count": 12,
   "metadata": {},
   "outputs": [],
   "source": [
    "dog = wn.synset('dog.n.01')\n",
    "cat = wn.synset('cat.n.01')"
   ]
  },
  {
   "cell_type": "code",
   "execution_count": 15,
   "metadata": {},
   "outputs": [
    {
     "data": {
      "text/plain": [
       "7.911666509036577"
      ]
     },
     "execution_count": 15,
     "metadata": {},
     "output_type": "execute_result"
    }
   ],
   "source": [
    "dog.res_similarity(cat,brown_ic)"
   ]
  },
  {
   "cell_type": "code",
   "execution_count": 19,
   "metadata": {},
   "outputs": [
    {
     "ename": "UnicodeDecodeError",
     "evalue": "'utf-8' codec can't decode byte 0x80 in position 0: invalid start byte",
     "output_type": "error",
     "traceback": [
      "\u001b[0;31m---------------------------------------------------------------------------\u001b[0m",
      "\u001b[0;31mUnicodeDecodeError\u001b[0m                        Traceback (most recent call last)",
      "\u001b[0;32m<ipython-input-19-2d858e65154a>\u001b[0m in \u001b[0;36m<module>\u001b[0;34m\u001b[0m\n\u001b[1;32m      1\u001b[0m \u001b[0;31m#wiki\u001b[0m\u001b[0;34m\u001b[0m\u001b[0;34m\u001b[0m\u001b[0;34m\u001b[0m\u001b[0m\n\u001b[0;32m----> 2\u001b[0;31m \u001b[0mw2v_wiki\u001b[0m \u001b[0;34m=\u001b[0m \u001b[0mgensim\u001b[0m\u001b[0;34m.\u001b[0m\u001b[0mmodels\u001b[0m\u001b[0;34m.\u001b[0m\u001b[0mKeyedVectors\u001b[0m\u001b[0;34m.\u001b[0m\u001b[0mload_word2vec_format\u001b[0m\u001b[0;34m(\u001b[0m\u001b[0;34m\"./data/enwiki_20180420_300d.pkl\"\u001b[0m\u001b[0;34m)\u001b[0m\u001b[0;34m\u001b[0m\u001b[0;34m\u001b[0m\u001b[0m\n\u001b[0m",
      "\u001b[0;32m~/.pyenv/versions/3.8.5/lib/python3.8/site-packages/gensim/models/keyedvectors.py\u001b[0m in \u001b[0;36mload_word2vec_format\u001b[0;34m(cls, fname, fvocab, binary, encoding, unicode_errors, limit, datatype)\u001b[0m\n\u001b[1;32m   1545\u001b[0m         \"\"\"\n\u001b[1;32m   1546\u001b[0m         \u001b[0;31m# from gensim.models.word2vec import load_word2vec_format\u001b[0m\u001b[0;34m\u001b[0m\u001b[0;34m\u001b[0m\u001b[0;34m\u001b[0m\u001b[0m\n\u001b[0;32m-> 1547\u001b[0;31m         return _load_word2vec_format(\n\u001b[0m\u001b[1;32m   1548\u001b[0m             \u001b[0mcls\u001b[0m\u001b[0;34m,\u001b[0m \u001b[0mfname\u001b[0m\u001b[0;34m,\u001b[0m \u001b[0mfvocab\u001b[0m\u001b[0;34m=\u001b[0m\u001b[0mfvocab\u001b[0m\u001b[0;34m,\u001b[0m \u001b[0mbinary\u001b[0m\u001b[0;34m=\u001b[0m\u001b[0mbinary\u001b[0m\u001b[0;34m,\u001b[0m \u001b[0mencoding\u001b[0m\u001b[0;34m=\u001b[0m\u001b[0mencoding\u001b[0m\u001b[0;34m,\u001b[0m \u001b[0municode_errors\u001b[0m\u001b[0;34m=\u001b[0m\u001b[0municode_errors\u001b[0m\u001b[0;34m,\u001b[0m\u001b[0;34m\u001b[0m\u001b[0;34m\u001b[0m\u001b[0m\n\u001b[1;32m   1549\u001b[0m             limit=limit, datatype=datatype)\n",
      "\u001b[0;32m~/.pyenv/versions/3.8.5/lib/python3.8/site-packages/gensim/models/utils_any2vec.py\u001b[0m in \u001b[0;36m_load_word2vec_format\u001b[0;34m(cls, fname, fvocab, binary, encoding, unicode_errors, limit, datatype, binary_chunk_size)\u001b[0m\n\u001b[1;32m    274\u001b[0m     \u001b[0mlogger\u001b[0m\u001b[0;34m.\u001b[0m\u001b[0minfo\u001b[0m\u001b[0;34m(\u001b[0m\u001b[0;34m\"loading projection weights from %s\"\u001b[0m\u001b[0;34m,\u001b[0m \u001b[0mfname\u001b[0m\u001b[0;34m)\u001b[0m\u001b[0;34m\u001b[0m\u001b[0;34m\u001b[0m\u001b[0m\n\u001b[1;32m    275\u001b[0m     \u001b[0;32mwith\u001b[0m \u001b[0mutils\u001b[0m\u001b[0;34m.\u001b[0m\u001b[0mopen\u001b[0m\u001b[0;34m(\u001b[0m\u001b[0mfname\u001b[0m\u001b[0;34m,\u001b[0m \u001b[0;34m'rb'\u001b[0m\u001b[0;34m)\u001b[0m \u001b[0;32mas\u001b[0m \u001b[0mfin\u001b[0m\u001b[0;34m:\u001b[0m\u001b[0;34m\u001b[0m\u001b[0;34m\u001b[0m\u001b[0m\n\u001b[0;32m--> 276\u001b[0;31m         \u001b[0mheader\u001b[0m \u001b[0;34m=\u001b[0m \u001b[0mutils\u001b[0m\u001b[0;34m.\u001b[0m\u001b[0mto_unicode\u001b[0m\u001b[0;34m(\u001b[0m\u001b[0mfin\u001b[0m\u001b[0;34m.\u001b[0m\u001b[0mreadline\u001b[0m\u001b[0;34m(\u001b[0m\u001b[0;34m)\u001b[0m\u001b[0;34m,\u001b[0m \u001b[0mencoding\u001b[0m\u001b[0;34m=\u001b[0m\u001b[0mencoding\u001b[0m\u001b[0;34m)\u001b[0m\u001b[0;34m\u001b[0m\u001b[0;34m\u001b[0m\u001b[0m\n\u001b[0m\u001b[1;32m    277\u001b[0m         \u001b[0mvocab_size\u001b[0m\u001b[0;34m,\u001b[0m \u001b[0mvector_size\u001b[0m \u001b[0;34m=\u001b[0m \u001b[0;34m(\u001b[0m\u001b[0mint\u001b[0m\u001b[0;34m(\u001b[0m\u001b[0mx\u001b[0m\u001b[0;34m)\u001b[0m \u001b[0;32mfor\u001b[0m \u001b[0mx\u001b[0m \u001b[0;32min\u001b[0m \u001b[0mheader\u001b[0m\u001b[0;34m.\u001b[0m\u001b[0msplit\u001b[0m\u001b[0;34m(\u001b[0m\u001b[0;34m)\u001b[0m\u001b[0;34m)\u001b[0m  \u001b[0;31m# throws for invalid file format\u001b[0m\u001b[0;34m\u001b[0m\u001b[0;34m\u001b[0m\u001b[0m\n\u001b[1;32m    278\u001b[0m         \u001b[0;32mif\u001b[0m \u001b[0mlimit\u001b[0m\u001b[0;34m:\u001b[0m\u001b[0;34m\u001b[0m\u001b[0;34m\u001b[0m\u001b[0m\n",
      "\u001b[0;32m~/.pyenv/versions/3.8.5/lib/python3.8/site-packages/gensim/utils.py\u001b[0m in \u001b[0;36many2unicode\u001b[0;34m(text, encoding, errors)\u001b[0m\n\u001b[1;32m    366\u001b[0m     \u001b[0;32mif\u001b[0m \u001b[0misinstance\u001b[0m\u001b[0;34m(\u001b[0m\u001b[0mtext\u001b[0m\u001b[0;34m,\u001b[0m \u001b[0municode\u001b[0m\u001b[0;34m)\u001b[0m\u001b[0;34m:\u001b[0m\u001b[0;34m\u001b[0m\u001b[0;34m\u001b[0m\u001b[0m\n\u001b[1;32m    367\u001b[0m         \u001b[0;32mreturn\u001b[0m \u001b[0mtext\u001b[0m\u001b[0;34m\u001b[0m\u001b[0;34m\u001b[0m\u001b[0m\n\u001b[0;32m--> 368\u001b[0;31m     \u001b[0;32mreturn\u001b[0m \u001b[0municode\u001b[0m\u001b[0;34m(\u001b[0m\u001b[0mtext\u001b[0m\u001b[0;34m,\u001b[0m \u001b[0mencoding\u001b[0m\u001b[0;34m,\u001b[0m \u001b[0merrors\u001b[0m\u001b[0;34m=\u001b[0m\u001b[0merrors\u001b[0m\u001b[0;34m)\u001b[0m\u001b[0;34m\u001b[0m\u001b[0;34m\u001b[0m\u001b[0m\n\u001b[0m\u001b[1;32m    369\u001b[0m \u001b[0;34m\u001b[0m\u001b[0m\n\u001b[1;32m    370\u001b[0m \u001b[0;34m\u001b[0m\u001b[0m\n",
      "\u001b[0;31mUnicodeDecodeError\u001b[0m: 'utf-8' codec can't decode byte 0x80 in position 0: invalid start byte"
     ]
    }
   ],
   "source": [
    "#wiki\n",
    "w2v_wiki = gensim.models.KeyedVectors.load_word2vec_format(\"./data/enwiki_20180420_300d.pkl\")"
   ]
  },
  {
   "cell_type": "code",
   "execution_count": 23,
   "metadata": {},
   "outputs": [],
   "source": [
    "from wikipedia2vec import Wikipedia2Vec\n",
    "wiki2vec = Wikipedia2Vec.load(\"./data/enwiki_20180420_300d.pkl\")"
   ]
  },
  {
   "cell_type": "code",
   "execution_count": 36,
   "metadata": {},
   "outputs": [
    {
     "data": {
      "text/plain": [
       "memmap([-0.07688439,  0.10697018,  0.0248086 , -0.06368382,  0.01601184,\n",
       "        -0.24822266,  0.00190605, -0.04403089,  0.22668688,  0.2783353 ,\n",
       "        -0.22241558,  0.2605374 ,  0.00106491, -0.07828743, -0.04370715,\n",
       "        -0.3027092 , -0.357871  , -0.04499162,  0.23351753,  0.1034395 ,\n",
       "        -0.1251719 ,  0.15311214,  0.10991251,  0.10189853,  0.16495891,\n",
       "         0.02366893, -0.37457067, -0.19300614,  0.20627266, -0.4005253 ,\n",
       "        -0.00718457, -0.52340657, -0.29403687, -0.2867649 , -0.16386141,\n",
       "         0.20285505,  0.13270046, -0.3727086 , -0.00401368, -0.1711287 ,\n",
       "        -0.30727038,  0.10499043, -0.12303806, -0.07409652, -0.18113096,\n",
       "        -0.06271518, -0.3178413 ,  0.14804173,  0.15306795,  0.20486175,\n",
       "         0.24080037, -0.14264953, -0.7569918 ,  0.46491694,  0.17978393,\n",
       "         0.07712815, -0.16003178, -0.19031903,  0.12447603,  0.12697376,\n",
       "         0.25525287,  0.28822058,  0.02053623,  0.5219    , -0.16118553,\n",
       "         0.3451678 , -0.21184808,  0.08191723,  0.6064602 , -0.12543014,\n",
       "        -0.47827107,  0.15776561, -0.837435  ,  0.11990865,  0.20901956,\n",
       "         0.24364944, -0.15342516, -0.12096034,  0.11941282,  0.10677138,\n",
       "        -0.46847403,  0.08414282, -0.0430706 ,  0.06574186,  0.22732733,\n",
       "         0.2916697 ,  0.52526855,  0.11822326,  0.08742772, -0.06307351,\n",
       "        -0.21469703,  0.09306877,  0.00501705, -0.13989565, -0.27135384,\n",
       "         0.26660055, -0.06260768, -0.22897056, -0.08942578, -0.31399003,\n",
       "        -0.39525038, -0.10749602,  0.04334661, -0.40120542,  0.2808763 ,\n",
       "         0.0113204 , -0.13290489, -0.10657728,  0.10333224,  0.338129  ,\n",
       "        -0.17647818,  0.20573649,  0.20391195,  0.26610458,  0.28612664,\n",
       "        -0.07197169, -0.15569   ,  0.00997995,  0.0903172 ,  0.29804227,\n",
       "         0.1036865 ,  0.3547543 ,  0.00690802,  0.115214  , -0.24052304,\n",
       "        -0.38157842, -0.2615327 , -0.16751315, -0.23901084, -0.35533163,\n",
       "         0.37941533, -0.11709815, -0.13756053, -0.46097702,  0.03023951,\n",
       "         0.36000156,  0.05903274,  0.26007038,  0.06491882,  0.24228956,\n",
       "        -0.35192743, -0.02408303, -0.14688219,  0.20972356,  0.01293291,\n",
       "        -0.13132487,  0.5379732 ,  0.08215903,  0.14113814, -0.32502967,\n",
       "        -0.09834464,  0.09401922,  0.51952124,  0.09819579, -0.13270067,\n",
       "        -0.14898248,  0.23422691, -0.14820997,  0.03230822, -0.14246361,\n",
       "         0.1660361 ,  0.16037941,  0.04160367,  0.33846605,  0.01313946,\n",
       "         0.6452335 ,  0.36079192,  0.2697039 ,  0.21600077, -0.04134797,\n",
       "         0.3869682 ,  0.02393998,  0.11745702, -0.10231843,  0.12230494,\n",
       "         0.12371895,  0.16622826, -0.4343941 ,  0.06182059, -0.2415168 ,\n",
       "         0.294676  , -0.10361611,  0.11350151, -0.05980484,  0.31375784,\n",
       "         0.4107719 , -0.2796877 ,  0.21398969,  0.23252769, -0.05117348,\n",
       "         0.4864555 , -0.10362507, -0.058086  , -0.15476622,  0.27984622,\n",
       "         0.04677662, -0.03158627,  0.14481677, -0.03408644,  0.17525321,\n",
       "         0.36289102,  0.10000595, -0.08982252,  0.25529537, -0.30184942,\n",
       "        -0.11265665,  0.11952002, -0.12221125, -0.1248059 , -0.23960356,\n",
       "         0.05011297, -0.0297489 ,  0.17067415,  0.1536034 ,  0.11289839,\n",
       "         0.20751528,  0.22945087, -0.20013416,  0.09810993, -0.08311397,\n",
       "        -0.07256923, -0.19510935,  0.1021845 , -0.27905115, -0.24650514,\n",
       "         0.07246141,  0.7377066 , -0.16983724,  0.3558611 ,  0.2830291 ,\n",
       "        -0.19180602, -0.14998218,  0.29963014,  0.2538362 ,  0.09867162,\n",
       "        -0.02179487,  0.05072486, -0.13591065, -0.19614354,  0.01195341,\n",
       "        -0.247521  ,  0.1226016 , -0.2872369 ,  0.13469045, -0.31017977,\n",
       "         0.07117283,  0.28440657,  0.12444742,  0.37791035, -0.08032871,\n",
       "        -0.08341789,  0.332953  ,  0.43608963, -0.0735158 , -0.13898788,\n",
       "         0.43700564, -0.05858537,  0.262326  , -0.10013504, -0.31000182,\n",
       "        -0.29418874, -0.22320618,  0.6098769 ,  0.23056935,  0.06730471,\n",
       "         0.10970094,  0.00692779, -0.00466199, -0.08932   ,  0.23971033,\n",
       "        -0.07285935, -0.19738235,  0.28657943,  0.13746834, -0.16472434,\n",
       "         0.32434845, -0.23187487, -0.32407877, -0.28547448, -0.16414806,\n",
       "         0.22134079, -0.14278756, -0.00631933,  0.13523494,  0.36568403,\n",
       "        -0.22308244, -0.22457373, -0.02134033,  0.05494476,  0.11667263,\n",
       "         0.5236944 ,  0.0687332 ,  0.48972565,  0.09369362,  0.3233534 ,\n",
       "        -0.16948485, -0.12184817, -0.2729557 , -0.03490508,  0.156853  ],\n",
       "       dtype=float32)"
      ]
     },
     "execution_count": 36,
     "metadata": {},
     "output_type": "execute_result"
    }
   ],
   "source": [
    "dog= wiki2vec.get_word_vector('dog')\n",
    "cat = wiki2vec.get_word_vector('cat')"
   ]
  },
  {
   "cell_type": "code",
   "execution_count": null,
   "metadata": {},
   "outputs": [],
   "source": [
    "def cos_sim(v1, v2):\n",
    "    return np.dot(v1, v2) / (np.linalg.norm(v1) * np.linalg.norm(v2))"
   ]
  }
 ],
 "metadata": {
  "kernelspec": {
   "display_name": "Python 3",
   "language": "python",
   "name": "python3"
  },
  "language_info": {
   "codemirror_mode": {
    "name": "ipython",
    "version": 3
   },
   "file_extension": ".py",
   "mimetype": "text/x-python",
   "name": "python",
   "nbconvert_exporter": "python",
   "pygments_lexer": "ipython3",
   "version": "3.8.5"
  }
 },
 "nbformat": 4,
 "nbformat_minor": 4
}
