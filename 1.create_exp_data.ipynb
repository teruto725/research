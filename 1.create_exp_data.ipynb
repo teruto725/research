{
 "metadata": {
  "language_info": {
   "codemirror_mode": {
    "name": "ipython",
    "version": 3
   },
   "file_extension": ".py",
   "mimetype": "text/x-python",
   "name": "python",
   "nbconvert_exporter": "python",
   "pygments_lexer": "ipython3",
   "version": "3.8.5-final"
  },
  "orig_nbformat": 2,
  "kernelspec": {
   "name": "python3",
   "display_name": "Python 3",
   "language": "python"
  }
 },
 "nbformat": 4,
 "nbformat_minor": 2,
 "cells": [
  {
   "cell_type": "code",
   "execution_count": 1,
   "metadata": {},
   "outputs": [],
   "source": [
    "import numpy as np\n",
    "import pandas as pd"
   ]
  },
  {
   "cell_type": "code",
   "execution_count": 2,
   "metadata": {},
   "outputs": [],
   "source": [
    "#script内を実行する\n",
    "from scripts import increase_dataset as s1"
   ]
  },
  {
   "cell_type": "code",
   "execution_count": 3,
   "metadata": {},
   "outputs": [],
   "source": [
    "from scripts import create_mcs_csv as s2"
   ]
  },
  {
   "cell_type": "code",
   "execution_count": 4,
   "metadata": {},
   "outputs": [],
   "source": [
    "from scripts import create_feature as s3"
   ]
  },
  {
   "cell_type": "code",
   "execution_count": 14,
   "metadata": {},
   "outputs": [],
   "source": [
    "# 必要なデータをインポートする\n",
    "exp_data = pd.read_csv(\"./human_exp/exp_data.csv\")\n",
    "wordnet_data = pd.read_csv(\"./dataset/wordnet.csv\")\n",
    "data = pd.read_csv(\"./dataset/dataset_relation.csv\")\n"
   ]
  },
  {
   "cell_type": "code",
   "execution_count": 18,
   "metadata": {},
   "outputs": [
    {
     "output_type": "execute_result",
     "data": {
      "text/plain": [
       "               class_a     class_b relation ans_yamasaki ans_ueda ans_daisuke  \\\n",
       "0               racket        ball        k            k        k           k   \n",
       "1                block        ball        k            k        k           k   \n",
       "2               player        beam        k           h2       s2           k   \n",
       "3                alien        shot        k            k       s2           k   \n",
       "4            bar_block       block       h1           s1       h1          h1   \n",
       "..                 ...         ...      ...          ...      ...         ...   \n",
       "255        brake_pedal       pedal       h1           h1       h1          h1   \n",
       "256             driver  automobile        k            k        k          s1   \n",
       "257              pedal  automobile       s1           h1       s1          s1   \n",
       "258  automobile_engine  automobile       s1           h1       s1          s1   \n",
       "259        speedometer  automobile       s1           h1       s1          s1   \n",
       "\n",
       "    ans_hosomi ans_kazuma ans_sugi     type         title      source  \n",
       "0            k          k       h1  program    brockbreak  swing_game  \n",
       "1           h2         s2        k  program    brockbreak  swing_game  \n",
       "2           s2         s2        k  program       invador  swing_game  \n",
       "3           s2          k        k  program       invador  swing_game  \n",
       "4           h1         h2       h1  program        tetris  swing_game  \n",
       "..         ...        ...      ...      ...           ...         ...  \n",
       "255         h1         h1       h1  analyse  auto_system1          me  \n",
       "256         h2          k        k  analyse  auto_system2          me  \n",
       "257          k         s1       s1  analyse  auto_system2          me  \n",
       "258         s1         s1       s1  analyse  auto_system2          me  \n",
       "259          k         s1       s1  analyse  auto_system2          me  \n",
       "\n",
       "[260 rows x 12 columns]"
      ],
      "text/html": "<div>\n<style scoped>\n    .dataframe tbody tr th:only-of-type {\n        vertical-align: middle;\n    }\n\n    .dataframe tbody tr th {\n        vertical-align: top;\n    }\n\n    .dataframe thead th {\n        text-align: right;\n    }\n</style>\n<table border=\"1\" class=\"dataframe\">\n  <thead>\n    <tr style=\"text-align: right;\">\n      <th></th>\n      <th>class_a</th>\n      <th>class_b</th>\n      <th>relation</th>\n      <th>ans_yamasaki</th>\n      <th>ans_ueda</th>\n      <th>ans_daisuke</th>\n      <th>ans_hosomi</th>\n      <th>ans_kazuma</th>\n      <th>ans_sugi</th>\n      <th>type</th>\n      <th>title</th>\n      <th>source</th>\n    </tr>\n  </thead>\n  <tbody>\n    <tr>\n      <th>0</th>\n      <td>racket</td>\n      <td>ball</td>\n      <td>k</td>\n      <td>k</td>\n      <td>k</td>\n      <td>k</td>\n      <td>k</td>\n      <td>k</td>\n      <td>h1</td>\n      <td>program</td>\n      <td>brockbreak</td>\n      <td>swing_game</td>\n    </tr>\n    <tr>\n      <th>1</th>\n      <td>block</td>\n      <td>ball</td>\n      <td>k</td>\n      <td>k</td>\n      <td>k</td>\n      <td>k</td>\n      <td>h2</td>\n      <td>s2</td>\n      <td>k</td>\n      <td>program</td>\n      <td>brockbreak</td>\n      <td>swing_game</td>\n    </tr>\n    <tr>\n      <th>2</th>\n      <td>player</td>\n      <td>beam</td>\n      <td>k</td>\n      <td>h2</td>\n      <td>s2</td>\n      <td>k</td>\n      <td>s2</td>\n      <td>s2</td>\n      <td>k</td>\n      <td>program</td>\n      <td>invador</td>\n      <td>swing_game</td>\n    </tr>\n    <tr>\n      <th>3</th>\n      <td>alien</td>\n      <td>shot</td>\n      <td>k</td>\n      <td>k</td>\n      <td>s2</td>\n      <td>k</td>\n      <td>s2</td>\n      <td>k</td>\n      <td>k</td>\n      <td>program</td>\n      <td>invador</td>\n      <td>swing_game</td>\n    </tr>\n    <tr>\n      <th>4</th>\n      <td>bar_block</td>\n      <td>block</td>\n      <td>h1</td>\n      <td>s1</td>\n      <td>h1</td>\n      <td>h1</td>\n      <td>h1</td>\n      <td>h2</td>\n      <td>h1</td>\n      <td>program</td>\n      <td>tetris</td>\n      <td>swing_game</td>\n    </tr>\n    <tr>\n      <th>...</th>\n      <td>...</td>\n      <td>...</td>\n      <td>...</td>\n      <td>...</td>\n      <td>...</td>\n      <td>...</td>\n      <td>...</td>\n      <td>...</td>\n      <td>...</td>\n      <td>...</td>\n      <td>...</td>\n      <td>...</td>\n    </tr>\n    <tr>\n      <th>255</th>\n      <td>brake_pedal</td>\n      <td>pedal</td>\n      <td>h1</td>\n      <td>h1</td>\n      <td>h1</td>\n      <td>h1</td>\n      <td>h1</td>\n      <td>h1</td>\n      <td>h1</td>\n      <td>analyse</td>\n      <td>auto_system1</td>\n      <td>me</td>\n    </tr>\n    <tr>\n      <th>256</th>\n      <td>driver</td>\n      <td>automobile</td>\n      <td>k</td>\n      <td>k</td>\n      <td>k</td>\n      <td>s1</td>\n      <td>h2</td>\n      <td>k</td>\n      <td>k</td>\n      <td>analyse</td>\n      <td>auto_system2</td>\n      <td>me</td>\n    </tr>\n    <tr>\n      <th>257</th>\n      <td>pedal</td>\n      <td>automobile</td>\n      <td>s1</td>\n      <td>h1</td>\n      <td>s1</td>\n      <td>s1</td>\n      <td>k</td>\n      <td>s1</td>\n      <td>s1</td>\n      <td>analyse</td>\n      <td>auto_system2</td>\n      <td>me</td>\n    </tr>\n    <tr>\n      <th>258</th>\n      <td>automobile_engine</td>\n      <td>automobile</td>\n      <td>s1</td>\n      <td>h1</td>\n      <td>s1</td>\n      <td>s1</td>\n      <td>s1</td>\n      <td>s1</td>\n      <td>s1</td>\n      <td>analyse</td>\n      <td>auto_system2</td>\n      <td>me</td>\n    </tr>\n    <tr>\n      <th>259</th>\n      <td>speedometer</td>\n      <td>automobile</td>\n      <td>s1</td>\n      <td>h1</td>\n      <td>s1</td>\n      <td>s1</td>\n      <td>k</td>\n      <td>s1</td>\n      <td>s1</td>\n      <td>analyse</td>\n      <td>auto_system2</td>\n      <td>me</td>\n    </tr>\n  </tbody>\n</table>\n<p>260 rows × 12 columns</p>\n</div>"
     },
     "metadata": {},
     "execution_count": 18
    }
   ],
   "source": [
    "#被験者用データと結合\n",
    "marged_data = pd.merge(exp_data,data)"
   ]
  },
  {
   "cell_type": "code",
   "execution_count": 6,
   "metadata": {},
   "outputs": [],
   "source": [
    "#dataのかさまし\n",
    "data1 = s1.execute(data)"
   ]
  },
  {
   "cell_type": "code",
   "execution_count": 7,
   "metadata": {},
   "outputs": [],
   "source": [
    "#mcspickle作成\n",
    "s2.execute(wordnet_data)"
   ]
  },
  {
   "cell_type": "code",
   "execution_count": null,
   "metadata": {},
   "outputs": [],
   "source": [
    "s3.execute(data1,wordnet_data)"
   ]
  },
  {
   "cell_type": "code",
   "execution_count": null,
   "metadata": {},
   "outputs": [],
   "source": []
  }
 ]
}