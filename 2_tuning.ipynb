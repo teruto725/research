{
 "cells": [
  {
   "cell_type": "code",
   "execution_count": 32,
   "metadata": {},
   "outputs": [
    {
     "name": "stderr",
     "output_type": "stream",
     "text": [
      "/Users/akihito/.pyenv/versions/3.8.5/lib/python3.8/site-packages/ipykernel/ipkernel.py:287: DeprecationWarning: `should_run_async` will not call `transform_cell` automatically in the future. Please pass the result to `transformed_cell` argument and any exception that happen during thetransform in `preprocessing_exc_tuple` in IPython 7.17 and above.\n",
      "  and should_run_async(code)\n"
     ]
    }
   ],
   "source": [
    "import numpy as np\n",
    "import pandas as pd\n",
    "import matplotlib.pyplot as plt\n",
    "import pandas as pd"
   ]
  },
  {
   "cell_type": "code",
   "execution_count": 33,
   "metadata": {},
   "outputs": [
    {
     "name": "stdout",
     "output_type": "stream",
     "text": [
      "(425, 32)\n",
      "Index(['class_a', 'class_b', 'relation', 'ans_yamasaki', 'ans_ueda',\n",
      "       'ans_daisuke', 'ans_hosomi', 'ans_kazuma', 'ans_sugi', 'type', 'title',\n",
      "       'source', 'sim_by_mcg', 'is_a_by_mcg', 'lexvec_sim', 'wiki2vec_sim',\n",
      "       'wn_hu_average', 'wn_pu_average', 'wn_hu_best', 'wn_pu_best',\n",
      "       'wn_sim_path', 'wn_sim_lch', 'wn_sim_wup', 'wn_sim_res', 'wn_sim_jcn',\n",
      "       'wn_sim_lin', 'has_same_word', 'is_include_word', 'bert_sim',\n",
      "       'lexvec_diff', 'wiki2vec_diff', 'bert_diff'],\n",
      "      dtype='object')\n"
     ]
    }
   ],
   "source": [
    "#dataのインポート+シャッフル\n",
    "data = pd.read_csv(\"./dataset/exp_data.csv\",index_col = 0).sample(frac=1, random_state=1).reset_index(drop=True)\n",
    "print(data.shape)\n",
    "print(data.columns)"
   ]
  },
  {
   "cell_type": "code",
   "execution_count": 34,
   "metadata": {},
   "outputs": [],
   "source": [
    "#カラム配列定義\n",
    "#特徴量カラム\n",
    "feature_columns =  [\"sim_by_mcg\",\"is_a_by_mcg\",\"lexvec_sim\",\"wiki2vec_sim\",\"wn_hu_average\",\n",
    "                \"wn_pu_average\",\"wn_sim_path\",\"wn_sim_wup\",\n",
    "                \"is_include_word\",\"bert_sim\",\"lexvec_diff\",\"wiki2vec_diff\",\"bert_diff\"]\n",
    "\n",
    "\n",
    "#通常の特徴量ラベル\n",
    "X_normal_columns = [\"sim_by_mcg\",\"is_a_by_mcg\",\"lexvec_sim\",\"wiki2vec_sim\",\"wn_hu_average\",\n",
    "                \"wn_pu_average\",\"wn_sim_path\",\"wn_sim_wup\",\"is_include_word\",\"bert_sim\"]\n",
    "\n",
    "#ベクトル系特徴量ラベル\n",
    "pca_di={\"lexvec_diff\":30,\"wiki2vec_diff\":30,\"bert_diff\":3}\n",
    "\n",
    "#被験者実験データ\n",
    "ans_columns = [ 'ans_ueda',\n",
    "       'ans_daisuke', 'ans_kazuma', 'ans_sugi']"
   ]
  },
  {
   "cell_type": "code",
   "execution_count": 35,
   "metadata": {},
   "outputs": [
    {
     "name": "stdout",
     "output_type": "stream",
     "text": [
      "['s1' 'h2' 'h1' 's2' 'k'],[3 1 0 4 2]\n"
     ]
    }
   ],
   "source": [
    "\n",
    "# 欠損値は最頻値補完を行う\n",
    "def fill_na_mean(data):\n",
    "    data.loc[:,\"sim_by_mcg\"] = data.loc[:,\"sim_by_mcg\"].fillna(data.loc[:,\"sim_by_mcg\"].mode()[0])\n",
    "    data.loc[:,\"is_a_by_mcg\"] = data.loc[:,\"is_a_by_mcg\"].fillna(data.loc[:,\"is_a_by_mcg\"].mode()[0])\n",
    "    data.loc[:,\"wiki2vec_sim\"] = data.loc[:,\"wiki2vec_sim\"].fillna(data.loc[:,\"wiki2vec_sim\"].mode()[0])\n",
    "    data.loc[:,\"wiki2vec_diff\"] = data.loc[:,\"wiki2vec_diff\"].fillna(data.loc[:,\"wiki2vec_diff\"].mode()[0])\n",
    "    return data\n",
    "data = fill_na_mean(data)\n",
    "#クラスラベルエンコーディング\n",
    "from sklearn.preprocessing import LabelEncoder\n",
    "def label_encorder(data):\n",
    "    le = LabelEncoder()\n",
    "    encoded = le.fit_transform(data['relation'].values)\n",
    "    for ans_c in ans_columns:\n",
    "        temp_label = le.transform(data[ans_c].values)\n",
    "        data[ans_c] = temp_label\n",
    "    data.loc[:,'relation_label'] = encoded\n",
    "    print(str(data[\"relation\"].unique())+\",\"+str(le.transform(data[\"relation\"].unique())))\n",
    "    return data\n",
    "data = label_encorder(data)"
   ]
  },
  {
   "cell_type": "code",
   "execution_count": 36,
   "metadata": {},
   "outputs": [],
   "source": [
    "#特徴量の選別 wn_sim_jcnは値がバグっているので使わない(infinityが入っている)\n",
    "X_data = data.loc[:,feature_columns]\n",
    "# yの定義\n",
    "y = data.loc[:,\"relation_label\"].values.astype(\"int32\")"
   ]
  },
  {
   "cell_type": "code",
   "execution_count": 37,
   "metadata": {},
   "outputs": [],
   "source": [
    "\n",
    "from sklearn.preprocessing import StandardScaler\n",
    "from sklearn.decomposition import PCA\n",
    "\n",
    "#diffラベルのpca_ssモデル trainとtest arrを返す\n",
    "def ss_pca(train,pca_n):\n",
    "    scaler = StandardScaler()\n",
    "    train=scaler.fit_transform(train)\n",
    "    pca = PCA(n_components = pca_n)\n",
    "    train = pca.fit_transform(train)\n",
    "    return train\n",
    "#str_arrをarrに変換\n",
    "def convert_to_arr(vec_str):\n",
    "    vec_arr = None\n",
    "    for s in vec_str:\n",
    "        if vec_arr is None:\n",
    "            vec_arr =np.array(s[1:-1].split(\", \")).astype(\"float32\")\n",
    "        else:\n",
    "            vec_arr = np.block([[vec_arr],[np.array(s[1:-1].split(\", \")).astype(\"float32\")]])\n",
    "    return vec_arr"
   ]
  },
  {
   "cell_type": "code",
   "execution_count": 38,
   "metadata": {},
   "outputs": [],
   "source": [
    "#通常系の特徴量と、vec系の特徴量に分割し、vecにはpcaを行って最後に結合する\n",
    "X = X_data.loc[:,X_normal_columns].values.astype(\"float64\").astype(\"float64\")\n",
    "for c_name, n in pca_di.items():\n",
    "    vec_arr = convert_to_arr(X_data.loc[:,c_name])\n",
    "    pca_arr = ss_pca(vec_arr,n)\n",
    "    X = np.concatenate([X, pca_arr], 1)\n"
   ]
  },
  {
   "cell_type": "code",
   "execution_count": 39,
   "metadata": {},
   "outputs": [
    {
     "name": "stderr",
     "output_type": "stream",
     "text": [
      "/Users/akihito/.pyenv/versions/3.8.5/lib/python3.8/site-packages/ipykernel/ipkernel.py:287: DeprecationWarning: `should_run_async` will not call `transform_cell` automatically in the future. Please pass the result to `transformed_cell` argument and any exception that happen during thetransform in `preprocessing_exc_tuple` in IPython 7.17 and above.\n",
      "  and should_run_async(code)\n"
     ]
    }
   ],
   "source": [
    "import optuna"
   ]
  },
  {
   "cell_type": "code",
   "execution_count": 40,
   "metadata": {},
   "outputs": [
    {
     "name": "stderr",
     "output_type": "stream",
     "text": [
      "\u001b[32m[I 2020-12-15 04:08:07,993]\u001b[0m A new study created in memory with name: no-name-4dd7559c-abde-4abc-b2c5-ed11836af998\u001b[0m\n",
      "/Users/akihito/.pyenv/versions/3.8.5/lib/python3.8/site-packages/sklearn/model_selection/_split.py:670: UserWarning: The least populated class in y has only 82 members, which is less than n_splits=90.\n",
      "  warnings.warn((\"The least populated class in y has only %d\"\n",
      "\u001b[32m[I 2020-12-15 04:10:23,805]\u001b[0m Trial 0 finished with value: 0.6094444444444443 and parameters: {'learning_rate': 0.7698243216149967, 'max_depth': 12, 'n_estimators': 461, 'min_child_weight': 7, 'gamma': 2.101266975184555, 'subsample': 0.8895582055431803, 'eta': 0.10560273947209119}. Best is trial 0 with value: 0.6094444444444443.\u001b[0m\n"
     ]
    },
    {
     "name": "stdout",
     "output_type": "stream",
     "text": [
      "0.6094444444444443\n"
     ]
    },
    {
     "name": "stderr",
     "output_type": "stream",
     "text": [
      "/Users/akihito/.pyenv/versions/3.8.5/lib/python3.8/site-packages/sklearn/model_selection/_split.py:670: UserWarning: The least populated class in y has only 82 members, which is less than n_splits=90.\n",
      "  warnings.warn((\"The least populated class in y has only %d\"\n",
      "\u001b[32m[I 2020-12-15 04:13:12,323]\u001b[0m Trial 1 finished with value: 0.6005555555555555 and parameters: {'learning_rate': 0.06979152029733966, 'max_depth': 15, 'n_estimators': 493, 'min_child_weight': 9, 'gamma': 4.780397687846904, 'subsample': 0.32460619100784216, 'eta': 0.4482349952072008}. Best is trial 0 with value: 0.6094444444444443.\u001b[0m\n"
     ]
    },
    {
     "name": "stdout",
     "output_type": "stream",
     "text": [
      "0.6005555555555555\n"
     ]
    },
    {
     "name": "stderr",
     "output_type": "stream",
     "text": [
      "/Users/akihito/.pyenv/versions/3.8.5/lib/python3.8/site-packages/sklearn/model_selection/_split.py:670: UserWarning: The least populated class in y has only 82 members, which is less than n_splits=90.\n",
      "  warnings.warn((\"The least populated class in y has only %d\"\n",
      "\u001b[32m[I 2020-12-15 04:18:12,784]\u001b[0m Trial 2 finished with value: 0.5872222222222222 and parameters: {'learning_rate': 0.3532680992117426, 'max_depth': 15, 'n_estimators': 499, 'min_child_weight': 1, 'gamma': 4.641178701360049, 'subsample': 0.660942847850083, 'eta': 0.4362841273000544}. Best is trial 0 with value: 0.6094444444444443.\u001b[0m\n"
     ]
    },
    {
     "name": "stdout",
     "output_type": "stream",
     "text": [
      "0.5872222222222222\n"
     ]
    },
    {
     "name": "stderr",
     "output_type": "stream",
     "text": [
      "/Users/akihito/.pyenv/versions/3.8.5/lib/python3.8/site-packages/sklearn/model_selection/_split.py:670: UserWarning: The least populated class in y has only 82 members, which is less than n_splits=90.\n",
      "  warnings.warn((\"The least populated class in y has only %d\"\n",
      "\u001b[32m[I 2020-12-15 04:20:00,458]\u001b[0m Trial 3 finished with value: 0.5700000000000001 and parameters: {'learning_rate': 0.3197800282919273, 'max_depth': 16, 'n_estimators': 332, 'min_child_weight': 9, 'gamma': 4.768975643310144, 'subsample': 0.47461280015286605, 'eta': 0.3697973130519654}. Best is trial 0 with value: 0.6094444444444443.\u001b[0m\n"
     ]
    },
    {
     "name": "stdout",
     "output_type": "stream",
     "text": [
      "0.5700000000000001\n"
     ]
    },
    {
     "name": "stderr",
     "output_type": "stream",
     "text": [
      "/Users/akihito/.pyenv/versions/3.8.5/lib/python3.8/site-packages/sklearn/model_selection/_split.py:670: UserWarning: The least populated class in y has only 82 members, which is less than n_splits=90.\n",
      "  warnings.warn((\"The least populated class in y has only %d\"\n",
      "\u001b[32m[I 2020-12-15 04:21:32,588]\u001b[0m Trial 4 finished with value: 0.5927777777777778 and parameters: {'learning_rate': 0.06804456744592352, 'max_depth': 3, 'n_estimators': 475, 'min_child_weight': 10, 'gamma': 2.28219547826046, 'subsample': 0.8507657699395963, 'eta': 0.2219232131013163}. Best is trial 0 with value: 0.6094444444444443.\u001b[0m\n"
     ]
    },
    {
     "name": "stdout",
     "output_type": "stream",
     "text": [
      "0.5927777777777778\n"
     ]
    },
    {
     "name": "stderr",
     "output_type": "stream",
     "text": [
      "/Users/akihito/.pyenv/versions/3.8.5/lib/python3.8/site-packages/sklearn/model_selection/_split.py:670: UserWarning: The least populated class in y has only 82 members, which is less than n_splits=90.\n",
      "  warnings.warn((\"The least populated class in y has only %d\"\n",
      "\u001b[32m[I 2020-12-15 04:21:55,535]\u001b[0m Trial 5 finished with value: 0.6094444444444443 and parameters: {'learning_rate': 0.5255452443089712, 'max_depth': 9, 'n_estimators': 111, 'min_child_weight': 9, 'gamma': 0.743153052160655, 'subsample': 0.46529498150293785, 'eta': 0.44259437121531187}. Best is trial 0 with value: 0.6094444444444443.\u001b[0m\n"
     ]
    },
    {
     "name": "stdout",
     "output_type": "stream",
     "text": [
      "0.6094444444444443\n"
     ]
    },
    {
     "name": "stderr",
     "output_type": "stream",
     "text": [
      "/Users/akihito/.pyenv/versions/3.8.5/lib/python3.8/site-packages/sklearn/model_selection/_split.py:670: UserWarning: The least populated class in y has only 82 members, which is less than n_splits=90.\n",
      "  warnings.warn((\"The least populated class in y has only %d\"\n",
      "\u001b[32m[I 2020-12-15 04:22:57,773]\u001b[0m Trial 6 finished with value: 0.5644444444444444 and parameters: {'learning_rate': 0.7498156142595807, 'max_depth': 3, 'n_estimators': 288, 'min_child_weight': 4, 'gamma': 4.781084215986428, 'subsample': 0.09079204853639311, 'eta': 0.1095886198550939}. Best is trial 0 with value: 0.6094444444444443.\u001b[0m\n"
     ]
    },
    {
     "name": "stdout",
     "output_type": "stream",
     "text": [
      "0.5644444444444444\n"
     ]
    },
    {
     "name": "stderr",
     "output_type": "stream",
     "text": [
      "/Users/akihito/.pyenv/versions/3.8.5/lib/python3.8/site-packages/sklearn/model_selection/_split.py:670: UserWarning: The least populated class in y has only 82 members, which is less than n_splits=90.\n",
      "  warnings.warn((\"The least populated class in y has only %d\"\n",
      "\u001b[32m[I 2020-12-15 04:25:18,667]\u001b[0m Trial 7 finished with value: 0.5866666666666667 and parameters: {'learning_rate': 0.9404791224733489, 'max_depth': 5, 'n_estimators': 421, 'min_child_weight': 2, 'gamma': 1.3723445304462523, 'subsample': 0.7859313823818362, 'eta': 0.10603019595888422}. Best is trial 0 with value: 0.6094444444444443.\u001b[0m\n"
     ]
    },
    {
     "name": "stdout",
     "output_type": "stream",
     "text": [
      "0.5866666666666667\n"
     ]
    },
    {
     "name": "stderr",
     "output_type": "stream",
     "text": [
      "/Users/akihito/.pyenv/versions/3.8.5/lib/python3.8/site-packages/sklearn/model_selection/_split.py:670: UserWarning: The least populated class in y has only 82 members, which is less than n_splits=90.\n",
      "  warnings.warn((\"The least populated class in y has only %d\"\n",
      "\u001b[32m[I 2020-12-15 04:27:02,140]\u001b[0m Trial 8 finished with value: 0.55 and parameters: {'learning_rate': 0.7614383450808191, 'max_depth': 18, 'n_estimators': 348, 'min_child_weight': 9, 'gamma': 4.994585198489203, 'subsample': 0.2033501402488815, 'eta': 0.3349672863520275}. Best is trial 0 with value: 0.6094444444444443.\u001b[0m\n"
     ]
    },
    {
     "name": "stdout",
     "output_type": "stream",
     "text": [
      "0.55\n"
     ]
    },
    {
     "name": "stderr",
     "output_type": "stream",
     "text": [
      "/Users/akihito/.pyenv/versions/3.8.5/lib/python3.8/site-packages/sklearn/model_selection/_split.py:670: UserWarning: The least populated class in y has only 82 members, which is less than n_splits=90.\n",
      "  warnings.warn((\"The least populated class in y has only %d\"\n",
      "\u001b[32m[I 2020-12-15 04:27:10,556]\u001b[0m Trial 9 finished with value: 0.5777777777777777 and parameters: {'learning_rate': 0.2258507221995702, 'max_depth': 2, 'n_estimators': 53, 'min_child_weight': 5, 'gamma': 3.474705403020043, 'subsample': 0.7749324979867132, 'eta': 0.2605810650765882}. Best is trial 0 with value: 0.6094444444444443.\u001b[0m\n"
     ]
    },
    {
     "name": "stdout",
     "output_type": "stream",
     "text": [
      "0.5777777777777777\n"
     ]
    },
    {
     "name": "stderr",
     "output_type": "stream",
     "text": [
      "/Users/akihito/.pyenv/versions/3.8.5/lib/python3.8/site-packages/sklearn/model_selection/_split.py:670: UserWarning: The least populated class in y has only 82 members, which is less than n_splits=90.\n",
      "  warnings.warn((\"The least populated class in y has only %d\"\n",
      "\u001b[32m[I 2020-12-15 04:28:02,567]\u001b[0m Trial 10 finished with value: 0.5911111111111111 and parameters: {'learning_rate': 0.9747593034818528, 'max_depth': 10, 'n_estimators': 173, 'min_child_weight': 7, 'gamma': 2.7859938885725897, 'subsample': 0.9717440280961019, 'eta': 0.17676432328657882}. Best is trial 0 with value: 0.6094444444444443.\u001b[0m\n"
     ]
    },
    {
     "name": "stdout",
     "output_type": "stream",
     "text": [
      "0.5911111111111111\n"
     ]
    },
    {
     "name": "stderr",
     "output_type": "stream",
     "text": [
      "/Users/akihito/.pyenv/versions/3.8.5/lib/python3.8/site-packages/sklearn/model_selection/_split.py:670: UserWarning: The least populated class in y has only 82 members, which is less than n_splits=90.\n",
      "  warnings.warn((\"The least populated class in y has only %d\"\n",
      "\u001b[32m[I 2020-12-15 04:28:18,422]\u001b[0m Trial 11 finished with value: 0.6344444444444444 and parameters: {'learning_rate': 0.5932792224187612, 'max_depth': 9, 'n_estimators': 125, 'min_child_weight': 7, 'gamma': 0.013042725040741332, 'subsample': 0.5065063263290126, 'eta': 0.3926772747721946}. Best is trial 11 with value: 0.6344444444444444.\u001b[0m\n"
     ]
    },
    {
     "name": "stdout",
     "output_type": "stream",
     "text": [
      "0.6344444444444444\n"
     ]
    },
    {
     "name": "stderr",
     "output_type": "stream",
     "text": [
      "/Users/akihito/.pyenv/versions/3.8.5/lib/python3.8/site-packages/sklearn/model_selection/_split.py:670: UserWarning: The least populated class in y has only 82 members, which is less than n_splits=90.\n",
      "  warnings.warn((\"The least populated class in y has only %d\"\n",
      "\u001b[32m[I 2020-12-15 04:28:45,990]\u001b[0m Trial 12 finished with value: 0.6361111111111111 and parameters: {'learning_rate': 0.6620049075104535, 'max_depth': 7, 'n_estimators': 194, 'min_child_weight': 7, 'gamma': 0.19890130578207965, 'subsample': 0.6158034485205174, 'eta': 0.36085351894843526}. Best is trial 12 with value: 0.6361111111111111.\u001b[0m\n"
     ]
    },
    {
     "name": "stdout",
     "output_type": "stream",
     "text": [
      "0.6361111111111111\n"
     ]
    },
    {
     "name": "stderr",
     "output_type": "stream",
     "text": [
      "/Users/akihito/.pyenv/versions/3.8.5/lib/python3.8/site-packages/sklearn/model_selection/_split.py:670: UserWarning: The least populated class in y has only 82 members, which is less than n_splits=90.\n",
      "  warnings.warn((\"The least populated class in y has only %d\"\n",
      "\u001b[32m[I 2020-12-15 04:29:09,344]\u001b[0m Trial 13 finished with value: 0.6361111111111111 and parameters: {'learning_rate': 0.6083970076158856, 'max_depth': 7, 'n_estimators': 188, 'min_child_weight': 7, 'gamma': 0.08635863437796122, 'subsample': 0.6144427358636214, 'eta': 0.36138819152126944}. Best is trial 12 with value: 0.6361111111111111.\u001b[0m\n"
     ]
    },
    {
     "name": "stdout",
     "output_type": "stream",
     "text": [
      "0.6361111111111111\n"
     ]
    },
    {
     "name": "stderr",
     "output_type": "stream",
     "text": [
      "/Users/akihito/.pyenv/versions/3.8.5/lib/python3.8/site-packages/sklearn/model_selection/_split.py:670: UserWarning: The least populated class in y has only 82 members, which is less than n_splits=90.\n",
      "  warnings.warn((\"The least populated class in y has only %d\"\n",
      "\u001b[32m[I 2020-12-15 04:29:34,722]\u001b[0m Trial 14 finished with value: 0.6405555555555555 and parameters: {'learning_rate': 0.6216970147812279, 'max_depth': 6, 'n_estimators': 206, 'min_child_weight': 6, 'gamma': 0.05138130016420476, 'subsample': 0.6172624755914052, 'eta': 0.31064813584588263}. Best is trial 14 with value: 0.6405555555555555.\u001b[0m\n"
     ]
    },
    {
     "name": "stdout",
     "output_type": "stream",
     "text": [
      "0.6405555555555555\n"
     ]
    },
    {
     "name": "stderr",
     "output_type": "stream",
     "text": [
      "/Users/akihito/.pyenv/versions/3.8.5/lib/python3.8/site-packages/sklearn/model_selection/_split.py:670: UserWarning: The least populated class in y has only 82 members, which is less than n_splits=90.\n",
      "  warnings.warn((\"The least populated class in y has only %d\"\n",
      "\u001b[32m[I 2020-12-15 04:30:47,225]\u001b[0m Trial 15 finished with value: 0.6522222222222223 and parameters: {'learning_rate': 0.4428518788438366, 'max_depth': 6, 'n_estimators': 233, 'min_child_weight': 4, 'gamma': 0.7755706238950719, 'subsample': 0.646667850690552, 'eta': 0.2994751291840762}. Best is trial 15 with value: 0.6522222222222223.\u001b[0m\n"
     ]
    },
    {
     "name": "stdout",
     "output_type": "stream",
     "text": [
      "0.6522222222222223\n"
     ]
    },
    {
     "name": "stderr",
     "output_type": "stream",
     "text": [
      "/Users/akihito/.pyenv/versions/3.8.5/lib/python3.8/site-packages/sklearn/model_selection/_split.py:670: UserWarning: The least populated class in y has only 82 members, which is less than n_splits=90.\n",
      "  warnings.warn((\"The least populated class in y has only %d\"\n",
      "\u001b[32m[I 2020-12-15 04:32:03,860]\u001b[0m Trial 16 finished with value: 0.6405555555555554 and parameters: {'learning_rate': 0.44682202338835003, 'max_depth': 5, 'n_estimators': 247, 'min_child_weight': 3, 'gamma': 0.9864387637348497, 'subsample': 0.6966827009613972, 'eta': 0.2964370963292627}. Best is trial 15 with value: 0.6522222222222223.\u001b[0m\n"
     ]
    },
    {
     "name": "stdout",
     "output_type": "stream",
     "text": [
      "0.6405555555555554\n"
     ]
    },
    {
     "name": "stderr",
     "output_type": "stream",
     "text": [
      "/Users/akihito/.pyenv/versions/3.8.5/lib/python3.8/site-packages/sklearn/model_selection/_split.py:670: UserWarning: The least populated class in y has only 82 members, which is less than n_splits=90.\n",
      "  warnings.warn((\"The least populated class in y has only %d\"\n",
      "\u001b[32m[I 2020-12-15 04:33:32,799]\u001b[0m Trial 17 finished with value: 0.6444444444444445 and parameters: {'learning_rate': 0.4368389366417923, 'max_depth': 12, 'n_estimators': 264, 'min_child_weight': 5, 'gamma': 1.5531909006645432, 'subsample': 0.36072334009401047, 'eta': 0.2908905552686553}. Best is trial 15 with value: 0.6522222222222223.\u001b[0m\n"
     ]
    },
    {
     "name": "stdout",
     "output_type": "stream",
     "text": [
      "0.6444444444444445\n"
     ]
    },
    {
     "name": "stderr",
     "output_type": "stream",
     "text": [
      "/Users/akihito/.pyenv/versions/3.8.5/lib/python3.8/site-packages/sklearn/model_selection/_split.py:670: UserWarning: The least populated class in y has only 82 members, which is less than n_splits=90.\n",
      "  warnings.warn((\"The least populated class in y has only %d\"\n",
      "\u001b[32m[I 2020-12-15 04:35:24,878]\u001b[0m Trial 18 finished with value: 0.6488888888888888 and parameters: {'learning_rate': 0.24716169140798203, 'max_depth': 12, 'n_estimators': 289, 'min_child_weight': 4, 'gamma': 1.700850980415691, 'subsample': 0.32929893431295604, 'eta': 0.20328941946980572}. Best is trial 15 with value: 0.6522222222222223.\u001b[0m\n"
     ]
    },
    {
     "name": "stdout",
     "output_type": "stream",
     "text": [
      "0.6488888888888888\n"
     ]
    },
    {
     "name": "stderr",
     "output_type": "stream",
     "text": [
      "/Users/akihito/.pyenv/versions/3.8.5/lib/python3.8/site-packages/sklearn/model_selection/_split.py:670: UserWarning: The least populated class in y has only 82 members, which is less than n_splits=90.\n",
      "  warnings.warn((\"The least populated class in y has only %d\"\n",
      "\u001b[32m[I 2020-12-15 04:38:19,567]\u001b[0m Trial 19 finished with value: 0.6127777777777778 and parameters: {'learning_rate': 0.23857915538891597, 'max_depth': 13, 'n_estimators': 375, 'min_child_weight': 3, 'gamma': 2.885797968290605, 'subsample': 0.19976235540575188, 'eta': 0.17889562013950128}. Best is trial 15 with value: 0.6522222222222223.\u001b[0m\n"
     ]
    },
    {
     "name": "stdout",
     "output_type": "stream",
     "text": [
      "0.6127777777777778\n"
     ]
    },
    {
     "name": "stderr",
     "output_type": "stream",
     "text": [
      "/Users/akihito/.pyenv/versions/3.8.5/lib/python3.8/site-packages/sklearn/model_selection/_split.py:670: UserWarning: The least populated class in y has only 82 members, which is less than n_splits=90.\n",
      "  warnings.warn((\"The least populated class in y has only %d\"\n",
      "\u001b[32m[I 2020-12-15 04:41:00,778]\u001b[0m Trial 20 finished with value: 0.6305555555555555 and parameters: {'learning_rate': 0.1303441635839187, 'max_depth': 9, 'n_estimators': 302, 'min_child_weight': 1, 'gamma': 1.7812180424370339, 'subsample': 0.33304584706663704, 'eta': 0.23181832674635822}. Best is trial 15 with value: 0.6522222222222223.\u001b[0m\n"
     ]
    },
    {
     "name": "stdout",
     "output_type": "stream",
     "text": [
      "0.6305555555555555\n"
     ]
    },
    {
     "name": "stderr",
     "output_type": "stream",
     "text": [
      "/Users/akihito/.pyenv/versions/3.8.5/lib/python3.8/site-packages/sklearn/model_selection/_split.py:670: UserWarning: The least populated class in y has only 82 members, which is less than n_splits=90.\n",
      "  warnings.warn((\"The least populated class in y has only %d\"\n",
      "\u001b[32m[I 2020-12-15 04:42:22,660]\u001b[0m Trial 21 finished with value: 0.6555555555555556 and parameters: {'learning_rate': 0.4225753802087397, 'max_depth': 13, 'n_estimators': 247, 'min_child_weight': 5, 'gamma': 1.4709920141620183, 'subsample': 0.3697221587838861, 'eta': 0.2689758330218372}. Best is trial 21 with value: 0.6555555555555556.\u001b[0m\n"
     ]
    },
    {
     "name": "stdout",
     "output_type": "stream",
     "text": [
      "0.6555555555555556\n"
     ]
    },
    {
     "name": "stderr",
     "output_type": "stream",
     "text": [
      "/Users/akihito/.pyenv/versions/3.8.5/lib/python3.8/site-packages/sklearn/model_selection/_split.py:670: UserWarning: The least populated class in y has only 82 members, which is less than n_splits=90.\n",
      "  warnings.warn((\"The least populated class in y has only %d\"\n",
      "\u001b[32m[I 2020-12-15 04:43:37,286]\u001b[0m Trial 22 finished with value: 0.6505555555555556 and parameters: {'learning_rate': 0.3294925944114283, 'max_depth': 14, 'n_estimators': 234, 'min_child_weight': 4, 'gamma': 0.8654968664171635, 'subsample': 0.22460389850566764, 'eta': 0.1784492403070428}. Best is trial 21 with value: 0.6555555555555556.\u001b[0m\n"
     ]
    },
    {
     "name": "stdout",
     "output_type": "stream",
     "text": [
      "0.6505555555555556\n"
     ]
    },
    {
     "name": "stderr",
     "output_type": "stream",
     "text": [
      "/Users/akihito/.pyenv/versions/3.8.5/lib/python3.8/site-packages/sklearn/model_selection/_split.py:670: UserWarning: The least populated class in y has only 82 members, which is less than n_splits=90.\n",
      "  warnings.warn((\"The least populated class in y has only %d\"\n",
      "\u001b[32m[I 2020-12-15 04:44:19,931]\u001b[0m Trial 23 finished with value: 0.6672222222222222 and parameters: {'learning_rate': 0.3922070250971098, 'max_depth': 20, 'n_estimators': 141, 'min_child_weight': 4, 'gamma': 0.686624928143464, 'subsample': 0.14946869720029785, 'eta': 0.1604727438535618}. Best is trial 23 with value: 0.6672222222222222.\u001b[0m\n"
     ]
    },
    {
     "name": "stdout",
     "output_type": "stream",
     "text": [
      "0.6672222222222222\n"
     ]
    },
    {
     "name": "stderr",
     "output_type": "stream",
     "text": [
      "/Users/akihito/.pyenv/versions/3.8.5/lib/python3.8/site-packages/sklearn/model_selection/_split.py:670: UserWarning: The least populated class in y has only 82 members, which is less than n_splits=90.\n",
      "  warnings.warn((\"The least populated class in y has only %d\"\n",
      "\u001b[32m[I 2020-12-15 04:45:02,900]\u001b[0m Trial 24 finished with value: 0.6172222222222222 and parameters: {'learning_rate': 0.4867010371457653, 'max_depth': 19, 'n_estimators': 137, 'min_child_weight': 3, 'gamma': 0.5566203736526659, 'subsample': 0.042165578149283026, 'eta': 0.1426913567752148}. Best is trial 23 with value: 0.6672222222222222.\u001b[0m\n"
     ]
    },
    {
     "name": "stdout",
     "output_type": "stream",
     "text": [
      "0.6172222222222222\n"
     ]
    },
    {
     "name": "stderr",
     "output_type": "stream",
     "text": [
      "/Users/akihito/.pyenv/versions/3.8.5/lib/python3.8/site-packages/sklearn/model_selection/_split.py:670: UserWarning: The least populated class in y has only 82 members, which is less than n_splits=90.\n",
      "  warnings.warn((\"The least populated class in y has only %d\"\n",
      "\u001b[32m[I 2020-12-15 04:45:27,351]\u001b[0m Trial 25 finished with value: 0.6505555555555556 and parameters: {'learning_rate': 0.4056125874268407, 'max_depth': 20, 'n_estimators': 75, 'min_child_weight': 5, 'gamma': 1.1608448786308088, 'subsample': 0.09296064155664002, 'eta': 0.26339629407822845}. Best is trial 23 with value: 0.6672222222222222.\u001b[0m\n"
     ]
    },
    {
     "name": "stdout",
     "output_type": "stream",
     "text": [
      "0.6505555555555556\n"
     ]
    },
    {
     "name": "stderr",
     "output_type": "stream",
     "text": [
      "/Users/akihito/.pyenv/versions/3.8.5/lib/python3.8/site-packages/sklearn/model_selection/_split.py:670: UserWarning: The least populated class in y has only 82 members, which is less than n_splits=90.\n",
      "  warnings.warn((\"The least populated class in y has only %d\"\n",
      "\u001b[32m[I 2020-12-15 04:46:11,587]\u001b[0m Trial 26 finished with value: 0.625 and parameters: {'learning_rate': 0.5308791798046995, 'max_depth': 17, 'n_estimators': 225, 'min_child_weight': 6, 'gamma': 0.40580860961057663, 'subsample': 0.39748483407347, 'eta': 0.26218450927981574}. Best is trial 23 with value: 0.6672222222222222.\u001b[0m\n"
     ]
    },
    {
     "name": "stdout",
     "output_type": "stream",
     "text": [
      "0.625\n"
     ]
    },
    {
     "name": "stderr",
     "output_type": "stream",
     "text": [
      "/Users/akihito/.pyenv/versions/3.8.5/lib/python3.8/site-packages/sklearn/model_selection/_split.py:670: UserWarning: The least populated class in y has only 82 members, which is less than n_splits=90.\n",
      "  warnings.warn((\"The least populated class in y has only %d\"\n",
      "\u001b[32m[I 2020-12-15 04:47:22,951]\u001b[0m Trial 27 finished with value: 0.6144444444444445 and parameters: {'learning_rate': 0.17094276413160814, 'max_depth': 20, 'n_estimators': 158, 'min_child_weight': 2, 'gamma': 1.0631115154324322, 'subsample': 0.5561593567513972, 'eta': 0.14733639081468447}. Best is trial 23 with value: 0.6672222222222222.\u001b[0m\n"
     ]
    },
    {
     "name": "stdout",
     "output_type": "stream",
     "text": [
      "0.6144444444444445\n"
     ]
    },
    {
     "name": "stderr",
     "output_type": "stream",
     "text": [
      "/Users/akihito/.pyenv/versions/3.8.5/lib/python3.8/site-packages/sklearn/model_selection/_split.py:670: UserWarning: The least populated class in y has only 82 members, which is less than n_splits=90.\n",
      "  warnings.warn((\"The least populated class in y has only %d\"\n",
      "\u001b[32m[I 2020-12-15 04:47:45,978]\u001b[0m Trial 28 finished with value: 0.6705555555555555 and parameters: {'learning_rate': 0.371598027411808, 'max_depth': 18, 'n_estimators': 79, 'min_child_weight': 4, 'gamma': 0.5447332142218326, 'subsample': 0.25521632562293706, 'eta': 0.32427479233267953}. Best is trial 28 with value: 0.6705555555555555.\u001b[0m\n"
     ]
    },
    {
     "name": "stdout",
     "output_type": "stream",
     "text": [
      "0.6705555555555555\n"
     ]
    },
    {
     "name": "stderr",
     "output_type": "stream",
     "text": [
      "/Users/akihito/.pyenv/versions/3.8.5/lib/python3.8/site-packages/sklearn/model_selection/_split.py:670: UserWarning: The least populated class in y has only 82 members, which is less than n_splits=90.\n",
      "  warnings.warn((\"The least populated class in y has only %d\"\n",
      "\u001b[32m[I 2020-12-15 04:48:23,930]\u001b[0m Trial 29 finished with value: 0.6238888888888888 and parameters: {'learning_rate': 0.3634692354622531, 'max_depth': 18, 'n_estimators': 112, 'min_child_weight': 6, 'gamma': 2.048443904971312, 'subsample': 0.2475691631355389, 'eta': 0.3946626472964454}. Best is trial 28 with value: 0.6705555555555555.\u001b[0m\n"
     ]
    },
    {
     "name": "stdout",
     "output_type": "stream",
     "text": [
      "0.6238888888888888\n"
     ]
    },
    {
     "name": "stderr",
     "output_type": "stream",
     "text": [
      "/Users/akihito/.pyenv/versions/3.8.5/lib/python3.8/site-packages/sklearn/model_selection/_split.py:670: UserWarning: The least populated class in y has only 82 members, which is less than n_splits=90.\n",
      "  warnings.warn((\"The least populated class in y has only %d\"\n",
      "\u001b[32m[I 2020-12-15 04:49:00,817]\u001b[0m Trial 30 finished with value: 0.6211111111111111 and parameters: {'learning_rate': 0.2746120385848188, 'max_depth': 17, 'n_estimators': 79, 'min_child_weight': 2, 'gamma': 1.3514749365302203, 'subsample': 0.146902272581807, 'eta': 0.4853568274428322}. Best is trial 28 with value: 0.6705555555555555.\u001b[0m\n"
     ]
    },
    {
     "name": "stdout",
     "output_type": "stream",
     "text": [
      "0.6211111111111111\n"
     ]
    },
    {
     "name": "stderr",
     "output_type": "stream",
     "text": [
      "/Users/akihito/.pyenv/versions/3.8.5/lib/python3.8/site-packages/sklearn/model_selection/_split.py:670: UserWarning: The least populated class in y has only 82 members, which is less than n_splits=90.\n",
      "  warnings.warn((\"The least populated class in y has only %d\"\n",
      "\u001b[32m[I 2020-12-15 04:49:43,414]\u001b[0m Trial 31 finished with value: 0.6472222222222223 and parameters: {'learning_rate': 0.3906820566603058, 'max_depth': 20, 'n_estimators': 157, 'min_child_weight': 4, 'gamma': 0.48114320690683876, 'subsample': 0.26647797271774654, 'eta': 0.3273799814392277}. Best is trial 28 with value: 0.6705555555555555.\u001b[0m\n"
     ]
    },
    {
     "name": "stdout",
     "output_type": "stream",
     "text": [
      "0.6472222222222223\n"
     ]
    },
    {
     "name": "stderr",
     "output_type": "stream",
     "text": [
      "/Users/akihito/.pyenv/versions/3.8.5/lib/python3.8/site-packages/sklearn/model_selection/_split.py:670: UserWarning: The least populated class in y has only 82 members, which is less than n_splits=90.\n",
      "  warnings.warn((\"The least populated class in y has only %d\"\n",
      "\u001b[32m[I 2020-12-15 04:50:08,071]\u001b[0m Trial 32 finished with value: 0.6461111111111111 and parameters: {'learning_rate': 0.4821327227374468, 'max_depth': 11, 'n_estimators': 90, 'min_child_weight': 5, 'gamma': 0.6771182387855207, 'subsample': 0.4135585586632812, 'eta': 0.2840890497466444}. Best is trial 28 with value: 0.6705555555555555.\u001b[0m\n"
     ]
    },
    {
     "name": "stdout",
     "output_type": "stream",
     "text": [
      "0.6461111111111111\n"
     ]
    },
    {
     "name": "stderr",
     "output_type": "stream",
     "text": [
      "/Users/akihito/.pyenv/versions/3.8.5/lib/python3.8/site-packages/sklearn/model_selection/_split.py:670: UserWarning: The least populated class in y has only 82 members, which is less than n_splits=90.\n",
      "  warnings.warn((\"The least populated class in y has only %d\"\n",
      "\u001b[32m[I 2020-12-15 04:50:24,246]\u001b[0m Trial 33 finished with value: 0.6311111111111111 and parameters: {'learning_rate': 0.2987554430019158, 'max_depth': 15, 'n_estimators': 51, 'min_child_weight': 3, 'gamma': 0.2890751292689018, 'subsample': 0.2759214234842494, 'eta': 0.3310019758778162}. Best is trial 28 with value: 0.6705555555555555.\u001b[0m\n"
     ]
    },
    {
     "name": "stdout",
     "output_type": "stream",
     "text": [
      "0.6311111111111111\n"
     ]
    },
    {
     "name": "stderr",
     "output_type": "stream",
     "text": [
      "/Users/akihito/.pyenv/versions/3.8.5/lib/python3.8/site-packages/sklearn/model_selection/_split.py:670: UserWarning: The least populated class in y has only 82 members, which is less than n_splits=90.\n",
      "  warnings.warn((\"The least populated class in y has only %d\"\n",
      "\u001b[32m[I 2020-12-15 04:51:37,157]\u001b[0m Trial 34 finished with value: 0.6355555555555555 and parameters: {'learning_rate': 0.5274367410875985, 'max_depth': 14, 'n_estimators': 212, 'min_child_weight': 4, 'gamma': 1.2487504154912423, 'subsample': 0.14561355458572517, 'eta': 0.22800658287254227}. Best is trial 28 with value: 0.6705555555555555.\u001b[0m\n"
     ]
    },
    {
     "name": "stdout",
     "output_type": "stream",
     "text": [
      "0.6355555555555555\n"
     ]
    },
    {
     "name": "stderr",
     "output_type": "stream",
     "text": [
      "/Users/akihito/.pyenv/versions/3.8.5/lib/python3.8/site-packages/sklearn/model_selection/_split.py:670: UserWarning: The least populated class in y has only 82 members, which is less than n_splits=90.\n",
      "  warnings.warn((\"The least populated class in y has only %d\"\n",
      "\u001b[32m[I 2020-12-15 04:52:49,372]\u001b[0m Trial 35 finished with value: 0.6544444444444444 and parameters: {'learning_rate': 0.3865962267490794, 'max_depth': 16, 'n_estimators': 256, 'min_child_weight': 5, 'gamma': 0.8295470378317816, 'subsample': 0.5373509467360363, 'eta': 0.3920584524656218}. Best is trial 28 with value: 0.6705555555555555.\u001b[0m\n"
     ]
    },
    {
     "name": "stdout",
     "output_type": "stream",
     "text": [
      "0.6544444444444444\n"
     ]
    },
    {
     "name": "stderr",
     "output_type": "stream",
     "text": [
      "/Users/akihito/.pyenv/versions/3.8.5/lib/python3.8/site-packages/sklearn/model_selection/_split.py:670: UserWarning: The least populated class in y has only 82 members, which is less than n_splits=90.\n",
      "  warnings.warn((\"The least populated class in y has only %d\"\n",
      "\u001b[32m[I 2020-12-15 04:54:49,828]\u001b[0m Trial 36 finished with value: 0.6416666666666667 and parameters: {'learning_rate': 0.019067201772633657, 'max_depth': 16, 'n_estimators': 324, 'min_child_weight': 6, 'gamma': 2.194089997368015, 'subsample': 0.42480567014020604, 'eta': 0.41886342222891076}. Best is trial 28 with value: 0.6705555555555555.\u001b[0m\n"
     ]
    },
    {
     "name": "stdout",
     "output_type": "stream",
     "text": [
      "0.6416666666666667\n"
     ]
    },
    {
     "name": "stderr",
     "output_type": "stream",
     "text": [
      "/Users/akihito/.pyenv/versions/3.8.5/lib/python3.8/site-packages/sklearn/model_selection/_split.py:670: UserWarning: The least populated class in y has only 82 members, which is less than n_splits=90.\n",
      "  warnings.warn((\"The least populated class in y has only %d\"\n",
      "\u001b[32m[I 2020-12-15 04:57:08,657]\u001b[0m Trial 37 finished with value: 0.6399999999999999 and parameters: {'learning_rate': 0.1801658576911518, 'max_depth': 16, 'n_estimators': 380, 'min_child_weight': 5, 'gamma': 1.8005922437068145, 'subsample': 0.5183181223063155, 'eta': 0.3902999077659854}. Best is trial 28 with value: 0.6705555555555555.\u001b[0m\n"
     ]
    },
    {
     "name": "stdout",
     "output_type": "stream",
     "text": [
      "0.6399999999999999\n"
     ]
    },
    {
     "name": "stderr",
     "output_type": "stream",
     "text": [
      "/Users/akihito/.pyenv/versions/3.8.5/lib/python3.8/site-packages/sklearn/model_selection/_split.py:670: UserWarning: The least populated class in y has only 82 members, which is less than n_splits=90.\n",
      "  warnings.warn((\"The least populated class in y has only %d\"\n",
      "\u001b[32m[I 2020-12-15 04:58:37,224]\u001b[0m Trial 38 finished with value: 0.6377777777777778 and parameters: {'learning_rate': 0.3408009253610973, 'max_depth': 18, 'n_estimators': 262, 'min_child_weight': 5, 'gamma': 1.4869252735186371, 'subsample': 0.5535535898892606, 'eta': 0.47779720562386757}. Best is trial 28 with value: 0.6705555555555555.\u001b[0m\n"
     ]
    },
    {
     "name": "stdout",
     "output_type": "stream",
     "text": [
      "0.6377777777777778\n"
     ]
    },
    {
     "name": "stderr",
     "output_type": "stream",
     "text": [
      "/Users/akihito/.pyenv/versions/3.8.5/lib/python3.8/site-packages/sklearn/model_selection/_split.py:670: UserWarning: The least populated class in y has only 82 members, which is less than n_splits=90.\n",
      "  warnings.warn((\"The least populated class in y has only %d\"\n",
      "\u001b[32m[I 2020-12-15 04:59:12,837]\u001b[0m Trial 39 finished with value: 0.6494444444444445 and parameters: {'learning_rate': 0.37347502180403086, 'max_depth': 14, 'n_estimators': 147, 'min_child_weight': 8, 'gamma': 1.0253896710184787, 'subsample': 0.29686770607534974, 'eta': 0.4236196074501576}. Best is trial 28 with value: 0.6705555555555555.\u001b[0m\n"
     ]
    },
    {
     "name": "stdout",
     "output_type": "stream",
     "text": [
      "0.6494444444444445\n"
     ]
    },
    {
     "name": "stderr",
     "output_type": "stream",
     "text": [
      "/Users/akihito/.pyenv/versions/3.8.5/lib/python3.8/site-packages/sklearn/model_selection/_split.py:670: UserWarning: The least populated class in y has only 82 members, which is less than n_splits=90.\n",
      "  warnings.warn((\"The least populated class in y has only %d\"\n",
      "\u001b[32m[I 2020-12-15 05:01:42,764]\u001b[0m Trial 40 finished with value: 0.5933333333333334 and parameters: {'learning_rate': 0.29397011429990866, 'max_depth': 19, 'n_estimators': 316, 'min_child_weight': 3, 'gamma': 3.779669762471805, 'subsample': 0.035896334544405106, 'eta': 0.46563978081862667}. Best is trial 28 with value: 0.6705555555555555.\u001b[0m\n"
     ]
    },
    {
     "name": "stdout",
     "output_type": "stream",
     "text": [
      "0.5933333333333334\n"
     ]
    },
    {
     "name": "stderr",
     "output_type": "stream",
     "text": [
      "/Users/akihito/.pyenv/versions/3.8.5/lib/python3.8/site-packages/sklearn/model_selection/_split.py:670: UserWarning: The least populated class in y has only 82 members, which is less than n_splits=90.\n",
      "  warnings.warn((\"The least populated class in y has only %d\"\n",
      "\u001b[32m[I 2020-12-15 05:02:54,408]\u001b[0m Trial 41 finished with value: 0.6605555555555556 and parameters: {'learning_rate': 0.43325358608092285, 'max_depth': 17, 'n_estimators': 237, 'min_child_weight': 4, 'gamma': 0.7837404202295029, 'subsample': 0.6963201392874865, 'eta': 0.34361146604990517}. Best is trial 28 with value: 0.6705555555555555.\u001b[0m\n"
     ]
    },
    {
     "name": "stdout",
     "output_type": "stream",
     "text": [
      "0.6605555555555556\n"
     ]
    },
    {
     "name": "stderr",
     "output_type": "stream",
     "text": [
      "/Users/akihito/.pyenv/versions/3.8.5/lib/python3.8/site-packages/sklearn/model_selection/_split.py:670: UserWarning: The least populated class in y has only 82 members, which is less than n_splits=90.\n",
      "  warnings.warn((\"The least populated class in y has only %d\"\n",
      "\u001b[32m[I 2020-12-15 05:04:09,890]\u001b[0m Trial 42 finished with value: 0.6272222222222222 and parameters: {'learning_rate': 0.5668917516216505, 'max_depth': 17, 'n_estimators': 263, 'min_child_weight': 4, 'gamma': 0.7164561352299927, 'subsample': 0.7438071277041927, 'eta': 0.3383213852428659}. Best is trial 28 with value: 0.6705555555555555.\u001b[0m\n"
     ]
    },
    {
     "name": "stdout",
     "output_type": "stream",
     "text": [
      "0.6272222222222222\n"
     ]
    },
    {
     "name": "stderr",
     "output_type": "stream",
     "text": [
      "/Users/akihito/.pyenv/versions/3.8.5/lib/python3.8/site-packages/sklearn/model_selection/_split.py:670: UserWarning: The least populated class in y has only 82 members, which is less than n_splits=90.\n",
      "  warnings.warn((\"The least populated class in y has only %d\"\n",
      "\u001b[32m[I 2020-12-15 05:04:49,595]\u001b[0m Trial 43 finished with value: 0.6461111111111111 and parameters: {'learning_rate': 0.43535532985875464, 'max_depth': 19, 'n_estimators': 178, 'min_child_weight': 5, 'gamma': 0.408494106474017, 'subsample': 0.8618837969674167, 'eta': 0.3736817561386087}. Best is trial 28 with value: 0.6705555555555555.\u001b[0m\n"
     ]
    },
    {
     "name": "stdout",
     "output_type": "stream",
     "text": [
      "0.6461111111111111\n"
     ]
    },
    {
     "name": "stderr",
     "output_type": "stream",
     "text": [
      "/Users/akihito/.pyenv/versions/3.8.5/lib/python3.8/site-packages/sklearn/model_selection/_split.py:670: UserWarning: The least populated class in y has only 82 members, which is less than n_splits=90.\n",
      "  warnings.warn((\"The least populated class in y has only %d\"\n",
      "\u001b[32m[I 2020-12-15 05:05:22,406]\u001b[0m Trial 44 finished with value: 0.6427777777777777 and parameters: {'learning_rate': 0.47457383902671385, 'max_depth': 16, 'n_estimators': 103, 'min_child_weight': 4, 'gamma': 0.8657108237035691, 'subsample': 0.16805905317159742, 'eta': 0.3507482467209774}. Best is trial 28 with value: 0.6705555555555555.\u001b[0m\n"
     ]
    },
    {
     "name": "stdout",
     "output_type": "stream",
     "text": [
      "0.6427777777777777\n"
     ]
    },
    {
     "name": "stderr",
     "output_type": "stream",
     "text": [
      "/Users/akihito/.pyenv/versions/3.8.5/lib/python3.8/site-packages/sklearn/model_selection/_split.py:670: UserWarning: The least populated class in y has only 82 members, which is less than n_splits=90.\n",
      "  warnings.warn((\"The least populated class in y has only %d\"\n",
      "\u001b[32m[I 2020-12-15 05:07:01,817]\u001b[0m Trial 45 finished with value: 0.6016666666666667 and parameters: {'learning_rate': 0.4037936136403609, 'max_depth': 15, 'n_estimators': 286, 'min_child_weight': 6, 'gamma': 2.4935869479427466, 'subsample': 0.46276124771386695, 'eta': 0.41435595238536377}. Best is trial 28 with value: 0.6705555555555555.\u001b[0m\n"
     ]
    },
    {
     "name": "stdout",
     "output_type": "stream",
     "text": [
      "0.6016666666666667\n"
     ]
    },
    {
     "name": "stderr",
     "output_type": "stream",
     "text": [
      "/Users/akihito/.pyenv/versions/3.8.5/lib/python3.8/site-packages/sklearn/model_selection/_split.py:670: UserWarning: The least populated class in y has only 82 members, which is less than n_splits=90.\n",
      "  warnings.warn((\"The least populated class in y has only %d\"\n",
      "\u001b[32m[I 2020-12-15 05:08:20,426]\u001b[0m Trial 46 finished with value: 0.6394444444444444 and parameters: {'learning_rate': 0.34372699059547657, 'max_depth': 13, 'n_estimators': 207, 'min_child_weight': 2, 'gamma': 0.6189531888635629, 'subsample': 0.9993224193027539, 'eta': 0.32278168700709625}. Best is trial 28 with value: 0.6705555555555555.\u001b[0m\n"
     ]
    },
    {
     "name": "stdout",
     "output_type": "stream",
     "text": [
      "0.6394444444444444\n"
     ]
    },
    {
     "name": "stderr",
     "output_type": "stream",
     "text": [
      "/Users/akihito/.pyenv/versions/3.8.5/lib/python3.8/site-packages/sklearn/model_selection/_split.py:670: UserWarning: The least populated class in y has only 82 members, which is less than n_splits=90.\n",
      "  warnings.warn((\"The least populated class in y has only %d\"\n",
      "\u001b[32m[I 2020-12-15 05:09:12,097]\u001b[0m Trial 47 finished with value: 0.6161111111111112 and parameters: {'learning_rate': 0.6685640242578856, 'max_depth': 18, 'n_estimators': 237, 'min_child_weight': 3, 'gamma': 0.22972084786398206, 'subsample': 0.3709099547823131, 'eta': 0.38295151373965725}. Best is trial 28 with value: 0.6705555555555555.\u001b[0m\n"
     ]
    },
    {
     "name": "stdout",
     "output_type": "stream",
     "text": [
      "0.6161111111111112\n"
     ]
    },
    {
     "name": "stderr",
     "output_type": "stream",
     "text": [
      "/Users/akihito/.pyenv/versions/3.8.5/lib/python3.8/site-packages/sklearn/model_selection/_split.py:670: UserWarning: The least populated class in y has only 82 members, which is less than n_splits=90.\n",
      "  warnings.warn((\"The least populated class in y has only %d\"\n",
      "\u001b[32m[I 2020-12-15 05:09:32,277]\u001b[0m Trial 48 finished with value: 0.6477777777777778 and parameters: {'learning_rate': 0.5378445608594868, 'max_depth': 17, 'n_estimators': 61, 'min_child_weight': 5, 'gamma': 1.2508416010225436, 'subsample': 0.7005320002144275, 'eta': 0.40528833988889684}. Best is trial 28 with value: 0.6705555555555555.\u001b[0m\n"
     ]
    },
    {
     "name": "stdout",
     "output_type": "stream",
     "text": [
      "0.6477777777777778\n"
     ]
    },
    {
     "name": "stderr",
     "output_type": "stream",
     "text": [
      "/Users/akihito/.pyenv/versions/3.8.5/lib/python3.8/site-packages/sklearn/model_selection/_split.py:670: UserWarning: The least populated class in y has only 82 members, which is less than n_splits=90.\n",
      "  warnings.warn((\"The least populated class in y has only %d\"\n",
      "\u001b[32m[I 2020-12-15 05:10:24,880]\u001b[0m Trial 49 finished with value: 0.6272222222222222 and parameters: {'learning_rate': 0.86478438730812, 'max_depth': 19, 'n_estimators': 173, 'min_child_weight': 4, 'gamma': 0.9902311227978435, 'subsample': 0.09759794799538998, 'eta': 0.3555250250514683}. Best is trial 28 with value: 0.6705555555555555.\u001b[0m\n"
     ]
    },
    {
     "name": "stdout",
     "output_type": "stream",
     "text": [
      "0.6272222222222222\n"
     ]
    },
    {
     "name": "stderr",
     "output_type": "stream",
     "text": [
      "/Users/akihito/.pyenv/versions/3.8.5/lib/python3.8/site-packages/sklearn/model_selection/_split.py:670: UserWarning: The least populated class in y has only 82 members, which is less than n_splits=90.\n",
      "  warnings.warn((\"The least populated class in y has only %d\"\n",
      "\u001b[32m[I 2020-12-15 05:11:12,802]\u001b[0m Trial 50 finished with value: 0.6505555555555556 and parameters: {'learning_rate': 0.19804522391575077, 'max_depth': 16, 'n_estimators': 362, 'min_child_weight': 6, 'gamma': 0.022323186357737224, 'subsample': 0.9359909442550104, 'eta': 0.3465959676063349}. Best is trial 28 with value: 0.6705555555555555.\u001b[0m\n"
     ]
    },
    {
     "name": "stdout",
     "output_type": "stream",
     "text": [
      "0.6505555555555556\n"
     ]
    },
    {
     "name": "stderr",
     "output_type": "stream",
     "text": [
      "/Users/akihito/.pyenv/versions/3.8.5/lib/python3.8/site-packages/sklearn/model_selection/_split.py:670: UserWarning: The least populated class in y has only 82 members, which is less than n_splits=90.\n",
      "  warnings.warn((\"The least populated class in y has only %d\"\n",
      "\u001b[32m[I 2020-12-15 05:11:48,977]\u001b[0m Trial 51 finished with value: 0.6405555555555555 and parameters: {'learning_rate': 0.44326031350991113, 'max_depth': 2, 'n_estimators': 246, 'min_child_weight': 4, 'gamma': 0.7862780691141347, 'subsample': 0.6539416111538424, 'eta': 0.30637504787310316}. Best is trial 28 with value: 0.6705555555555555.\u001b[0m\n"
     ]
    },
    {
     "name": "stdout",
     "output_type": "stream",
     "text": [
      "0.6405555555555555\n"
     ]
    },
    {
     "name": "stderr",
     "output_type": "stream",
     "text": [
      "/Users/akihito/.pyenv/versions/3.8.5/lib/python3.8/site-packages/sklearn/model_selection/_split.py:670: UserWarning: The least populated class in y has only 82 members, which is less than n_splits=90.\n",
      "  warnings.warn((\"The least populated class in y has only %d\"\n",
      "\u001b[32m[I 2020-12-15 05:12:47,286]\u001b[0m Trial 52 finished with value: 0.6511111111111111 and parameters: {'learning_rate': 0.4307918907012224, 'max_depth': 10, 'n_estimators': 222, 'min_child_weight': 4, 'gamma': 0.47178436024345555, 'subsample': 0.5790564047292414, 'eta': 0.28118142442691424}. Best is trial 28 with value: 0.6705555555555555.\u001b[0m\n"
     ]
    },
    {
     "name": "stdout",
     "output_type": "stream",
     "text": [
      "0.6511111111111111\n"
     ]
    },
    {
     "name": "stderr",
     "output_type": "stream",
     "text": [
      "/Users/akihito/.pyenv/versions/3.8.5/lib/python3.8/site-packages/sklearn/model_selection/_split.py:670: UserWarning: The least populated class in y has only 82 members, which is less than n_splits=90.\n",
      "  warnings.warn((\"The least populated class in y has only %d\"\n",
      "\u001b[32m[I 2020-12-15 05:13:57,314]\u001b[0m Trial 53 finished with value: 0.6566666666666667 and parameters: {'learning_rate': 0.48048762634998016, 'max_depth': 4, 'n_estimators': 275, 'min_child_weight': 5, 'gamma': 1.5499404784826112, 'subsample': 0.7376345429992058, 'eta': 0.243098414919669}. Best is trial 28 with value: 0.6705555555555555.\u001b[0m\n"
     ]
    },
    {
     "name": "stdout",
     "output_type": "stream",
     "text": [
      "0.6566666666666667\n"
     ]
    },
    {
     "name": "stderr",
     "output_type": "stream",
     "text": [
      "/Users/akihito/.pyenv/versions/3.8.5/lib/python3.8/site-packages/sklearn/model_selection/_split.py:670: UserWarning: The least populated class in y has only 82 members, which is less than n_splits=90.\n",
      "  warnings.warn((\"The least populated class in y has only %d\"\n",
      "\u001b[32m[I 2020-12-15 05:15:56,733]\u001b[0m Trial 54 finished with value: 0.625 and parameters: {'learning_rate': 0.5032355891048561, 'max_depth': 18, 'n_estimators': 340, 'min_child_weight': 5, 'gamma': 2.0022011273916096, 'subsample': 0.7299441978884309, 'eta': 0.24300896677454303}. Best is trial 28 with value: 0.6705555555555555.\u001b[0m\n"
     ]
    },
    {
     "name": "stdout",
     "output_type": "stream",
     "text": [
      "0.625\n"
     ]
    },
    {
     "name": "stderr",
     "output_type": "stream",
     "text": [
      "/Users/akihito/.pyenv/versions/3.8.5/lib/python3.8/site-packages/sklearn/model_selection/_split.py:670: UserWarning: The least populated class in y has only 82 members, which is less than n_splits=90.\n",
      "  warnings.warn((\"The least populated class in y has only %d\"\n",
      "\u001b[32m[I 2020-12-15 05:17:37,255]\u001b[0m Trial 55 finished with value: 0.5983333333333333 and parameters: {'learning_rate': 0.5667537172170345, 'max_depth': 13, 'n_estimators': 306, 'min_child_weight': 5, 'gamma': 1.5623038184369222, 'subsample': 0.8045717720656673, 'eta': 0.20384423912961325}. Best is trial 28 with value: 0.6705555555555555.\u001b[0m\n"
     ]
    },
    {
     "name": "stdout",
     "output_type": "stream",
     "text": [
      "0.5983333333333333\n"
     ]
    },
    {
     "name": "stderr",
     "output_type": "stream",
     "text": [
      "/Users/akihito/.pyenv/versions/3.8.5/lib/python3.8/site-packages/sklearn/model_selection/_split.py:670: UserWarning: The least populated class in y has only 82 members, which is less than n_splits=90.\n",
      "  warnings.warn((\"The least populated class in y has only %d\"\n",
      "\u001b[32m[I 2020-12-15 05:19:28,990]\u001b[0m Trial 56 finished with value: 0.6255555555555555 and parameters: {'learning_rate': 0.39125710566740735, 'max_depth': 11, 'n_estimators': 281, 'min_child_weight': 3, 'gamma': 1.4113389984097275, 'subsample': 0.4631963547885102, 'eta': 0.12378108764642351}. Best is trial 28 with value: 0.6705555555555555.\u001b[0m\n"
     ]
    },
    {
     "name": "stdout",
     "output_type": "stream",
     "text": [
      "0.6255555555555555\n"
     ]
    },
    {
     "name": "stderr",
     "output_type": "stream",
     "text": [
      "/Users/akihito/.pyenv/versions/3.8.5/lib/python3.8/site-packages/sklearn/model_selection/_split.py:670: UserWarning: The least populated class in y has only 82 members, which is less than n_splits=90.\n",
      "  warnings.warn((\"The least populated class in y has only %d\"\n",
      "\u001b[32m[I 2020-12-15 05:20:36,184]\u001b[0m Trial 57 finished with value: 0.6516666666666666 and parameters: {'learning_rate': 0.28305415958087693, 'max_depth': 4, 'n_estimators': 255, 'min_child_weight': 5, 'gamma': 1.8921222180673891, 'subsample': 0.8029574032620541, 'eta': 0.24538753238537006}. Best is trial 28 with value: 0.6705555555555555.\u001b[0m\n"
     ]
    },
    {
     "name": "stdout",
     "output_type": "stream",
     "text": [
      "0.6516666666666666\n"
     ]
    },
    {
     "name": "stderr",
     "output_type": "stream",
     "text": [
      "/Users/akihito/.pyenv/versions/3.8.5/lib/python3.8/site-packages/sklearn/model_selection/_split.py:670: UserWarning: The least populated class in y has only 82 members, which is less than n_splits=90.\n",
      "  warnings.warn((\"The least populated class in y has only %d\"\n",
      "\u001b[32m[I 2020-12-15 05:22:10,374]\u001b[0m Trial 58 finished with value: 0.6166666666666667 and parameters: {'learning_rate': 0.471880695051021, 'max_depth': 15, 'n_estimators': 274, 'min_child_weight': 6, 'gamma': 2.4716598787809927, 'subsample': 0.9036398504222062, 'eta': 0.27050586952141636}. Best is trial 28 with value: 0.6705555555555555.\u001b[0m\n"
     ]
    },
    {
     "name": "stdout",
     "output_type": "stream",
     "text": [
      "0.6166666666666667\n"
     ]
    },
    {
     "name": "stderr",
     "output_type": "stream",
     "text": [
      "/Users/akihito/.pyenv/versions/3.8.5/lib/python3.8/site-packages/sklearn/model_selection/_split.py:670: UserWarning: The least populated class in y has only 82 members, which is less than n_splits=90.\n",
      "  warnings.warn((\"The least populated class in y has only %d\"\n",
      "\u001b[32m[I 2020-12-15 05:23:20,843]\u001b[0m Trial 59 finished with value: 0.6166666666666667 and parameters: {'learning_rate': 0.6372627597077581, 'max_depth': 20, 'n_estimators': 197, 'min_child_weight': 4, 'gamma': 1.6511541209020417, 'subsample': 0.3033872946205598, 'eta': 0.31688954193074836}. Best is trial 28 with value: 0.6705555555555555.\u001b[0m\n"
     ]
    },
    {
     "name": "stdout",
     "output_type": "stream",
     "text": [
      "0.6166666666666667\n"
     ]
    },
    {
     "name": "stderr",
     "output_type": "stream",
     "text": [
      "/Users/akihito/.pyenv/versions/3.8.5/lib/python3.8/site-packages/sklearn/model_selection/_split.py:670: UserWarning: The least populated class in y has only 82 members, which is less than n_splits=90.\n",
      "  warnings.warn((\"The least populated class in y has only %d\"\n",
      "\u001b[32m[I 2020-12-15 05:24:39,536]\u001b[0m Trial 60 finished with value: 0.6488888888888888 and parameters: {'learning_rate': 0.315344726151585, 'max_depth': 17, 'n_estimators': 296, 'min_child_weight': 7, 'gamma': 1.0975945339312878, 'subsample': 0.19822455893698215, 'eta': 0.19702352661978487}. Best is trial 28 with value: 0.6705555555555555.\u001b[0m\n"
     ]
    },
    {
     "name": "stdout",
     "output_type": "stream",
     "text": [
      "0.6488888888888888\n"
     ]
    },
    {
     "name": "stderr",
     "output_type": "stream",
     "text": [
      "/Users/akihito/.pyenv/versions/3.8.5/lib/python3.8/site-packages/sklearn/model_selection/_split.py:670: UserWarning: The least populated class in y has only 82 members, which is less than n_splits=90.\n",
      "  warnings.warn((\"The least populated class in y has only %d\"\n",
      "\u001b[32m[I 2020-12-15 05:25:34,971]\u001b[0m Trial 61 finished with value: 0.635 and parameters: {'learning_rate': 0.4206930731271841, 'max_depth': 4, 'n_estimators': 222, 'min_child_weight': 4, 'gamma': 0.8945260257063391, 'subsample': 0.6665521389320428, 'eta': 0.29803642574593353}. Best is trial 28 with value: 0.6705555555555555.\u001b[0m\n"
     ]
    },
    {
     "name": "stdout",
     "output_type": "stream",
     "text": [
      "0.635\n"
     ]
    },
    {
     "name": "stderr",
     "output_type": "stream",
     "text": [
      "/Users/akihito/.pyenv/versions/3.8.5/lib/python3.8/site-packages/sklearn/model_selection/_split.py:670: UserWarning: The least populated class in y has only 82 members, which is less than n_splits=90.\n",
      "  warnings.warn((\"The least populated class in y has only %d\"\n",
      "\u001b[32m[I 2020-12-15 05:26:33,729]\u001b[0m Trial 62 finished with value: 0.648888888888889 and parameters: {'learning_rate': 0.3654815129853919, 'max_depth': 6, 'n_estimators': 239, 'min_child_weight': 3, 'gamma': 0.27186528495959594, 'subsample': 0.6380222708049048, 'eta': 0.2500746645289797}. Best is trial 28 with value: 0.6705555555555555.\u001b[0m\n"
     ]
    },
    {
     "name": "stdout",
     "output_type": "stream",
     "text": [
      "0.648888888888889\n"
     ]
    },
    {
     "name": "stderr",
     "output_type": "stream",
     "text": [
      "/Users/akihito/.pyenv/versions/3.8.5/lib/python3.8/site-packages/sklearn/model_selection/_split.py:670: UserWarning: The least populated class in y has only 82 members, which is less than n_splits=90.\n",
      "  warnings.warn((\"The least populated class in y has only %d\"\n",
      "\u001b[32m[I 2020-12-15 05:26:58,208]\u001b[0m Trial 63 finished with value: 0.6472222222222223 and parameters: {'learning_rate': 0.4629348585662134, 'max_depth': 3, 'n_estimators': 127, 'min_child_weight': 5, 'gamma': 0.6218732805973601, 'subsample': 0.688189446535094, 'eta': 0.27516987608520527}. Best is trial 28 with value: 0.6705555555555555.\u001b[0m\n"
     ]
    },
    {
     "name": "stdout",
     "output_type": "stream",
     "text": [
      "0.6472222222222223\n"
     ]
    },
    {
     "name": "stderr",
     "output_type": "stream",
     "text": [
      "/Users/akihito/.pyenv/versions/3.8.5/lib/python3.8/site-packages/sklearn/model_selection/_split.py:670: UserWarning: The least populated class in y has only 82 members, which is less than n_splits=90.\n",
      "  warnings.warn((\"The least populated class in y has only %d\"\n",
      "\u001b[32m[I 2020-12-15 05:28:29,306]\u001b[0m Trial 64 finished with value: 0.6416666666666667 and parameters: {'learning_rate': 0.5085423139839108, 'max_depth': 8, 'n_estimators': 270, 'min_child_weight': 4, 'gamma': 1.2327507769948, 'subsample': 0.7410710095532982, 'eta': 0.30843253211912536}. Best is trial 28 with value: 0.6705555555555555.\u001b[0m\n"
     ]
    },
    {
     "name": "stdout",
     "output_type": "stream",
     "text": [
      "0.6416666666666667\n"
     ]
    },
    {
     "name": "stderr",
     "output_type": "stream",
     "text": [
      "/Users/akihito/.pyenv/versions/3.8.5/lib/python3.8/site-packages/sklearn/model_selection/_split.py:670: UserWarning: The least populated class in y has only 82 members, which is less than n_splits=90.\n",
      "  warnings.warn((\"The least populated class in y has only %d\"\n",
      "\u001b[32m[I 2020-12-15 05:29:28,868]\u001b[0m Trial 65 finished with value: 0.6522222222222223 and parameters: {'learning_rate': 0.25134822650183947, 'max_depth': 7, 'n_estimators': 189, 'min_child_weight': 4, 'gamma': 0.7850155623491363, 'subsample': 0.5961238108484108, 'eta': 0.36894595583645273}. Best is trial 28 with value: 0.6705555555555555.\u001b[0m\n"
     ]
    },
    {
     "name": "stdout",
     "output_type": "stream",
     "text": [
      "0.6522222222222223\n"
     ]
    },
    {
     "name": "stderr",
     "output_type": "stream",
     "text": [
      "/Users/akihito/.pyenv/versions/3.8.5/lib/python3.8/site-packages/sklearn/model_selection/_split.py:670: UserWarning: The least populated class in y has only 82 members, which is less than n_splits=90.\n",
      "  warnings.warn((\"The least populated class in y has only %d\"\n",
      "\u001b[32m[I 2020-12-15 05:30:20,985]\u001b[0m Trial 66 finished with value: 0.6633333333333333 and parameters: {'learning_rate': 0.556030577363393, 'max_depth': 5, 'n_estimators': 254, 'min_child_weight': 5, 'gamma': 0.37595178579348476, 'subsample': 0.4937447074741445, 'eta': 0.1627006981371237}. Best is trial 28 with value: 0.6705555555555555.\u001b[0m\n"
     ]
    },
    {
     "name": "stdout",
     "output_type": "stream",
     "text": [
      "0.6633333333333333\n"
     ]
    },
    {
     "name": "stderr",
     "output_type": "stream",
     "text": [
      "/Users/akihito/.pyenv/versions/3.8.5/lib/python3.8/site-packages/sklearn/model_selection/_split.py:670: UserWarning: The least populated class in y has only 82 members, which is less than n_splits=90.\n",
      "  warnings.warn((\"The least populated class in y has only %d\"\n",
      "\u001b[32m[I 2020-12-15 05:30:53,946]\u001b[0m Trial 67 finished with value: 0.6361111111111111 and parameters: {'learning_rate': 0.6957371111070998, 'max_depth': 5, 'n_estimators': 251, 'min_child_weight': 6, 'gamma': 0.09477580988573131, 'subsample': 0.5038240512719022, 'eta': 0.15940981738464247}. Best is trial 28 with value: 0.6705555555555555.\u001b[0m\n"
     ]
    },
    {
     "name": "stdout",
     "output_type": "stream",
     "text": [
      "0.6361111111111111\n"
     ]
    },
    {
     "name": "stderr",
     "output_type": "stream",
     "text": [
      "/Users/akihito/.pyenv/versions/3.8.5/lib/python3.8/site-packages/sklearn/model_selection/_split.py:670: UserWarning: The least populated class in y has only 82 members, which is less than n_splits=90.\n",
      "  warnings.warn((\"The least populated class in y has only %d\"\n",
      "\u001b[32m[I 2020-12-15 05:31:54,113]\u001b[0m Trial 68 finished with value: 0.6188888888888889 and parameters: {'learning_rate': 0.5612998950012107, 'max_depth': 4, 'n_estimators': 313, 'min_child_weight': 5, 'gamma': 0.3587446568833029, 'subsample': 0.4374605186139608, 'eta': 0.11947095719633086}. Best is trial 28 with value: 0.6705555555555555.\u001b[0m\n"
     ]
    },
    {
     "name": "stdout",
     "output_type": "stream",
     "text": [
      "0.6188888888888889\n"
     ]
    },
    {
     "name": "stderr",
     "output_type": "stream",
     "text": [
      "/Users/akihito/.pyenv/versions/3.8.5/lib/python3.8/site-packages/sklearn/model_selection/_split.py:670: UserWarning: The least populated class in y has only 82 members, which is less than n_splits=90.\n",
      "  warnings.warn((\"The least populated class in y has only %d\"\n",
      "\u001b[32m[I 2020-12-15 05:33:30,734]\u001b[0m Trial 69 finished with value: 0.5994444444444444 and parameters: {'learning_rate': 0.3803143614227731, 'max_depth': 3, 'n_estimators': 455, 'min_child_weight': 5, 'gamma': 2.958568365952929, 'subsample': 0.3563251715416814, 'eta': 0.16467087754886897}. Best is trial 28 with value: 0.6705555555555555.\u001b[0m\n"
     ]
    },
    {
     "name": "stdout",
     "output_type": "stream",
     "text": [
      "0.5994444444444444\n"
     ]
    },
    {
     "name": "stderr",
     "output_type": "stream",
     "text": [
      "/Users/akihito/.pyenv/versions/3.8.5/lib/python3.8/site-packages/sklearn/model_selection/_split.py:670: UserWarning: The least populated class in y has only 82 members, which is less than n_splits=90.\n",
      "  warnings.warn((\"The least populated class in y has only %d\"\n",
      "\u001b[32m[I 2020-12-15 05:34:09,399]\u001b[0m Trial 70 finished with value: 0.6377777777777779 and parameters: {'learning_rate': 0.588114841885282, 'max_depth': 19, 'n_estimators': 281, 'min_child_weight': 6, 'gamma': 0.15194534236557178, 'subsample': 0.2308666678073727, 'eta': 0.21434695658752706}. Best is trial 28 with value: 0.6705555555555555.\u001b[0m\n"
     ]
    },
    {
     "name": "stdout",
     "output_type": "stream",
     "text": [
      "0.6377777777777779\n"
     ]
    },
    {
     "name": "stderr",
     "output_type": "stream",
     "text": [
      "/Users/akihito/.pyenv/versions/3.8.5/lib/python3.8/site-packages/sklearn/model_selection/_split.py:670: UserWarning: The least populated class in y has only 82 members, which is less than n_splits=90.\n",
      "  warnings.warn((\"The least populated class in y has only %d\"\n",
      "\u001b[32m[I 2020-12-15 05:35:01,728]\u001b[0m Trial 71 finished with value: 0.6477777777777778 and parameters: {'learning_rate': 0.5041315977629492, 'max_depth': 6, 'n_estimators': 230, 'min_child_weight': 5, 'gamma': 0.49444743100820693, 'subsample': 0.5530750995321422, 'eta': 0.29184670559502957}. Best is trial 28 with value: 0.6705555555555555.\u001b[0m\n"
     ]
    },
    {
     "name": "stdout",
     "output_type": "stream",
     "text": [
      "0.6477777777777778\n"
     ]
    },
    {
     "name": "stderr",
     "output_type": "stream",
     "text": [
      "/Users/akihito/.pyenv/versions/3.8.5/lib/python3.8/site-packages/sklearn/model_selection/_split.py:670: UserWarning: The least populated class in y has only 82 members, which is less than n_splits=90.\n",
      "  warnings.warn((\"The least populated class in y has only %d\"\n",
      "\u001b[32m[I 2020-12-15 05:36:03,734]\u001b[0m Trial 72 finished with value: 0.6561111111111111 and parameters: {'learning_rate': 0.2546654286377906, 'max_depth': 7, 'n_estimators': 191, 'min_child_weight': 4, 'gamma': 0.886955240011738, 'subsample': 0.5925439545024858, 'eta': 0.36317508313191293}. Best is trial 28 with value: 0.6705555555555555.\u001b[0m\n"
     ]
    },
    {
     "name": "stdout",
     "output_type": "stream",
     "text": [
      "0.6561111111111111\n"
     ]
    },
    {
     "name": "stderr",
     "output_type": "stream",
     "text": [
      "/Users/akihito/.pyenv/versions/3.8.5/lib/python3.8/site-packages/sklearn/model_selection/_split.py:670: UserWarning: The least populated class in y has only 82 members, which is less than n_splits=90.\n",
      "  warnings.warn((\"The least populated class in y has only %d\"\n",
      "\u001b[32m[I 2020-12-15 05:37:04,410]\u001b[0m Trial 73 finished with value: 0.66 and parameters: {'learning_rate': 0.09625347039292165, 'max_depth': 5, 'n_estimators': 212, 'min_child_weight': 4, 'gamma': 0.5735691355443362, 'subsample': 0.5087430155775727, 'eta': 0.338044530509758}. Best is trial 28 with value: 0.6705555555555555.\u001b[0m\n"
     ]
    },
    {
     "name": "stdout",
     "output_type": "stream",
     "text": [
      "0.66\n"
     ]
    },
    {
     "name": "stderr",
     "output_type": "stream",
     "text": [
      "/Users/akihito/.pyenv/versions/3.8.5/lib/python3.8/site-packages/sklearn/model_selection/_split.py:670: UserWarning: The least populated class in y has only 82 members, which is less than n_splits=90.\n",
      "  warnings.warn((\"The least populated class in y has only %d\"\n",
      "\u001b[32m[I 2020-12-15 05:38:09,900]\u001b[0m Trial 74 finished with value: 0.6583333333333333 and parameters: {'learning_rate': 0.13998774514747947, 'max_depth': 5, 'n_estimators': 215, 'min_child_weight': 3, 'gamma': 0.6141124805822417, 'subsample': 0.49002226734591925, 'eta': 0.34465008021086274}. Best is trial 28 with value: 0.6705555555555555.\u001b[0m\n"
     ]
    },
    {
     "name": "stdout",
     "output_type": "stream",
     "text": [
      "0.6583333333333333\n"
     ]
    },
    {
     "name": "stderr",
     "output_type": "stream",
     "text": [
      "/Users/akihito/.pyenv/versions/3.8.5/lib/python3.8/site-packages/sklearn/model_selection/_split.py:670: UserWarning: The least populated class in y has only 82 members, which is less than n_splits=90.\n",
      "  warnings.warn((\"The least populated class in y has only %d\"\n",
      "\u001b[32m[I 2020-12-15 05:39:01,893]\u001b[0m Trial 75 finished with value: 0.6438888888888888 and parameters: {'learning_rate': 0.10718092686061573, 'max_depth': 5, 'n_estimators': 166, 'min_child_weight': 3, 'gamma': 0.7157806367015223, 'subsample': 0.5073543278734819, 'eta': 0.33717530339117846}. Best is trial 28 with value: 0.6705555555555555.\u001b[0m\n"
     ]
    },
    {
     "name": "stdout",
     "output_type": "stream",
     "text": [
      "0.6438888888888888\n"
     ]
    },
    {
     "name": "stderr",
     "output_type": "stream",
     "text": [
      "/Users/akihito/.pyenv/versions/3.8.5/lib/python3.8/site-packages/sklearn/model_selection/_split.py:670: UserWarning: The least populated class in y has only 82 members, which is less than n_splits=90.\n",
      "  warnings.warn((\"The least populated class in y has only %d\"\n",
      "\u001b[32m[I 2020-12-15 05:40:12,025]\u001b[0m Trial 76 finished with value: 0.6277777777777778 and parameters: {'learning_rate': 0.07974156000968105, 'max_depth': 7, 'n_estimators': 199, 'min_child_weight': 3, 'gamma': 0.566645931218017, 'subsample': 0.593630022792899, 'eta': 0.3642016374895244}. Best is trial 28 with value: 0.6705555555555555.\u001b[0m\n"
     ]
    },
    {
     "name": "stdout",
     "output_type": "stream",
     "text": [
      "0.6277777777777778\n"
     ]
    },
    {
     "name": "stderr",
     "output_type": "stream",
     "text": [
      "/Users/akihito/.pyenv/versions/3.8.5/lib/python3.8/site-packages/sklearn/model_selection/_split.py:670: UserWarning: The least populated class in y has only 82 members, which is less than n_splits=90.\n",
      "  warnings.warn((\"The least populated class in y has only %d\"\n",
      "\u001b[32m[I 2020-12-15 05:40:42,250]\u001b[0m Trial 77 finished with value: 0.6383333333333334 and parameters: {'learning_rate': 0.1535728935757636, 'max_depth': 3, 'n_estimators': 144, 'min_child_weight': 4, 'gamma': 0.9614647842701424, 'subsample': 0.7704766798476812, 'eta': 0.3432455364994928}. Best is trial 28 with value: 0.6705555555555555.\u001b[0m\n"
     ]
    },
    {
     "name": "stdout",
     "output_type": "stream",
     "text": [
      "0.6383333333333334\n"
     ]
    },
    {
     "name": "stderr",
     "output_type": "stream",
     "text": [
      "/Users/akihito/.pyenv/versions/3.8.5/lib/python3.8/site-packages/sklearn/model_selection/_split.py:670: UserWarning: The least populated class in y has only 82 members, which is less than n_splits=90.\n",
      "  warnings.warn((\"The least populated class in y has only %d\"\n",
      "\u001b[32m[I 2020-12-15 05:41:47,357]\u001b[0m Trial 78 finished with value: 0.6377777777777777 and parameters: {'learning_rate': 0.029660595910807885, 'max_depth': 5, 'n_estimators': 187, 'min_child_weight': 2, 'gamma': 0.27885099218510445, 'subsample': 0.6166643494594787, 'eta': 0.31705215238329315}. Best is trial 28 with value: 0.6705555555555555.\u001b[0m\n"
     ]
    },
    {
     "name": "stdout",
     "output_type": "stream",
     "text": [
      "0.6377777777777777\n"
     ]
    },
    {
     "name": "stderr",
     "output_type": "stream",
     "text": [
      "/Users/akihito/.pyenv/versions/3.8.5/lib/python3.8/site-packages/sklearn/model_selection/_split.py:670: UserWarning: The least populated class in y has only 82 members, which is less than n_splits=90.\n",
      "  warnings.warn((\"The least populated class in y has only %d\"\n",
      "\u001b[32m[I 2020-12-15 05:42:47,811]\u001b[0m Trial 79 finished with value: 0.6333333333333333 and parameters: {'learning_rate': 0.20422048842408755, 'max_depth': 4, 'n_estimators': 211, 'min_child_weight': 2, 'gamma': 1.1405416262416608, 'subsample': 0.484676988994502, 'eta': 0.3791008314794011}. Best is trial 28 with value: 0.6705555555555555.\u001b[0m\n"
     ]
    },
    {
     "name": "stdout",
     "output_type": "stream",
     "text": [
      "0.6333333333333333\n"
     ]
    },
    {
     "name": "stderr",
     "output_type": "stream",
     "text": [
      "/Users/akihito/.pyenv/versions/3.8.5/lib/python3.8/site-packages/sklearn/model_selection/_split.py:670: UserWarning: The least populated class in y has only 82 members, which is less than n_splits=90.\n",
      "  warnings.warn((\"The least populated class in y has only %d\"\n",
      "\u001b[32m[I 2020-12-15 05:44:02,231]\u001b[0m Trial 80 finished with value: 0.6422222222222221 and parameters: {'learning_rate': 0.05973633589156528, 'max_depth': 7, 'n_estimators': 218, 'min_child_weight': 3, 'gamma': 0.4069263473375877, 'subsample': 0.5308806161838556, 'eta': 0.13804300758277266}. Best is trial 28 with value: 0.6705555555555555.\u001b[0m\n"
     ]
    },
    {
     "name": "stdout",
     "output_type": "stream",
     "text": [
      "0.6422222222222221\n"
     ]
    },
    {
     "name": "stderr",
     "output_type": "stream",
     "text": [
      "/Users/akihito/.pyenv/versions/3.8.5/lib/python3.8/site-packages/sklearn/model_selection/_split.py:670: UserWarning: The least populated class in y has only 82 members, which is less than n_splits=90.\n",
      "  warnings.warn((\"The least populated class in y has only %d\"\n",
      "\u001b[32m[I 2020-12-15 05:45:19,879]\u001b[0m Trial 81 finished with value: 0.6511111111111111 and parameters: {'learning_rate': 0.09580302700045437, 'max_depth': 8, 'n_estimators': 241, 'min_child_weight': 4, 'gamma': 0.631399443773706, 'subsample': 0.3824432936333533, 'eta': 0.18866726918888363}. Best is trial 28 with value: 0.6705555555555555.\u001b[0m\n"
     ]
    },
    {
     "name": "stdout",
     "output_type": "stream",
     "text": [
      "0.6511111111111111\n"
     ]
    },
    {
     "name": "stderr",
     "output_type": "stream",
     "text": [
      "/Users/akihito/.pyenv/versions/3.8.5/lib/python3.8/site-packages/sklearn/model_selection/_split.py:670: UserWarning: The least populated class in y has only 82 members, which is less than n_splits=90.\n",
      "  warnings.warn((\"The least populated class in y has only %d\"\n",
      "\u001b[32m[I 2020-12-15 05:46:17,424]\u001b[0m Trial 82 finished with value: 0.6505555555555556 and parameters: {'learning_rate': 0.14853227259297508, 'max_depth': 5, 'n_estimators': 183, 'min_child_weight': 4, 'gamma': 1.3270976522297009, 'subsample': 0.42981238958029316, 'eta': 0.10130134970754384}. Best is trial 28 with value: 0.6705555555555555.\u001b[0m\n"
     ]
    },
    {
     "name": "stdout",
     "output_type": "stream",
     "text": [
      "0.6505555555555556\n"
     ]
    },
    {
     "name": "stderr",
     "output_type": "stream",
     "text": [
      "/Users/akihito/.pyenv/versions/3.8.5/lib/python3.8/site-packages/sklearn/model_selection/_split.py:670: UserWarning: The least populated class in y has only 82 members, which is less than n_splits=90.\n",
      "  warnings.warn((\"The least populated class in y has only %d\"\n",
      "\u001b[32m[I 2020-12-15 05:47:18,342]\u001b[0m Trial 83 finished with value: 0.643888888888889 and parameters: {'learning_rate': 0.2203766946634809, 'max_depth': 4, 'n_estimators': 227, 'min_child_weight': 3, 'gamma': 0.917916965370543, 'subsample': 0.4891956818654183, 'eta': 0.35871756757400197}. Best is trial 28 with value: 0.6705555555555555.\u001b[0m\n"
     ]
    },
    {
     "name": "stdout",
     "output_type": "stream",
     "text": [
      "0.643888888888889\n"
     ]
    },
    {
     "name": "stderr",
     "output_type": "stream",
     "text": [
      "/Users/akihito/.pyenv/versions/3.8.5/lib/python3.8/site-packages/sklearn/model_selection/_split.py:670: UserWarning: The least populated class in y has only 82 members, which is less than n_splits=90.\n",
      "  warnings.warn((\"The least populated class in y has only %d\"\n",
      "\u001b[32m[I 2020-12-15 05:48:05,301]\u001b[0m Trial 84 finished with value: 0.6416666666666667 and parameters: {'learning_rate': 0.2611078854527572, 'max_depth': 6, 'n_estimators': 161, 'min_child_weight': 4, 'gamma': 0.5706246561359681, 'subsample': 0.45328346622750404, 'eta': 0.3276390120845206}. Best is trial 28 with value: 0.6705555555555555.\u001b[0m\n"
     ]
    },
    {
     "name": "stdout",
     "output_type": "stream",
     "text": [
      "0.6416666666666667\n"
     ]
    },
    {
     "name": "stderr",
     "output_type": "stream",
     "text": [
      "/Users/akihito/.pyenv/versions/3.8.5/lib/python3.8/site-packages/sklearn/model_selection/_split.py:670: UserWarning: The least populated class in y has only 82 members, which is less than n_splits=90.\n",
      "  warnings.warn((\"The least populated class in y has only %d\"\n",
      "\u001b[32m[I 2020-12-15 05:48:34,027]\u001b[0m Trial 85 finished with value: 0.63 and parameters: {'learning_rate': 0.3188574922152989, 'max_depth': 8, 'n_estimators': 205, 'min_child_weight': 10, 'gamma': 0.15845733884916288, 'subsample': 0.1129103019123906, 'eta': 0.34910928819612996}. Best is trial 28 with value: 0.6705555555555555.\u001b[0m\n"
     ]
    },
    {
     "name": "stdout",
     "output_type": "stream",
     "text": [
      "0.63\n"
     ]
    },
    {
     "name": "stderr",
     "output_type": "stream",
     "text": [
      "/Users/akihito/.pyenv/versions/3.8.5/lib/python3.8/site-packages/sklearn/model_selection/_split.py:670: UserWarning: The least populated class in y has only 82 members, which is less than n_splits=90.\n",
      "  warnings.warn((\"The least populated class in y has only %d\"\n",
      "\u001b[32m[I 2020-12-15 05:48:48,898]\u001b[0m Trial 86 finished with value: 0.6088888888888888 and parameters: {'learning_rate': 0.41989856119057667, 'max_depth': 2, 'n_estimators': 99, 'min_child_weight': 5, 'gamma': 1.0770862251371724, 'subsample': 0.3976270126582732, 'eta': 0.1626576218551888}. Best is trial 28 with value: 0.6705555555555555.\u001b[0m\n"
     ]
    },
    {
     "name": "stdout",
     "output_type": "stream",
     "text": [
      "0.6088888888888888\n"
     ]
    },
    {
     "name": "stderr",
     "output_type": "stream",
     "text": [
      "/Users/akihito/.pyenv/versions/3.8.5/lib/python3.8/site-packages/sklearn/model_selection/_split.py:670: UserWarning: The least populated class in y has only 82 members, which is less than n_splits=90.\n",
      "  warnings.warn((\"The least populated class in y has only %d\"\n",
      "\u001b[32m[I 2020-12-15 05:50:03,405]\u001b[0m Trial 87 finished with value: 0.6394444444444444 and parameters: {'learning_rate': 0.3557493756796122, 'max_depth': 5, 'n_estimators': 268, 'min_child_weight': 4, 'gamma': 0.712002693611916, 'subsample': 0.012450890162510025, 'eta': 0.33345509019453984}. Best is trial 28 with value: 0.6705555555555555.\u001b[0m\n"
     ]
    },
    {
     "name": "stdout",
     "output_type": "stream",
     "text": [
      "0.6394444444444444\n"
     ]
    },
    {
     "name": "stderr",
     "output_type": "stream",
     "text": [
      "/Users/akihito/.pyenv/versions/3.8.5/lib/python3.8/site-packages/sklearn/model_selection/_split.py:670: UserWarning: The least populated class in y has only 82 members, which is less than n_splits=90.\n",
      "  warnings.warn((\"The least populated class in y has only %d\"\n",
      "\u001b[32m[I 2020-12-15 05:50:37,566]\u001b[0m Trial 88 finished with value: 0.6516666666666666 and parameters: {'learning_rate': 0.12169264902411842, 'max_depth': 10, 'n_estimators': 123, 'min_child_weight': 5, 'gamma': 0.3640485690060221, 'subsample': 0.5714773221902405, 'eta': 0.31749754756279536}. Best is trial 28 with value: 0.6705555555555555.\u001b[0m\n"
     ]
    },
    {
     "name": "stdout",
     "output_type": "stream",
     "text": [
      "0.6516666666666666\n"
     ]
    },
    {
     "name": "stderr",
     "output_type": "stream",
     "text": [
      "/Users/akihito/.pyenv/versions/3.8.5/lib/python3.8/site-packages/sklearn/model_selection/_split.py:670: UserWarning: The least populated class in y has only 82 members, which is less than n_splits=90.\n",
      "  warnings.warn((\"The least populated class in y has only %d\"\n",
      "\u001b[32m[I 2020-12-15 05:52:06,868]\u001b[0m Trial 89 finished with value: 0.646111111111111 and parameters: {'learning_rate': 0.050139113466106555, 'max_depth': 6, 'n_estimators': 248, 'min_child_weight': 4, 'gamma': 1.499312365166821, 'subsample': 0.7156295250879989, 'eta': 0.28654775590187886}. Best is trial 28 with value: 0.6705555555555555.\u001b[0m\n"
     ]
    },
    {
     "name": "stdout",
     "output_type": "stream",
     "text": [
      "0.646111111111111\n"
     ]
    },
    {
     "name": "stderr",
     "output_type": "stream",
     "text": [
      "/Users/akihito/.pyenv/versions/3.8.5/lib/python3.8/site-packages/sklearn/model_selection/_split.py:670: UserWarning: The least populated class in y has only 82 members, which is less than n_splits=90.\n",
      "  warnings.warn((\"The least populated class in y has only %d\"\n",
      "\u001b[32m[I 2020-12-15 05:52:43,436]\u001b[0m Trial 90 finished with value: 0.6394444444444444 and parameters: {'learning_rate': 0.5496521185339395, 'max_depth': 4, 'n_estimators': 295, 'min_child_weight': 3, 'gamma': 0.03325083020035835, 'subsample': 0.35090151228454686, 'eta': 0.30195597039672206}. Best is trial 28 with value: 0.6705555555555555.\u001b[0m\n"
     ]
    },
    {
     "name": "stdout",
     "output_type": "stream",
     "text": [
      "0.6394444444444444\n"
     ]
    },
    {
     "name": "stderr",
     "output_type": "stream",
     "text": [
      "/Users/akihito/.pyenv/versions/3.8.5/lib/python3.8/site-packages/sklearn/model_selection/_split.py:670: UserWarning: The least populated class in y has only 82 members, which is less than n_splits=90.\n",
      "  warnings.warn((\"The least populated class in y has only %d\"\n",
      "\u001b[32m[I 2020-12-15 05:53:53,743]\u001b[0m Trial 91 finished with value: 0.6366666666666666 and parameters: {'learning_rate': 0.44685130766251424, 'max_depth': 12, 'n_estimators': 253, 'min_child_weight': 5, 'gamma': 0.8057003845336671, 'subsample': 0.5247549866337529, 'eta': 0.4030177106935475}. Best is trial 28 with value: 0.6705555555555555.\u001b[0m\n"
     ]
    },
    {
     "name": "stdout",
     "output_type": "stream",
     "text": [
      "0.6366666666666666\n"
     ]
    },
    {
     "name": "stderr",
     "output_type": "stream",
     "text": [
      "/Users/akihito/.pyenv/versions/3.8.5/lib/python3.8/site-packages/sklearn/model_selection/_split.py:670: UserWarning: The least populated class in y has only 82 members, which is less than n_splits=90.\n",
      "  warnings.warn((\"The least populated class in y has only %d\"\n",
      "\u001b[32m[I 2020-12-15 05:54:53,730]\u001b[0m Trial 92 finished with value: 0.6572222222222223 and parameters: {'learning_rate': 0.39603746519244865, 'max_depth': 17, 'n_estimators': 260, 'min_child_weight': 5, 'gamma': 0.46768150838204814, 'subsample': 0.536303977034676, 'eta': 0.3802126786033406}. Best is trial 28 with value: 0.6705555555555555.\u001b[0m\n"
     ]
    },
    {
     "name": "stdout",
     "output_type": "stream",
     "text": [
      "0.6572222222222223\n"
     ]
    },
    {
     "name": "stderr",
     "output_type": "stream",
     "text": [
      "/Users/akihito/.pyenv/versions/3.8.5/lib/python3.8/site-packages/sklearn/model_selection/_split.py:670: UserWarning: The least populated class in y has only 82 members, which is less than n_splits=90.\n",
      "  warnings.warn((\"The least populated class in y has only %d\"\n",
      "\u001b[32m[I 2020-12-15 05:55:53,802]\u001b[0m Trial 93 finished with value: 0.6377777777777779 and parameters: {'learning_rate': 0.40257522774597854, 'max_depth': 18, 'n_estimators': 233, 'min_child_weight': 4, 'gamma': 0.46078512707385755, 'subsample': 0.6764236745873012, 'eta': 0.3821768849470565}. Best is trial 28 with value: 0.6705555555555555.\u001b[0m\n"
     ]
    },
    {
     "name": "stdout",
     "output_type": "stream",
     "text": [
      "0.6377777777777779\n"
     ]
    },
    {
     "name": "stderr",
     "output_type": "stream",
     "text": [
      "/Users/akihito/.pyenv/versions/3.8.5/lib/python3.8/site-packages/sklearn/model_selection/_split.py:670: UserWarning: The least populated class in y has only 82 members, which is less than n_splits=90.\n",
      "  warnings.warn((\"The least populated class in y has only %d\"\n",
      "\u001b[32m[I 2020-12-15 05:56:50,391]\u001b[0m Trial 94 finished with value: 0.6377777777777777 and parameters: {'learning_rate': 0.4600928857239176, 'max_depth': 17, 'n_estimators': 261, 'min_child_weight': 6, 'gamma': 0.5341689589829106, 'subsample': 0.6461174524470019, 'eta': 0.36587434137896735}. Best is trial 28 with value: 0.6705555555555555.\u001b[0m\n"
     ]
    },
    {
     "name": "stdout",
     "output_type": "stream",
     "text": [
      "0.6377777777777777\n"
     ]
    },
    {
     "name": "stderr",
     "output_type": "stream",
     "text": [
      "/Users/akihito/.pyenv/versions/3.8.5/lib/python3.8/site-packages/sklearn/model_selection/_split.py:670: UserWarning: The least populated class in y has only 82 members, which is less than n_splits=90.\n",
      "  warnings.warn((\"The least populated class in y has only %d\"\n",
      "\u001b[32m[I 2020-12-15 05:57:33,865]\u001b[0m Trial 95 finished with value: 0.6494444444444445 and parameters: {'learning_rate': 0.3000895542057009, 'max_depth': 3, 'n_estimators': 217, 'min_child_weight': 5, 'gamma': 0.9578400886416525, 'subsample': 0.5489199928672347, 'eta': 0.352123964523871}. Best is trial 28 with value: 0.6705555555555555.\u001b[0m\n"
     ]
    },
    {
     "name": "stdout",
     "output_type": "stream",
     "text": [
      "0.6494444444444445\n"
     ]
    },
    {
     "name": "stderr",
     "output_type": "stream",
     "text": [
      "/Users/akihito/.pyenv/versions/3.8.5/lib/python3.8/site-packages/sklearn/model_selection/_split.py:670: UserWarning: The least populated class in y has only 82 members, which is less than n_splits=90.\n",
      "  warnings.warn((\"The least populated class in y has only %d\"\n",
      "\u001b[32m[I 2020-12-15 05:58:29,578]\u001b[0m Trial 96 finished with value: 0.6361111111111111 and parameters: {'learning_rate': 0.49184033748488426, 'max_depth': 20, 'n_estimators': 279, 'min_child_weight': 5, 'gamma': 0.3332058344272736, 'subsample': 0.30881521029830894, 'eta': 0.3748627758437241}. Best is trial 28 with value: 0.6705555555555555.\u001b[0m\n"
     ]
    },
    {
     "name": "stdout",
     "output_type": "stream",
     "text": [
      "0.6361111111111111\n"
     ]
    },
    {
     "name": "stderr",
     "output_type": "stream",
     "text": [
      "/Users/akihito/.pyenv/versions/3.8.5/lib/python3.8/site-packages/sklearn/model_selection/_split.py:670: UserWarning: The least populated class in y has only 82 members, which is less than n_splits=90.\n",
      "  warnings.warn((\"The least populated class in y has only %d\"\n",
      "\u001b[32m[I 2020-12-15 05:58:55,556]\u001b[0m Trial 97 finished with value: 0.645 and parameters: {'learning_rate': 0.340457386972407, 'max_depth': 19, 'n_estimators': 83, 'min_child_weight': 4, 'gamma': 0.677753044840901, 'subsample': 0.173449804985698, 'eta': 0.4359427980854742}. Best is trial 28 with value: 0.6705555555555555.\u001b[0m\n"
     ]
    },
    {
     "name": "stdout",
     "output_type": "stream",
     "text": [
      "0.645\n"
     ]
    },
    {
     "name": "stderr",
     "output_type": "stream",
     "text": [
      "/Users/akihito/.pyenv/versions/3.8.5/lib/python3.8/site-packages/sklearn/model_selection/_split.py:670: UserWarning: The least populated class in y has only 82 members, which is less than n_splits=90.\n",
      "  warnings.warn((\"The least populated class in y has only %d\"\n",
      "\u001b[32m[I 2020-12-15 05:59:14,941]\u001b[0m Trial 98 finished with value: 0.6544444444444444 and parameters: {'learning_rate': 0.526564207462402, 'max_depth': 6, 'n_estimators': 63, 'min_child_weight': 4, 'gamma': 0.83997993576409, 'subsample': 0.8329958924192972, 'eta': 0.32749676181506915}. Best is trial 28 with value: 0.6705555555555555.\u001b[0m\n"
     ]
    },
    {
     "name": "stdout",
     "output_type": "stream",
     "text": [
      "0.6544444444444444\n"
     ]
    },
    {
     "name": "stderr",
     "output_type": "stream",
     "text": [
      "/Users/akihito/.pyenv/versions/3.8.5/lib/python3.8/site-packages/sklearn/model_selection/_split.py:670: UserWarning: The least populated class in y has only 82 members, which is less than n_splits=90.\n",
      "  warnings.warn((\"The least populated class in y has only %d\"\n",
      "\u001b[32m[I 2020-12-15 06:00:16,949]\u001b[0m Trial 99 finished with value: 0.6588888888888889 and parameters: {'learning_rate': 0.40952466830122347, 'max_depth': 16, 'n_estimators': 195, 'min_child_weight': 5, 'gamma': 1.2001092441276784, 'subsample': 0.4063703108773674, 'eta': 0.3411472330743004}. Best is trial 28 with value: 0.6705555555555555.\u001b[0m\n"
     ]
    },
    {
     "name": "stdout",
     "output_type": "stream",
     "text": [
      "0.6588888888888889\n"
     ]
    },
    {
     "name": "stderr",
     "output_type": "stream",
     "text": [
      "/Users/akihito/.pyenv/versions/3.8.5/lib/python3.8/site-packages/sklearn/model_selection/_split.py:670: UserWarning: The least populated class in y has only 82 members, which is less than n_splits=90.\n",
      "  warnings.warn((\"The least populated class in y has only %d\"\n",
      "\u001b[32m[I 2020-12-15 06:01:22,794]\u001b[0m Trial 100 finished with value: 0.6361111111111111 and parameters: {'learning_rate': 0.40469579671074923, 'max_depth': 17, 'n_estimators': 170, 'min_child_weight': 3, 'gamma': 1.2687732718798599, 'subsample': 0.493277064618861, 'eta': 0.33712394691609315}. Best is trial 28 with value: 0.6705555555555555.\u001b[0m\n"
     ]
    },
    {
     "name": "stdout",
     "output_type": "stream",
     "text": [
      "0.6361111111111111\n"
     ]
    },
    {
     "name": "stderr",
     "output_type": "stream",
     "text": [
      "/Users/akihito/.pyenv/versions/3.8.5/lib/python3.8/site-packages/sklearn/model_selection/_split.py:670: UserWarning: The least populated class in y has only 82 members, which is less than n_splits=90.\n",
      "  warnings.warn((\"The least populated class in y has only %d\"\n",
      "\u001b[32m[I 2020-12-15 06:02:21,878]\u001b[0m Trial 101 finished with value: 0.6477777777777778 and parameters: {'learning_rate': 0.4562366931947038, 'max_depth': 15, 'n_estimators': 199, 'min_child_weight': 5, 'gamma': 1.033041962959755, 'subsample': 0.45263255767249366, 'eta': 0.3431197643538213}. Best is trial 28 with value: 0.6705555555555555.\u001b[0m\n"
     ]
    },
    {
     "name": "stdout",
     "output_type": "stream",
     "text": [
      "0.6477777777777778\n"
     ]
    },
    {
     "name": "stderr",
     "output_type": "stream",
     "text": [
      "/Users/akihito/.pyenv/versions/3.8.5/lib/python3.8/site-packages/sklearn/model_selection/_split.py:670: UserWarning: The least populated class in y has only 82 members, which is less than n_splits=90.\n",
      "  warnings.warn((\"The least populated class in y has only %d\"\n",
      "\u001b[32m[I 2020-12-15 06:03:43,700]\u001b[0m Trial 102 finished with value: 0.65 and parameters: {'learning_rate': 0.4229227552226644, 'max_depth': 15, 'n_estimators': 240, 'min_child_weight': 5, 'gamma': 1.6679811723435622, 'subsample': 0.270782442722022, 'eta': 0.3218270387144293}. Best is trial 28 with value: 0.6705555555555555.\u001b[0m\n"
     ]
    },
    {
     "name": "stdout",
     "output_type": "stream",
     "text": [
      "0.65\n"
     ]
    },
    {
     "name": "stderr",
     "output_type": "stream",
     "text": [
      "/Users/akihito/.pyenv/versions/3.8.5/lib/python3.8/site-packages/sklearn/model_selection/_split.py:670: UserWarning: The least populated class in y has only 82 members, which is less than n_splits=90.\n",
      "  warnings.warn((\"The least populated class in y has only %d\"\n",
      "\u001b[32m[I 2020-12-15 06:04:37,312]\u001b[0m Trial 103 finished with value: 0.6427777777777778 and parameters: {'learning_rate': 0.3757207332570737, 'max_depth': 16, 'n_estimators': 178, 'min_child_weight': 6, 'gamma': 1.4060247290603745, 'subsample': 0.566905285115992, 'eta': 0.3545106678368356}. Best is trial 28 with value: 0.6705555555555555.\u001b[0m\n"
     ]
    },
    {
     "name": "stdout",
     "output_type": "stream",
     "text": [
      "0.6427777777777778\n"
     ]
    },
    {
     "name": "stderr",
     "output_type": "stream",
     "text": [
      "/Users/akihito/.pyenv/versions/3.8.5/lib/python3.8/site-packages/sklearn/model_selection/_split.py:670: UserWarning: The least populated class in y has only 82 members, which is less than n_splits=90.\n",
      "  warnings.warn((\"The least populated class in y has only %d\"\n",
      "\u001b[32m[I 2020-12-15 06:05:22,740]\u001b[0m Trial 104 finished with value: 0.6344444444444445 and parameters: {'learning_rate': 0.5914448057744033, 'max_depth': 18, 'n_estimators': 150, 'min_child_weight': 5, 'gamma': 1.1710793621889897, 'subsample': 0.3316311855050055, 'eta': 0.36022784934691}. Best is trial 28 with value: 0.6705555555555555.\u001b[0m\n"
     ]
    },
    {
     "name": "stdout",
     "output_type": "stream",
     "text": [
      "0.6344444444444445\n"
     ]
    },
    {
     "name": "stderr",
     "output_type": "stream",
     "text": [
      "/Users/akihito/.pyenv/versions/3.8.5/lib/python3.8/site-packages/sklearn/model_selection/_split.py:670: UserWarning: The least populated class in y has only 82 members, which is less than n_splits=90.\n",
      "  warnings.warn((\"The least populated class in y has only %d\"\n",
      "\u001b[32m[I 2020-12-15 06:06:24,912]\u001b[0m Trial 105 finished with value: 0.6605555555555556 and parameters: {'learning_rate': 0.4839905643062723, 'max_depth': 17, 'n_estimators': 211, 'min_child_weight': 4, 'gamma': 0.741609734813511, 'subsample': 0.5987893087902972, 'eta': 0.3112775836813835}. Best is trial 28 with value: 0.6705555555555555.\u001b[0m\n"
     ]
    },
    {
     "name": "stdout",
     "output_type": "stream",
     "text": [
      "0.6605555555555556\n"
     ]
    },
    {
     "name": "stderr",
     "output_type": "stream",
     "text": [
      "/Users/akihito/.pyenv/versions/3.8.5/lib/python3.8/site-packages/sklearn/model_selection/_split.py:670: UserWarning: The least populated class in y has only 82 members, which is less than n_splits=90.\n",
      "  warnings.warn((\"The least populated class in y has only %d\"\n",
      "\u001b[32m[I 2020-12-15 06:07:21,872]\u001b[0m Trial 106 finished with value: 0.6411111111111111 and parameters: {'learning_rate': 0.5051430977839743, 'max_depth': 17, 'n_estimators': 192, 'min_child_weight': 4, 'gamma': 0.7555346495200276, 'subsample': 0.5972991662461755, 'eta': 0.30988913314051136}. Best is trial 28 with value: 0.6705555555555555.\u001b[0m\n"
     ]
    },
    {
     "name": "stdout",
     "output_type": "stream",
     "text": [
      "0.6411111111111111\n"
     ]
    },
    {
     "name": "stderr",
     "output_type": "stream",
     "text": [
      "/Users/akihito/.pyenv/versions/3.8.5/lib/python3.8/site-packages/sklearn/model_selection/_split.py:670: UserWarning: The least populated class in y has only 82 members, which is less than n_splits=90.\n",
      "  warnings.warn((\"The least populated class in y has only %d\"\n",
      "\u001b[32m[I 2020-12-15 06:08:03,587]\u001b[0m Trial 107 finished with value: 0.6483333333333333 and parameters: {'learning_rate': 0.4713630495873252, 'max_depth': 18, 'n_estimators': 207, 'min_child_weight': 4, 'gamma': 0.2212006925345833, 'subsample': 0.6333243994077673, 'eta': 0.1727139254106992}. Best is trial 28 with value: 0.6705555555555555.\u001b[0m\n"
     ]
    },
    {
     "name": "stdout",
     "output_type": "stream",
     "text": [
      "0.6483333333333333\n"
     ]
    },
    {
     "name": "stderr",
     "output_type": "stream",
     "text": [
      "/Users/akihito/.pyenv/versions/3.8.5/lib/python3.8/site-packages/sklearn/model_selection/_split.py:670: UserWarning: The least populated class in y has only 82 members, which is less than n_splits=90.\n",
      "  warnings.warn((\"The least populated class in y has only %d\"\n",
      "\u001b[32m[I 2020-12-15 06:09:06,026]\u001b[0m Trial 108 finished with value: 0.6333333333333333 and parameters: {'learning_rate': 0.35891768844842925, 'max_depth': 16, 'n_estimators': 218, 'min_child_weight': 4, 'gamma': 0.6041890479550025, 'subsample': 0.7642086155169293, 'eta': 0.13123310564456098}. Best is trial 28 with value: 0.6705555555555555.\u001b[0m\n"
     ]
    },
    {
     "name": "stdout",
     "output_type": "stream",
     "text": [
      "0.6333333333333333\n"
     ]
    },
    {
     "name": "stderr",
     "output_type": "stream",
     "text": [
      "/Users/akihito/.pyenv/versions/3.8.5/lib/python3.8/site-packages/sklearn/model_selection/_split.py:670: UserWarning: The least populated class in y has only 82 members, which is less than n_splits=90.\n",
      "  warnings.warn((\"The least populated class in y has only %d\"\n",
      "\u001b[32m[I 2020-12-15 06:10:16,201]\u001b[0m Trial 109 finished with value: 0.6411111111111112 and parameters: {'learning_rate': 0.3271804799635041, 'max_depth': 17, 'n_estimators': 229, 'min_child_weight': 3, 'gamma': 0.4706140261661051, 'subsample': 0.4781458114015838, 'eta': 0.38689888349004026}. Best is trial 28 with value: 0.6705555555555555.\u001b[0m\n"
     ]
    },
    {
     "name": "stdout",
     "output_type": "stream",
     "text": [
      "0.6411111111111112\n"
     ]
    },
    {
     "name": "stderr",
     "output_type": "stream",
     "text": [
      "/Users/akihito/.pyenv/versions/3.8.5/lib/python3.8/site-packages/sklearn/model_selection/_split.py:670: UserWarning: The least populated class in y has only 82 members, which is less than n_splits=90.\n",
      "  warnings.warn((\"The least populated class in y has only %d\"\n",
      "\u001b[32m[I 2020-12-15 06:11:54,964]\u001b[0m Trial 110 finished with value: 0.6472222222222223 and parameters: {'learning_rate': 0.17417960409825958, 'max_depth': 18, 'n_estimators': 259, 'min_child_weight': 3, 'gamma': 0.9338746548141243, 'subsample': 0.5382716097200757, 'eta': 0.3707417867423589}. Best is trial 28 with value: 0.6705555555555555.\u001b[0m\n"
     ]
    },
    {
     "name": "stdout",
     "output_type": "stream",
     "text": [
      "0.6472222222222223\n"
     ]
    },
    {
     "name": "stderr",
     "output_type": "stream",
     "text": [
      "/Users/akihito/.pyenv/versions/3.8.5/lib/python3.8/site-packages/sklearn/model_selection/_split.py:670: UserWarning: The least populated class in y has only 82 members, which is less than n_splits=90.\n",
      "  warnings.warn((\"The least populated class in y has only %d\"\n",
      "\u001b[32m[I 2020-12-15 06:13:10,667]\u001b[0m Trial 111 finished with value: 0.6427777777777778 and parameters: {'learning_rate': 0.4263857917448515, 'max_depth': 14, 'n_estimators': 244, 'min_child_weight': 5, 'gamma': 1.1576615638812124, 'subsample': 0.3997734803342333, 'eta': 0.14864803506843746}. Best is trial 28 with value: 0.6705555555555555.\u001b[0m\n"
     ]
    },
    {
     "name": "stdout",
     "output_type": "stream",
     "text": [
      "0.6427777777777778\n"
     ]
    },
    {
     "name": "stderr",
     "output_type": "stream",
     "text": [
      "/Users/akihito/.pyenv/versions/3.8.5/lib/python3.8/site-packages/sklearn/model_selection/_split.py:670: UserWarning: The least populated class in y has only 82 members, which is less than n_splits=90.\n",
      "  warnings.warn((\"The least populated class in y has only %d\"\n",
      "\u001b[32m[I 2020-12-15 06:14:48,704]\u001b[0m Trial 112 finished with value: 0.6127777777777778 and parameters: {'learning_rate': 0.49119837570732705, 'max_depth': 5, 'n_estimators': 274, 'min_child_weight': 1, 'gamma': 0.8757718207896348, 'subsample': 0.50940641227818, 'eta': 0.2523739718927937}. Best is trial 28 with value: 0.6705555555555555.\u001b[0m\n"
     ]
    },
    {
     "name": "stdout",
     "output_type": "stream",
     "text": [
      "0.6127777777777778\n"
     ]
    },
    {
     "name": "stderr",
     "output_type": "stream",
     "text": [
      "/Users/akihito/.pyenv/versions/3.8.5/lib/python3.8/site-packages/sklearn/model_selection/_split.py:670: UserWarning: The least populated class in y has only 82 members, which is less than n_splits=90.\n",
      "  warnings.warn((\"The least populated class in y has only %d\"\n",
      "\u001b[32m[I 2020-12-15 06:16:15,246]\u001b[0m Trial 113 finished with value: 0.5822222222222222 and parameters: {'learning_rate': 0.401434150811326, 'max_depth': 16, 'n_estimators': 202, 'min_child_weight': 4, 'gamma': 4.427988463340547, 'subsample': 0.5907670022721051, 'eta': 0.3423215733103319}. Best is trial 28 with value: 0.6705555555555555.\u001b[0m\n"
     ]
    },
    {
     "name": "stdout",
     "output_type": "stream",
     "text": [
      "0.5822222222222222\n"
     ]
    },
    {
     "name": "stderr",
     "output_type": "stream",
     "text": [
      "/Users/akihito/.pyenv/versions/3.8.5/lib/python3.8/site-packages/sklearn/model_selection/_split.py:670: UserWarning: The least populated class in y has only 82 members, which is less than n_splits=90.\n",
      "  warnings.warn((\"The least populated class in y has only %d\"\n",
      "\u001b[32m[I 2020-12-15 06:17:09,641]\u001b[0m Trial 114 finished with value: 0.6266666666666666 and parameters: {'learning_rate': 0.5178400439134548, 'max_depth': 19, 'n_estimators': 215, 'min_child_weight': 5, 'gamma': 0.6392051588370926, 'subsample': 0.41970004007748907, 'eta': 0.2677839029339077}. Best is trial 28 with value: 0.6705555555555555.\u001b[0m\n"
     ]
    },
    {
     "name": "stdout",
     "output_type": "stream",
     "text": [
      "0.6266666666666666\n"
     ]
    },
    {
     "name": "stderr",
     "output_type": "stream",
     "text": [
      "/Users/akihito/.pyenv/versions/3.8.5/lib/python3.8/site-packages/sklearn/model_selection/_split.py:670: UserWarning: The least populated class in y has only 82 members, which is less than n_splits=90.\n",
      "  warnings.warn((\"The least populated class in y has only %d\"\n",
      "\u001b[32m[I 2020-12-15 06:18:10,301]\u001b[0m Trial 115 finished with value: 0.6377777777777779 and parameters: {'learning_rate': 0.4466428918496244, 'max_depth': 14, 'n_estimators': 227, 'min_child_weight': 4, 'gamma': 0.5251666684715184, 'subsample': 0.44428880370914037, 'eta': 0.3984125607001779}. Best is trial 28 with value: 0.6705555555555555.\u001b[0m\n"
     ]
    },
    {
     "name": "stdout",
     "output_type": "stream",
     "text": [
      "0.6377777777777779\n"
     ]
    },
    {
     "name": "stderr",
     "output_type": "stream",
     "text": [
      "/Users/akihito/.pyenv/versions/3.8.5/lib/python3.8/site-packages/sklearn/model_selection/_split.py:670: UserWarning: The least populated class in y has only 82 members, which is less than n_splits=90.\n",
      "  warnings.warn((\"The least populated class in y has only %d\"\n",
      "\u001b[32m[I 2020-12-15 06:19:28,929]\u001b[0m Trial 116 finished with value: 0.6649999999999999 and parameters: {'learning_rate': 0.3826488010482436, 'max_depth': 17, 'n_estimators': 287, 'min_child_weight': 5, 'gamma': 0.7401042585574128, 'subsample': 0.469974662107909, 'eta': 0.29374402209562805}. Best is trial 28 with value: 0.6705555555555555.\u001b[0m\n"
     ]
    },
    {
     "name": "stdout",
     "output_type": "stream",
     "text": [
      "0.6649999999999999\n"
     ]
    },
    {
     "name": "stderr",
     "output_type": "stream",
     "text": [
      "/Users/akihito/.pyenv/versions/3.8.5/lib/python3.8/site-packages/sklearn/model_selection/_split.py:670: UserWarning: The least populated class in y has only 82 members, which is less than n_splits=90.\n",
      "  warnings.warn((\"The least populated class in y has only %d\"\n",
      "\u001b[32m[I 2020-12-15 06:20:48,837]\u001b[0m Trial 117 finished with value: 0.6477777777777778 and parameters: {'learning_rate': 0.3770637539306319, 'max_depth': 17, 'n_estimators': 289, 'min_child_weight': 5, 'gamma': 0.7436977491727308, 'subsample': 0.7077667341615672, 'eta': 0.3314136279571256}. Best is trial 28 with value: 0.6705555555555555.\u001b[0m\n"
     ]
    },
    {
     "name": "stdout",
     "output_type": "stream",
     "text": [
      "0.6477777777777778\n"
     ]
    },
    {
     "name": "stderr",
     "output_type": "stream",
     "text": [
      "/Users/akihito/.pyenv/versions/3.8.5/lib/python3.8/site-packages/sklearn/model_selection/_split.py:670: UserWarning: The least populated class in y has only 82 members, which is less than n_splits=90.\n",
      "  warnings.warn((\"The least populated class in y has only %d\"\n",
      "\u001b[32m[I 2020-12-15 06:21:51,773]\u001b[0m Trial 118 finished with value: 0.6738888888888888 and parameters: {'learning_rate': 0.27649818523185277, 'max_depth': 18, 'n_estimators': 306, 'min_child_weight': 6, 'gamma': 0.3883718523424075, 'subsample': 0.062478994278837546, 'eta': 0.3130437949754821}. Best is trial 118 with value: 0.6738888888888888.\u001b[0m\n"
     ]
    },
    {
     "name": "stdout",
     "output_type": "stream",
     "text": [
      "0.6738888888888888\n"
     ]
    },
    {
     "name": "stderr",
     "output_type": "stream",
     "text": [
      "/Users/akihito/.pyenv/versions/3.8.5/lib/python3.8/site-packages/sklearn/model_selection/_split.py:670: UserWarning: The least populated class in y has only 82 members, which is less than n_splits=90.\n",
      "  warnings.warn((\"The least populated class in y has only %d\"\n",
      "\u001b[32m[I 2020-12-15 06:22:54,641]\u001b[0m Trial 119 finished with value: 0.6522222222222223 and parameters: {'learning_rate': 0.30652245585437893, 'max_depth': 18, 'n_estimators': 307, 'min_child_weight': 6, 'gamma': 0.39264640801095524, 'subsample': 0.0693581131253842, 'eta': 0.29546515265078577}. Best is trial 118 with value: 0.6738888888888888.\u001b[0m\n"
     ]
    },
    {
     "name": "stdout",
     "output_type": "stream",
     "text": [
      "0.6522222222222223\n"
     ]
    },
    {
     "name": "stderr",
     "output_type": "stream",
     "text": [
      "/Users/akihito/.pyenv/versions/3.8.5/lib/python3.8/site-packages/sklearn/model_selection/_split.py:670: UserWarning: The least populated class in y has only 82 members, which is less than n_splits=90.\n",
      "  warnings.warn((\"The least populated class in y has only %d\"\n",
      "\u001b[32m[I 2020-12-15 06:23:36,618]\u001b[0m Trial 120 finished with value: 0.6594444444444444 and parameters: {'learning_rate': 0.3406887950478147, 'max_depth': 18, 'n_estimators': 300, 'min_child_weight': 7, 'gamma': 0.14438083683889136, 'subsample': 0.0643982667889935, 'eta': 0.279068443603639}. Best is trial 118 with value: 0.6738888888888888.\u001b[0m\n"
     ]
    },
    {
     "name": "stdout",
     "output_type": "stream",
     "text": [
      "0.6594444444444444\n"
     ]
    },
    {
     "name": "stderr",
     "output_type": "stream",
     "text": [
      "/Users/akihito/.pyenv/versions/3.8.5/lib/python3.8/site-packages/sklearn/model_selection/_split.py:670: UserWarning: The least populated class in y has only 82 members, which is less than n_splits=90.\n",
      "  warnings.warn((\"The least populated class in y has only %d\"\n",
      "\u001b[32m[I 2020-12-15 06:24:20,928]\u001b[0m Trial 121 finished with value: 0.6677777777777778 and parameters: {'learning_rate': 0.3404026073610555, 'max_depth': 18, 'n_estimators': 285, 'min_child_weight': 7, 'gamma': 0.2097690422082676, 'subsample': 0.04119520548252774, 'eta': 0.3031347327923236}. Best is trial 118 with value: 0.6738888888888888.\u001b[0m\n"
     ]
    },
    {
     "name": "stdout",
     "output_type": "stream",
     "text": [
      "0.6677777777777778\n"
     ]
    },
    {
     "name": "stderr",
     "output_type": "stream",
     "text": [
      "/Users/akihito/.pyenv/versions/3.8.5/lib/python3.8/site-packages/sklearn/model_selection/_split.py:670: UserWarning: The least populated class in y has only 82 members, which is less than n_splits=90.\n",
      "  warnings.warn((\"The least populated class in y has only %d\"\n",
      "\u001b[32m[I 2020-12-15 06:25:05,097]\u001b[0m Trial 122 finished with value: 0.6388888888888888 and parameters: {'learning_rate': 0.35973713769713056, 'max_depth': 18, 'n_estimators': 319, 'min_child_weight': 7, 'gamma': 0.1469989324330593, 'subsample': 0.056550468222056366, 'eta': 0.3027543307984856}. Best is trial 118 with value: 0.6738888888888888.\u001b[0m\n"
     ]
    },
    {
     "name": "stdout",
     "output_type": "stream",
     "text": [
      "0.6388888888888888\n"
     ]
    },
    {
     "name": "stderr",
     "output_type": "stream",
     "text": [
      "/Users/akihito/.pyenv/versions/3.8.5/lib/python3.8/site-packages/sklearn/model_selection/_split.py:670: UserWarning: The least populated class in y has only 82 members, which is less than n_splits=90.\n",
      "  warnings.warn((\"The least populated class in y has only %d\"\n",
      "\u001b[32m[I 2020-12-15 06:25:59,086]\u001b[0m Trial 123 finished with value: 0.6505555555555556 and parameters: {'learning_rate': 0.3374805676544498, 'max_depth': 19, 'n_estimators': 329, 'min_child_weight': 7, 'gamma': 0.26412922359567786, 'subsample': 0.12194347989353277, 'eta': 0.2776901983572968}. Best is trial 118 with value: 0.6738888888888888.\u001b[0m\n"
     ]
    },
    {
     "name": "stdout",
     "output_type": "stream",
     "text": [
      "0.6505555555555556\n"
     ]
    },
    {
     "name": "stderr",
     "output_type": "stream",
     "text": [
      "/Users/akihito/.pyenv/versions/3.8.5/lib/python3.8/site-packages/sklearn/model_selection/_split.py:670: UserWarning: The least populated class in y has only 82 members, which is less than n_splits=90.\n",
      "  warnings.warn((\"The least populated class in y has only %d\"\n",
      "\u001b[32m[I 2020-12-15 06:26:35,163]\u001b[0m Trial 124 finished with value: 0.63 and parameters: {'learning_rate': 0.38614524590767185, 'max_depth': 17, 'n_estimators': 300, 'min_child_weight': 8, 'gamma': 0.05745941199200333, 'subsample': 0.03462732443949879, 'eta': 0.31885303413453026}. Best is trial 118 with value: 0.6738888888888888.\u001b[0m\n"
     ]
    },
    {
     "name": "stdout",
     "output_type": "stream",
     "text": [
      "0.63\n"
     ]
    },
    {
     "name": "stderr",
     "output_type": "stream",
     "text": [
      "/Users/akihito/.pyenv/versions/3.8.5/lib/python3.8/site-packages/sklearn/model_selection/_split.py:670: UserWarning: The least populated class in y has only 82 members, which is less than n_splits=90.\n",
      "  warnings.warn((\"The least populated class in y has only %d\"\n",
      "\u001b[32m[I 2020-12-15 06:27:30,199]\u001b[0m Trial 125 finished with value: 0.6683333333333333 and parameters: {'learning_rate': 0.31982587059084305, 'max_depth': 18, 'n_estimators': 291, 'min_child_weight': 8, 'gamma': 0.4317437900706809, 'subsample': 0.07019179132438509, 'eta': 0.3089256679352306}. Best is trial 118 with value: 0.6738888888888888.\u001b[0m\n"
     ]
    },
    {
     "name": "stdout",
     "output_type": "stream",
     "text": [
      "0.6683333333333333\n"
     ]
    },
    {
     "name": "stderr",
     "output_type": "stream",
     "text": [
      "/Users/akihito/.pyenv/versions/3.8.5/lib/python3.8/site-packages/sklearn/model_selection/_split.py:670: UserWarning: The least populated class in y has only 82 members, which is less than n_splits=90.\n",
      "  warnings.warn((\"The least populated class in y has only %d\"\n",
      "\u001b[32m[I 2020-12-15 06:28:29,969]\u001b[0m Trial 126 finished with value: 0.6488888888888888 and parameters: {'learning_rate': 0.26810326685226493, 'max_depth': 19, 'n_estimators': 355, 'min_child_weight': 8, 'gamma': 0.32217844399854484, 'subsample': 0.07717219650580279, 'eta': 0.31197776342884714}. Best is trial 118 with value: 0.6738888888888888.\u001b[0m\n"
     ]
    },
    {
     "name": "stdout",
     "output_type": "stream",
     "text": [
      "0.6488888888888888\n"
     ]
    },
    {
     "name": "stderr",
     "output_type": "stream",
     "text": [
      "/Users/akihito/.pyenv/versions/3.8.5/lib/python3.8/site-packages/sklearn/model_selection/_split.py:670: UserWarning: The least populated class in y has only 82 members, which is less than n_splits=90.\n",
      "  warnings.warn((\"The least populated class in y has only %d\"\n",
      "\u001b[32m[I 2020-12-15 06:29:18,438]\u001b[0m Trial 127 finished with value: 0.6566666666666667 and parameters: {'learning_rate': 0.2855569483650804, 'max_depth': 20, 'n_estimators': 330, 'min_child_weight': 7, 'gamma': 0.16378019217894357, 'subsample': 0.14018539758607626, 'eta': 0.28930059175894957}. Best is trial 118 with value: 0.6738888888888888.\u001b[0m\n"
     ]
    },
    {
     "name": "stdout",
     "output_type": "stream",
     "text": [
      "0.6566666666666667\n"
     ]
    },
    {
     "name": "stderr",
     "output_type": "stream",
     "text": [
      "/Users/akihito/.pyenv/versions/3.8.5/lib/python3.8/site-packages/sklearn/model_selection/_split.py:670: UserWarning: The least populated class in y has only 82 members, which is less than n_splits=90.\n",
      "  warnings.warn((\"The least populated class in y has only %d\"\n",
      "\u001b[32m[I 2020-12-15 06:30:02,173]\u001b[0m Trial 128 finished with value: 0.6061111111111112 and parameters: {'learning_rate': 0.22355785280594082, 'max_depth': 18, 'n_estimators': 342, 'min_child_weight': 9, 'gamma': 0.01296921925224137, 'subsample': 0.026318840478781594, 'eta': 0.3241417651259777}. Best is trial 118 with value: 0.6738888888888888.\u001b[0m\n"
     ]
    },
    {
     "name": "stdout",
     "output_type": "stream",
     "text": [
      "0.6061111111111112\n"
     ]
    },
    {
     "name": "stderr",
     "output_type": "stream",
     "text": [
      "/Users/akihito/.pyenv/versions/3.8.5/lib/python3.8/site-packages/sklearn/model_selection/_split.py:670: UserWarning: The least populated class in y has only 82 members, which is less than n_splits=90.\n",
      "  warnings.warn((\"The least populated class in y has only %d\"\n",
      "\u001b[32m[I 2020-12-15 06:31:06,646]\u001b[0m Trial 129 finished with value: 0.6538888888888889 and parameters: {'learning_rate': 0.3520808061124582, 'max_depth': 16, 'n_estimators': 312, 'min_child_weight': 8, 'gamma': 0.5603376874465426, 'subsample': 0.09704702622911843, 'eta': 0.31042117755820825}. Best is trial 118 with value: 0.6738888888888888.\u001b[0m\n"
     ]
    },
    {
     "name": "stdout",
     "output_type": "stream",
     "text": [
      "0.6538888888888889\n"
     ]
    },
    {
     "name": "stderr",
     "output_type": "stream",
     "text": [
      "/Users/akihito/.pyenv/versions/3.8.5/lib/python3.8/site-packages/sklearn/model_selection/_split.py:670: UserWarning: The least populated class in y has only 82 members, which is less than n_splits=90.\n",
      "  warnings.warn((\"The least populated class in y has only %d\"\n",
      "\u001b[32m[I 2020-12-15 06:32:03,608]\u001b[0m Trial 130 finished with value: 0.6627777777777777 and parameters: {'learning_rate': 0.32383409105631067, 'max_depth': 19, 'n_estimators': 294, 'min_child_weight': 7, 'gamma': 0.4080518370730488, 'subsample': 0.012151648363009207, 'eta': 0.2975433348693666}. Best is trial 118 with value: 0.6738888888888888.\u001b[0m\n"
     ]
    },
    {
     "name": "stdout",
     "output_type": "stream",
     "text": [
      "0.6627777777777777\n"
     ]
    },
    {
     "name": "stderr",
     "output_type": "stream",
     "text": [
      "/Users/akihito/.pyenv/versions/3.8.5/lib/python3.8/site-packages/sklearn/model_selection/_split.py:670: UserWarning: The least populated class in y has only 82 members, which is less than n_splits=90.\n",
      "  warnings.warn((\"The least populated class in y has only %d\"\n",
      "\u001b[32m[I 2020-12-15 06:32:59,899]\u001b[0m Trial 131 finished with value: 0.6594444444444445 and parameters: {'learning_rate': 0.32340890922945376, 'max_depth': 19, 'n_estimators': 290, 'min_child_weight': 7, 'gamma': 0.4154709358985582, 'subsample': 0.0658023149803677, 'eta': 0.30038907982552665}. Best is trial 118 with value: 0.6738888888888888.\u001b[0m\n"
     ]
    },
    {
     "name": "stdout",
     "output_type": "stream",
     "text": [
      "0.6594444444444445\n"
     ]
    },
    {
     "name": "stderr",
     "output_type": "stream",
     "text": [
      "/Users/akihito/.pyenv/versions/3.8.5/lib/python3.8/site-packages/sklearn/model_selection/_split.py:670: UserWarning: The least populated class in y has only 82 members, which is less than n_splits=90.\n",
      "  warnings.warn((\"The least populated class in y has only %d\"\n",
      "\u001b[32m[I 2020-12-15 06:33:55,734]\u001b[0m Trial 132 finished with value: 0.676111111111111 and parameters: {'learning_rate': 0.2998669623969317, 'max_depth': 19, 'n_estimators': 288, 'min_child_weight': 7, 'gamma': 0.39605679151243844, 'subsample': 0.011272586501962454, 'eta': 0.2864200957120997}. Best is trial 132 with value: 0.676111111111111.\u001b[0m\n"
     ]
    },
    {
     "name": "stdout",
     "output_type": "stream",
     "text": [
      "0.676111111111111\n"
     ]
    },
    {
     "name": "stderr",
     "output_type": "stream",
     "text": [
      "/Users/akihito/.pyenv/versions/3.8.5/lib/python3.8/site-packages/sklearn/model_selection/_split.py:670: UserWarning: The least populated class in y has only 82 members, which is less than n_splits=90.\n",
      "  warnings.warn((\"The least populated class in y has only %d\"\n",
      "\u001b[32m[I 2020-12-15 06:34:50,740]\u001b[0m Trial 133 finished with value: 0.6505555555555556 and parameters: {'learning_rate': 0.31716751713731933, 'max_depth': 19, 'n_estimators': 289, 'min_child_weight': 7, 'gamma': 0.3799677237274687, 'subsample': 0.052626043058371604, 'eta': 0.283920338639593}. Best is trial 132 with value: 0.676111111111111.\u001b[0m\n"
     ]
    },
    {
     "name": "stdout",
     "output_type": "stream",
     "text": [
      "0.6505555555555556\n"
     ]
    },
    {
     "name": "stderr",
     "output_type": "stream",
     "text": [
      "/Users/akihito/.pyenv/versions/3.8.5/lib/python3.8/site-packages/sklearn/model_selection/_split.py:670: UserWarning: The least populated class in y has only 82 members, which is less than n_splits=90.\n",
      "  warnings.warn((\"The least populated class in y has only %d\"\n",
      "\u001b[32m[I 2020-12-15 06:35:42,351]\u001b[0m Trial 134 finished with value: 0.6661111111111111 and parameters: {'learning_rate': 0.28051300385220435, 'max_depth': 20, 'n_estimators': 300, 'min_child_weight': 7, 'gamma': 0.26923192545551466, 'subsample': 0.02433865251767612, 'eta': 0.295004598843739}. Best is trial 132 with value: 0.676111111111111.\u001b[0m\n"
     ]
    },
    {
     "name": "stdout",
     "output_type": "stream",
     "text": [
      "0.6661111111111111\n"
     ]
    },
    {
     "name": "stderr",
     "output_type": "stream",
     "text": [
      "/Users/akihito/.pyenv/versions/3.8.5/lib/python3.8/site-packages/sklearn/model_selection/_split.py:670: UserWarning: The least populated class in y has only 82 members, which is less than n_splits=90.\n",
      "  warnings.warn((\"The least populated class in y has only %d\"\n",
      "\u001b[32m[I 2020-12-15 06:36:27,394]\u001b[0m Trial 135 finished with value: 0.6483333333333333 and parameters: {'learning_rate': 0.28045541826157505, 'max_depth': 20, 'n_estimators': 284, 'min_child_weight': 8, 'gamma': 0.25687803901851225, 'subsample': 0.013553744858535968, 'eta': 0.29654919880355507}. Best is trial 132 with value: 0.676111111111111.\u001b[0m\n"
     ]
    },
    {
     "name": "stdout",
     "output_type": "stream",
     "text": [
      "0.6483333333333333\n"
     ]
    },
    {
     "name": "stderr",
     "output_type": "stream",
     "text": [
      "/Users/akihito/.pyenv/versions/3.8.5/lib/python3.8/site-packages/sklearn/model_selection/_split.py:670: UserWarning: The least populated class in y has only 82 members, which is less than n_splits=90.\n",
      "  warnings.warn((\"The least populated class in y has only %d\"\n",
      "\u001b[32m[I 2020-12-15 06:37:26,705]\u001b[0m Trial 136 finished with value: 0.6505555555555556 and parameters: {'learning_rate': 0.24232719339794997, 'max_depth': 20, 'n_estimators': 295, 'min_child_weight': 7, 'gamma': 0.41972936046665166, 'subsample': 0.015832001461546615, 'eta': 0.29261942183260503}. Best is trial 132 with value: 0.676111111111111.\u001b[0m\n"
     ]
    },
    {
     "name": "stdout",
     "output_type": "stream",
     "text": [
      "0.6505555555555556\n"
     ]
    },
    {
     "name": "stderr",
     "output_type": "stream",
     "text": [
      "/Users/akihito/.pyenv/versions/3.8.5/lib/python3.8/site-packages/sklearn/model_selection/_split.py:670: UserWarning: The least populated class in y has only 82 members, which is less than n_splits=90.\n",
      "  warnings.warn((\"The least populated class in y has only %d\"\n",
      "\u001b[32m[I 2020-12-15 06:38:21,394]\u001b[0m Trial 137 finished with value: 0.6538888888888889 and parameters: {'learning_rate': 0.31195355099990824, 'max_depth': 19, 'n_estimators': 305, 'min_child_weight': 7, 'gamma': 0.31587769037317726, 'subsample': 0.04237749167389184, 'eta': 0.3069414315457318}. Best is trial 132 with value: 0.676111111111111.\u001b[0m\n"
     ]
    },
    {
     "name": "stdout",
     "output_type": "stream",
     "text": [
      "0.6538888888888889\n"
     ]
    },
    {
     "name": "stderr",
     "output_type": "stream",
     "text": [
      "/Users/akihito/.pyenv/versions/3.8.5/lib/python3.8/site-packages/sklearn/model_selection/_split.py:670: UserWarning: The least populated class in y has only 82 members, which is less than n_splits=90.\n",
      "  warnings.warn((\"The least populated class in y has only %d\"\n",
      "\u001b[32m[I 2020-12-15 06:39:23,086]\u001b[0m Trial 138 finished with value: 0.6361111111111111 and parameters: {'learning_rate': 0.29919479375650654, 'max_depth': 20, 'n_estimators': 322, 'min_child_weight': 8, 'gamma': 0.4711052259603275, 'subsample': 0.0859879077383494, 'eta': 0.31368434449046106}. Best is trial 132 with value: 0.676111111111111.\u001b[0m\n"
     ]
    },
    {
     "name": "stdout",
     "output_type": "stream",
     "text": [
      "0.6361111111111111\n"
     ]
    },
    {
     "name": "stderr",
     "output_type": "stream",
     "text": [
      "/Users/akihito/.pyenv/versions/3.8.5/lib/python3.8/site-packages/sklearn/model_selection/_split.py:670: UserWarning: The least populated class in y has only 82 members, which is less than n_splits=90.\n",
      "  warnings.warn((\"The least populated class in y has only %d\"\n",
      "\u001b[32m[I 2020-12-15 06:40:23,306]\u001b[0m Trial 139 finished with value: 0.6583333333333333 and parameters: {'learning_rate': 0.32779729053050793, 'max_depth': 19, 'n_estimators': 269, 'min_child_weight': 7, 'gamma': 0.7056456914708009, 'subsample': 0.11827496584244973, 'eta': 0.3017881686281725}. Best is trial 132 with value: 0.676111111111111.\u001b[0m\n"
     ]
    },
    {
     "name": "stdout",
     "output_type": "stream",
     "text": [
      "0.6583333333333333\n"
     ]
    },
    {
     "name": "stderr",
     "output_type": "stream",
     "text": [
      "/Users/akihito/.pyenv/versions/3.8.5/lib/python3.8/site-packages/sklearn/model_selection/_split.py:670: UserWarning: The least populated class in y has only 82 members, which is less than n_splits=90.\n",
      "  warnings.warn((\"The least populated class in y has only %d\"\n",
      "\u001b[32m[I 2020-12-15 06:41:07,527]\u001b[0m Trial 140 finished with value: 0.6555555555555556 and parameters: {'learning_rate': 0.27698900623934203, 'max_depth': 19, 'n_estimators': 284, 'min_child_weight': 8, 'gamma': 0.22901803181803837, 'subsample': 0.01127849259313734, 'eta': 0.28679100411056124}. Best is trial 132 with value: 0.676111111111111.\u001b[0m\n"
     ]
    },
    {
     "name": "stdout",
     "output_type": "stream",
     "text": [
      "0.6555555555555556\n"
     ]
    },
    {
     "name": "stderr",
     "output_type": "stream",
     "text": [
      "/Users/akihito/.pyenv/versions/3.8.5/lib/python3.8/site-packages/sklearn/model_selection/_split.py:670: UserWarning: The least populated class in y has only 82 members, which is less than n_splits=90.\n",
      "  warnings.warn((\"The least populated class in y has only %d\"\n",
      "\u001b[32m[I 2020-12-15 06:41:44,732]\u001b[0m Trial 141 finished with value: 0.6455555555555554 and parameters: {'learning_rate': 0.3418342158136917, 'max_depth': 18, 'n_estimators': 294, 'min_child_weight': 7, 'gamma': 0.06714604069306884, 'subsample': 0.0723854669665627, 'eta': 0.2577335421143628}. Best is trial 132 with value: 0.676111111111111.\u001b[0m\n"
     ]
    },
    {
     "name": "stdout",
     "output_type": "stream",
     "text": [
      "0.6455555555555554\n"
     ]
    },
    {
     "name": "stderr",
     "output_type": "stream",
     "text": [
      "/Users/akihito/.pyenv/versions/3.8.5/lib/python3.8/site-packages/sklearn/model_selection/_split.py:670: UserWarning: The least populated class in y has only 82 members, which is less than n_splits=90.\n",
      "  warnings.warn((\"The least populated class in y has only %d\"\n",
      "\u001b[32m[I 2020-12-15 06:42:41,552]\u001b[0m Trial 142 finished with value: 0.6161111111111112 and parameters: {'learning_rate': 0.3727206312706712, 'max_depth': 18, 'n_estimators': 308, 'min_child_weight': 9, 'gamma': 0.5365552638299642, 'subsample': 0.06339683685835962, 'eta': 0.2809919669039044}. Best is trial 132 with value: 0.676111111111111.\u001b[0m\n"
     ]
    },
    {
     "name": "stdout",
     "output_type": "stream",
     "text": [
      "0.6161111111111112\n"
     ]
    },
    {
     "name": "stderr",
     "output_type": "stream",
     "text": [
      "/Users/akihito/.pyenv/versions/3.8.5/lib/python3.8/site-packages/sklearn/model_selection/_split.py:670: UserWarning: The least populated class in y has only 82 members, which is less than n_splits=90.\n",
      "  warnings.warn((\"The least populated class in y has only %d\"\n",
      "\u001b[32m[I 2020-12-15 06:43:23,039]\u001b[0m Trial 143 finished with value: 0.6688888888888889 and parameters: {'learning_rate': 0.2965227432228636, 'max_depth': 18, 'n_estimators': 276, 'min_child_weight': 7, 'gamma': 0.16829427532010727, 'subsample': 0.041686233307501826, 'eta': 0.27373430673279725}. Best is trial 132 with value: 0.676111111111111.\u001b[0m\n"
     ]
    },
    {
     "name": "stdout",
     "output_type": "stream",
     "text": [
      "0.6688888888888889\n"
     ]
    },
    {
     "name": "stderr",
     "output_type": "stream",
     "text": [
      "/Users/akihito/.pyenv/versions/3.8.5/lib/python3.8/site-packages/sklearn/model_selection/_split.py:670: UserWarning: The least populated class in y has only 82 members, which is less than n_splits=90.\n",
      "  warnings.warn((\"The least populated class in y has only %d\"\n",
      "\u001b[32m[I 2020-12-15 06:44:15,828]\u001b[0m Trial 144 finished with value: 0.6538888888888889 and parameters: {'learning_rate': 0.25050912072644416, 'max_depth': 20, 'n_estimators': 275, 'min_child_weight': 7, 'gamma': 0.3442684241776062, 'subsample': 0.03948768200648477, 'eta': 0.26935117698554034}. Best is trial 132 with value: 0.676111111111111.\u001b[0m\n"
     ]
    },
    {
     "name": "stdout",
     "output_type": "stream",
     "text": [
      "0.6538888888888889\n"
     ]
    },
    {
     "name": "stderr",
     "output_type": "stream",
     "text": [
      "/Users/akihito/.pyenv/versions/3.8.5/lib/python3.8/site-packages/sklearn/model_selection/_split.py:670: UserWarning: The least populated class in y has only 82 members, which is less than n_splits=90.\n",
      "  warnings.warn((\"The least populated class in y has only %d\"\n",
      "\u001b[32m[I 2020-12-15 06:44:59,037]\u001b[0m Trial 145 finished with value: 0.6433333333333334 and parameters: {'learning_rate': 0.29695109961335536, 'max_depth': 19, 'n_estimators': 264, 'min_child_weight': 7, 'gamma': 0.2181439014361839, 'subsample': 0.09623478428685352, 'eta': 0.30396253097855924}. Best is trial 132 with value: 0.676111111111111.\u001b[0m\n"
     ]
    },
    {
     "name": "stdout",
     "output_type": "stream",
     "text": [
      "0.6433333333333334\n"
     ]
    },
    {
     "name": "stderr",
     "output_type": "stream",
     "text": [
      "/Users/akihito/.pyenv/versions/3.8.5/lib/python3.8/site-packages/sklearn/model_selection/_split.py:670: UserWarning: The least populated class in y has only 82 members, which is less than n_splits=90.\n",
      "  warnings.warn((\"The least populated class in y has only %d\"\n",
      "\u001b[32m[I 2020-12-15 06:46:00,689]\u001b[0m Trial 146 finished with value: 0.6472222222222223 and parameters: {'learning_rate': 0.26903094235665714, 'max_depth': 18, 'n_estimators': 281, 'min_child_weight': 6, 'gamma': 0.4455507832727795, 'subsample': 0.14250392949228272, 'eta': 0.2955781654149627}. Best is trial 132 with value: 0.676111111111111.\u001b[0m\n"
     ]
    },
    {
     "name": "stdout",
     "output_type": "stream",
     "text": [
      "0.6472222222222223\n"
     ]
    },
    {
     "name": "stderr",
     "output_type": "stream",
     "text": [
      "/Users/akihito/.pyenv/versions/3.8.5/lib/python3.8/site-packages/sklearn/model_selection/_split.py:670: UserWarning: The least populated class in y has only 82 members, which is less than n_splits=90.\n",
      "  warnings.warn((\"The least populated class in y has only %d\"\n",
      "\u001b[32m[I 2020-12-15 06:47:09,672]\u001b[0m Trial 147 finished with value: 0.6705555555555555 and parameters: {'learning_rate': 0.327505863988587, 'max_depth': 20, 'n_estimators': 317, 'min_child_weight': 7, 'gamma': 0.6399419311267651, 'subsample': 0.026499499435357128, 'eta': 0.3186527706777414}. Best is trial 132 with value: 0.676111111111111.\u001b[0m\n"
     ]
    },
    {
     "name": "stdout",
     "output_type": "stream",
     "text": [
      "0.6705555555555555\n"
     ]
    },
    {
     "name": "stderr",
     "output_type": "stream",
     "text": [
      "/Users/akihito/.pyenv/versions/3.8.5/lib/python3.8/site-packages/sklearn/model_selection/_split.py:670: UserWarning: The least populated class in y has only 82 members, which is less than n_splits=90.\n",
      "  warnings.warn((\"The least populated class in y has only %d\"\n",
      "\u001b[32m[I 2020-12-15 06:48:18,217]\u001b[0m Trial 148 finished with value: 0.6466666666666667 and parameters: {'learning_rate': 0.3620554360388833, 'max_depth': 20, 'n_estimators': 315, 'min_child_weight': 7, 'gamma': 0.6494248406118937, 'subsample': 0.010697877914331674, 'eta': 0.3218103099704436}. Best is trial 132 with value: 0.676111111111111.\u001b[0m\n"
     ]
    },
    {
     "name": "stdout",
     "output_type": "stream",
     "text": [
      "0.6466666666666667\n"
     ]
    },
    {
     "name": "stderr",
     "output_type": "stream",
     "text": [
      "/Users/akihito/.pyenv/versions/3.8.5/lib/python3.8/site-packages/sklearn/model_selection/_split.py:670: UserWarning: The least populated class in y has only 82 members, which is less than n_splits=90.\n",
      "  warnings.warn((\"The least populated class in y has only %d\"\n",
      "\u001b[32m[I 2020-12-15 06:49:45,542]\u001b[0m Trial 149 finished with value: 0.63 and parameters: {'learning_rate': 0.291771642844103, 'max_depth': 18, 'n_estimators': 336, 'min_child_weight': 6, 'gamma': 0.797126668824073, 'subsample': 0.18230064363833837, 'eta': 0.32958556948647155}. Best is trial 132 with value: 0.676111111111111.\u001b[0m\n"
     ]
    },
    {
     "name": "stdout",
     "output_type": "stream",
     "text": [
      "0.63\n"
     ]
    },
    {
     "name": "stderr",
     "output_type": "stream",
     "text": [
      "/Users/akihito/.pyenv/versions/3.8.5/lib/python3.8/site-packages/sklearn/model_selection/_split.py:670: UserWarning: The least populated class in y has only 82 members, which is less than n_splits=90.\n",
      "  warnings.warn((\"The least populated class in y has only %d\"\n",
      "\u001b[32m[I 2020-12-15 06:50:50,938]\u001b[0m Trial 150 finished with value: 0.6577777777777777 and parameters: {'learning_rate': 0.21499869457047982, 'max_depth': 17, 'n_estimators': 322, 'min_child_weight': 8, 'gamma': 0.5272806009796083, 'subsample': 0.02928968225957186, 'eta': 0.31007648685220146}. Best is trial 132 with value: 0.676111111111111.\u001b[0m\n"
     ]
    },
    {
     "name": "stdout",
     "output_type": "stream",
     "text": [
      "0.6577777777777777\n"
     ]
    },
    {
     "name": "stderr",
     "output_type": "stream",
     "text": [
      "/Users/akihito/.pyenv/versions/3.8.5/lib/python3.8/site-packages/sklearn/model_selection/_split.py:670: UserWarning: The least populated class in y has only 82 members, which is less than n_splits=90.\n",
      "  warnings.warn((\"The least populated class in y has only %d\"\n",
      "\u001b[32m[I 2020-12-15 06:51:55,663]\u001b[0m Trial 151 finished with value: 0.6522222222222223 and parameters: {'learning_rate': 0.32184237743648936, 'max_depth': 19, 'n_estimators': 291, 'min_child_weight': 7, 'gamma': 0.661625732782345, 'subsample': 0.047485821095150135, 'eta': 0.3003031009899583}. Best is trial 132 with value: 0.676111111111111.\u001b[0m\n"
     ]
    },
    {
     "name": "stdout",
     "output_type": "stream",
     "text": [
      "0.6522222222222223\n"
     ]
    },
    {
     "name": "stderr",
     "output_type": "stream",
     "text": [
      "/Users/akihito/.pyenv/versions/3.8.5/lib/python3.8/site-packages/sklearn/model_selection/_split.py:670: UserWarning: The least populated class in y has only 82 members, which is less than n_splits=90.\n",
      "  warnings.warn((\"The least populated class in y has only %d\"\n",
      "\u001b[32m[I 2020-12-15 06:52:51,900]\u001b[0m Trial 152 finished with value: 0.6538888888888889 and parameters: {'learning_rate': 0.33004006286403254, 'max_depth': 19, 'n_estimators': 300, 'min_child_weight': 7, 'gamma': 0.3725796950057787, 'subsample': 0.08722809378404561, 'eta': 0.3150735900998065}. Best is trial 132 with value: 0.676111111111111.\u001b[0m\n"
     ]
    },
    {
     "name": "stdout",
     "output_type": "stream",
     "text": [
      "0.6538888888888889\n"
     ]
    },
    {
     "name": "stderr",
     "output_type": "stream",
     "text": [
      "/Users/akihito/.pyenv/versions/3.8.5/lib/python3.8/site-packages/sklearn/model_selection/_split.py:670: UserWarning: The least populated class in y has only 82 members, which is less than n_splits=90.\n",
      "  warnings.warn((\"The least populated class in y has only %d\"\n",
      "\u001b[32m[I 2020-12-15 06:53:48,841]\u001b[0m Trial 153 finished with value: 0.6694444444444444 and parameters: {'learning_rate': 0.3861344648610247, 'max_depth': 20, 'n_estimators': 271, 'min_child_weight': 7, 'gamma': 0.5786344540779262, 'subsample': 0.028327637060763126, 'eta': 0.2908573101859525}. Best is trial 132 with value: 0.676111111111111.\u001b[0m\n"
     ]
    },
    {
     "name": "stdout",
     "output_type": "stream",
     "text": [
      "0.6694444444444444\n"
     ]
    },
    {
     "name": "stderr",
     "output_type": "stream",
     "text": [
      "/Users/akihito/.pyenv/versions/3.8.5/lib/python3.8/site-packages/sklearn/model_selection/_split.py:670: UserWarning: The least populated class in y has only 82 members, which is less than n_splits=90.\n",
      "  warnings.warn((\"The least populated class in y has only %d\"\n",
      "\u001b[32m[I 2020-12-15 06:54:45,386]\u001b[0m Trial 154 finished with value: 0.6588888888888889 and parameters: {'learning_rate': 0.3839200219275045, 'max_depth': 20, 'n_estimators': 253, 'min_child_weight': 6, 'gamma': 0.5592903261668083, 'subsample': 0.02810015319995481, 'eta': 0.28885218494030673}. Best is trial 132 with value: 0.676111111111111.\u001b[0m\n"
     ]
    },
    {
     "name": "stdout",
     "output_type": "stream",
     "text": [
      "0.6588888888888889\n"
     ]
    },
    {
     "name": "stderr",
     "output_type": "stream",
     "text": [
      "/Users/akihito/.pyenv/versions/3.8.5/lib/python3.8/site-packages/sklearn/model_selection/_split.py:670: UserWarning: The least populated class in y has only 82 members, which is less than n_splits=90.\n",
      "  warnings.warn((\"The least populated class in y has only %d\"\n",
      "\u001b[32m[I 2020-12-15 06:55:17,115]\u001b[0m Trial 155 finished with value: 0.6483333333333333 and parameters: {'learning_rate': 0.35084514977312514, 'max_depth': 20, 'n_estimators': 271, 'min_child_weight': 7, 'gamma': 0.013296872351614919, 'subsample': 0.013106362326008779, 'eta': 0.2734675879883779}. Best is trial 132 with value: 0.676111111111111.\u001b[0m\n"
     ]
    },
    {
     "name": "stdout",
     "output_type": "stream",
     "text": [
      "0.6483333333333333\n"
     ]
    },
    {
     "name": "stderr",
     "output_type": "stream",
     "text": [
      "/Users/akihito/.pyenv/versions/3.8.5/lib/python3.8/site-packages/sklearn/model_selection/_split.py:670: UserWarning: The least populated class in y has only 82 members, which is less than n_splits=90.\n",
      "  warnings.warn((\"The least populated class in y has only %d\"\n",
      "\u001b[32m[I 2020-12-15 06:56:16,168]\u001b[0m Trial 156 finished with value: 0.6461111111111111 and parameters: {'learning_rate': 0.4321847940615958, 'max_depth': 18, 'n_estimators': 281, 'min_child_weight': 8, 'gamma': 0.7581313913852131, 'subsample': 0.10689305128408011, 'eta': 0.1546000549295535}. Best is trial 132 with value: 0.676111111111111.\u001b[0m\n"
     ]
    },
    {
     "name": "stdout",
     "output_type": "stream",
     "text": [
      "0.6461111111111111\n"
     ]
    },
    {
     "name": "stderr",
     "output_type": "stream",
     "text": [
      "/Users/akihito/.pyenv/versions/3.8.5/lib/python3.8/site-packages/sklearn/model_selection/_split.py:670: UserWarning: The least populated class in y has only 82 members, which is less than n_splits=90.\n",
      "  warnings.warn((\"The least populated class in y has only %d\"\n",
      "\u001b[32m[I 2020-12-15 06:57:06,391]\u001b[0m Trial 157 finished with value: 0.6411111111111112 and parameters: {'learning_rate': 0.3915802096048894, 'max_depth': 20, 'n_estimators': 306, 'min_child_weight': 7, 'gamma': 0.27071655286398855, 'subsample': 0.2471387791731191, 'eta': 0.3298542584332779}. Best is trial 132 with value: 0.676111111111111.\u001b[0m\n"
     ]
    },
    {
     "name": "stdout",
     "output_type": "stream",
     "text": [
      "0.6411111111111112\n"
     ]
    },
    {
     "name": "stderr",
     "output_type": "stream",
     "text": [
      "/Users/akihito/.pyenv/versions/3.8.5/lib/python3.8/site-packages/sklearn/model_selection/_split.py:670: UserWarning: The least populated class in y has only 82 members, which is less than n_splits=90.\n",
      "  warnings.warn((\"The least populated class in y has only %d\"\n",
      "\u001b[32m[I 2020-12-15 06:58:20,451]\u001b[0m Trial 158 finished with value: 0.6766666666666666 and parameters: {'learning_rate': 0.24154467569115426, 'max_depth': 17, 'n_estimators': 312, 'min_child_weight': 6, 'gamma': 0.6112578201865325, 'subsample': 0.05131165419770442, 'eta': 0.3199279452974703}. Best is trial 158 with value: 0.6766666666666666.\u001b[0m\n"
     ]
    },
    {
     "name": "stdout",
     "output_type": "stream",
     "text": [
      "0.6766666666666666\n"
     ]
    },
    {
     "name": "stderr",
     "output_type": "stream",
     "text": [
      "/Users/akihito/.pyenv/versions/3.8.5/lib/python3.8/site-packages/sklearn/model_selection/_split.py:670: UserWarning: The least populated class in y has only 82 members, which is less than n_splits=90.\n",
      "  warnings.warn((\"The least populated class in y has only %d\"\n",
      "\u001b[32m[I 2020-12-15 06:59:40,866]\u001b[0m Trial 159 finished with value: 0.6511111111111111 and parameters: {'learning_rate': 0.20025933562641232, 'max_depth': 17, 'n_estimators': 315, 'min_child_weight': 6, 'gamma': 0.6715867365698409, 'subsample': 0.05039680332187105, 'eta': 0.31580083214725885}. Best is trial 158 with value: 0.6766666666666666.\u001b[0m\n"
     ]
    },
    {
     "name": "stdout",
     "output_type": "stream",
     "text": [
      "0.6511111111111111\n"
     ]
    },
    {
     "name": "stderr",
     "output_type": "stream",
     "text": [
      "/Users/akihito/.pyenv/versions/3.8.5/lib/python3.8/site-packages/sklearn/model_selection/_split.py:670: UserWarning: The least populated class in y has only 82 members, which is less than n_splits=90.\n",
      "  warnings.warn((\"The least populated class in y has only %d\"\n",
      "\u001b[32m[I 2020-12-15 07:00:22,936]\u001b[0m Trial 160 finished with value: 0.6477777777777778 and parameters: {'learning_rate': 0.23985313627389057, 'max_depth': 17, 'n_estimators': 265, 'min_child_weight': 6, 'gamma': 0.1364238497719822, 'subsample': 0.032690692074077765, 'eta': 0.32387708016032485}. Best is trial 158 with value: 0.6766666666666666.\u001b[0m\n"
     ]
    },
    {
     "name": "stdout",
     "output_type": "stream",
     "text": [
      "0.6477777777777778\n"
     ]
    },
    {
     "name": "stderr",
     "output_type": "stream",
     "text": [
      "/Users/akihito/.pyenv/versions/3.8.5/lib/python3.8/site-packages/sklearn/model_selection/_split.py:670: UserWarning: The least populated class in y has only 82 members, which is less than n_splits=90.\n",
      "  warnings.warn((\"The least populated class in y has only %d\"\n",
      "\u001b[32m[I 2020-12-15 07:01:27,875]\u001b[0m Trial 161 finished with value: 0.6577777777777777 and parameters: {'learning_rate': 0.3003754361963103, 'max_depth': 18, 'n_estimators': 300, 'min_child_weight': 7, 'gamma': 0.6013423887115514, 'subsample': 0.01269676452382086, 'eta': 0.30682213298974603}. Best is trial 158 with value: 0.6766666666666666.\u001b[0m\n"
     ]
    },
    {
     "name": "stdout",
     "output_type": "stream",
     "text": [
      "0.6577777777777777\n"
     ]
    },
    {
     "name": "stderr",
     "output_type": "stream",
     "text": [
      "/Users/akihito/.pyenv/versions/3.8.5/lib/python3.8/site-packages/sklearn/model_selection/_split.py:670: UserWarning: The least populated class in y has only 82 members, which is less than n_splits=90.\n",
      "  warnings.warn((\"The least populated class in y has only %d\"\n",
      "\u001b[32m[I 2020-12-15 07:02:42,268]\u001b[0m Trial 162 finished with value: 0.6461111111111111 and parameters: {'learning_rate': 0.2761806296066112, 'max_depth': 18, 'n_estimators': 326, 'min_child_weight': 6, 'gamma': 0.5496667551716727, 'subsample': 0.08567761298843474, 'eta': 0.3356660491206502}. Best is trial 158 with value: 0.6766666666666666.\u001b[0m\n"
     ]
    },
    {
     "name": "stdout",
     "output_type": "stream",
     "text": [
      "0.6461111111111111\n"
     ]
    },
    {
     "name": "stderr",
     "output_type": "stream",
     "text": [
      "/Users/akihito/.pyenv/versions/3.8.5/lib/python3.8/site-packages/sklearn/model_selection/_split.py:670: UserWarning: The least populated class in y has only 82 members, which is less than n_splits=90.\n",
      "  warnings.warn((\"The least populated class in y has only %d\"\n",
      "\u001b[32m[I 2020-12-15 07:03:48,175]\u001b[0m Trial 163 finished with value: 0.6677777777777777 and parameters: {'learning_rate': 0.3721479124329169, 'max_depth': 17, 'n_estimators': 279, 'min_child_weight': 7, 'gamma': 0.8171160247117402, 'subsample': 0.050392738782380556, 'eta': 0.29488141842012383}. Best is trial 158 with value: 0.6766666666666666.\u001b[0m\n"
     ]
    },
    {
     "name": "stdout",
     "output_type": "stream",
     "text": [
      "0.6677777777777777\n"
     ]
    },
    {
     "name": "stderr",
     "output_type": "stream",
     "text": [
      "/Users/akihito/.pyenv/versions/3.8.5/lib/python3.8/site-packages/sklearn/model_selection/_split.py:670: UserWarning: The least populated class in y has only 82 members, which is less than n_splits=90.\n",
      "  warnings.warn((\"The least populated class in y has only %d\"\n",
      "\u001b[32m[I 2020-12-15 07:04:55,400]\u001b[0m Trial 164 finished with value: 0.6666666666666666 and parameters: {'learning_rate': 0.259083062646862, 'max_depth': 17, 'n_estimators': 276, 'min_child_weight': 7, 'gamma': 0.8274489882458462, 'subsample': 0.05263324417615336, 'eta': 0.28990923183415096}. Best is trial 158 with value: 0.6766666666666666.\u001b[0m\n"
     ]
    },
    {
     "name": "stdout",
     "output_type": "stream",
     "text": [
      "0.6666666666666666\n"
     ]
    },
    {
     "name": "stderr",
     "output_type": "stream",
     "text": [
      "/Users/akihito/.pyenv/versions/3.8.5/lib/python3.8/site-packages/sklearn/model_selection/_split.py:670: UserWarning: The least populated class in y has only 82 members, which is less than n_splits=90.\n",
      "  warnings.warn((\"The least populated class in y has only %d\"\n",
      "\u001b[32m[I 2020-12-15 07:06:03,505]\u001b[0m Trial 165 finished with value: 0.6561111111111111 and parameters: {'learning_rate': 0.24022014643939915, 'max_depth': 17, 'n_estimators': 276, 'min_child_weight': 7, 'gamma': 0.8346241156475686, 'subsample': 0.12456635504652303, 'eta': 0.29240529236956814}. Best is trial 158 with value: 0.6766666666666666.\u001b[0m\n"
     ]
    },
    {
     "name": "stdout",
     "output_type": "stream",
     "text": [
      "0.6561111111111111\n"
     ]
    },
    {
     "name": "stderr",
     "output_type": "stream",
     "text": [
      "/Users/akihito/.pyenv/versions/3.8.5/lib/python3.8/site-packages/sklearn/model_selection/_split.py:670: UserWarning: The least populated class in y has only 82 members, which is less than n_splits=90.\n",
      "  warnings.warn((\"The least populated class in y has only %d\"\n",
      "\u001b[32m[I 2020-12-15 07:07:01,561]\u001b[0m Trial 166 finished with value: 0.6655555555555555 and parameters: {'learning_rate': 0.3097507811430766, 'max_depth': 17, 'n_estimators': 288, 'min_child_weight': 7, 'gamma': 0.4614610998754671, 'subsample': 0.04970974025610882, 'eta': 0.26234706196216023}. Best is trial 158 with value: 0.6766666666666666.\u001b[0m\n"
     ]
    },
    {
     "name": "stdout",
     "output_type": "stream",
     "text": [
      "0.6655555555555555\n"
     ]
    },
    {
     "name": "stderr",
     "output_type": "stream",
     "text": [
      "/Users/akihito/.pyenv/versions/3.8.5/lib/python3.8/site-packages/sklearn/model_selection/_split.py:670: UserWarning: The least populated class in y has only 82 members, which is less than n_splits=90.\n",
      "  warnings.warn((\"The least populated class in y has only %d\"\n",
      "\u001b[32m[I 2020-12-15 07:08:00,562]\u001b[0m Trial 167 finished with value: 0.6366666666666666 and parameters: {'learning_rate': 0.26209655769770407, 'max_depth': 19, 'n_estimators': 288, 'min_child_weight': 7, 'gamma': 0.45710926817346514, 'subsample': 0.04509496464490002, 'eta': 0.2623611778388781}. Best is trial 158 with value: 0.6766666666666666.\u001b[0m\n"
     ]
    },
    {
     "name": "stdout",
     "output_type": "stream",
     "text": [
      "0.6366666666666666\n"
     ]
    },
    {
     "name": "stderr",
     "output_type": "stream",
     "text": [
      "/Users/akihito/.pyenv/versions/3.8.5/lib/python3.8/site-packages/sklearn/model_selection/_split.py:670: UserWarning: The least populated class in y has only 82 members, which is less than n_splits=90.\n",
      "  warnings.warn((\"The least populated class in y has only %d\"\n",
      "\u001b[32m[I 2020-12-15 07:08:55,346]\u001b[0m Trial 168 finished with value: 0.6488888888888888 and parameters: {'learning_rate': 0.31080787201850646, 'max_depth': 18, 'n_estimators': 297, 'min_child_weight': 7, 'gamma': 0.33983555669983395, 'subsample': 0.06567995940969384, 'eta': 0.2762172217481702}. Best is trial 158 with value: 0.6766666666666666.\u001b[0m\n"
     ]
    },
    {
     "name": "stdout",
     "output_type": "stream",
     "text": [
      "0.6488888888888888\n"
     ]
    },
    {
     "name": "stderr",
     "output_type": "stream",
     "text": [
      "/Users/akihito/.pyenv/versions/3.8.5/lib/python3.8/site-packages/sklearn/model_selection/_split.py:670: UserWarning: The least populated class in y has only 82 members, which is less than n_splits=90.\n",
      "  warnings.warn((\"The least populated class in y has only %d\"\n",
      "\u001b[32m[I 2020-12-15 07:09:58,877]\u001b[0m Trial 169 finished with value: 0.6655555555555556 and parameters: {'learning_rate': 0.2867780892290134, 'max_depth': 17, 'n_estimators': 424, 'min_child_weight': 7, 'gamma': 0.18870438206255458, 'subsample': 0.01035256784849162, 'eta': 0.29010068568264186}. Best is trial 158 with value: 0.6766666666666666.\u001b[0m\n"
     ]
    },
    {
     "name": "stdout",
     "output_type": "stream",
     "text": [
      "0.6655555555555556\n"
     ]
    },
    {
     "name": "stderr",
     "output_type": "stream",
     "text": [
      "/Users/akihito/.pyenv/versions/3.8.5/lib/python3.8/site-packages/sklearn/model_selection/_split.py:670: UserWarning: The least populated class in y has only 82 members, which is less than n_splits=90.\n",
      "  warnings.warn((\"The least populated class in y has only %d\"\n",
      "\u001b[32m[I 2020-12-15 07:11:03,606]\u001b[0m Trial 170 finished with value: 0.6649999999999999 and parameters: {'learning_rate': 0.2892836141329458, 'max_depth': 16, 'n_estimators': 438, 'min_child_weight': 7, 'gamma': 0.18344612461034268, 'subsample': 0.056025007096636416, 'eta': 0.2824190114421869}. Best is trial 158 with value: 0.6766666666666666.\u001b[0m\n"
     ]
    },
    {
     "name": "stdout",
     "output_type": "stream",
     "text": [
      "0.6649999999999999\n"
     ]
    },
    {
     "name": "stderr",
     "output_type": "stream",
     "text": [
      "/Users/akihito/.pyenv/versions/3.8.5/lib/python3.8/site-packages/sklearn/model_selection/_split.py:670: UserWarning: The least populated class in y has only 82 members, which is less than n_splits=90.\n",
      "  warnings.warn((\"The least populated class in y has only %d\"\n",
      "\u001b[32m[I 2020-12-15 07:12:09,802]\u001b[0m Trial 171 finished with value: 0.6477777777777778 and parameters: {'learning_rate': 0.2855574010826359, 'max_depth': 16, 'n_estimators': 443, 'min_child_weight': 7, 'gamma': 0.19616692280861833, 'subsample': 0.04573087717067622, 'eta': 0.2854607863015967}. Best is trial 158 with value: 0.6766666666666666.\u001b[0m\n"
     ]
    },
    {
     "name": "stdout",
     "output_type": "stream",
     "text": [
      "0.6477777777777778\n"
     ]
    },
    {
     "name": "stderr",
     "output_type": "stream",
     "text": [
      "/Users/akihito/.pyenv/versions/3.8.5/lib/python3.8/site-packages/sklearn/model_selection/_split.py:670: UserWarning: The least populated class in y has only 82 members, which is less than n_splits=90.\n",
      "  warnings.warn((\"The least populated class in y has only %d\"\n",
      "\u001b[32m[I 2020-12-15 07:13:07,635]\u001b[0m Trial 172 finished with value: 0.6555555555555556 and parameters: {'learning_rate': 0.2600599980227047, 'max_depth': 17, 'n_estimators': 419, 'min_child_weight': 7, 'gamma': 0.1301923403115452, 'subsample': 0.07115201224021583, 'eta': 0.2653332748871845}. Best is trial 158 with value: 0.6766666666666666.\u001b[0m\n"
     ]
    },
    {
     "name": "stdout",
     "output_type": "stream",
     "text": [
      "0.6555555555555556\n"
     ]
    },
    {
     "name": "stderr",
     "output_type": "stream",
     "text": [
      "/Users/akihito/.pyenv/versions/3.8.5/lib/python3.8/site-packages/sklearn/model_selection/_split.py:670: UserWarning: The least populated class in y has only 82 members, which is less than n_splits=90.\n",
      "  warnings.warn((\"The least populated class in y has only %d\"\n",
      "\u001b[32m[I 2020-12-15 07:14:17,896]\u001b[0m Trial 173 finished with value: 0.6572222222222223 and parameters: {'learning_rate': 0.22507500891696336, 'max_depth': 16, 'n_estimators': 422, 'min_child_weight': 7, 'gamma': 0.2443634670643149, 'subsample': 0.03109200407771906, 'eta': 0.27607490369588944}. Best is trial 158 with value: 0.6766666666666666.\u001b[0m\n"
     ]
    },
    {
     "name": "stdout",
     "output_type": "stream",
     "text": [
      "0.6572222222222223\n"
     ]
    },
    {
     "name": "stderr",
     "output_type": "stream",
     "text": [
      "/Users/akihito/.pyenv/versions/3.8.5/lib/python3.8/site-packages/sklearn/model_selection/_split.py:670: UserWarning: The least populated class in y has only 82 members, which is less than n_splits=90.\n",
      "  warnings.warn((\"The least populated class in y has only %d\"\n",
      "\u001b[32m[I 2020-12-15 07:15:22,839]\u001b[0m Trial 174 finished with value: 0.6616666666666666 and parameters: {'learning_rate': 0.29171820059629777, 'max_depth': 17, 'n_estimators': 401, 'min_child_weight': 8, 'gamma': 0.2951238587532915, 'subsample': 0.10319978411515363, 'eta': 0.2824392222281584}. Best is trial 158 with value: 0.6766666666666666.\u001b[0m\n"
     ]
    },
    {
     "name": "stdout",
     "output_type": "stream",
     "text": [
      "0.6616666666666666\n"
     ]
    },
    {
     "name": "stderr",
     "output_type": "stream",
     "text": [
      "/Users/akihito/.pyenv/versions/3.8.5/lib/python3.8/site-packages/sklearn/model_selection/_split.py:670: UserWarning: The least populated class in y has only 82 members, which is less than n_splits=90.\n",
      "  warnings.warn((\"The least populated class in y has only %d\"\n",
      "\u001b[32m[I 2020-12-15 07:16:10,152]\u001b[0m Trial 175 finished with value: 0.6638888888888889 and parameters: {'learning_rate': 0.342178835787294, 'max_depth': 17, 'n_estimators': 452, 'min_child_weight': 6, 'gamma': 0.02459772338332561, 'subsample': 0.08247128603878817, 'eta': 0.290780577139466}. Best is trial 158 with value: 0.6766666666666666.\u001b[0m\n"
     ]
    },
    {
     "name": "stdout",
     "output_type": "stream",
     "text": [
      "0.6638888888888889\n"
     ]
    },
    {
     "name": "stderr",
     "output_type": "stream",
     "text": [
      "/Users/akihito/.pyenv/versions/3.8.5/lib/python3.8/site-packages/sklearn/model_selection/_split.py:670: UserWarning: The least populated class in y has only 82 members, which is less than n_splits=90.\n",
      "  warnings.warn((\"The least populated class in y has only %d\"\n",
      "\u001b[32m[I 2020-12-15 07:16:55,680]\u001b[0m Trial 176 finished with value: 0.655 and parameters: {'learning_rate': 0.348000606125371, 'max_depth': 17, 'n_estimators': 433, 'min_child_weight': 6, 'gamma': 0.019755445672442695, 'subsample': 0.08573081079131861, 'eta': 0.2924828005553171}. Best is trial 158 with value: 0.6766666666666666.\u001b[0m\n"
     ]
    },
    {
     "name": "stdout",
     "output_type": "stream",
     "text": [
      "0.655\n"
     ]
    },
    {
     "name": "stderr",
     "output_type": "stream",
     "text": [
      "/Users/akihito/.pyenv/versions/3.8.5/lib/python3.8/site-packages/sklearn/model_selection/_split.py:670: UserWarning: The least populated class in y has only 82 members, which is less than n_splits=90.\n",
      "  warnings.warn((\"The least populated class in y has only %d\"\n",
      "\u001b[32m[I 2020-12-15 07:17:47,640]\u001b[0m Trial 177 finished with value: 0.646111111111111 and parameters: {'learning_rate': 0.307034522642894, 'max_depth': 17, 'n_estimators': 498, 'min_child_weight': 6, 'gamma': 0.013831361575593004, 'subsample': 0.05391597702642427, 'eta': 0.2854705259420095}. Best is trial 158 with value: 0.6766666666666666.\u001b[0m\n"
     ]
    },
    {
     "name": "stdout",
     "output_type": "stream",
     "text": [
      "0.646111111111111\n"
     ]
    },
    {
     "name": "stderr",
     "output_type": "stream",
     "text": [
      "/Users/akihito/.pyenv/versions/3.8.5/lib/python3.8/site-packages/sklearn/model_selection/_split.py:670: UserWarning: The least populated class in y has only 82 members, which is less than n_splits=90.\n",
      "  warnings.warn((\"The least populated class in y has only %d\"\n",
      "\u001b[32m[I 2020-12-15 07:19:24,626]\u001b[0m Trial 178 finished with value: 0.6561111111111112 and parameters: {'learning_rate': 0.26920788018426417, 'max_depth': 18, 'n_estimators': 484, 'min_child_weight': 7, 'gamma': 0.48153086019955815, 'subsample': 0.02521001456281091, 'eta': 0.2597519109133569}. Best is trial 158 with value: 0.6766666666666666.\u001b[0m\n"
     ]
    },
    {
     "name": "stdout",
     "output_type": "stream",
     "text": [
      "0.6561111111111112\n"
     ]
    },
    {
     "name": "stderr",
     "output_type": "stream",
     "text": [
      "/Users/akihito/.pyenv/versions/3.8.5/lib/python3.8/site-packages/sklearn/model_selection/_split.py:670: UserWarning: The least populated class in y has only 82 members, which is less than n_splits=90.\n",
      "  warnings.warn((\"The least populated class in y has only %d\"\n",
      "\u001b[32m[I 2020-12-15 07:22:03,724]\u001b[0m Trial 179 finished with value: 0.6138888888888889 and parameters: {'learning_rate': 0.3659671020174258, 'max_depth': 16, 'n_estimators': 468, 'min_child_weight': 7, 'gamma': 3.1425923898514263, 'subsample': 0.15913496855846174, 'eta': 0.27163496953581967}. Best is trial 158 with value: 0.6766666666666666.\u001b[0m\n"
     ]
    },
    {
     "name": "stdout",
     "output_type": "stream",
     "text": [
      "0.6138888888888889\n"
     ]
    },
    {
     "name": "stderr",
     "output_type": "stream",
     "text": [
      "/Users/akihito/.pyenv/versions/3.8.5/lib/python3.8/site-packages/sklearn/model_selection/_split.py:670: UserWarning: The least populated class in y has only 82 members, which is less than n_splits=90.\n",
      "  warnings.warn((\"The least populated class in y has only %d\"\n",
      "\u001b[32m[I 2020-12-15 07:23:11,211]\u001b[0m Trial 180 finished with value: 0.6422222222222222 and parameters: {'learning_rate': 0.23914580902530236, 'max_depth': 17, 'n_estimators': 450, 'min_child_weight': 6, 'gamma': 0.14671591058502925, 'subsample': 0.056241011911861184, 'eta': 0.30411993545779403}. Best is trial 158 with value: 0.6766666666666666.\u001b[0m\n"
     ]
    },
    {
     "name": "stdout",
     "output_type": "stream",
     "text": [
      "0.6422222222222222\n"
     ]
    },
    {
     "name": "stderr",
     "output_type": "stream",
     "text": [
      "/Users/akihito/.pyenv/versions/3.8.5/lib/python3.8/site-packages/sklearn/model_selection/_split.py:670: UserWarning: The least populated class in y has only 82 members, which is less than n_splits=90.\n",
      "  warnings.warn((\"The least populated class in y has only %d\"\n",
      "\u001b[32m[I 2020-12-15 07:24:34,983]\u001b[0m Trial 181 finished with value: 0.6594444444444444 and parameters: {'learning_rate': 0.3412417451609478, 'max_depth': 17, 'n_estimators': 461, 'min_child_weight': 7, 'gamma': 0.36661580059391363, 'subsample': 0.07212539989986776, 'eta': 0.17153024677230502}. Best is trial 158 with value: 0.6766666666666666.\u001b[0m\n"
     ]
    },
    {
     "name": "stdout",
     "output_type": "stream",
     "text": [
      "0.6594444444444444\n"
     ]
    },
    {
     "name": "stderr",
     "output_type": "stream",
     "text": [
      "/Users/akihito/.pyenv/versions/3.8.5/lib/python3.8/site-packages/sklearn/model_selection/_split.py:670: UserWarning: The least populated class in y has only 82 members, which is less than n_splits=90.\n",
      "  warnings.warn((\"The least populated class in y has only %d\"\n",
      "\u001b[32m[I 2020-12-15 07:25:39,727]\u001b[0m Trial 182 finished with value: 0.6733333333333332 and parameters: {'learning_rate': 0.31159141959942055, 'max_depth': 18, 'n_estimators': 379, 'min_child_weight': 7, 'gamma': 0.29093805393189326, 'subsample': 0.01166603444330931, 'eta': 0.29251538602234145}. Best is trial 158 with value: 0.6766666666666666.\u001b[0m\n"
     ]
    },
    {
     "name": "stdout",
     "output_type": "stream",
     "text": [
      "0.6733333333333332\n"
     ]
    },
    {
     "name": "stderr",
     "output_type": "stream",
     "text": [
      "/Users/akihito/.pyenv/versions/3.8.5/lib/python3.8/site-packages/sklearn/model_selection/_split.py:670: UserWarning: The least populated class in y has only 82 members, which is less than n_splits=90.\n",
      "  warnings.warn((\"The least populated class in y has only %d\"\n",
      "\u001b[32m[I 2020-12-15 07:26:29,345]\u001b[0m Trial 183 finished with value: 0.6394444444444444 and parameters: {'learning_rate': 0.31199237686429965, 'max_depth': 18, 'n_estimators': 397, 'min_child_weight': 7, 'gamma': 0.08670002305862345, 'subsample': 0.01260302400501756, 'eta': 0.2928893925532239}. Best is trial 158 with value: 0.6766666666666666.\u001b[0m\n"
     ]
    },
    {
     "name": "stdout",
     "output_type": "stream",
     "text": [
      "0.6394444444444444\n"
     ]
    },
    {
     "name": "stderr",
     "output_type": "stream",
     "text": [
      "/Users/akihito/.pyenv/versions/3.8.5/lib/python3.8/site-packages/sklearn/model_selection/_split.py:670: UserWarning: The least populated class in y has only 82 members, which is less than n_splits=90.\n",
      "  warnings.warn((\"The least populated class in y has only %d\"\n",
      "\u001b[32m[I 2020-12-15 07:27:29,776]\u001b[0m Trial 184 finished with value: 0.6461111111111111 and parameters: {'learning_rate': 0.28655106630941946, 'max_depth': 18, 'n_estimators': 369, 'min_child_weight': 7, 'gamma': 0.24008992681754704, 'subsample': 0.03490116486420615, 'eta': 0.30071089413619745}. Best is trial 158 with value: 0.6766666666666666.\u001b[0m\n"
     ]
    },
    {
     "name": "stdout",
     "output_type": "stream",
     "text": [
      "0.6461111111111111\n"
     ]
    },
    {
     "name": "stderr",
     "output_type": "stream",
     "text": [
      "/Users/akihito/.pyenv/versions/3.8.5/lib/python3.8/site-packages/sklearn/model_selection/_split.py:670: UserWarning: The least populated class in y has only 82 members, which is less than n_splits=90.\n",
      "  warnings.warn((\"The least populated class in y has only %d\"\n",
      "\u001b[32m[I 2020-12-15 07:29:06,040]\u001b[0m Trial 185 finished with value: 0.6688888888888889 and parameters: {'learning_rate': 0.33323321176986875, 'max_depth': 17, 'n_estimators': 445, 'min_child_weight': 7, 'gamma': 0.6451887075758871, 'subsample': 0.07939135963540764, 'eta': 0.28181606201414816}. Best is trial 158 with value: 0.6766666666666666.\u001b[0m\n"
     ]
    },
    {
     "name": "stdout",
     "output_type": "stream",
     "text": [
      "0.6688888888888889\n"
     ]
    },
    {
     "name": "stderr",
     "output_type": "stream",
     "text": [
      "/Users/akihito/.pyenv/versions/3.8.5/lib/python3.8/site-packages/sklearn/model_selection/_split.py:670: UserWarning: The least populated class in y has only 82 members, which is less than n_splits=90.\n",
      "  warnings.warn((\"The least populated class in y has only %d\"\n",
      "\u001b[32m[I 2020-12-15 07:30:46,667]\u001b[0m Trial 186 finished with value: 0.6427777777777777 and parameters: {'learning_rate': 0.26330780602237414, 'max_depth': 18, 'n_estimators': 444, 'min_child_weight': 7, 'gamma': 0.6578130370166679, 'subsample': 0.01128881378819821, 'eta': 0.2770336146350729}. Best is trial 158 with value: 0.6766666666666666.\u001b[0m\n"
     ]
    },
    {
     "name": "stdout",
     "output_type": "stream",
     "text": [
      "0.6427777777777777\n"
     ]
    },
    {
     "name": "stderr",
     "output_type": "stream",
     "text": [
      "/Users/akihito/.pyenv/versions/3.8.5/lib/python3.8/site-packages/sklearn/model_selection/_split.py:670: UserWarning: The least populated class in y has only 82 members, which is less than n_splits=90.\n",
      "  warnings.warn((\"The least populated class in y has only %d\"\n",
      "\u001b[32m[I 2020-12-15 07:32:23,940]\u001b[0m Trial 187 finished with value: 0.6638888888888889 and parameters: {'learning_rate': 0.3207233139042556, 'max_depth': 16, 'n_estimators': 407, 'min_child_weight': 8, 'gamma': 0.9353469626867574, 'subsample': 0.10660755528552295, 'eta': 0.28255943096839997}. Best is trial 158 with value: 0.6766666666666666.\u001b[0m\n"
     ]
    },
    {
     "name": "stdout",
     "output_type": "stream",
     "text": [
      "0.6638888888888889\n"
     ]
    },
    {
     "name": "stderr",
     "output_type": "stream",
     "text": [
      "/Users/akihito/.pyenv/versions/3.8.5/lib/python3.8/site-packages/sklearn/model_selection/_split.py:670: UserWarning: The least populated class in y has only 82 members, which is less than n_splits=90.\n",
      "  warnings.warn((\"The least populated class in y has only %d\"\n",
      "\u001b[32m[I 2020-12-15 07:33:51,235]\u001b[0m Trial 188 finished with value: 0.6361111111111111 and parameters: {'learning_rate': 0.36116330164746335, 'max_depth': 18, 'n_estimators': 426, 'min_child_weight': 7, 'gamma': 0.509514517460119, 'subsample': 0.050831956147412954, 'eta': 0.2526891444367994}. Best is trial 158 with value: 0.6766666666666666.\u001b[0m\n"
     ]
    },
    {
     "name": "stdout",
     "output_type": "stream",
     "text": [
      "0.6361111111111111\n"
     ]
    },
    {
     "name": "stderr",
     "output_type": "stream",
     "text": [
      "/Users/akihito/.pyenv/versions/3.8.5/lib/python3.8/site-packages/sklearn/model_selection/_split.py:670: UserWarning: The least populated class in y has only 82 members, which is less than n_splits=90.\n",
      "  warnings.warn((\"The least populated class in y has only %d\"\n",
      "\u001b[32m[I 2020-12-15 07:35:10,305]\u001b[0m Trial 189 finished with value: 0.6577777777777777 and parameters: {'learning_rate': 0.2989927280476745, 'max_depth': 17, 'n_estimators': 347, 'min_child_weight': 7, 'gamma': 0.7238042977506729, 'subsample': 0.035419259149628575, 'eta': 0.27035780151940425}. Best is trial 158 with value: 0.6766666666666666.\u001b[0m\n"
     ]
    },
    {
     "name": "stdout",
     "output_type": "stream",
     "text": [
      "0.6577777777777777\n"
     ]
    },
    {
     "name": "stderr",
     "output_type": "stream",
     "text": [
      "/Users/akihito/.pyenv/versions/3.8.5/lib/python3.8/site-packages/sklearn/model_selection/_split.py:670: UserWarning: The least populated class in y has only 82 members, which is less than n_splits=90.\n",
      "  warnings.warn((\"The least populated class in y has only %d\"\n",
      "\u001b[32m[I 2020-12-15 07:36:44,588]\u001b[0m Trial 190 finished with value: 0.6694444444444444 and parameters: {'learning_rate': 0.2781150434802719, 'max_depth': 19, 'n_estimators': 386, 'min_child_weight': 7, 'gamma': 0.8563125364687083, 'subsample': 0.13202538326806168, 'eta': 0.3069447620000274}. Best is trial 158 with value: 0.6766666666666666.\u001b[0m\n"
     ]
    },
    {
     "name": "stdout",
     "output_type": "stream",
     "text": [
      "0.6694444444444444\n"
     ]
    },
    {
     "name": "stderr",
     "output_type": "stream",
     "text": [
      "/Users/akihito/.pyenv/versions/3.8.5/lib/python3.8/site-packages/sklearn/model_selection/_split.py:670: UserWarning: The least populated class in y has only 82 members, which is less than n_splits=90.\n",
      "  warnings.warn((\"The least populated class in y has only %d\"\n",
      "\u001b[32m[I 2020-12-15 07:38:18,579]\u001b[0m Trial 191 finished with value: 0.6522222222222221 and parameters: {'learning_rate': 0.28304913799100145, 'max_depth': 19, 'n_estimators': 382, 'min_child_weight': 7, 'gamma': 0.8474547067231356, 'subsample': 0.21026615032309942, 'eta': 0.30514229501049583}. Best is trial 158 with value: 0.6766666666666666.\u001b[0m\n"
     ]
    },
    {
     "name": "stdout",
     "output_type": "stream",
     "text": [
      "0.6522222222222221\n"
     ]
    },
    {
     "name": "stderr",
     "output_type": "stream",
     "text": [
      "/Users/akihito/.pyenv/versions/3.8.5/lib/python3.8/site-packages/sklearn/model_selection/_split.py:670: UserWarning: The least populated class in y has only 82 members, which is less than n_splits=90.\n",
      "  warnings.warn((\"The least populated class in y has only %d\"\n",
      "\u001b[32m[I 2020-12-15 07:39:43,299]\u001b[0m Trial 192 finished with value: 0.635 and parameters: {'learning_rate': 0.25973939150796543, 'max_depth': 20, 'n_estimators': 388, 'min_child_weight': 7, 'gamma': 0.6237079469893341, 'subsample': 0.07115946482703703, 'eta': 0.317832113203069}. Best is trial 158 with value: 0.6766666666666666.\u001b[0m\n"
     ]
    },
    {
     "name": "stdout",
     "output_type": "stream",
     "text": [
      "0.635\n"
     ]
    },
    {
     "name": "stderr",
     "output_type": "stream",
     "text": [
      "/Users/akihito/.pyenv/versions/3.8.5/lib/python3.8/site-packages/sklearn/model_selection/_split.py:670: UserWarning: The least populated class in y has only 82 members, which is less than n_splits=90.\n",
      "  warnings.warn((\"The least populated class in y has only %d\"\n",
      "\u001b[32m[I 2020-12-15 07:41:19,257]\u001b[0m Trial 193 finished with value: 0.6616666666666666 and parameters: {'learning_rate': 0.3347064121285519, 'max_depth': 18, 'n_estimators': 412, 'min_child_weight': 7, 'gamma': 0.8079116751676473, 'subsample': 0.010230867036821932, 'eta': 0.2965761261033618}. Best is trial 158 with value: 0.6766666666666666.\u001b[0m\n"
     ]
    },
    {
     "name": "stdout",
     "output_type": "stream",
     "text": [
      "0.6616666666666666\n"
     ]
    },
    {
     "name": "stderr",
     "output_type": "stream",
     "text": [
      "/Users/akihito/.pyenv/versions/3.8.5/lib/python3.8/site-packages/sklearn/model_selection/_split.py:670: UserWarning: The least populated class in y has only 82 members, which is less than n_splits=90.\n",
      "  warnings.warn((\"The least populated class in y has only %d\"\n",
      "\u001b[32m[I 2020-12-15 07:43:12,494]\u001b[0m Trial 194 finished with value: 0.6538888888888889 and parameters: {'learning_rate': 0.305535153438118, 'max_depth': 19, 'n_estimators': 435, 'min_child_weight': 7, 'gamma': 1.0376730372597074, 'subsample': 0.14108175962223388, 'eta': 0.28655810133287135}. Best is trial 158 with value: 0.6766666666666666.\u001b[0m\n"
     ]
    },
    {
     "name": "stdout",
     "output_type": "stream",
     "text": [
      "0.6538888888888889\n"
     ]
    },
    {
     "name": "stderr",
     "output_type": "stream",
     "text": [
      "/Users/akihito/.pyenv/versions/3.8.5/lib/python3.8/site-packages/sklearn/model_selection/_split.py:670: UserWarning: The least populated class in y has only 82 members, which is less than n_splits=90.\n",
      "  warnings.warn((\"The least populated class in y has only %d\"\n",
      "\u001b[32m[I 2020-12-15 07:44:25,065]\u001b[0m Trial 195 finished with value: 0.65 and parameters: {'learning_rate': 0.24496589541778685, 'max_depth': 17, 'n_estimators': 357, 'min_child_weight': 7, 'gamma': 0.4669157649350792, 'subsample': 0.05403212575308747, 'eta': 0.23437181585541378}. Best is trial 158 with value: 0.6766666666666666.\u001b[0m\n"
     ]
    },
    {
     "name": "stdout",
     "output_type": "stream",
     "text": [
      "0.65\n"
     ]
    },
    {
     "name": "stderr",
     "output_type": "stream",
     "text": [
      "/Users/akihito/.pyenv/versions/3.8.5/lib/python3.8/site-packages/sklearn/model_selection/_split.py:670: UserWarning: The least populated class in y has only 82 members, which is less than n_splits=90.\n",
      "  warnings.warn((\"The least populated class in y has only %d\"\n",
      "\u001b[32m[I 2020-12-15 07:45:22,237]\u001b[0m Trial 196 finished with value: 0.6416666666666666 and parameters: {'learning_rate': 0.27582664921119504, 'max_depth': 19, 'n_estimators': 280, 'min_child_weight': 8, 'gamma': 0.5776483055359987, 'subsample': 0.12961652539984372, 'eta': 0.3092332901651135}. Best is trial 158 with value: 0.6766666666666666.\u001b[0m\n"
     ]
    },
    {
     "name": "stdout",
     "output_type": "stream",
     "text": [
      "0.6416666666666666\n"
     ]
    },
    {
     "name": "stderr",
     "output_type": "stream",
     "text": [
      "/Users/akihito/.pyenv/versions/3.8.5/lib/python3.8/site-packages/sklearn/model_selection/_split.py:670: UserWarning: The least populated class in y has only 82 members, which is less than n_splits=90.\n",
      "  warnings.warn((\"The least populated class in y has only %d\"\n",
      "\u001b[32m[I 2020-12-15 07:46:12,112]\u001b[0m Trial 197 finished with value: 0.6427777777777777 and parameters: {'learning_rate': 0.37630108137663293, 'max_depth': 18, 'n_estimators': 285, 'min_child_weight': 7, 'gamma': 0.31957568735780695, 'subsample': 0.09504739324002884, 'eta': 0.29282587502475815}. Best is trial 158 with value: 0.6766666666666666.\u001b[0m\n"
     ]
    },
    {
     "name": "stdout",
     "output_type": "stream",
     "text": [
      "0.6427777777777777\n"
     ]
    },
    {
     "name": "stderr",
     "output_type": "stream",
     "text": [
      "/Users/akihito/.pyenv/versions/3.8.5/lib/python3.8/site-packages/sklearn/model_selection/_split.py:670: UserWarning: The least populated class in y has only 82 members, which is less than n_splits=90.\n",
      "  warnings.warn((\"The least populated class in y has only %d\"\n",
      "\u001b[32m[I 2020-12-15 07:47:39,206]\u001b[0m Trial 198 finished with value: 0.6533333333333333 and parameters: {'learning_rate': 0.3256310269108397, 'max_depth': 20, 'n_estimators': 435, 'min_child_weight': 9, 'gamma': 0.7138793678490838, 'subsample': 0.031068407254677074, 'eta': 0.3011820950306963}. Best is trial 158 with value: 0.6766666666666666.\u001b[0m\n"
     ]
    },
    {
     "name": "stdout",
     "output_type": "stream",
     "text": [
      "0.6533333333333333\n"
     ]
    },
    {
     "name": "stderr",
     "output_type": "stream",
     "text": [
      "/Users/akihito/.pyenv/versions/3.8.5/lib/python3.8/site-packages/sklearn/model_selection/_split.py:670: UserWarning: The least populated class in y has only 82 members, which is less than n_splits=90.\n",
      "  warnings.warn((\"The least populated class in y has only %d\"\n",
      "\u001b[32m[I 2020-12-15 07:48:32,704]\u001b[0m Trial 199 finished with value: 0.6555555555555556 and parameters: {'learning_rate': 0.297298702836636, 'max_depth': 17, 'n_estimators': 269, 'min_child_weight': 7, 'gamma': 0.4206546754906668, 'subsample': 0.07768076821895784, 'eta': 0.3209514543601146}. Best is trial 158 with value: 0.6766666666666666.\u001b[0m\n"
     ]
    },
    {
     "name": "stdout",
     "output_type": "stream",
     "text": [
      "0.6555555555555556\n"
     ]
    },
    {
     "data": {
      "text/plain": [
       "{'learning_rate': 0.24154467569115426,\n",
       " 'max_depth': 17,\n",
       " 'n_estimators': 312,\n",
       " 'min_child_weight': 6,\n",
       " 'gamma': 0.6112578201865325,\n",
       " 'subsample': 0.05131165419770442,\n",
       " 'eta': 0.3199279452974703}"
      ]
     },
     "execution_count": 40,
     "metadata": {},
     "output_type": "execute_result"
    }
   ],
   "source": [
    "from xgboost import XGBClassifier\n",
    "from sklearn.model_selection import cross_val_score\n",
    "import warnings\n",
    "warnings.resetwarnings()\n",
    "warnings.simplefilter('ignore', FutureWarning)\n",
    "#1.目的関数の定義\n",
    "def objective(trial):\n",
    "    learning_rate = trial.suggest_uniform('learning_rate', 0.01, 1)\n",
    "    max_depth = trial.suggest_int('max_depth', 2,30)\n",
    "    n_estimators = trial.suggest_int('n_estimators', 50, 700)\n",
    "    clf1 = XGBClassifier(learning_rate=learning_rate,\n",
    "                         max_depth=max_depth,\n",
    "                         n_estimators=n_estimators,)\n",
    "    \n",
    "    score = cross_val_score(clf1, X, y, cv=90)\n",
    "    print(np.mean(score))\n",
    "    return np.mean(score)\n",
    "\n",
    "#2.Optunaオブジェクトを作成\n",
    "study = optuna.create_study(direction='maximize')\n",
    "#3.Optunaでパラメータ探索\n",
    "study.optimize(objective, n_trials=200)\n",
    "\n",
    "#4.ベストパラメータ表示\n",
    "study.best_params\n"
   ]
  },
  {
   "cell_type": "code",
   "execution_count": null,
   "metadata": {},
   "outputs": [],
   "source": []
  }
 ],
 "metadata": {
  "kernelspec": {
   "display_name": "Python 3",
   "language": "python",
   "name": "python3"
  },
  "language_info": {
   "codemirror_mode": {
    "name": "ipython",
    "version": 3
   },
   "file_extension": ".py",
   "mimetype": "text/x-python",
   "name": "python",
   "nbconvert_exporter": "python",
   "pygments_lexer": "ipython3",
   "version": "3.8.5"
  }
 },
 "nbformat": 4,
 "nbformat_minor": 2
}
