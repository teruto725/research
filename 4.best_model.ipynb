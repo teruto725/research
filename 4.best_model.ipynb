{
 "cells": [
  {
   "cell_type": "code",
   "execution_count": 2,
   "metadata": {},
   "outputs": [],
   "source": [
    "#一番いいモデル"
   ]
  },
  {
   "cell_type": "code",
   "execution_count": 5,
   "metadata": {},
   "outputs": [],
   "source": [
    "import numpy as np\n",
    "import gensim\n",
    "import requests\n",
    "from nltk.corpus import wordnet as wn\n",
    "from nltk.corpus import wordnet_ic\n",
    "import pandas as pd\n",
    "from wikipedia2vec import Wikipedia2Vec\n",
    "import pickle\n",
    "import matplotlib.pyplot as plt\n",
    "import pandas as pd\n",
    "from sklearn.model_selection import train_test_split"
   ]
  },
  {
   "cell_type": "code",
   "execution_count": 6,
   "metadata": {},
   "outputs": [
    {
     "name": "stdout",
     "output_type": "stream",
     "text": [
      "['s1' 'h2' 'h1' 's2' 'k'],[3 1 0 4 2]\n"
     ]
    }
   ],
   "source": [
    "#dataのインポート+シャッフル\n",
    "data = pd.read_csv(\"3.add_features_data.csv\").sample(frac=1, random_state=1).reset_index(drop=True)\n",
    "# 欠損値は最頻値補完を行う\n",
    "def fill_na_mean(data):\n",
    "    data.loc[:,\"sim_by_mcg\"] = data.loc[:,\"sim_by_mcg\"].fillna(data.loc[:,\"sim_by_mcg\"].mode()[0])\n",
    "    data.loc[:,\"is_a_by_mcg\"] = data.loc[:,\"is_a_by_mcg\"].fillna(data.loc[:,\"is_a_by_mcg\"].mode()[0])\n",
    "    data.loc[:,\"wiki2vec_sim\"] = data.loc[:,\"wiki2vec_sim\"].fillna(data.loc[:,\"wiki2vec_sim\"].mode()[0])\n",
    "    data.loc[:,\"wiki2vec_diff\"] = data.loc[:,\"wiki2vec_diff\"].fillna(data.loc[:,\"wiki2vec_diff\"].mode()[0])\n",
    "    return data\n",
    "data = fill_na_mean(data)\n",
    "#クラスラベルエンコーディング\n",
    "from sklearn.preprocessing import LabelEncoder\n",
    "def label_encorder(data):\n",
    "    le = LabelEncoder()\n",
    "    encoded = le.fit_transform(data['relation'].values)\n",
    "    decoded = le.inverse_transform(encoded)\n",
    "    data.loc[:,'relation_label'] = encoded\n",
    "    print(str(data[\"relation\"].unique())+\",\"+str(le.transform(data[\"relation\"].unique())))\n",
    "    return data\n",
    "data = label_encorder(data)\n",
    "#特徴量の選別 wn_sim_jcnは値がバグっているので使わない(infinityが入っている)\n",
    "X_columns = [\"sim_by_mcg\",\"is_a_by_mcg\",\"lexvec_sim\",\"wiki2vec_sim\",\"wn_hu_average\",\n",
    "                \"wn_pu_average\",\"wn_sim_path\",\"wn_sim_wup\",\n",
    "                \"is_include_word\",\"bert_sim\",\"lexvec_diff\",\"wiki2vec_diff\",\"bert_diff\"]\n",
    "X_data = data.loc[:,X_columns]\n",
    "# yの定義\n",
    "y = data.loc[:,\"relation_label\"].values.astype(\"int32\")"
   ]
  },
  {
   "cell_type": "code",
   "execution_count": 7,
   "metadata": {
    "scrolled": true
   },
   "outputs": [
    {
     "data": {
      "text/plain": [
       "Index(['sim_by_mcg', 'is_a_by_mcg', 'lexvec_sim', 'wiki2vec_sim',\n",
       "       'wn_hu_average', 'wn_pu_average', 'wn_sim_path', 'wn_sim_wup',\n",
       "       'is_include_word', 'bert_sim', 'lexvec_diff', 'wiki2vec_diff',\n",
       "       'bert_diff'],\n",
       "      dtype='object')"
      ]
     },
     "execution_count": 7,
     "metadata": {},
     "output_type": "execute_result"
    }
   ],
   "source": [
    "X_data.columns"
   ]
  },
  {
   "cell_type": "code",
   "execution_count": 8,
   "metadata": {},
   "outputs": [],
   "source": [
    "\n",
    "from sklearn.preprocessing import StandardScaler\n",
    "from sklearn.decomposition import PCA\n",
    "#通常の特徴量ラベル\n",
    "X_normal_columns = [\"sim_by_mcg\",\"is_a_by_mcg\",\"lexvec_sim\",\"wiki2vec_sim\",\"wn_hu_average\",\n",
    "                \"wn_pu_average\",\"wn_sim_path\",\"wn_sim_wup\",\"is_include_word\",\"bert_sim\"]\n",
    "\n",
    "#diffラベルのpca_ssモデル trainとtest arrを返す\n",
    "def ss_pca(train,pca_n):\n",
    "    scaler = StandardScaler()\n",
    "    train=scaler.fit_transform(train)\n",
    "    pca = PCA(n_components = pca_n)\n",
    "    train = pca.fit_transform(train)\n",
    "    return train"
   ]
  },
  {
   "cell_type": "code",
   "execution_count": 9,
   "metadata": {},
   "outputs": [],
   "source": [
    "#str_arrをarrに変換\n",
    "def convert_to_arr(vec_str):\n",
    "    vec_arr = None\n",
    "    for s in vec_str:\n",
    "        if vec_arr is None:\n",
    "            vec_arr =np.array(s[1:-1].split(\", \")).astype(\"float32\")\n",
    "        else:\n",
    "            vec_arr = np.block([[vec_arr],[np.array(s[1:-1].split(\", \")).astype(\"float32\")]])\n",
    "    return vec_arr"
   ]
  },
  {
   "cell_type": "code",
   "execution_count": 23,
   "metadata": {},
   "outputs": [
    {
     "name": "stderr",
     "output_type": "stream",
     "text": [
      "/Users/akihito/.pyenv/versions/3.8.5/lib/python3.8/site-packages/sklearn/model_selection/_split.py:293: FutureWarning: Setting a random_state has no effect since shuffle is False. This will raise an error in 0.24. You should leave random_state to its default (None), or set shuffle=True.\n",
      "  warnings.warn(\n",
      "/Users/akihito/.pyenv/versions/3.8.5/lib/python3.8/site-packages/sklearn/model_selection/_split.py:670: UserWarning: The least populated class in y has only 86 members, which is less than n_splits=100.\n",
      "  warnings.warn((\"The least populated class in y has only %d\"\n"
     ]
    },
    {
     "name": "stdout",
     "output_type": "stream",
     "text": [
      "1epoc\n",
      "2epoc\n",
      "3epoc\n",
      "4epoc\n",
      "5epoc\n",
      "6epoc\n",
      "7epoc\n",
      "8epoc\n",
      "9epoc\n",
      "10epoc\n",
      "11epoc\n",
      "12epoc\n",
      "13epoc\n",
      "14epoc\n",
      "15epoc\n",
      "16epoc\n",
      "17epoc\n",
      "18epoc\n",
      "19epoc\n",
      "20epoc\n",
      "21epoc\n",
      "22epoc\n",
      "23epoc\n",
      "24epoc\n",
      "25epoc\n",
      "26epoc\n",
      "27epoc\n",
      "28epoc\n",
      "29epoc\n",
      "30epoc\n",
      "31epoc\n",
      "32epoc\n",
      "33epoc\n",
      "34epoc\n",
      "35epoc\n",
      "36epoc\n",
      "37epoc\n",
      "38epoc\n",
      "39epoc\n",
      "40epoc\n",
      "41epoc\n",
      "42epoc\n",
      "43epoc\n",
      "44epoc\n",
      "45epoc\n",
      "46epoc\n",
      "47epoc\n",
      "48epoc\n",
      "49epoc\n",
      "50epoc\n",
      "51epoc\n",
      "52epoc\n",
      "53epoc\n",
      "54epoc\n",
      "55epoc\n",
      "56epoc\n",
      "57epoc\n",
      "58epoc\n",
      "59epoc\n",
      "60epoc\n",
      "61epoc\n",
      "62epoc\n",
      "63epoc\n",
      "64epoc\n",
      "65epoc\n",
      "66epoc\n",
      "67epoc\n",
      "68epoc\n",
      "69epoc\n",
      "70epoc\n",
      "71epoc\n",
      "72epoc\n",
      "73epoc\n",
      "74epoc\n",
      "75epoc\n",
      "76epoc\n",
      "77epoc\n",
      "78epoc\n",
      "79epoc\n",
      "80epoc\n",
      "81epoc\n",
      "82epoc\n",
      "83epoc\n",
      "84epoc\n",
      "85epoc\n",
      "86epoc\n",
      "87epoc\n",
      "88epoc\n",
      "89epoc\n",
      "90epoc\n",
      "91epoc\n",
      "92epoc\n",
      "93epoc\n",
      "94epoc\n",
      "95epoc\n",
      "96epoc\n",
      "97epoc\n",
      "98epoc\n",
      "99epoc\n",
      "100epoc\n"
     ]
    }
   ],
   "source": [
    "X_normal_columns = [\"sim_by_mcg\",\"is_a_by_mcg\",\"lexvec_sim\",\"wiki2vec_sim\",\"wn_hu_average\",\n",
    "                \"wn_pu_average\",\"wn_sim_path\",\"wn_sim_wup\",\"is_include_word\",\"bert_sim\"]\n",
    "pca_di={\"lexvec_diff\":30,\"wiki2vec_diff\":30,\"bert_diff\":3}\n",
    "\n",
    "\n",
    "#pca成分の生成\n",
    "from sklearn.model_selection import StratifiedKFold,LeaveOneOut,KFold\n",
    "from copy import deepcopy\n",
    "import xgboost as xgb\n",
    "from sklearn.metrics import confusion_matrix\n",
    "from sklearn.metrics import accuracy_score\n",
    "from sklearn.discriminant_analysis import LinearDiscriminantAnalysis as LDA\n",
    "\n",
    "\n",
    "skf = StratifiedKFold(n_splits=100,random_state = 0)#80\n",
    "#cm = None #混合配列\n",
    "acc = list()#acc配列\n",
    "\n",
    "y_test_arr = None#testの記録\n",
    "y_pred_arr = None#predの記録\n",
    "count = 1\n",
    "for train_idx, test_idx in skf.split(X_data,y):\n",
    "    print(str(count)+\"epoc\")\n",
    "    count += 1\n",
    "    \n",
    "    #diff系以外をarrayに入れる \n",
    "    X = X_data.loc[:,X_normal_columns].values.astype(\"float64\").astype(\"float64\")\n",
    "    \n",
    "    \n",
    "    # ベクトル系カラムをpcaする\n",
    "    for column, n in pca_di.items():\n",
    "        vec_arr = convert_to_arr(X_data.loc[:,column])\n",
    "        pca_arr = ss_pca(vec_arr,n)\n",
    "        X = np.concatenate([X, pca_arr], 1)\n",
    "        \n",
    "    \n",
    "    #分割\n",
    "    X_train = X[train_idx,:]\n",
    "    X_test = X[test_idx,:]\n",
    "    y_train = y[train_idx]\n",
    "    y_test = y[test_idx]\n",
    "    #print(X_train.shape)\n",
    "    \n",
    "    #XGBOOST\n",
    "    model = xgb.XGBClassifier(n_estimators=1500,max_depth=25,learning_rate=0.01)\n",
    "    model.fit(X_train,y_train)\n",
    "    y_pred = model.predict(X_test)\n",
    "    \n",
    "    #結果の保存\n",
    "    #print(accuracy_score(y_test, y_pred))\n",
    "    #acc.append(accuracy_score(y_test, y_pred))\n",
    "    #cm_temp = confusion_matrix(y_pred, y_test)\n",
    "    if y_test_arr is None:\n",
    "        #cm = cm_temp\n",
    "        y_test_arr  = y_test\n",
    "        y_pred_arr = y_pred\n",
    "    else:\n",
    "        #cm = cm + cm_temp\n",
    "        y_test_arr= np.append(y_test_arr,y_test)\n",
    "        y_pred_arr= np.append(y_pred_arr,y_pred)\n",
    "        \n",
    "\n"
   ]
  },
  {
   "cell_type": "code",
   "execution_count": 24,
   "metadata": {},
   "outputs": [
    {
     "name": "stdout",
     "output_type": "stream",
     "text": [
      "0.6868008948545862\n",
      "              precision    recall  f1-score   support\n",
      "\n",
      "           0       0.78      0.84      0.81        87\n",
      "           1       0.80      0.85      0.83        87\n",
      "           2       0.55      0.51      0.53       101\n",
      "           3       0.62      0.59      0.61        86\n",
      "           4       0.68      0.66      0.67        86\n",
      "\n",
      "    accuracy                           0.69       447\n",
      "   macro avg       0.69      0.69      0.69       447\n",
      "weighted avg       0.68      0.69      0.68       447\n",
      "\n"
     ]
    },
    {
     "data": {
      "text/plain": [
       "<AxesSubplot:>"
      ]
     },
     "execution_count": 24,
     "metadata": {},
     "output_type": "execute_result"
    },
    {
     "data": {
      "image/png": "[encoded data removed]",
      "text/plain": [
       "<Figure size 432x288 with 2 Axes>"
      ]
     },
     "metadata": {
      "needs_background": "light"
     },
     "output_type": "display_data"
    }
   ],
   "source": [
    "import seaborn as sns\n",
    "from sklearn.metrics import recall_score\n",
    "from sklearn.metrics import precision_score\n",
    "from sklearn.metrics import classification_report\n",
    "print(accuracy_score(y_test_arr, y_pred_arr))\n",
    "print(classification_report(y_test_arr,y_pred_arr))\n",
    "sns.heatmap(cm,annot=True, cmap='Blues')"
   ]
  },
  {
   "cell_type": "code",
   "execution_count": null,
   "metadata": {},
   "outputs": [],
   "source": [
    "#result\n",
    "import seaborn as sns\n",
    "\n",
    "print(acc)\n",
    "print(sum(acc)/len(acc))\n",
    "print(max(acc)-(sum(acc)/len(acc)))\n",
    "print(min(acc)-(sum(acc)/len(acc)))\n",
    "sns.heatmap(cm,annot=True, cmap='Blues')\n",
    "print(\"汎化\"+str((cm[0,0]+cm[1,1])/np.sum(cm[:,0:2])))\n",
    "print(\"関連\"+str((cm[2,2])/np.sum(cm[:,2])))\n",
    "print(\"集約\"+str((cm[3,3]+cm[4,4])/np.sum(cm[:,3:5])))"
   ]
  },
  {
   "cell_type": "code",
   "execution_count": null,
   "metadata": {},
   "outputs": [],
   "source": []
  }
 ],
 "metadata": {
  "kernelspec": {
   "display_name": "Python 3",
   "language": "python",
   "name": "python3"
  },
  "language_info": {
   "codemirror_mode": {
    "name": "ipython",
    "version": 3
   },
   "file_extension": ".py",
   "mimetype": "text/x-python",
   "name": "python",
   "nbconvert_exporter": "python",
   "pygments_lexer": "ipython3",
   "version": "3.8.5"
  }
 },
 "nbformat": 4,
 "nbformat_minor": 4
}
