{
 "cells": [
  {
   "cell_type": "code",
   "execution_count": 12,
   "metadata": {},
   "outputs": [],
   "source": [
    "import json\n",
    "import numpy as np\n",
    "import matplotlib.pyplot as plt\n",
    "import seaborn as sns\n",
    "import pandas as pd\n",
    "import tensorflow as tf\n",
    "import tensorflow_hub as hub\n",
    "import pprint"
   ]
  },
  {
   "cell_type": "code",
   "execution_count": 16,
   "metadata": {},
   "outputs": [
    {
     "output_type": "stream",
     "name": "stdout",
     "text": [
      "hello\nhello\nhello\nhello\nhello\nhello\nhello\nhello\nhello\nhello\nhello\nhello\nhello\nhello\n{'L_shape_block': {'block': 1},\n 'T_shape_block': {'block': 1},\n 'Z_shape_block': {'block': 1},\n 'accelerator': {'pedal': 1},\n 'account': {'atm': 1,\n             'bank': 1,\n             'booking': 1,\n             'customer': 1,\n             'entry': 1,\n             'interface': 1,\n             'order': 1},\n 'account_data': {'database': 1},\n 'accountant': {'department': 1, 'prescription': 1},\n 'address': {'person': 1},\n 'administrator': {'account': 1,\n                   'customer': 1,\n                   'customer_system': 1,\n                   'merchant_interface': 1,\n                   'order': 1,\n                   'seller': 1,\n                   'user': 1},\n 'agent': {'customer': 1, 'reservation_function': 1, 'ticket': 1},\n 'airplane': {'vehicle': 1},\n 'airport': {'flight': 1},\n 'alien': {'shot': 1},\n 'arm': {'body': 1},\n 'assistant': {'team': 1},\n 'atm': {'account': 1, 'bank': 1},\n 'automobile': {'driver': 1},\n 'automobile_engine': {'automobile': 1, 'pedal': 1, 'speedometer': 1},\n 'ball': {'baseball_player': 1, 'block': 1, 'racket': 1},\n 'bar_block': {'block': 1},\n 'bargain_item': {'item': 1},\n 'baseball': {'sport': 1},\n 'baseball_player': {'ball': 1},\n 'beam': {'player': 1},\n 'beginner_account': {'account': 1},\n 'bike': {'rider': 1, 'tyre': 1, 'vehicle': 1},\n 'bill': {'patient': 1, 'receptionist': 1},\n 'block': {'ball': 1, 'board': 1},\n 'book': {'librarian': 1, 'resource': 1, 'user': 1},\n 'booking': {'account': 1},\n 'booking_counter': {'customer': 1, 'ticket': 1},\n 'booking_data': {'database': 1},\n 'booking_function': {'system': 1},\n 'brake': {'bike': 1},\n 'brake_pedal': {'pedal': 1},\n 'camera': {'item': 1},\n 'cancellation_function': {'system': 1},\n 'cancellation_interface': {'interface': 1},\n 'car': {'road': 1, 'vehicle': 1},\n 'cart': {'customer': 1, 'order': 1},\n 'catcher': {'player': 1},\n 'category': {'resource': 1},\n 'character': {'map': 1},\n 'chief': {'employee': 1},\n 'circle': {'shape': 1},\n 'class': {'school': 1},\n 'client': {'order': 1},\n 'coin': {'object': 1},\n 'commodity': {'merchant': 1},\n 'company': {'order': 1, 'seller': 1},\n 'computer': {'keyboard': 1, 'mouse': 1},\n 'corporate_customer': {'customer': 1, 'employee': 1},\n 'corporation_client': {'client': 1, 'employee': 1},\n 'course': {'seminar': 1},\n 'create': {'action': 1},\n 'credit_card': {'order': 1},\n 'customer': {'account': 1,\n              'administrator': 1,\n              'agent': 1,\n              'booking_counter': 1,\n              'cart': 1,\n              'customer_system': 1,\n              'merchant': 1,\n              'order': 1,\n              'person': 1,\n              'refund': 1,\n              'shopping': 1,\n              'shopping_interface': 1,\n              'ticket': 1},\n 'customer_hobby': {'customer': 1},\n 'customer_score': {'customer': 1},\n 'customer_system': {'administrator': 1, 'customer': 1},\n 'database': {'system': 1},\n 'delete': {'action': 1},\n 'delivery': {'delivery_center': 1, 'order': 1},\n 'delivery_center': {'delivery': 1, 'item': 1},\n 'department': {'company': 1},\n 'detail_account': {'account': 1},\n 'dice': {'player': 1, 'turn': 1},\n 'director': {'employee': 1},\n 'doctor': {'department': 1, 'medical_record': 1, 'patient': 1, 'person': 1},\n 'door_event': {'event': 1},\n 'driver': {'automobile': 1, 'pedal': 1, 'speedometer': 1},\n 'employee': {'corporate_customer': 1, 'department': 1},\n 'enemy': {'object': 1},\n 'engineer': {'employee': 1, 'person': 1, 'team': 1},\n 'entry': {'account': 1},\n 'event': {'door_event': 1, 'map': 1, 'move_event': 1, 'treasure_event': 1},\n 'faculty': {'user': 1},\n 'female': {'person': 1},\n 'field': {'turn': 1},\n 'file': {'directory': 1},\n 'flight': {'airport': 1},\n 'frame': {'bike': 1},\n 'game': {'team': 1, 'tournament': 1},\n 'gameboard': {'player': 1, 'turn': 1},\n 'general_book': {'book': 1},\n 'goal_square': {'square': 1},\n 'guest': {'hotel': 1},\n 'hand': {'arm': 1, 'body': 1},\n 'hand_piece': {'turn': 1},\n 'handle': {'bike': 1},\n 'headset': {'devise': 1},\n 'hotel': {'guest': 1, 'interface': 1},\n 'hotel_data': {'database': 1},\n 'individual_client': {'client': 1},\n 'interface': {'account': 1, 'hotel': 1},\n 'item': {'cart': 1,\n          'catalog': 1,\n          'delivery_center': 1,\n          'item_controller': 1,\n          'item_manager': 1,\n          'item_shelf': 1,\n          'shopping_basket': 1},\n 'item_controller': {'system': 1},\n 'item_shelf': {'selling_interface': 1, 'shopping': 1, 'shopping_interface': 1},\n 'jump_item': {'object': 1},\n 'keyboard': {'computer': 1, 'devise': 1},\n 'leg': {'body': 1},\n 'librarian': {'book': 1, 'publisher': 1, 'user': 1},\n 'male': {'person': 1},\n 'manager': {'person': 1},\n 'map': {'player': 1},\n 'marketer': {'person': 1, 'selling_interface': 1},\n 'medical_record': {'doctor': 1},\n 'merchant': {'customer': 1, 'merchant_interface': 1},\n 'merchant_interface': {'administrator': 1, 'merchant': 1},\n 'microphone': {'devise': 1, 'headset': 1},\n 'mouse': {'computer': 1, 'devise': 1},\n 'move_event': {'event': 1},\n 'mushroom': {'object': 1},\n 'new_item': {'item': 1},\n 'normal_item': {'item': 1},\n 'nurse': {'department': 1, 'person': 1},\n 'object': {'map': 1},\n 'order': {'account': 1,\n           'administrator': 1,\n           'cart': 1,\n           'client': 1,\n           'company': 1,\n           'credit_card': 1,\n           'customer': 1,\n           'delivery': 1,\n           'passenger': 1,\n           'payment': 1,\n           'user': 1},\n 'order_detail': {'order': 1},\n 'order_flight': {'order': 1, 'schedule_flight': 1},\n 'order_information': {'order': 1, 'product': 1},\n 'order_item': {'item': 1, 'order': 1},\n 'order_line': {'order': 1, 'product': 1},\n 'oxygen': {'air': 1},\n 'passenger': {'order': 1},\n 'patient': {'bill': 1,\n             'doctor': 1,\n             'medical_record': 1,\n             'receptionist': 1,\n             'room': 1},\n 'payment': {'order': 1, 'web_user': 1},\n 'pedal': {'automobile': 1, 'automobile_engine': 1, 'driver': 1},\n 'personel_customer': {'customer': 1},\n 'pharmacist': {'department': 1, 'prescription': 1},\n 'piece': {'record': 1},\n 'pitcher': {'player': 1},\n 'player': {'beam': 1,\n            'dice': 1,\n            'gameboard': 1,\n            'map': 1,\n            'sport': 1,\n            'team': 1},\n 'prescription': {'accountant': 1, 'medical_record': 1, 'pharmacist': 1},\n 'printer': {'item': 1},\n 'product': {'cart': 1,\n             'employee': 1,\n             'inventory': 1,\n             'order': 1,\n             'order_line': 1,\n             'seller': 1},\n 'professor': {'person': 1, 'seminar': 1},\n 'project': {'task_system': 1},\n 'publisher': {'librarian': 1},\n 'racket': {'ball': 1},\n 'receptionist': {'bill': 1, 'department': 1, 'patient': 1},\n 'record': {'piece': 1},\n 'rectangle': {'shape': 1},\n 'reference_book': {'book': 1},\n 'refund': {'customer': 1},\n 'reservation_interface': {'interface': 1},\n 'rider': {'bike': 1},\n 'road': {'car': 1, 'intersection': 1},\n 'room': {'hotel': 1, 'patient': 1},\n 'saddle': {'bike': 1},\n 'salesman': {'person': 1},\n 'schedule': {'schedule_flight': 1},\n 'schedule_flight': {'flight': 1, 'order_flight': 1, 'schedule': 1},\n 'seller': {'administrator': 1, 'company': 1, 'product': 1},\n 'selling_interface': {'item_shelf': 1, 'marketer': 1},\n 'seminar': {'course': 1, 'seminar_enrollment': 1},\n 'seminar_enrollment': {'seminar': 1, 'student': 1},\n 'shopping': {'customer': 1},\n 'shopping_basket': {'shopping': 1, 'shopping_interface': 1},\n 'shopping_interface': {'customer': 1, 'item_shelf': 1, 'shopping_basket': 1},\n 'shot': {'alien': 1},\n 'signal': {'intersection': 1},\n 'soccer': {'sport': 1},\n 'speaker': {'devise': 1, 'headset': 1},\n 'speedometer': {'automobile': 1, 'automobile_engine': 1, 'driver': 1},\n 'sport': {'player': 1},\n 'square': {'field': 1, 'gameboard': 1, 'shape': 1},\n 'square_shape_block': {'block': 1},\n 'start_square': {'square': 1},\n 'student': {'class': 1,\n             'college': 1,\n             'person': 1,\n             'school': 1,\n             'seminar': 1,\n             'seminar_enrollment': 1,\n             'teacher': 1,\n             'user': 1},\n 'summary_account': {'account': 1},\n 'surgeon': {'doctor': 1},\n 'system': {'database': 1},\n 'task': {'task_system': 1},\n 'task_system': {'project': 1, 'task': 1, 'team_member': 1},\n 'teacher': {'class': 1, 'school': 1, 'student': 1},\n 'team': {'company': 1, 'employee': 1, 'game': 1},\n 'team_leader': {'team_member': 1},\n 'team_member': {'task_system': 1, 'user': 1},\n 'tennis': {'sport': 1},\n 'therapist': {'person': 1},\n 'ticket': {'agent': 1, 'booking_counter': 1, 'customer': 1},\n 'train': {'vehicle': 1},\n 'treasure_event': {'event': 1},\n 'triangle': {'shape': 1},\n 'turn': {'dice': 1, 'field': 1, 'gameboard': 1, 'hand_piece': 1, 'record': 1},\n 'update': {'action': 1},\n 'user': {'book': 1, 'librarian': 1, 'order': 1, 'user_controller': 1},\n 'user_controller': {'system': 1},\n 'vip_account': {'account': 1},\n 'web_user': {'account': 1, 'payment': 1},\n 'wheel': {'car': 1},\n 'worker': {'company': 1, 'employee': 1, 'team': 1}}\n"
     ]
    }
   ],
   "source": [
    "#修正用スクリプト\n",
    "\n",
    "def del_conflict(df):\n",
    "    di = dict()\n",
    "    for i, row in df.iterrows():\n",
    "        if row[\"class_a\"] in di.keys() and row[\"class_b\"] in di[row[\"class_a\"]].keys():\n",
    "            df.loc[i,\"is_conflict\"] = True\n",
    "            #print(\"hello\")\n",
    "        else:\n",
    "            df.loc[i,\"is_conflict\"] = False\n",
    "            if row[\"class_a\"] not in di.keys():\n",
    "                di[row[\"class_a\"]] = dict()\n",
    "            di[row[\"class_a\"]][row[\"class_b\"]] = 1\n",
    "            if row[\"relation\"] == \"k\":\n",
    "                if row[\"class_b\"] not in di.keys():\n",
    "                    di[row[\"class_b\"]] = dict()\n",
    "                di[row[\"class_b\"]][row[\"class_a\"]]=1\n",
    "    df = df[df[\"is_conflict\"]==False]\n",
    "    pprint.pprint(di)\n",
    "    df = df.drop(columns = \"is_conflict\")\n",
    "    return df\n",
    "data = pd.read_csv(\"0.dataset_relation.csv\")\n",
    "data = del_conflict(data)\n",
    "\n",
    "data.to_csv(\"0.data_set_remove_conflict.csv\",index = None)"
   ]
  },
  {
   "cell_type": "code",
   "execution_count": null,
   "metadata": {},
   "outputs": [],
   "source": []
  }
 ],
 "metadata": {
  "kernelspec": {
   "display_name": "Python 3",
   "language": "python",
   "name": "python3"
  },
  "language_info": {
   "codemirror_mode": {
    "name": "ipython",
    "version": 3
   },
   "file_extension": ".py",
   "mimetype": "text/x-python",
   "name": "python",
   "nbconvert_exporter": "python",
   "pygments_lexer": "ipython3",
   "version": "3.8.5-final"
  }
 },
 "nbformat": 4,
 "nbformat_minor": 4
}