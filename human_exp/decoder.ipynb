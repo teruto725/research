{
 "cells": [
  {
   "cell_type": "markdown",
   "metadata": {},
   "source": [
    "# 実験結果を１つのファイルにまとめる"
   ]
  },
  {
   "cell_type": "code",
   "execution_count": 14,
   "metadata": {},
   "outputs": [],
   "source": [
    "import glob\n",
    "import numpy as np\n",
    "import pandas as pd"
   ]
  },
  {
   "cell_type": "code",
   "execution_count": 15,
   "metadata": {},
   "outputs": [
    {
     "data": {
      "text/plain": [
       "['./data/yamasaki.csv',\n",
       " './data/ueda.csv',\n",
       " './data/daisuke.csv',\n",
       " './data/hosomi.csv',\n",
       " './data/kazuma.csv',\n",
       " './data/sugi.csv']"
      ]
     },
     "execution_count": 15,
     "metadata": {},
     "output_type": "execute_result"
    }
   ],
   "source": [
    "import glob\n",
    "files = glob.glob(\"./data/*.csv\")\n",
    "files"
   ]
  },
  {
   "cell_type": "code",
   "execution_count": 16,
   "metadata": {},
   "outputs": [],
   "source": [
    "dfs = list()\n",
    "for file in files:\n",
    "    df = pd.read_csv(file)\n",
    "    df = df.rename(columns = {\"answer\":\"ans_\"+file.replace(\"./data/\",\"\").replace(\".csv\",\"\")})\n",
    "    dfs.append(df)"
   ]
  },
  {
   "cell_type": "code",
   "execution_count": 17,
   "metadata": {},
   "outputs": [
    {
     "data": {
      "text/plain": [
       "(260, 3)"
      ]
     },
     "execution_count": 17,
     "metadata": {},
     "output_type": "execute_result"
    }
   ],
   "source": [
    "data = pd.read_csv(\"0.dataset_remove_conflict.csv\")\n",
    "data = data.loc[:,[\"class_a\",\"class_b\",\"relation\"]]\n",
    "data.shape"
   ]
  },
  {
   "cell_type": "code",
   "execution_count": 18,
   "metadata": {
    "tags": []
   },
   "outputs": [
    {
     "name": "stderr",
     "output_type": "stream",
     "text": [
      "<ipython-input-18-ae61a502ce53>:10: SettingWithCopyWarning: \n",
      "A value is trying to be set on a copy of a slice from a DataFrame\n",
      "\n",
      "See the caveats in the documentation: https://pandas.pydata.org/pandas-docs/stable/user_guide/indexing.html#returning-a-view-versus-a-copy\n",
      "  ans.iloc[0,2] = ans.iloc[0,2].replace(\"1\",\"2\")\n",
      "<ipython-input-18-ae61a502ce53>:13: SettingWithCopyWarning: \n",
      "A value is trying to be set on a copy of a slice from a DataFrame\n",
      "\n",
      "See the caveats in the documentation: https://pandas.pydata.org/pandas-docs/stable/user_guide/indexing.html#returning-a-view-versus-a-copy\n",
      "  ans.iloc[0,2] = ans.iloc[0,2].replace(\"2\",\"1\")\n"
     ]
    }
   ],
   "source": [
    "for i, row in data.loc[:,[\"class_a\",\"class_b\"]].iterrows():\n",
    "    #print(row)\n",
    "    for df in dfs:\n",
    "        ans = df[(df[\"class_a\"]==row[\"class_a\"]) & (df[\"class_b\"]==row[\"class_b\"])]\n",
    "        #print(ans.columns[2])\n",
    "        if ans.empty:\n",
    "            ans =  df[(df[\"class_b\"]==row[\"class_a\"]) & (df[\"class_a\"]==row[\"class_b\"])]\n",
    "            if \"1\" in ans.iloc[0,2]:\n",
    "                #print(\"1\")\n",
    "                ans.iloc[0,2] = ans.iloc[0,2].replace(\"1\",\"2\") \n",
    "            elif \"2\" in ans.iloc[0,2]:\n",
    "                #print(\"2\")\n",
    "                ans.iloc[0,2] = ans.iloc[0,2].replace(\"2\",\"1\")\n",
    "        data.loc[i,ans.columns[2]] = ans.iloc[0,2]\n",
    "data.to_csv(\"ans_df.csv\")"
   ]
  },
  {
   "cell_type": "code",
   "execution_count": 12,
   "metadata": {},
   "outputs": [
    {
     "data": {
      "text/plain": [
       "(260, 9)"
      ]
     },
     "execution_count": 12,
     "metadata": {},
     "output_type": "execute_result"
    }
   ],
   "source": [
    "data.shape"
   ]
  },
  {
   "cell_type": "code",
   "execution_count": 13,
   "metadata": {},
   "outputs": [
    {
     "name": "stdout",
     "output_type": "stream",
     "text": [
      "<class 'pandas.core.frame.DataFrame'>\n",
      "RangeIndex: 260 entries, 0 to 259\n",
      "Data columns (total 9 columns):\n",
      " #   Column        Non-Null Count  Dtype \n",
      "---  ------        --------------  ----- \n",
      " 0   class_a       260 non-null    object\n",
      " 1   class_b       260 non-null    object\n",
      " 2   relation      260 non-null    object\n",
      " 3   ans_yamasaki  260 non-null    object\n",
      " 4   ans_ueda      260 non-null    object\n",
      " 5   ans_daisuke   260 non-null    object\n",
      " 6   ans_hosomi    260 non-null    object\n",
      " 7   ans_kazuma    260 non-null    object\n",
      " 8   ans_sugi      260 non-null    object\n",
      "dtypes: object(9)\n",
      "memory usage: 18.4+ KB\n"
     ]
    }
   ],
   "source": [
    "data.info()"
   ]
  },
  {
   "cell_type": "code",
   "execution_count": null,
   "metadata": {},
   "outputs": [],
   "source": []
  },
  {
   "cell_type": "code",
   "execution_count": null,
   "metadata": {},
   "outputs": [],
   "source": []
  }
 ],
 "metadata": {
  "kernelspec": {
   "display_name": "Python 3",
   "language": "python",
   "name": "python3"
  },
  "language_info": {
   "codemirror_mode": {
    "name": "ipython",
    "version": 3
   },
   "file_extension": ".py",
   "mimetype": "text/x-python",
   "name": "python",
   "nbconvert_exporter": "python",
   "pygments_lexer": "ipython3",
   "version": "3.8.5"
  }
 },
 "nbformat": 4,
 "nbformat_minor": 2
}
