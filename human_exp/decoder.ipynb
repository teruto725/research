{
 "metadata": {
  "language_info": {
   "codemirror_mode": {
    "name": "ipython",
    "version": 3
   },
   "file_extension": ".py",
   "mimetype": "text/x-python",
   "name": "python",
   "nbconvert_exporter": "python",
   "pygments_lexer": "ipython3",
   "version": "3.8.5-final"
  },
  "orig_nbformat": 2,
  "kernelspec": {
   "name": "python3",
   "display_name": "Python 3",
   "language": "python"
  }
 },
 "nbformat": 4,
 "nbformat_minor": 2,
 "cells": [
  {
   "cell_type": "code",
   "execution_count": 2,
   "metadata": {},
   "outputs": [],
   "source": [
    "import glob\n",
    "import numpy as np\n",
    "import pandas as pd"
   ]
  },
  {
   "cell_type": "code",
   "execution_count": 7,
   "metadata": {},
   "outputs": [
    {
     "output_type": "execute_result",
     "data": {
      "text/plain": [
       "['./data/yamasaki.csv',\n",
       " './data/ueda.csv',\n",
       " './data/daisuke.csv',\n",
       " './data/hosomi.csv',\n",
       " './data/kazuma.csv',\n",
       " './data/sugi.csv']"
      ]
     },
     "metadata": {},
     "execution_count": 7
    }
   ],
   "source": [
    "import glob\n",
    "files = glob.glob(\"./data/*.csv\")\n",
    "files"
   ]
  },
  {
   "cell_type": "code",
   "execution_count": 42,
   "metadata": {},
   "outputs": [],
   "source": [
    "dfs = list()\n",
    "for file in files:\n",
    "    df = pd.read_csv(file)\n",
    "    df = df.rename(columns = {\"answer\":\"ans_\"+file.replace(\"./data/\",\"\").replace(\".csv\",\"\")})\n",
    "    dfs.append(df)"
   ]
  },
  {
   "cell_type": "code",
   "execution_count": 48,
   "metadata": {},
   "outputs": [
    {
     "output_type": "execute_result",
     "data": {
      "text/plain": [
       "(260, 3)"
      ]
     },
     "metadata": {},
     "execution_count": 48
    }
   ],
   "source": [
    "data = pd.read_csv(\"0.dataset_remove_conflict.csv\")\n",
    "data = data.loc[:,[\"class_a\",\"class_b\",\"relation\"]]\n",
    "data.shape"
   ]
  },
  {
   "cell_type": "code",
   "execution_count": 59,
   "metadata": {
    "tags": []
   },
   "outputs": [
    {
     "output_type": "stream",
     "name": "stdout",
     "text": [
      "class_a    racket\nclass_b      ball\nName: 0, dtype: object\nclass_a    block\nclass_b     ball\nName: 1, dtype: object\nclass_a    player\nclass_b      beam\nName: 2, dtype: object\nclass_a    alien\nclass_b     shot\nName: 3, dtype: object\nclass_a    bar_block\nclass_b        block\nName: 4, dtype: object\n"
     ]
    }
   ],
   "source": [
    "for i, row in data.head().loc[:,[\"class_a\",\"class_b\"]].iterrows():\n",
    "    #print(row)\n",
    "    for df in dfs:\n",
    "        ans = df[(df[\"class_a\"]==row[\"class_a\"]) & (df[\"class_b\"]==row[\"class_b\"])]\n",
    "        #print(ans.columns[2])\n",
    "        if ans.empty:\n",
    "            ans =  df[(df[\"class_b\"]==row[\"class_a\"]) & (df[\"class_a\"]==row[\"class_b\"])]\n",
    "            if \"1\" in ans.iloc[0,2]:\n",
    "                #print(\"1\")\n",
    "                ans.iloc[0,2] = ans.iloc[0,2].replace(\"1\",\"2\") \n",
    "            elif \"2\" in ans.iloc[0,2]:\n",
    "                #print(\"2\")\n",
    "                ans.iloc[0,2] = ans.iloc[0,2].replace(\"2\",\"1\")\n",
    "        data.loc[i,ans.columns[2]] = ans.iloc[0,2]\n",
    "data.to_csv(\"ans_df.csv\")"
   ]
  },
  {
   "cell_type": "code",
   "execution_count": 52,
   "metadata": {},
   "outputs": [
    {
     "output_type": "execute_result",
     "data": {
      "text/plain": [
       "(260, 9)"
      ]
     },
     "metadata": {},
     "execution_count": 52
    }
   ],
   "source": [
    "data.shape"
   ]
  },
  {
   "cell_type": "code",
   "execution_count": 16,
   "metadata": {},
   "outputs": [
    {
     "output_type": "stream",
     "name": "stdout",
     "text": [
      "<class 'pandas.core.frame.DataFrame'>\nRangeIndex: 260 entries, 0 to 259\nData columns (total 2 columns):\n #   Column   Non-Null Count  Dtype \n---  ------   --------------  ----- \n 0   class_a  260 non-null    object\n 1   class_b  260 non-null    object\ndtypes: object(2)\nmemory usage: 4.2+ KB\n"
     ]
    }
   ],
   "source": [
    "data.info()"
   ]
  },
  {
   "cell_type": "code",
   "execution_count": null,
   "metadata": {},
   "outputs": [],
   "source": []
  },
  {
   "cell_type": "code",
   "execution_count": null,
   "metadata": {},
   "outputs": [],
   "source": []
  }
 ]
}